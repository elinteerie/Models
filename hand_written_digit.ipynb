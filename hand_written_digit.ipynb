{
  "cells": [
    {
      "cell_type": "markdown",
      "metadata": {
        "id": "view-in-github",
        "colab_type": "text"
      },
      "source": [
        "<a href=\"https://colab.research.google.com/github/elinteerie/My-First-Machine-Learning-Model/blob/main/hand_written_digit.ipynb\" target=\"_parent\"><img src=\"https://colab.research.google.com/assets/colab-badge.svg\" alt=\"Open In Colab\"/></a>"
      ]
    },
    {
      "cell_type": "markdown",
      "source": [
        "Model to classify hand-written digits 0-9"
      ],
      "metadata": {
        "id": "wtBR5fuaPFQ9"
      },
      "id": "wtBR5fuaPFQ9"
    },
    {
      "cell_type": "code",
      "execution_count": 4,
      "id": "4a4724d7",
      "metadata": {
        "id": "4a4724d7"
      },
      "outputs": [],
      "source": [
        "#Import all Libraries\n",
        "import sklearn\n",
        "import pandas as pd\n",
        "import matplotlib.pyplot as plt\n",
        "import matplotlib.image as mpimg"
      ]
    },
    {
      "cell_type": "code",
      "execution_count": 5,
      "id": "d7e21d7d",
      "metadata": {
        "id": "d7e21d7d"
      },
      "outputs": [],
      "source": [
        "#Load Dataset from Sklearn\n",
        "from sklearn.datasets import load_digits\n",
        "digits = load_digits()\n"
      ]
    },
    {
      "cell_type": "code",
      "execution_count": 6,
      "id": "7461ca57",
      "metadata": {
        "colab": {
          "base_uri": "https://localhost:8080/"
        },
        "id": "7461ca57",
        "outputId": "09116340-ec78-43ef-d858-46cae67c304f"
      },
      "outputs": [
        {
          "output_type": "execute_result",
          "data": {
            "text/plain": [
              "array([0, 4, 1, 7, 4, 8, 2, 2, 4, 4, 1, 9, 7, 3, 2, 1, 2, 5])"
            ]
          },
          "metadata": {},
          "execution_count": 6
        }
      ],
      "source": [
        "digits.target[::100]"
      ]
    },
    {
      "cell_type": "code",
      "execution_count": 7,
      "id": "4dcb0de7",
      "metadata": {
        "colab": {
          "base_uri": "https://localhost:8080/"
        },
        "id": "4dcb0de7",
        "outputId": "908befed-5528-497e-c60f-133fdbe08479"
      },
      "outputs": [
        {
          "output_type": "execute_result",
          "data": {
            "text/plain": [
              "array([[ 0.,  0.,  5., ...,  0.,  0.,  0.],\n",
              "       [ 0.,  0.,  0., ..., 10.,  0.,  0.],\n",
              "       [ 0.,  0.,  0., ..., 16.,  9.,  0.],\n",
              "       ...,\n",
              "       [ 0.,  0.,  1., ...,  6.,  0.,  0.],\n",
              "       [ 0.,  0.,  2., ..., 12.,  0.,  0.],\n",
              "       [ 0.,  0., 10., ..., 12.,  1.,  0.]])"
            ]
          },
          "metadata": {},
          "execution_count": 7
        }
      ],
      "source": [
        "digits.data\n"
      ]
    },
    {
      "cell_type": "code",
      "execution_count": 8,
      "id": "967684bd",
      "metadata": {
        "colab": {
          "base_uri": "https://localhost:8080/"
        },
        "id": "967684bd",
        "outputId": "5d840ca3-d96a-4f99-a1fe-bd211f59cd03"
      },
      "outputs": [
        {
          "output_type": "execute_result",
          "data": {
            "text/plain": [
              "(1797, 64)"
            ]
          },
          "metadata": {},
          "execution_count": 8
        }
      ],
      "source": [
        "digits.data.shape"
      ]
    },
    {
      "cell_type": "code",
      "execution_count": 9,
      "id": "d0b8c538",
      "metadata": {
        "colab": {
          "base_uri": "https://localhost:8080/"
        },
        "id": "d0b8c538",
        "outputId": "e56ae38f-643a-489f-cbf5-5f26d7e16e5a"
      },
      "outputs": [
        {
          "output_type": "execute_result",
          "data": {
            "text/plain": [
              "(1797,)"
            ]
          },
          "metadata": {},
          "execution_count": 9
        }
      ],
      "source": [
        "digits.target.shape"
      ]
    },
    {
      "cell_type": "code",
      "execution_count": 10,
      "id": "c7a1f51c",
      "metadata": {
        "colab": {
          "base_uri": "https://localhost:8080/"
        },
        "id": "c7a1f51c",
        "outputId": "0c415c73-b741-45cf-f176-6cbad113ab46"
      },
      "outputs": [
        {
          "output_type": "execute_result",
          "data": {
            "text/plain": [
              "array([[ 0.,  2.,  9., 15., 14.,  9.,  3.,  0.],\n",
              "       [ 0.,  4., 13.,  8.,  9., 16.,  8.,  0.],\n",
              "       [ 0.,  0.,  0.,  6., 14., 15.,  3.,  0.],\n",
              "       [ 0.,  0.,  0., 11., 14.,  2.,  0.,  0.],\n",
              "       [ 0.,  0.,  0.,  2., 15., 11.,  0.,  0.],\n",
              "       [ 0.,  0.,  0.,  0.,  2., 15.,  4.,  0.],\n",
              "       [ 0.,  1.,  5.,  6., 13., 16.,  6.,  0.],\n",
              "       [ 0.,  2., 12., 12., 13., 11.,  0.,  0.]])"
            ]
          },
          "metadata": {},
          "execution_count": 10
        }
      ],
      "source": [
        "img = digits.images[13]\n",
        "img"
      ]
    },
    {
      "cell_type": "code",
      "execution_count": 11,
      "id": "4f11366a",
      "metadata": {
        "colab": {
          "base_uri": "https://localhost:8080/",
          "height": 265
        },
        "id": "4f11366a",
        "outputId": "f4aefe69-8533-442b-dd91-77d1eb84df64"
      },
      "outputs": [
        {
          "output_type": "display_data",
          "data": {
            "text/plain": [
              "<Figure size 432x288 with 1 Axes>"
            ],
            "image/png": "[encoded data removed]"
          },
          "metadata": {
            "needs_background": "light"
          }
        }
      ],
      "source": [
        "imgplot = plt.imshow(img)"
      ]
    },
    {
      "cell_type": "code",
      "execution_count": 12,
      "id": "46b78f70",
      "metadata": {
        "id": "46b78f70"
      },
      "outputs": [],
      "source": [
        "img15 = digits.images[15]"
      ]
    },
    {
      "cell_type": "code",
      "execution_count": 13,
      "id": "dd4f901b",
      "metadata": {
        "colab": {
          "base_uri": "https://localhost:8080/",
          "height": 265
        },
        "id": "dd4f901b",
        "outputId": "f306283b-6778-4b21-b48f-52b0fa79ab16"
      },
      "outputs": [
        {
          "output_type": "display_data",
          "data": {
            "text/plain": [
              "<Figure size 432x288 with 1 Axes>"
            ],
            "image/png": "[encoded data removed]"
          },
          "metadata": {
            "needs_background": "light"
          }
        }
      ],
      "source": [
        "imgplot = plt.imshow(img15)"
      ]
    },
    {
      "cell_type": "code",
      "execution_count": 15,
      "id": "23ffe070",
      "metadata": {
        "scrolled": true,
        "colab": {
          "base_uri": "https://localhost:8080/"
        },
        "id": "23ffe070",
        "outputId": "8b289977-c96c-4d31-9e77-9843c802efa5"
      },
      "outputs": [
        {
          "output_type": "execute_result",
          "data": {
            "text/plain": [
              "((1257, 64), (540, 64), (1257,), (540,))"
            ]
          },
          "metadata": {},
          "execution_count": 15
        }
      ],
      "source": [
        "#Split Data_sets\n",
        "from sklearn.model_selection import train_test_split\n",
        "X_train, X_test, y_train, y_test = train_test_split(digits.data, digits.target, random_state=11, test_size=0.3)\n",
        "X_train.shape, X_test.shape, y_train.shape, y_test.shape\n"
      ]
    },
    {
      "cell_type": "code",
      "execution_count": 16,
      "id": "4cf1351f",
      "metadata": {
        "id": "4cf1351f"
      },
      "outputs": [],
      "source": [
        "#Train Model\n",
        "from sklearn.neighbors import KNeighborsClassifier\n",
        "knn = KNeighborsClassifier(n_neighbors=5)"
      ]
    },
    {
      "cell_type": "code",
      "execution_count": 17,
      "id": "bcf195c9",
      "metadata": {
        "colab": {
          "base_uri": "https://localhost:8080/"
        },
        "id": "bcf195c9",
        "outputId": "acf9f2d1-679c-47bb-a81c-afe5034f62f4"
      },
      "outputs": [
        {
          "output_type": "execute_result",
          "data": {
            "text/plain": [
              "KNeighborsClassifier()"
            ]
          },
          "metadata": {},
          "execution_count": 17
        }
      ],
      "source": [
        "#Fit the Model\n",
        "knn.fit(X_train,y_train)"
      ]
    },
    {
      "cell_type": "code",
      "execution_count": 18,
      "id": "a3b5bff2",
      "metadata": {
        "id": "a3b5bff2"
      },
      "outputs": [],
      "source": [
        "#Predictions\n",
        "predicted = knn.predict(X=X_test)\n",
        "expected = y_test"
      ]
    },
    {
      "cell_type": "code",
      "execution_count": 19,
      "id": "34425e13",
      "metadata": {
        "colab": {
          "base_uri": "https://localhost:8080/"
        },
        "id": "34425e13",
        "outputId": "4ac186c6-c23c-43a2-8c14-d6f1df4d9b82"
      },
      "outputs": [
        {
          "output_type": "execute_result",
          "data": {
            "text/plain": [
              "5"
            ]
          },
          "metadata": {},
          "execution_count": 19
        }
      ],
      "source": [
        "predicted[18]"
      ]
    },
    {
      "cell_type": "code",
      "execution_count": null,
      "id": "8c53eaf2",
      "metadata": {
        "id": "8c53eaf2"
      },
      "outputs": [],
      "source": [
        "expected[18]"
      ]
    },
    {
      "cell_type": "code",
      "execution_count": 20,
      "id": "408968e8",
      "metadata": {
        "colab": {
          "base_uri": "https://localhost:8080/"
        },
        "id": "408968e8",
        "outputId": "3d8d8f46-a200-4e2a-9078-8b68fc69bfc0"
      },
      "outputs": [
        {
          "output_type": "execute_result",
          "data": {
            "text/plain": [
              "[(5, 3),\n",
              " (2, 8),\n",
              " (8, 9),\n",
              " (4, 9),\n",
              " (7, 3),\n",
              " (7, 4),\n",
              " (9, 8),\n",
              " (3, 8),\n",
              " (3, 8),\n",
              " (1, 8),\n",
              " (1, 8),\n",
              " (1, 8)]"
            ]
          },
          "metadata": {},
          "execution_count": 20
        }
      ],
      "source": [
        "wrong = [(p, e) for (p, e) in zip(predicted, expected) if p != e]\n",
        "wrong"
      ]
    },
    {
      "cell_type": "code",
      "execution_count": 21,
      "id": "c5f26378",
      "metadata": {
        "colab": {
          "base_uri": "https://localhost:8080/"
        },
        "id": "c5f26378",
        "outputId": "87dbf4c3-0957-4461-d239-7a4d241e244d"
      },
      "outputs": [
        {
          "output_type": "execute_result",
          "data": {
            "text/plain": [
              "12"
            ]
          },
          "metadata": {},
          "execution_count": 21
        }
      ],
      "source": [
        "len(wrong)"
      ]
    },
    {
      "cell_type": "code",
      "execution_count": 22,
      "id": "6b6fbe35",
      "metadata": {
        "id": "6b6fbe35"
      },
      "outputs": [],
      "source": [
        "#Model Predicted 12 wrong#"
      ]
    },
    {
      "cell_type": "code",
      "execution_count": 23,
      "id": "5d2f1b36",
      "metadata": {
        "colab": {
          "base_uri": "https://localhost:8080/"
        },
        "id": "5d2f1b36",
        "outputId": "61680ab5-38f7-45ad-b679-e7f4cecb76d0"
      },
      "outputs": [
        {
          "output_type": "execute_result",
          "data": {
            "text/plain": [
              "0.9777777777777777"
            ]
          },
          "metadata": {},
          "execution_count": 23
        }
      ],
      "source": [
        "knn.score(X_test, y_test)"
      ]
    },
    {
      "cell_type": "code",
      "execution_count": 24,
      "id": "4da4cacf",
      "metadata": {
        "colab": {
          "base_uri": "https://localhost:8080/"
        },
        "id": "4da4cacf",
        "outputId": "27458527-92f6-43b5-c7f6-df97543075eb"
      },
      "outputs": [
        {
          "output_type": "stream",
          "name": "stdout",
          "text": [
            "97.78%\n"
          ]
        }
      ],
      "source": [
        "print(f'{knn.score(X_test, y_test):.2%}')"
      ]
    },
    {
      "cell_type": "code",
      "execution_count": 25,
      "id": "3ba63992",
      "metadata": {
        "id": "3ba63992"
      },
      "outputs": [],
      "source": [
        "from sklearn.metrics import confusion_matrix\n",
        "confusion = confusion_matrix(y_true=expected, y_pred=predicted)\n"
      ]
    },
    {
      "cell_type": "code",
      "execution_count": 26,
      "id": "5ec2d75a",
      "metadata": {
        "colab": {
          "base_uri": "https://localhost:8080/"
        },
        "id": "5ec2d75a",
        "outputId": "48172bf7-6f16-422b-879e-a09a699af745"
      },
      "outputs": [
        {
          "output_type": "execute_result",
          "data": {
            "text/plain": [
              "array([[49,  0,  0,  0,  0,  0,  0,  0,  0,  0],\n",
              "       [ 0, 54,  0,  0,  0,  0,  0,  0,  0,  0],\n",
              "       [ 0,  0, 61,  0,  0,  0,  0,  0,  0,  0],\n",
              "       [ 0,  0,  0, 53,  0,  1,  0,  1,  0,  0],\n",
              "       [ 0,  0,  0,  0, 57,  0,  0,  1,  0,  0],\n",
              "       [ 0,  0,  0,  0,  0, 51,  0,  0,  0,  0],\n",
              "       [ 0,  0,  0,  0,  0,  0, 57,  0,  0,  0],\n",
              "       [ 0,  0,  0,  0,  0,  0,  0, 52,  0,  0],\n",
              "       [ 0,  3,  1,  2,  0,  0,  0,  0, 44,  1],\n",
              "       [ 0,  0,  0,  0,  1,  0,  0,  0,  1, 50]])"
            ]
          },
          "metadata": {},
          "execution_count": 26
        }
      ],
      "source": [
        "confusion"
      ]
    },
    {
      "cell_type": "code",
      "execution_count": 27,
      "id": "161e2365",
      "metadata": {
        "colab": {
          "base_uri": "https://localhost:8080/"
        },
        "id": "161e2365",
        "outputId": "2b8b01c1-bc8c-4967-f2ad-f452cd8c501e"
      },
      "outputs": [
        {
          "output_type": "stream",
          "name": "stdout",
          "text": [
            "              precision    recall  f1-score   support\n",
            "\n",
            "           0       1.00      1.00      1.00        49\n",
            "           1       0.95      1.00      0.97        54\n",
            "           2       0.98      1.00      0.99        61\n",
            "           3       0.96      0.96      0.96        55\n",
            "           4       0.98      0.98      0.98        58\n",
            "           5       0.98      1.00      0.99        51\n",
            "           6       1.00      1.00      1.00        57\n",
            "           7       0.96      1.00      0.98        52\n",
            "           8       0.98      0.86      0.92        51\n",
            "           9       0.98      0.96      0.97        52\n",
            "\n",
            "    accuracy                           0.98       540\n",
            "   macro avg       0.98      0.98      0.98       540\n",
            "weighted avg       0.98      0.98      0.98       540\n",
            "\n"
          ]
        }
      ],
      "source": [
        "from sklearn.metrics import classification_report\n",
        "names = [str(digit) for digit in digits.target_names]\n",
        "print(classification_report(expected, predicted,target_names=names)) "
      ]
    },
    {
      "cell_type": "code",
      "execution_count": 33,
      "id": "e9f811dd",
      "metadata": {
        "colab": {
          "base_uri": "https://localhost:8080/",
          "height": 266
        },
        "id": "e9f811dd",
        "outputId": "8ae7be36-ef4a-45f4-84d3-deb433bc43a0"
      },
      "outputs": [
        {
          "output_type": "display_data",
          "data": {
            "text/plain": [
              "<Figure size 432x288 with 2 Axes>"
            ],
            "image/png": "[encoded data removed]"
          },
          "metadata": {
            "needs_background": "light"
          }
        }
      ],
      "source": [
        "#Confusion MatriX\n",
        "\n",
        "confusion_df = pd.DataFrame(confusion, index=range(10),columns=range(10))   \n",
        "import seaborn as sns\n",
        "axes = sns.heatmap(confusion_df, annot=True,cmap='nipy_spectral_r') "
      ]
    },
    {
      "cell_type": "code",
      "source": [
        "#Using Cross_Validation on dataset\n",
        "\n",
        "from sklearn.model_selection import KFold\n",
        "kfold = KFold(n_splits=10, random_state=11, shuffle=True)"
      ],
      "metadata": {
        "id": "AuuU56MwRFDg"
      },
      "id": "AuuU56MwRFDg",
      "execution_count": 34,
      "outputs": []
    },
    {
      "cell_type": "code",
      "source": [
        "from sklearn.model_selection import cross_val_score\n",
        "scores = cross_val_score(estimator=knn, X=X_train, y=y_train, cv=kfold)"
      ],
      "metadata": {
        "id": "DvkJEVDhTwZK"
      },
      "id": "DvkJEVDhTwZK",
      "execution_count": 35,
      "outputs": []
    },
    {
      "cell_type": "code",
      "source": [
        "scores"
      ],
      "metadata": {
        "colab": {
          "base_uri": "https://localhost:8080/"
        },
        "id": "WgkOXSq5Tylg",
        "outputId": "20bdecad-15e5-42bc-94fa-b4fe8fcbe2c4"
      },
      "id": "WgkOXSq5Tylg",
      "execution_count": 36,
      "outputs": [
        {
          "output_type": "execute_result",
          "data": {
            "text/plain": [
              "array([0.98412698, 0.98412698, 1.        , 0.96031746, 0.97619048,\n",
              "       0.99206349, 0.98412698, 0.976     , 1.        , 0.992     ])"
            ]
          },
          "metadata": {},
          "execution_count": 36
        }
      ]
    },
    {
      "cell_type": "code",
      "source": [
        "#The Mean score\n",
        "\n",
        "print(f'The Mean Accuracy {scores.mean():.2%} ')"
      ],
      "metadata": {
        "colab": {
          "base_uri": "https://localhost:8080/"
        },
        "id": "IQAgfCKmT0St",
        "outputId": "193ea995-9c01-410d-b513-b21ff1ba4814"
      },
      "id": "IQAgfCKmT0St",
      "execution_count": 43,
      "outputs": [
        {
          "output_type": "stream",
          "name": "stdout",
          "text": [
            "The Mean Accuracy 98.49% \n"
          ]
        }
      ]
    },
    {
      "cell_type": "markdown",
      "source": [
        "Lets Try Other Model and see the one which works best"
      ],
      "metadata": {
        "id": "QlXGbojTUHmB"
      },
      "id": "QlXGbojTUHmB"
    },
    {
      "cell_type": "code",
      "source": [
        "#Import Other Model and see the one which works out best\n",
        " \n",
        "from sklearn.svm import SVC\n",
        "from sklearn.naive_bayes import GaussianNB"
      ],
      "metadata": {
        "id": "bVpI23tMU_eL"
      },
      "id": "bVpI23tMU_eL",
      "execution_count": 49,
      "outputs": []
    },
    {
      "cell_type": "code",
      "source": [
        "estimators ={\n",
        "    'KNeighborsClassifier': knn,\n",
        "    'SVC': SVC( ),\n",
        "    'GaussianNB': GaussianNB()}\n"
      ],
      "metadata": {
        "id": "WG1Nd3zrXEDm"
      },
      "id": "WG1Nd3zrXEDm",
      "execution_count": 56,
      "outputs": []
    },
    {
      "cell_type": "code",
      "source": [
        "for estimator_name, estimator_values in estimators.items():\n",
        "    kfold = KFold(n_splits=10, random_state=11, shuffle=True)\n",
        "    scores = cross_val_score(estimator=estimator_values, \n",
        "             X=digits.data, y=digits.target, cv=kfold)\n"
      ],
      "metadata": {
        "id": "jx99T4tKXHdK"
      },
      "id": "jx99T4tKXHdK",
      "execution_count": 57,
      "outputs": []
    },
    {
      "cell_type": "code",
      "source": [
        "print(f'{estimator_name:}: ' +\n",
        "      f'mean accuracy={scores.mean():.2%}; ' + \n",
        "      f'standard deviation={scores.std():.2%}')       "
      ],
      "metadata": {
        "colab": {
          "base_uri": "https://localhost:8080/"
        },
        "id": "QlBz7XuoXlAz",
        "outputId": "9fa5f122-56d4-494b-e450-2feb8935694a"
      },
      "id": "QlBz7XuoXlAz",
      "execution_count": 58,
      "outputs": [
        {
          "output_type": "stream",
          "name": "stdout",
          "text": [
            "GaussianNB: mean accuracy=84.48%; standard deviation=3.47%\n"
          ]
        }
      ]
    },
    {
      "cell_type": "code",
      "source": [
        "for k in range(1, 20, 2):    ...:     kfold = KFold(n_splits=10, random_state=11, shuffle=True)    ...:     knn = KNeighborsClassifier(n_neighbors=k)    ...:     scores = cross_val_score(estimator=knn,     ...:         X=digits.data, y=digits.target, cv=kfold)    ...:     print(f'k={k:<2}; mean accuracy={scores.mean():.2%}; ' +    ...:           f'standard deviation={scores.std():.2%}') "
      ],
      "metadata": {
        "id": "xqyqfLM9XnoF"
      },
      "id": "xqyqfLM9XnoF",
      "execution_count": null,
      "outputs": []
    },
    {
      "cell_type": "code",
      "source": [
        "for k in range(1, 20, 2):\n",
        "    kfold = KFold(n_splits=10, random_state=11, shuffle=True)\n",
        "    knn = KNeighborsClassifier(n_neighbors=k)\n",
        "    scores = cross_val_score(estimator=knn, X=digits.data, y=digits.target, cv=kfold)\n",
        "    print(f'k={k:<2}; mean accuracy={scores.mean():.2%}; ' +f'standard deviation={scores.std():.2%}') \n",
        "\n",
        "\n",
        "\n",
        "\n"
      ],
      "metadata": {
        "colab": {
          "base_uri": "https://localhost:8080/"
        },
        "id": "lfLHUyl2ZBWr",
        "outputId": "9b2489b8-2829-4d36-aa51-c7590b509bef"
      },
      "id": "lfLHUyl2ZBWr",
      "execution_count": 59,
      "outputs": [
        {
          "output_type": "stream",
          "name": "stdout",
          "text": [
            "k=1 ; mean accuracy=98.83%; standard deviation=0.58%\n",
            "k=3 ; mean accuracy=98.83%; standard deviation=0.72%\n",
            "k=5 ; mean accuracy=98.78%; standard deviation=0.74%\n",
            "k=7 ; mean accuracy=98.44%; standard deviation=0.96%\n",
            "k=9 ; mean accuracy=98.39%; standard deviation=0.80%\n",
            "k=11; mean accuracy=98.33%; standard deviation=0.90%\n",
            "k=13; mean accuracy=97.89%; standard deviation=0.89%\n",
            "k=15; mean accuracy=97.83%; standard deviation=0.95%\n",
            "k=17; mean accuracy=97.50%; standard deviation=1.00%\n",
            "k=19; mean accuracy=97.66%; standard deviation=0.96%\n"
          ]
        }
      ]
    },
    {
      "cell_type": "code",
      "source": [
        ""
      ],
      "metadata": {
        "id": "8pg189apZB9i"
      },
      "id": "8pg189apZB9i",
      "execution_count": null,
      "outputs": []
    }
  ],
  "metadata": {
    "kernelspec": {
      "display_name": "Python 3 (ipykernel)",
      "language": "python",
      "name": "python3"
    },
    "language_info": {
      "codemirror_mode": {
        "name": "ipython",
        "version": 3
      },
      "file_extension": ".py",
      "mimetype": "text/x-python",
      "name": "python",
      "nbconvert_exporter": "python",
      "pygments_lexer": "ipython3",
      "version": "3.9.7"
    },
    "colab": {
      "name": " hand-written digit.ipynb",
      "provenance": [],
      "include_colab_link": true
    }
  },
  "nbformat": 4,
  "nbformat_minor": 5
}