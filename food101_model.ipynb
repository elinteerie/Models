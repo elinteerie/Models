{
  "nbformat": 4,
  "nbformat_minor": 0,
  "metadata": {
    "colab": {
      "name": "food101 model.ipynb",
      "provenance": [],
      "authorship_tag": "ABX9TyN94/zzHf6FIEkQtmSE17M7",
      "include_colab_link": true
    },
    "kernelspec": {
      "name": "python3",
      "display_name": "Python 3"
    },
    "language_info": {
      "name": "python"
    },
    "accelerator": "GPU",
    "gpuClass": "standard",
    "widgets": {
      "application/vnd.jupyter.widget-state+json": {
        "5c24a17a0a6f4d6f95c17cccf6bcd326": {
          "model_module": "@jupyter-widgets/controls",
          "model_name": "HBoxModel",
          "model_module_version": "1.5.0",
          "state": {
            "_dom_classes": [],
            "_model_module": "@jupyter-widgets/controls",
            "_model_module_version": "1.5.0",
            "_model_name": "HBoxModel",
            "_view_count": null,
            "_view_module": "@jupyter-widgets/controls",
            "_view_module_version": "1.5.0",
            "_view_name": "HBoxView",
            "box_style": "",
            "children": [
              "IPY_MODEL_0be7463f9cd94b03a48a7e6103e4f442",
              "IPY_MODEL_888ade40e37f4c4290c42f1f85ad7bb5",
              "IPY_MODEL_8210456e86944cc4b97d65e3cc739961"
            ],
            "layout": "IPY_MODEL_9ca3062558004111b25c6354d9f51e85"
          }
        },
        "0be7463f9cd94b03a48a7e6103e4f442": {
          "model_module": "@jupyter-widgets/controls",
          "model_name": "HTMLModel",
          "model_module_version": "1.5.0",
          "state": {
            "_dom_classes": [],
            "_model_module": "@jupyter-widgets/controls",
            "_model_module_version": "1.5.0",
            "_model_name": "HTMLModel",
            "_view_count": null,
            "_view_module": "@jupyter-widgets/controls",
            "_view_module_version": "1.5.0",
            "_view_name": "HTMLView",
            "description": "",
            "description_tooltip": null,
            "layout": "IPY_MODEL_8d58636baaf64f34afd6e742e4ec1d12",
            "placeholder": "​",
            "style": "IPY_MODEL_37f84ee09fe34c78a1104e872a64d952",
            "value": "Dl Completed...: 100%"
          }
        },
        "888ade40e37f4c4290c42f1f85ad7bb5": {
          "model_module": "@jupyter-widgets/controls",
          "model_name": "FloatProgressModel",
          "model_module_version": "1.5.0",
          "state": {
            "_dom_classes": [],
            "_model_module": "@jupyter-widgets/controls",
            "_model_module_version": "1.5.0",
            "_model_name": "FloatProgressModel",
            "_view_count": null,
            "_view_module": "@jupyter-widgets/controls",
            "_view_module_version": "1.5.0",
            "_view_name": "ProgressView",
            "bar_style": "success",
            "description": "",
            "description_tooltip": null,
            "layout": "IPY_MODEL_551a830a5fbe435a9feecd4962c3ef03",
            "max": 1,
            "min": 0,
            "orientation": "horizontal",
            "style": "IPY_MODEL_101f76fc9a4c4b3eb4e1b3d86ab7234d",
            "value": 1
          }
        },
        "8210456e86944cc4b97d65e3cc739961": {
          "model_module": "@jupyter-widgets/controls",
          "model_name": "HTMLModel",
          "model_module_version": "1.5.0",
          "state": {
            "_dom_classes": [],
            "_model_module": "@jupyter-widgets/controls",
            "_model_module_version": "1.5.0",
            "_model_name": "HTMLModel",
            "_view_count": null,
            "_view_module": "@jupyter-widgets/controls",
            "_view_module_version": "1.5.0",
            "_view_name": "HTMLView",
            "description": "",
            "description_tooltip": null,
            "layout": "IPY_MODEL_2eecb3dcf5194b3dab8b67f8966eaa50",
            "placeholder": "​",
            "style": "IPY_MODEL_baec31a8d4024b5d9aa8c7115b09699a",
            "value": " 1/1 [06:33&lt;00:00, 323.67s/ url]"
          }
        },
        "9ca3062558004111b25c6354d9f51e85": {
          "model_module": "@jupyter-widgets/base",
          "model_name": "LayoutModel",
          "model_module_version": "1.2.0",
          "state": {
            "_model_module": "@jupyter-widgets/base",
            "_model_module_version": "1.2.0",
            "_model_name": "LayoutModel",
            "_view_count": null,
            "_view_module": "@jupyter-widgets/base",
            "_view_module_version": "1.2.0",
            "_view_name": "LayoutView",
            "align_content": null,
            "align_items": null,
            "align_self": null,
            "border": null,
            "bottom": null,
            "display": null,
            "flex": null,
            "flex_flow": null,
            "grid_area": null,
            "grid_auto_columns": null,
            "grid_auto_flow": null,
            "grid_auto_rows": null,
            "grid_column": null,
            "grid_gap": null,
            "grid_row": null,
            "grid_template_areas": null,
            "grid_template_columns": null,
            "grid_template_rows": null,
            "height": null,
            "justify_content": null,
            "justify_items": null,
            "left": null,
            "margin": null,
            "max_height": null,
            "max_width": null,
            "min_height": null,
            "min_width": null,
            "object_fit": null,
            "object_position": null,
            "order": null,
            "overflow": null,
            "overflow_x": null,
            "overflow_y": null,
            "padding": null,
            "right": null,
            "top": null,
            "visibility": null,
            "width": null
          }
        },
        "8d58636baaf64f34afd6e742e4ec1d12": {
          "model_module": "@jupyter-widgets/base",
          "model_name": "LayoutModel",
          "model_module_version": "1.2.0",
          "state": {
            "_model_module": "@jupyter-widgets/base",
            "_model_module_version": "1.2.0",
            "_model_name": "LayoutModel",
            "_view_count": null,
            "_view_module": "@jupyter-widgets/base",
            "_view_module_version": "1.2.0",
            "_view_name": "LayoutView",
            "align_content": null,
            "align_items": null,
            "align_self": null,
            "border": null,
            "bottom": null,
            "display": null,
            "flex": null,
            "flex_flow": null,
            "grid_area": null,
            "grid_auto_columns": null,
            "grid_auto_flow": null,
            "grid_auto_rows": null,
            "grid_column": null,
            "grid_gap": null,
            "grid_row": null,
            "grid_template_areas": null,
            "grid_template_columns": null,
            "grid_template_rows": null,
            "height": null,
            "justify_content": null,
            "justify_items": null,
            "left": null,
            "margin": null,
            "max_height": null,
            "max_width": null,
            "min_height": null,
            "min_width": null,
            "object_fit": null,
            "object_position": null,
            "order": null,
            "overflow": null,
            "overflow_x": null,
            "overflow_y": null,
            "padding": null,
            "right": null,
            "top": null,
            "visibility": null,
            "width": null
          }
        },
        "37f84ee09fe34c78a1104e872a64d952": {
          "model_module": "@jupyter-widgets/controls",
          "model_name": "DescriptionStyleModel",
          "model_module_version": "1.5.0",
          "state": {
            "_model_module": "@jupyter-widgets/controls",
            "_model_module_version": "1.5.0",
            "_model_name": "DescriptionStyleModel",
            "_view_count": null,
            "_view_module": "@jupyter-widgets/base",
            "_view_module_version": "1.2.0",
            "_view_name": "StyleView",
            "description_width": ""
          }
        },
        "551a830a5fbe435a9feecd4962c3ef03": {
          "model_module": "@jupyter-widgets/base",
          "model_name": "LayoutModel",
          "model_module_version": "1.2.0",
          "state": {
            "_model_module": "@jupyter-widgets/base",
            "_model_module_version": "1.2.0",
            "_model_name": "LayoutModel",
            "_view_count": null,
            "_view_module": "@jupyter-widgets/base",
            "_view_module_version": "1.2.0",
            "_view_name": "LayoutView",
            "align_content": null,
            "align_items": null,
            "align_self": null,
            "border": null,
            "bottom": null,
            "display": null,
            "flex": null,
            "flex_flow": null,
            "grid_area": null,
            "grid_auto_columns": null,
            "grid_auto_flow": null,
            "grid_auto_rows": null,
            "grid_column": null,
            "grid_gap": null,
            "grid_row": null,
            "grid_template_areas": null,
            "grid_template_columns": null,
            "grid_template_rows": null,
            "height": null,
            "justify_content": null,
            "justify_items": null,
            "left": null,
            "margin": null,
            "max_height": null,
            "max_width": null,
            "min_height": null,
            "min_width": null,
            "object_fit": null,
            "object_position": null,
            "order": null,
            "overflow": null,
            "overflow_x": null,
            "overflow_y": null,
            "padding": null,
            "right": null,
            "top": null,
            "visibility": null,
            "width": "20px"
          }
        },
        "101f76fc9a4c4b3eb4e1b3d86ab7234d": {
          "model_module": "@jupyter-widgets/controls",
          "model_name": "ProgressStyleModel",
          "model_module_version": "1.5.0",
          "state": {
            "_model_module": "@jupyter-widgets/controls",
            "_model_module_version": "1.5.0",
            "_model_name": "ProgressStyleModel",
            "_view_count": null,
            "_view_module": "@jupyter-widgets/base",
            "_view_module_version": "1.2.0",
            "_view_name": "StyleView",
            "bar_color": null,
            "description_width": ""
          }
        },
        "2eecb3dcf5194b3dab8b67f8966eaa50": {
          "model_module": "@jupyter-widgets/base",
          "model_name": "LayoutModel",
          "model_module_version": "1.2.0",
          "state": {
            "_model_module": "@jupyter-widgets/base",
            "_model_module_version": "1.2.0",
            "_model_name": "LayoutModel",
            "_view_count": null,
            "_view_module": "@jupyter-widgets/base",
            "_view_module_version": "1.2.0",
            "_view_name": "LayoutView",
            "align_content": null,
            "align_items": null,
            "align_self": null,
            "border": null,
            "bottom": null,
            "display": null,
            "flex": null,
            "flex_flow": null,
            "grid_area": null,
            "grid_auto_columns": null,
            "grid_auto_flow": null,
            "grid_auto_rows": null,
            "grid_column": null,
            "grid_gap": null,
            "grid_row": null,
            "grid_template_areas": null,
            "grid_template_columns": null,
            "grid_template_rows": null,
            "height": null,
            "justify_content": null,
            "justify_items": null,
            "left": null,
            "margin": null,
            "max_height": null,
            "max_width": null,
            "min_height": null,
            "min_width": null,
            "object_fit": null,
            "object_position": null,
            "order": null,
            "overflow": null,
            "overflow_x": null,
            "overflow_y": null,
            "padding": null,
            "right": null,
            "top": null,
            "visibility": null,
            "width": null
          }
        },
        "baec31a8d4024b5d9aa8c7115b09699a": {
          "model_module": "@jupyter-widgets/controls",
          "model_name": "DescriptionStyleModel",
          "model_module_version": "1.5.0",
          "state": {
            "_model_module": "@jupyter-widgets/controls",
            "_model_module_version": "1.5.0",
            "_model_name": "DescriptionStyleModel",
            "_view_count": null,
            "_view_module": "@jupyter-widgets/base",
            "_view_module_version": "1.2.0",
            "_view_name": "StyleView",
            "description_width": ""
          }
        },
        "672784d2fd6e45bf923704d3ae722f45": {
          "model_module": "@jupyter-widgets/controls",
          "model_name": "HBoxModel",
          "model_module_version": "1.5.0",
          "state": {
            "_dom_classes": [],
            "_model_module": "@jupyter-widgets/controls",
            "_model_module_version": "1.5.0",
            "_model_name": "HBoxModel",
            "_view_count": null,
            "_view_module": "@jupyter-widgets/controls",
            "_view_module_version": "1.5.0",
            "_view_name": "HBoxView",
            "box_style": "",
            "children": [
              "IPY_MODEL_ebe78dcaa47e4f2d94c3981aea9d1701",
              "IPY_MODEL_145ca26d52a3410dbca927e237d68076",
              "IPY_MODEL_fca921d1d2f5491a8885d669effc6b35"
            ],
            "layout": "IPY_MODEL_4b5a222deb3e4612a77b9688e5797ae6"
          }
        },
        "ebe78dcaa47e4f2d94c3981aea9d1701": {
          "model_module": "@jupyter-widgets/controls",
          "model_name": "HTMLModel",
          "model_module_version": "1.5.0",
          "state": {
            "_dom_classes": [],
            "_model_module": "@jupyter-widgets/controls",
            "_model_module_version": "1.5.0",
            "_model_name": "HTMLModel",
            "_view_count": null,
            "_view_module": "@jupyter-widgets/controls",
            "_view_module_version": "1.5.0",
            "_view_name": "HTMLView",
            "description": "",
            "description_tooltip": null,
            "layout": "IPY_MODEL_66ffb673605f4bb39af3fc9ee10dddef",
            "placeholder": "​",
            "style": "IPY_MODEL_ffd621d622734d0582b2b953be104b9d",
            "value": "Dl Size...: 100%"
          }
        },
        "145ca26d52a3410dbca927e237d68076": {
          "model_module": "@jupyter-widgets/controls",
          "model_name": "FloatProgressModel",
          "model_module_version": "1.5.0",
          "state": {
            "_dom_classes": [],
            "_model_module": "@jupyter-widgets/controls",
            "_model_module_version": "1.5.0",
            "_model_name": "FloatProgressModel",
            "_view_count": null,
            "_view_module": "@jupyter-widgets/controls",
            "_view_module_version": "1.5.0",
            "_view_name": "ProgressView",
            "bar_style": "success",
            "description": "",
            "description_tooltip": null,
            "layout": "IPY_MODEL_03a0cd7c0ef84f199011855b340b43a9",
            "max": 1,
            "min": 0,
            "orientation": "horizontal",
            "style": "IPY_MODEL_12f7e0b9c7b34076b5ed10aa1dc5f030",
            "value": 1
          }
        },
        "fca921d1d2f5491a8885d669effc6b35": {
          "model_module": "@jupyter-widgets/controls",
          "model_name": "HTMLModel",
          "model_module_version": "1.5.0",
          "state": {
            "_dom_classes": [],
            "_model_module": "@jupyter-widgets/controls",
            "_model_module_version": "1.5.0",
            "_model_name": "HTMLModel",
            "_view_count": null,
            "_view_module": "@jupyter-widgets/controls",
            "_view_module_version": "1.5.0",
            "_view_name": "HTMLView",
            "description": "",
            "description_tooltip": null,
            "layout": "IPY_MODEL_9c52f62804674b5db0393e8421ac5630",
            "placeholder": "​",
            "style": "IPY_MODEL_fd016788da364a3b9c87b7f466d460bc",
            "value": " 4764/4764 [06:33&lt;00:00, 14.95 MiB/s]"
          }
        },
        "4b5a222deb3e4612a77b9688e5797ae6": {
          "model_module": "@jupyter-widgets/base",
          "model_name": "LayoutModel",
          "model_module_version": "1.2.0",
          "state": {
            "_model_module": "@jupyter-widgets/base",
            "_model_module_version": "1.2.0",
            "_model_name": "LayoutModel",
            "_view_count": null,
            "_view_module": "@jupyter-widgets/base",
            "_view_module_version": "1.2.0",
            "_view_name": "LayoutView",
            "align_content": null,
            "align_items": null,
            "align_self": null,
            "border": null,
            "bottom": null,
            "display": null,
            "flex": null,
            "flex_flow": null,
            "grid_area": null,
            "grid_auto_columns": null,
            "grid_auto_flow": null,
            "grid_auto_rows": null,
            "grid_column": null,
            "grid_gap": null,
            "grid_row": null,
            "grid_template_areas": null,
            "grid_template_columns": null,
            "grid_template_rows": null,
            "height": null,
            "justify_content": null,
            "justify_items": null,
            "left": null,
            "margin": null,
            "max_height": null,
            "max_width": null,
            "min_height": null,
            "min_width": null,
            "object_fit": null,
            "object_position": null,
            "order": null,
            "overflow": null,
            "overflow_x": null,
            "overflow_y": null,
            "padding": null,
            "right": null,
            "top": null,
            "visibility": null,
            "width": null
          }
        },
        "66ffb673605f4bb39af3fc9ee10dddef": {
          "model_module": "@jupyter-widgets/base",
          "model_name": "LayoutModel",
          "model_module_version": "1.2.0",
          "state": {
            "_model_module": "@jupyter-widgets/base",
            "_model_module_version": "1.2.0",
            "_model_name": "LayoutModel",
            "_view_count": null,
            "_view_module": "@jupyter-widgets/base",
            "_view_module_version": "1.2.0",
            "_view_name": "LayoutView",
            "align_content": null,
            "align_items": null,
            "align_self": null,
            "border": null,
            "bottom": null,
            "display": null,
            "flex": null,
            "flex_flow": null,
            "grid_area": null,
            "grid_auto_columns": null,
            "grid_auto_flow": null,
            "grid_auto_rows": null,
            "grid_column": null,
            "grid_gap": null,
            "grid_row": null,
            "grid_template_areas": null,
            "grid_template_columns": null,
            "grid_template_rows": null,
            "height": null,
            "justify_content": null,
            "justify_items": null,
            "left": null,
            "margin": null,
            "max_height": null,
            "max_width": null,
            "min_height": null,
            "min_width": null,
            "object_fit": null,
            "object_position": null,
            "order": null,
            "overflow": null,
            "overflow_x": null,
            "overflow_y": null,
            "padding": null,
            "right": null,
            "top": null,
            "visibility": null,
            "width": null
          }
        },
        "ffd621d622734d0582b2b953be104b9d": {
          "model_module": "@jupyter-widgets/controls",
          "model_name": "DescriptionStyleModel",
          "model_module_version": "1.5.0",
          "state": {
            "_model_module": "@jupyter-widgets/controls",
            "_model_module_version": "1.5.0",
            "_model_name": "DescriptionStyleModel",
            "_view_count": null,
            "_view_module": "@jupyter-widgets/base",
            "_view_module_version": "1.2.0",
            "_view_name": "StyleView",
            "description_width": ""
          }
        },
        "03a0cd7c0ef84f199011855b340b43a9": {
          "model_module": "@jupyter-widgets/base",
          "model_name": "LayoutModel",
          "model_module_version": "1.2.0",
          "state": {
            "_model_module": "@jupyter-widgets/base",
            "_model_module_version": "1.2.0",
            "_model_name": "LayoutModel",
            "_view_count": null,
            "_view_module": "@jupyter-widgets/base",
            "_view_module_version": "1.2.0",
            "_view_name": "LayoutView",
            "align_content": null,
            "align_items": null,
            "align_self": null,
            "border": null,
            "bottom": null,
            "display": null,
            "flex": null,
            "flex_flow": null,
            "grid_area": null,
            "grid_auto_columns": null,
            "grid_auto_flow": null,
            "grid_auto_rows": null,
            "grid_column": null,
            "grid_gap": null,
            "grid_row": null,
            "grid_template_areas": null,
            "grid_template_columns": null,
            "grid_template_rows": null,
            "height": null,
            "justify_content": null,
            "justify_items": null,
            "left": null,
            "margin": null,
            "max_height": null,
            "max_width": null,
            "min_height": null,
            "min_width": null,
            "object_fit": null,
            "object_position": null,
            "order": null,
            "overflow": null,
            "overflow_x": null,
            "overflow_y": null,
            "padding": null,
            "right": null,
            "top": null,
            "visibility": null,
            "width": "20px"
          }
        },
        "12f7e0b9c7b34076b5ed10aa1dc5f030": {
          "model_module": "@jupyter-widgets/controls",
          "model_name": "ProgressStyleModel",
          "model_module_version": "1.5.0",
          "state": {
            "_model_module": "@jupyter-widgets/controls",
            "_model_module_version": "1.5.0",
            "_model_name": "ProgressStyleModel",
            "_view_count": null,
            "_view_module": "@jupyter-widgets/base",
            "_view_module_version": "1.2.0",
            "_view_name": "StyleView",
            "bar_color": null,
            "description_width": ""
          }
        },
        "9c52f62804674b5db0393e8421ac5630": {
          "model_module": "@jupyter-widgets/base",
          "model_name": "LayoutModel",
          "model_module_version": "1.2.0",
          "state": {
            "_model_module": "@jupyter-widgets/base",
            "_model_module_version": "1.2.0",
            "_model_name": "LayoutModel",
            "_view_count": null,
            "_view_module": "@jupyter-widgets/base",
            "_view_module_version": "1.2.0",
            "_view_name": "LayoutView",
            "align_content": null,
            "align_items": null,
            "align_self": null,
            "border": null,
            "bottom": null,
            "display": null,
            "flex": null,
            "flex_flow": null,
            "grid_area": null,
            "grid_auto_columns": null,
            "grid_auto_flow": null,
            "grid_auto_rows": null,
            "grid_column": null,
            "grid_gap": null,
            "grid_row": null,
            "grid_template_areas": null,
            "grid_template_columns": null,
            "grid_template_rows": null,
            "height": null,
            "justify_content": null,
            "justify_items": null,
            "left": null,
            "margin": null,
            "max_height": null,
            "max_width": null,
            "min_height": null,
            "min_width": null,
            "object_fit": null,
            "object_position": null,
            "order": null,
            "overflow": null,
            "overflow_x": null,
            "overflow_y": null,
            "padding": null,
            "right": null,
            "top": null,
            "visibility": null,
            "width": null
          }
        },
        "fd016788da364a3b9c87b7f466d460bc": {
          "model_module": "@jupyter-widgets/controls",
          "model_name": "DescriptionStyleModel",
          "model_module_version": "1.5.0",
          "state": {
            "_model_module": "@jupyter-widgets/controls",
            "_model_module_version": "1.5.0",
            "_model_name": "DescriptionStyleModel",
            "_view_count": null,
            "_view_module": "@jupyter-widgets/base",
            "_view_module_version": "1.2.0",
            "_view_name": "StyleView",
            "description_width": ""
          }
        },
        "8d4889fa1cad429c94c9d448e6f5f7a7": {
          "model_module": "@jupyter-widgets/controls",
          "model_name": "HBoxModel",
          "model_module_version": "1.5.0",
          "state": {
            "_dom_classes": [],
            "_model_module": "@jupyter-widgets/controls",
            "_model_module_version": "1.5.0",
            "_model_name": "HBoxModel",
            "_view_count": null,
            "_view_module": "@jupyter-widgets/controls",
            "_view_module_version": "1.5.0",
            "_view_name": "HBoxView",
            "box_style": "",
            "children": [
              "IPY_MODEL_8351057f713f47dc9e9aa348769a8fbe",
              "IPY_MODEL_2e98814041624a61b3b265dc09a0bf22",
              "IPY_MODEL_ff6be535d04c48cb9e1844c30389d752"
            ],
            "layout": "IPY_MODEL_4923d48c45c44e02822108d8d3df448c"
          }
        },
        "8351057f713f47dc9e9aa348769a8fbe": {
          "model_module": "@jupyter-widgets/controls",
          "model_name": "HTMLModel",
          "model_module_version": "1.5.0",
          "state": {
            "_dom_classes": [],
            "_model_module": "@jupyter-widgets/controls",
            "_model_module_version": "1.5.0",
            "_model_name": "HTMLModel",
            "_view_count": null,
            "_view_module": "@jupyter-widgets/controls",
            "_view_module_version": "1.5.0",
            "_view_name": "HTMLView",
            "description": "",
            "description_tooltip": null,
            "layout": "IPY_MODEL_cbf181b0dad349b4abe66f45d7172147",
            "placeholder": "​",
            "style": "IPY_MODEL_3bc23ca7a7fe4fbdb0eeb9fe6a3efb3b",
            "value": "Extraction completed...: 100%"
          }
        },
        "2e98814041624a61b3b265dc09a0bf22": {
          "model_module": "@jupyter-widgets/controls",
          "model_name": "FloatProgressModel",
          "model_module_version": "1.5.0",
          "state": {
            "_dom_classes": [],
            "_model_module": "@jupyter-widgets/controls",
            "_model_module_version": "1.5.0",
            "_model_name": "FloatProgressModel",
            "_view_count": null,
            "_view_module": "@jupyter-widgets/controls",
            "_view_module_version": "1.5.0",
            "_view_name": "ProgressView",
            "bar_style": "success",
            "description": "",
            "description_tooltip": null,
            "layout": "IPY_MODEL_e6b9e1f6c9a84cfaaf6e870784e8a24d",
            "max": 1,
            "min": 0,
            "orientation": "horizontal",
            "style": "IPY_MODEL_c04f9e220f0141dab665ffdb25d06fd9",
            "value": 1
          }
        },
        "ff6be535d04c48cb9e1844c30389d752": {
          "model_module": "@jupyter-widgets/controls",
          "model_name": "HTMLModel",
          "model_module_version": "1.5.0",
          "state": {
            "_dom_classes": [],
            "_model_module": "@jupyter-widgets/controls",
            "_model_module_version": "1.5.0",
            "_model_name": "HTMLModel",
            "_view_count": null,
            "_view_module": "@jupyter-widgets/controls",
            "_view_module_version": "1.5.0",
            "_view_name": "HTMLView",
            "description": "",
            "description_tooltip": null,
            "layout": "IPY_MODEL_d87bcd52dbb843b4a94467f267f5105e",
            "placeholder": "​",
            "style": "IPY_MODEL_0ac1a5d75a144d6bbec9336cfa3d8610",
            "value": " 1/1 [06:33&lt;00:00, 393.34s/ file]"
          }
        },
        "4923d48c45c44e02822108d8d3df448c": {
          "model_module": "@jupyter-widgets/base",
          "model_name": "LayoutModel",
          "model_module_version": "1.2.0",
          "state": {
            "_model_module": "@jupyter-widgets/base",
            "_model_module_version": "1.2.0",
            "_model_name": "LayoutModel",
            "_view_count": null,
            "_view_module": "@jupyter-widgets/base",
            "_view_module_version": "1.2.0",
            "_view_name": "LayoutView",
            "align_content": null,
            "align_items": null,
            "align_self": null,
            "border": null,
            "bottom": null,
            "display": null,
            "flex": null,
            "flex_flow": null,
            "grid_area": null,
            "grid_auto_columns": null,
            "grid_auto_flow": null,
            "grid_auto_rows": null,
            "grid_column": null,
            "grid_gap": null,
            "grid_row": null,
            "grid_template_areas": null,
            "grid_template_columns": null,
            "grid_template_rows": null,
            "height": null,
            "justify_content": null,
            "justify_items": null,
            "left": null,
            "margin": null,
            "max_height": null,
            "max_width": null,
            "min_height": null,
            "min_width": null,
            "object_fit": null,
            "object_position": null,
            "order": null,
            "overflow": null,
            "overflow_x": null,
            "overflow_y": null,
            "padding": null,
            "right": null,
            "top": null,
            "visibility": null,
            "width": null
          }
        },
        "cbf181b0dad349b4abe66f45d7172147": {
          "model_module": "@jupyter-widgets/base",
          "model_name": "LayoutModel",
          "model_module_version": "1.2.0",
          "state": {
            "_model_module": "@jupyter-widgets/base",
            "_model_module_version": "1.2.0",
            "_model_name": "LayoutModel",
            "_view_count": null,
            "_view_module": "@jupyter-widgets/base",
            "_view_module_version": "1.2.0",
            "_view_name": "LayoutView",
            "align_content": null,
            "align_items": null,
            "align_self": null,
            "border": null,
            "bottom": null,
            "display": null,
            "flex": null,
            "flex_flow": null,
            "grid_area": null,
            "grid_auto_columns": null,
            "grid_auto_flow": null,
            "grid_auto_rows": null,
            "grid_column": null,
            "grid_gap": null,
            "grid_row": null,
            "grid_template_areas": null,
            "grid_template_columns": null,
            "grid_template_rows": null,
            "height": null,
            "justify_content": null,
            "justify_items": null,
            "left": null,
            "margin": null,
            "max_height": null,
            "max_width": null,
            "min_height": null,
            "min_width": null,
            "object_fit": null,
            "object_position": null,
            "order": null,
            "overflow": null,
            "overflow_x": null,
            "overflow_y": null,
            "padding": null,
            "right": null,
            "top": null,
            "visibility": null,
            "width": null
          }
        },
        "3bc23ca7a7fe4fbdb0eeb9fe6a3efb3b": {
          "model_module": "@jupyter-widgets/controls",
          "model_name": "DescriptionStyleModel",
          "model_module_version": "1.5.0",
          "state": {
            "_model_module": "@jupyter-widgets/controls",
            "_model_module_version": "1.5.0",
            "_model_name": "DescriptionStyleModel",
            "_view_count": null,
            "_view_module": "@jupyter-widgets/base",
            "_view_module_version": "1.2.0",
            "_view_name": "StyleView",
            "description_width": ""
          }
        },
        "e6b9e1f6c9a84cfaaf6e870784e8a24d": {
          "model_module": "@jupyter-widgets/base",
          "model_name": "LayoutModel",
          "model_module_version": "1.2.0",
          "state": {
            "_model_module": "@jupyter-widgets/base",
            "_model_module_version": "1.2.0",
            "_model_name": "LayoutModel",
            "_view_count": null,
            "_view_module": "@jupyter-widgets/base",
            "_view_module_version": "1.2.0",
            "_view_name": "LayoutView",
            "align_content": null,
            "align_items": null,
            "align_self": null,
            "border": null,
            "bottom": null,
            "display": null,
            "flex": null,
            "flex_flow": null,
            "grid_area": null,
            "grid_auto_columns": null,
            "grid_auto_flow": null,
            "grid_auto_rows": null,
            "grid_column": null,
            "grid_gap": null,
            "grid_row": null,
            "grid_template_areas": null,
            "grid_template_columns": null,
            "grid_template_rows": null,
            "height": null,
            "justify_content": null,
            "justify_items": null,
            "left": null,
            "margin": null,
            "max_height": null,
            "max_width": null,
            "min_height": null,
            "min_width": null,
            "object_fit": null,
            "object_position": null,
            "order": null,
            "overflow": null,
            "overflow_x": null,
            "overflow_y": null,
            "padding": null,
            "right": null,
            "top": null,
            "visibility": null,
            "width": "20px"
          }
        },
        "c04f9e220f0141dab665ffdb25d06fd9": {
          "model_module": "@jupyter-widgets/controls",
          "model_name": "ProgressStyleModel",
          "model_module_version": "1.5.0",
          "state": {
            "_model_module": "@jupyter-widgets/controls",
            "_model_module_version": "1.5.0",
            "_model_name": "ProgressStyleModel",
            "_view_count": null,
            "_view_module": "@jupyter-widgets/base",
            "_view_module_version": "1.2.0",
            "_view_name": "StyleView",
            "bar_color": null,
            "description_width": ""
          }
        },
        "d87bcd52dbb843b4a94467f267f5105e": {
          "model_module": "@jupyter-widgets/base",
          "model_name": "LayoutModel",
          "model_module_version": "1.2.0",
          "state": {
            "_model_module": "@jupyter-widgets/base",
            "_model_module_version": "1.2.0",
            "_model_name": "LayoutModel",
            "_view_count": null,
            "_view_module": "@jupyter-widgets/base",
            "_view_module_version": "1.2.0",
            "_view_name": "LayoutView",
            "align_content": null,
            "align_items": null,
            "align_self": null,
            "border": null,
            "bottom": null,
            "display": null,
            "flex": null,
            "flex_flow": null,
            "grid_area": null,
            "grid_auto_columns": null,
            "grid_auto_flow": null,
            "grid_auto_rows": null,
            "grid_column": null,
            "grid_gap": null,
            "grid_row": null,
            "grid_template_areas": null,
            "grid_template_columns": null,
            "grid_template_rows": null,
            "height": null,
            "justify_content": null,
            "justify_items": null,
            "left": null,
            "margin": null,
            "max_height": null,
            "max_width": null,
            "min_height": null,
            "min_width": null,
            "object_fit": null,
            "object_position": null,
            "order": null,
            "overflow": null,
            "overflow_x": null,
            "overflow_y": null,
            "padding": null,
            "right": null,
            "top": null,
            "visibility": null,
            "width": null
          }
        },
        "0ac1a5d75a144d6bbec9336cfa3d8610": {
          "model_module": "@jupyter-widgets/controls",
          "model_name": "DescriptionStyleModel",
          "model_module_version": "1.5.0",
          "state": {
            "_model_module": "@jupyter-widgets/controls",
            "_model_module_version": "1.5.0",
            "_model_name": "DescriptionStyleModel",
            "_view_count": null,
            "_view_module": "@jupyter-widgets/base",
            "_view_module_version": "1.2.0",
            "_view_name": "StyleView",
            "description_width": ""
          }
        },
        "1f5efd9d91ac43b4847eabf7f8090f34": {
          "model_module": "@jupyter-widgets/controls",
          "model_name": "HBoxModel",
          "model_module_version": "1.5.0",
          "state": {
            "_dom_classes": [],
            "_model_module": "@jupyter-widgets/controls",
            "_model_module_version": "1.5.0",
            "_model_name": "HBoxModel",
            "_view_count": null,
            "_view_module": "@jupyter-widgets/controls",
            "_view_module_version": "1.5.0",
            "_view_name": "HBoxView",
            "box_style": "",
            "children": [
              "IPY_MODEL_18f5b4e43aaf4ed2a2967772158fb0be",
              "IPY_MODEL_a8692f36e1d244b58feaf02a70b86685",
              "IPY_MODEL_09a08f38f6c4446884692c59b09fa45d"
            ],
            "layout": "IPY_MODEL_6f3cd1a031854636ba8f5e6cf81c5a3f"
          }
        },
        "18f5b4e43aaf4ed2a2967772158fb0be": {
          "model_module": "@jupyter-widgets/controls",
          "model_name": "HTMLModel",
          "model_module_version": "1.5.0",
          "state": {
            "_dom_classes": [],
            "_model_module": "@jupyter-widgets/controls",
            "_model_module_version": "1.5.0",
            "_model_name": "HTMLModel",
            "_view_count": null,
            "_view_module": "@jupyter-widgets/controls",
            "_view_module_version": "1.5.0",
            "_view_name": "HTMLView",
            "description": "",
            "description_tooltip": null,
            "layout": "IPY_MODEL_1c35482d38784e259a5b510e9689283c",
            "placeholder": "​",
            "style": "IPY_MODEL_efc3b3767a984f7cb6bf04a005575470",
            "value": ""
          }
        },
        "a8692f36e1d244b58feaf02a70b86685": {
          "model_module": "@jupyter-widgets/controls",
          "model_name": "FloatProgressModel",
          "model_module_version": "1.5.0",
          "state": {
            "_dom_classes": [],
            "_model_module": "@jupyter-widgets/controls",
            "_model_module_version": "1.5.0",
            "_model_name": "FloatProgressModel",
            "_view_count": null,
            "_view_module": "@jupyter-widgets/controls",
            "_view_module_version": "1.5.0",
            "_view_name": "ProgressView",
            "bar_style": "info",
            "description": "",
            "description_tooltip": null,
            "layout": "IPY_MODEL_c7746826de9443fa823b82f8d1959582",
            "max": 1,
            "min": 0,
            "orientation": "horizontal",
            "style": "IPY_MODEL_c5cdc70ab035498ebb304db899e63ea8",
            "value": 1
          }
        },
        "09a08f38f6c4446884692c59b09fa45d": {
          "model_module": "@jupyter-widgets/controls",
          "model_name": "HTMLModel",
          "model_module_version": "1.5.0",
          "state": {
            "_dom_classes": [],
            "_model_module": "@jupyter-widgets/controls",
            "_model_module_version": "1.5.0",
            "_model_name": "HTMLModel",
            "_view_count": null,
            "_view_module": "@jupyter-widgets/controls",
            "_view_module_version": "1.5.0",
            "_view_name": "HTMLView",
            "description": "",
            "description_tooltip": null,
            "layout": "IPY_MODEL_eae7705d164d4119a7253f33225b6b8b",
            "placeholder": "​",
            "style": "IPY_MODEL_2537e381e5104db2bae3944dcc2956ee",
            "value": " 75655/0 [01:49&lt;00:00, 765.65 examples/s]"
          }
        },
        "6f3cd1a031854636ba8f5e6cf81c5a3f": {
          "model_module": "@jupyter-widgets/base",
          "model_name": "LayoutModel",
          "model_module_version": "1.2.0",
          "state": {
            "_model_module": "@jupyter-widgets/base",
            "_model_module_version": "1.2.0",
            "_model_name": "LayoutModel",
            "_view_count": null,
            "_view_module": "@jupyter-widgets/base",
            "_view_module_version": "1.2.0",
            "_view_name": "LayoutView",
            "align_content": null,
            "align_items": null,
            "align_self": null,
            "border": null,
            "bottom": null,
            "display": null,
            "flex": null,
            "flex_flow": null,
            "grid_area": null,
            "grid_auto_columns": null,
            "grid_auto_flow": null,
            "grid_auto_rows": null,
            "grid_column": null,
            "grid_gap": null,
            "grid_row": null,
            "grid_template_areas": null,
            "grid_template_columns": null,
            "grid_template_rows": null,
            "height": null,
            "justify_content": null,
            "justify_items": null,
            "left": null,
            "margin": null,
            "max_height": null,
            "max_width": null,
            "min_height": null,
            "min_width": null,
            "object_fit": null,
            "object_position": null,
            "order": null,
            "overflow": null,
            "overflow_x": null,
            "overflow_y": null,
            "padding": null,
            "right": null,
            "top": null,
            "visibility": null,
            "width": null
          }
        },
        "1c35482d38784e259a5b510e9689283c": {
          "model_module": "@jupyter-widgets/base",
          "model_name": "LayoutModel",
          "model_module_version": "1.2.0",
          "state": {
            "_model_module": "@jupyter-widgets/base",
            "_model_module_version": "1.2.0",
            "_model_name": "LayoutModel",
            "_view_count": null,
            "_view_module": "@jupyter-widgets/base",
            "_view_module_version": "1.2.0",
            "_view_name": "LayoutView",
            "align_content": null,
            "align_items": null,
            "align_self": null,
            "border": null,
            "bottom": null,
            "display": null,
            "flex": null,
            "flex_flow": null,
            "grid_area": null,
            "grid_auto_columns": null,
            "grid_auto_flow": null,
            "grid_auto_rows": null,
            "grid_column": null,
            "grid_gap": null,
            "grid_row": null,
            "grid_template_areas": null,
            "grid_template_columns": null,
            "grid_template_rows": null,
            "height": null,
            "justify_content": null,
            "justify_items": null,
            "left": null,
            "margin": null,
            "max_height": null,
            "max_width": null,
            "min_height": null,
            "min_width": null,
            "object_fit": null,
            "object_position": null,
            "order": null,
            "overflow": null,
            "overflow_x": null,
            "overflow_y": null,
            "padding": null,
            "right": null,
            "top": null,
            "visibility": null,
            "width": null
          }
        },
        "efc3b3767a984f7cb6bf04a005575470": {
          "model_module": "@jupyter-widgets/controls",
          "model_name": "DescriptionStyleModel",
          "model_module_version": "1.5.0",
          "state": {
            "_model_module": "@jupyter-widgets/controls",
            "_model_module_version": "1.5.0",
            "_model_name": "DescriptionStyleModel",
            "_view_count": null,
            "_view_module": "@jupyter-widgets/base",
            "_view_module_version": "1.2.0",
            "_view_name": "StyleView",
            "description_width": ""
          }
        },
        "c7746826de9443fa823b82f8d1959582": {
          "model_module": "@jupyter-widgets/base",
          "model_name": "LayoutModel",
          "model_module_version": "1.2.0",
          "state": {
            "_model_module": "@jupyter-widgets/base",
            "_model_module_version": "1.2.0",
            "_model_name": "LayoutModel",
            "_view_count": null,
            "_view_module": "@jupyter-widgets/base",
            "_view_module_version": "1.2.0",
            "_view_name": "LayoutView",
            "align_content": null,
            "align_items": null,
            "align_self": null,
            "border": null,
            "bottom": null,
            "display": null,
            "flex": null,
            "flex_flow": null,
            "grid_area": null,
            "grid_auto_columns": null,
            "grid_auto_flow": null,
            "grid_auto_rows": null,
            "grid_column": null,
            "grid_gap": null,
            "grid_row": null,
            "grid_template_areas": null,
            "grid_template_columns": null,
            "grid_template_rows": null,
            "height": null,
            "justify_content": null,
            "justify_items": null,
            "left": null,
            "margin": null,
            "max_height": null,
            "max_width": null,
            "min_height": null,
            "min_width": null,
            "object_fit": null,
            "object_position": null,
            "order": null,
            "overflow": null,
            "overflow_x": null,
            "overflow_y": null,
            "padding": null,
            "right": null,
            "top": null,
            "visibility": null,
            "width": "20px"
          }
        },
        "c5cdc70ab035498ebb304db899e63ea8": {
          "model_module": "@jupyter-widgets/controls",
          "model_name": "ProgressStyleModel",
          "model_module_version": "1.5.0",
          "state": {
            "_model_module": "@jupyter-widgets/controls",
            "_model_module_version": "1.5.0",
            "_model_name": "ProgressStyleModel",
            "_view_count": null,
            "_view_module": "@jupyter-widgets/base",
            "_view_module_version": "1.2.0",
            "_view_name": "StyleView",
            "bar_color": null,
            "description_width": ""
          }
        },
        "eae7705d164d4119a7253f33225b6b8b": {
          "model_module": "@jupyter-widgets/base",
          "model_name": "LayoutModel",
          "model_module_version": "1.2.0",
          "state": {
            "_model_module": "@jupyter-widgets/base",
            "_model_module_version": "1.2.0",
            "_model_name": "LayoutModel",
            "_view_count": null,
            "_view_module": "@jupyter-widgets/base",
            "_view_module_version": "1.2.0",
            "_view_name": "LayoutView",
            "align_content": null,
            "align_items": null,
            "align_self": null,
            "border": null,
            "bottom": null,
            "display": null,
            "flex": null,
            "flex_flow": null,
            "grid_area": null,
            "grid_auto_columns": null,
            "grid_auto_flow": null,
            "grid_auto_rows": null,
            "grid_column": null,
            "grid_gap": null,
            "grid_row": null,
            "grid_template_areas": null,
            "grid_template_columns": null,
            "grid_template_rows": null,
            "height": null,
            "justify_content": null,
            "justify_items": null,
            "left": null,
            "margin": null,
            "max_height": null,
            "max_width": null,
            "min_height": null,
            "min_width": null,
            "object_fit": null,
            "object_position": null,
            "order": null,
            "overflow": null,
            "overflow_x": null,
            "overflow_y": null,
            "padding": null,
            "right": null,
            "top": null,
            "visibility": null,
            "width": null
          }
        },
        "2537e381e5104db2bae3944dcc2956ee": {
          "model_module": "@jupyter-widgets/controls",
          "model_name": "DescriptionStyleModel",
          "model_module_version": "1.5.0",
          "state": {
            "_model_module": "@jupyter-widgets/controls",
            "_model_module_version": "1.5.0",
            "_model_name": "DescriptionStyleModel",
            "_view_count": null,
            "_view_module": "@jupyter-widgets/base",
            "_view_module_version": "1.2.0",
            "_view_name": "StyleView",
            "description_width": ""
          }
        },
        "8846e43c083b4d8fb72ed65b0931d26e": {
          "model_module": "@jupyter-widgets/controls",
          "model_name": "HBoxModel",
          "model_module_version": "1.5.0",
          "state": {
            "_dom_classes": [],
            "_model_module": "@jupyter-widgets/controls",
            "_model_module_version": "1.5.0",
            "_model_name": "HBoxModel",
            "_view_count": null,
            "_view_module": "@jupyter-widgets/controls",
            "_view_module_version": "1.5.0",
            "_view_name": "HBoxView",
            "box_style": "",
            "children": [
              "IPY_MODEL_ad4c4c4615634664acd5c9b018c41770",
              "IPY_MODEL_388948169ebe4fb4b4bee68374c62072",
              "IPY_MODEL_4d08edbc18104fbfa21f9a29746aeb5a"
            ],
            "layout": "IPY_MODEL_faa9d9b82c60411584aa2b0988c113b7"
          }
        },
        "ad4c4c4615634664acd5c9b018c41770": {
          "model_module": "@jupyter-widgets/controls",
          "model_name": "HTMLModel",
          "model_module_version": "1.5.0",
          "state": {
            "_dom_classes": [],
            "_model_module": "@jupyter-widgets/controls",
            "_model_module_version": "1.5.0",
            "_model_name": "HTMLModel",
            "_view_count": null,
            "_view_module": "@jupyter-widgets/controls",
            "_view_module_version": "1.5.0",
            "_view_name": "HTMLView",
            "description": "",
            "description_tooltip": null,
            "layout": "IPY_MODEL_596828c2e3c240bcbe34fede59715d31",
            "placeholder": "​",
            "style": "IPY_MODEL_9ec106a77f9643c0895021d3c252df93",
            "value": "100%"
          }
        },
        "388948169ebe4fb4b4bee68374c62072": {
          "model_module": "@jupyter-widgets/controls",
          "model_name": "FloatProgressModel",
          "model_module_version": "1.5.0",
          "state": {
            "_dom_classes": [],
            "_model_module": "@jupyter-widgets/controls",
            "_model_module_version": "1.5.0",
            "_model_name": "FloatProgressModel",
            "_view_count": null,
            "_view_module": "@jupyter-widgets/controls",
            "_view_module_version": "1.5.0",
            "_view_name": "ProgressView",
            "bar_style": "danger",
            "description": "",
            "description_tooltip": null,
            "layout": "IPY_MODEL_ebcd81f159164286828f4333fdce5db6",
            "max": 75750,
            "min": 0,
            "orientation": "horizontal",
            "style": "IPY_MODEL_8eb351709b324cc8a1ed8d45bcb24099",
            "value": 75749
          }
        },
        "4d08edbc18104fbfa21f9a29746aeb5a": {
          "model_module": "@jupyter-widgets/controls",
          "model_name": "HTMLModel",
          "model_module_version": "1.5.0",
          "state": {
            "_dom_classes": [],
            "_model_module": "@jupyter-widgets/controls",
            "_model_module_version": "1.5.0",
            "_model_name": "HTMLModel",
            "_view_count": null,
            "_view_module": "@jupyter-widgets/controls",
            "_view_module_version": "1.5.0",
            "_view_name": "HTMLView",
            "description": "",
            "description_tooltip": null,
            "layout": "IPY_MODEL_caf0d6c2eb7b4651bb999ad1bd4da5a9",
            "placeholder": "​",
            "style": "IPY_MODEL_9592b1b5547c4ff18c3e063558b7ad47",
            "value": " 75749/75750 [00:31&lt;00:00, 2614.66 examples/s]"
          }
        },
        "faa9d9b82c60411584aa2b0988c113b7": {
          "model_module": "@jupyter-widgets/base",
          "model_name": "LayoutModel",
          "model_module_version": "1.2.0",
          "state": {
            "_model_module": "@jupyter-widgets/base",
            "_model_module_version": "1.2.0",
            "_model_name": "LayoutModel",
            "_view_count": null,
            "_view_module": "@jupyter-widgets/base",
            "_view_module_version": "1.2.0",
            "_view_name": "LayoutView",
            "align_content": null,
            "align_items": null,
            "align_self": null,
            "border": null,
            "bottom": null,
            "display": null,
            "flex": null,
            "flex_flow": null,
            "grid_area": null,
            "grid_auto_columns": null,
            "grid_auto_flow": null,
            "grid_auto_rows": null,
            "grid_column": null,
            "grid_gap": null,
            "grid_row": null,
            "grid_template_areas": null,
            "grid_template_columns": null,
            "grid_template_rows": null,
            "height": null,
            "justify_content": null,
            "justify_items": null,
            "left": null,
            "margin": null,
            "max_height": null,
            "max_width": null,
            "min_height": null,
            "min_width": null,
            "object_fit": null,
            "object_position": null,
            "order": null,
            "overflow": null,
            "overflow_x": null,
            "overflow_y": null,
            "padding": null,
            "right": null,
            "top": null,
            "visibility": null,
            "width": null
          }
        },
        "596828c2e3c240bcbe34fede59715d31": {
          "model_module": "@jupyter-widgets/base",
          "model_name": "LayoutModel",
          "model_module_version": "1.2.0",
          "state": {
            "_model_module": "@jupyter-widgets/base",
            "_model_module_version": "1.2.0",
            "_model_name": "LayoutModel",
            "_view_count": null,
            "_view_module": "@jupyter-widgets/base",
            "_view_module_version": "1.2.0",
            "_view_name": "LayoutView",
            "align_content": null,
            "align_items": null,
            "align_self": null,
            "border": null,
            "bottom": null,
            "display": null,
            "flex": null,
            "flex_flow": null,
            "grid_area": null,
            "grid_auto_columns": null,
            "grid_auto_flow": null,
            "grid_auto_rows": null,
            "grid_column": null,
            "grid_gap": null,
            "grid_row": null,
            "grid_template_areas": null,
            "grid_template_columns": null,
            "grid_template_rows": null,
            "height": null,
            "justify_content": null,
            "justify_items": null,
            "left": null,
            "margin": null,
            "max_height": null,
            "max_width": null,
            "min_height": null,
            "min_width": null,
            "object_fit": null,
            "object_position": null,
            "order": null,
            "overflow": null,
            "overflow_x": null,
            "overflow_y": null,
            "padding": null,
            "right": null,
            "top": null,
            "visibility": null,
            "width": null
          }
        },
        "9ec106a77f9643c0895021d3c252df93": {
          "model_module": "@jupyter-widgets/controls",
          "model_name": "DescriptionStyleModel",
          "model_module_version": "1.5.0",
          "state": {
            "_model_module": "@jupyter-widgets/controls",
            "_model_module_version": "1.5.0",
            "_model_name": "DescriptionStyleModel",
            "_view_count": null,
            "_view_module": "@jupyter-widgets/base",
            "_view_module_version": "1.2.0",
            "_view_name": "StyleView",
            "description_width": ""
          }
        },
        "ebcd81f159164286828f4333fdce5db6": {
          "model_module": "@jupyter-widgets/base",
          "model_name": "LayoutModel",
          "model_module_version": "1.2.0",
          "state": {
            "_model_module": "@jupyter-widgets/base",
            "_model_module_version": "1.2.0",
            "_model_name": "LayoutModel",
            "_view_count": null,
            "_view_module": "@jupyter-widgets/base",
            "_view_module_version": "1.2.0",
            "_view_name": "LayoutView",
            "align_content": null,
            "align_items": null,
            "align_self": null,
            "border": null,
            "bottom": null,
            "display": null,
            "flex": null,
            "flex_flow": null,
            "grid_area": null,
            "grid_auto_columns": null,
            "grid_auto_flow": null,
            "grid_auto_rows": null,
            "grid_column": null,
            "grid_gap": null,
            "grid_row": null,
            "grid_template_areas": null,
            "grid_template_columns": null,
            "grid_template_rows": null,
            "height": null,
            "justify_content": null,
            "justify_items": null,
            "left": null,
            "margin": null,
            "max_height": null,
            "max_width": null,
            "min_height": null,
            "min_width": null,
            "object_fit": null,
            "object_position": null,
            "order": null,
            "overflow": null,
            "overflow_x": null,
            "overflow_y": null,
            "padding": null,
            "right": null,
            "top": null,
            "visibility": null,
            "width": null
          }
        },
        "8eb351709b324cc8a1ed8d45bcb24099": {
          "model_module": "@jupyter-widgets/controls",
          "model_name": "ProgressStyleModel",
          "model_module_version": "1.5.0",
          "state": {
            "_model_module": "@jupyter-widgets/controls",
            "_model_module_version": "1.5.0",
            "_model_name": "ProgressStyleModel",
            "_view_count": null,
            "_view_module": "@jupyter-widgets/base",
            "_view_module_version": "1.2.0",
            "_view_name": "StyleView",
            "bar_color": null,
            "description_width": ""
          }
        },
        "caf0d6c2eb7b4651bb999ad1bd4da5a9": {
          "model_module": "@jupyter-widgets/base",
          "model_name": "LayoutModel",
          "model_module_version": "1.2.0",
          "state": {
            "_model_module": "@jupyter-widgets/base",
            "_model_module_version": "1.2.0",
            "_model_name": "LayoutModel",
            "_view_count": null,
            "_view_module": "@jupyter-widgets/base",
            "_view_module_version": "1.2.0",
            "_view_name": "LayoutView",
            "align_content": null,
            "align_items": null,
            "align_self": null,
            "border": null,
            "bottom": null,
            "display": null,
            "flex": null,
            "flex_flow": null,
            "grid_area": null,
            "grid_auto_columns": null,
            "grid_auto_flow": null,
            "grid_auto_rows": null,
            "grid_column": null,
            "grid_gap": null,
            "grid_row": null,
            "grid_template_areas": null,
            "grid_template_columns": null,
            "grid_template_rows": null,
            "height": null,
            "justify_content": null,
            "justify_items": null,
            "left": null,
            "margin": null,
            "max_height": null,
            "max_width": null,
            "min_height": null,
            "min_width": null,
            "object_fit": null,
            "object_position": null,
            "order": null,
            "overflow": null,
            "overflow_x": null,
            "overflow_y": null,
            "padding": null,
            "right": null,
            "top": null,
            "visibility": null,
            "width": null
          }
        },
        "9592b1b5547c4ff18c3e063558b7ad47": {
          "model_module": "@jupyter-widgets/controls",
          "model_name": "DescriptionStyleModel",
          "model_module_version": "1.5.0",
          "state": {
            "_model_module": "@jupyter-widgets/controls",
            "_model_module_version": "1.5.0",
            "_model_name": "DescriptionStyleModel",
            "_view_count": null,
            "_view_module": "@jupyter-widgets/base",
            "_view_module_version": "1.2.0",
            "_view_name": "StyleView",
            "description_width": ""
          }
        },
        "2f9969e2af5c425cbaafba74aaa252d0": {
          "model_module": "@jupyter-widgets/controls",
          "model_name": "HBoxModel",
          "model_module_version": "1.5.0",
          "state": {
            "_dom_classes": [],
            "_model_module": "@jupyter-widgets/controls",
            "_model_module_version": "1.5.0",
            "_model_name": "HBoxModel",
            "_view_count": null,
            "_view_module": "@jupyter-widgets/controls",
            "_view_module_version": "1.5.0",
            "_view_name": "HBoxView",
            "box_style": "",
            "children": [
              "IPY_MODEL_0faa67931afb466e9984e7ef6597be8d",
              "IPY_MODEL_79dbe636cd5644e295ecc98b23dc6300",
              "IPY_MODEL_0f71d708a4a14333a6b6599c97ddc97f"
            ],
            "layout": "IPY_MODEL_b30aa8ae8e3842838b9ba7ca562cd3d1"
          }
        },
        "0faa67931afb466e9984e7ef6597be8d": {
          "model_module": "@jupyter-widgets/controls",
          "model_name": "HTMLModel",
          "model_module_version": "1.5.0",
          "state": {
            "_dom_classes": [],
            "_model_module": "@jupyter-widgets/controls",
            "_model_module_version": "1.5.0",
            "_model_name": "HTMLModel",
            "_view_count": null,
            "_view_module": "@jupyter-widgets/controls",
            "_view_module_version": "1.5.0",
            "_view_name": "HTMLView",
            "description": "",
            "description_tooltip": null,
            "layout": "IPY_MODEL_6817681506dd4f72b72a984277cbf7da",
            "placeholder": "​",
            "style": "IPY_MODEL_7cdd96c726af4ca391b31fe0fcf39bf8",
            "value": ""
          }
        },
        "79dbe636cd5644e295ecc98b23dc6300": {
          "model_module": "@jupyter-widgets/controls",
          "model_name": "FloatProgressModel",
          "model_module_version": "1.5.0",
          "state": {
            "_dom_classes": [],
            "_model_module": "@jupyter-widgets/controls",
            "_model_module_version": "1.5.0",
            "_model_name": "FloatProgressModel",
            "_view_count": null,
            "_view_module": "@jupyter-widgets/controls",
            "_view_module_version": "1.5.0",
            "_view_name": "ProgressView",
            "bar_style": "info",
            "description": "",
            "description_tooltip": null,
            "layout": "IPY_MODEL_c40450f472334239ba7af6d10b362b83",
            "max": 1,
            "min": 0,
            "orientation": "horizontal",
            "style": "IPY_MODEL_822bdad8cb5247bd9fce2e196f2c8629",
            "value": 1
          }
        },
        "0f71d708a4a14333a6b6599c97ddc97f": {
          "model_module": "@jupyter-widgets/controls",
          "model_name": "HTMLModel",
          "model_module_version": "1.5.0",
          "state": {
            "_dom_classes": [],
            "_model_module": "@jupyter-widgets/controls",
            "_model_module_version": "1.5.0",
            "_model_name": "HTMLModel",
            "_view_count": null,
            "_view_module": "@jupyter-widgets/controls",
            "_view_module_version": "1.5.0",
            "_view_name": "HTMLView",
            "description": "",
            "description_tooltip": null,
            "layout": "IPY_MODEL_1cf82016d3784167ab41eac04b88ffdf",
            "placeholder": "​",
            "style": "IPY_MODEL_ca2766cf52974bfcb38c04eb712fd1c2",
            "value": " 25217/0 [01:01&lt;00:00, 502.43 examples/s]"
          }
        },
        "b30aa8ae8e3842838b9ba7ca562cd3d1": {
          "model_module": "@jupyter-widgets/base",
          "model_name": "LayoutModel",
          "model_module_version": "1.2.0",
          "state": {
            "_model_module": "@jupyter-widgets/base",
            "_model_module_version": "1.2.0",
            "_model_name": "LayoutModel",
            "_view_count": null,
            "_view_module": "@jupyter-widgets/base",
            "_view_module_version": "1.2.0",
            "_view_name": "LayoutView",
            "align_content": null,
            "align_items": null,
            "align_self": null,
            "border": null,
            "bottom": null,
            "display": null,
            "flex": null,
            "flex_flow": null,
            "grid_area": null,
            "grid_auto_columns": null,
            "grid_auto_flow": null,
            "grid_auto_rows": null,
            "grid_column": null,
            "grid_gap": null,
            "grid_row": null,
            "grid_template_areas": null,
            "grid_template_columns": null,
            "grid_template_rows": null,
            "height": null,
            "justify_content": null,
            "justify_items": null,
            "left": null,
            "margin": null,
            "max_height": null,
            "max_width": null,
            "min_height": null,
            "min_width": null,
            "object_fit": null,
            "object_position": null,
            "order": null,
            "overflow": null,
            "overflow_x": null,
            "overflow_y": null,
            "padding": null,
            "right": null,
            "top": null,
            "visibility": null,
            "width": null
          }
        },
        "6817681506dd4f72b72a984277cbf7da": {
          "model_module": "@jupyter-widgets/base",
          "model_name": "LayoutModel",
          "model_module_version": "1.2.0",
          "state": {
            "_model_module": "@jupyter-widgets/base",
            "_model_module_version": "1.2.0",
            "_model_name": "LayoutModel",
            "_view_count": null,
            "_view_module": "@jupyter-widgets/base",
            "_view_module_version": "1.2.0",
            "_view_name": "LayoutView",
            "align_content": null,
            "align_items": null,
            "align_self": null,
            "border": null,
            "bottom": null,
            "display": null,
            "flex": null,
            "flex_flow": null,
            "grid_area": null,
            "grid_auto_columns": null,
            "grid_auto_flow": null,
            "grid_auto_rows": null,
            "grid_column": null,
            "grid_gap": null,
            "grid_row": null,
            "grid_template_areas": null,
            "grid_template_columns": null,
            "grid_template_rows": null,
            "height": null,
            "justify_content": null,
            "justify_items": null,
            "left": null,
            "margin": null,
            "max_height": null,
            "max_width": null,
            "min_height": null,
            "min_width": null,
            "object_fit": null,
            "object_position": null,
            "order": null,
            "overflow": null,
            "overflow_x": null,
            "overflow_y": null,
            "padding": null,
            "right": null,
            "top": null,
            "visibility": null,
            "width": null
          }
        },
        "7cdd96c726af4ca391b31fe0fcf39bf8": {
          "model_module": "@jupyter-widgets/controls",
          "model_name": "DescriptionStyleModel",
          "model_module_version": "1.5.0",
          "state": {
            "_model_module": "@jupyter-widgets/controls",
            "_model_module_version": "1.5.0",
            "_model_name": "DescriptionStyleModel",
            "_view_count": null,
            "_view_module": "@jupyter-widgets/base",
            "_view_module_version": "1.2.0",
            "_view_name": "StyleView",
            "description_width": ""
          }
        },
        "c40450f472334239ba7af6d10b362b83": {
          "model_module": "@jupyter-widgets/base",
          "model_name": "LayoutModel",
          "model_module_version": "1.2.0",
          "state": {
            "_model_module": "@jupyter-widgets/base",
            "_model_module_version": "1.2.0",
            "_model_name": "LayoutModel",
            "_view_count": null,
            "_view_module": "@jupyter-widgets/base",
            "_view_module_version": "1.2.0",
            "_view_name": "LayoutView",
            "align_content": null,
            "align_items": null,
            "align_self": null,
            "border": null,
            "bottom": null,
            "display": null,
            "flex": null,
            "flex_flow": null,
            "grid_area": null,
            "grid_auto_columns": null,
            "grid_auto_flow": null,
            "grid_auto_rows": null,
            "grid_column": null,
            "grid_gap": null,
            "grid_row": null,
            "grid_template_areas": null,
            "grid_template_columns": null,
            "grid_template_rows": null,
            "height": null,
            "justify_content": null,
            "justify_items": null,
            "left": null,
            "margin": null,
            "max_height": null,
            "max_width": null,
            "min_height": null,
            "min_width": null,
            "object_fit": null,
            "object_position": null,
            "order": null,
            "overflow": null,
            "overflow_x": null,
            "overflow_y": null,
            "padding": null,
            "right": null,
            "top": null,
            "visibility": null,
            "width": "20px"
          }
        },
        "822bdad8cb5247bd9fce2e196f2c8629": {
          "model_module": "@jupyter-widgets/controls",
          "model_name": "ProgressStyleModel",
          "model_module_version": "1.5.0",
          "state": {
            "_model_module": "@jupyter-widgets/controls",
            "_model_module_version": "1.5.0",
            "_model_name": "ProgressStyleModel",
            "_view_count": null,
            "_view_module": "@jupyter-widgets/base",
            "_view_module_version": "1.2.0",
            "_view_name": "StyleView",
            "bar_color": null,
            "description_width": ""
          }
        },
        "1cf82016d3784167ab41eac04b88ffdf": {
          "model_module": "@jupyter-widgets/base",
          "model_name": "LayoutModel",
          "model_module_version": "1.2.0",
          "state": {
            "_model_module": "@jupyter-widgets/base",
            "_model_module_version": "1.2.0",
            "_model_name": "LayoutModel",
            "_view_count": null,
            "_view_module": "@jupyter-widgets/base",
            "_view_module_version": "1.2.0",
            "_view_name": "LayoutView",
            "align_content": null,
            "align_items": null,
            "align_self": null,
            "border": null,
            "bottom": null,
            "display": null,
            "flex": null,
            "flex_flow": null,
            "grid_area": null,
            "grid_auto_columns": null,
            "grid_auto_flow": null,
            "grid_auto_rows": null,
            "grid_column": null,
            "grid_gap": null,
            "grid_row": null,
            "grid_template_areas": null,
            "grid_template_columns": null,
            "grid_template_rows": null,
            "height": null,
            "justify_content": null,
            "justify_items": null,
            "left": null,
            "margin": null,
            "max_height": null,
            "max_width": null,
            "min_height": null,
            "min_width": null,
            "object_fit": null,
            "object_position": null,
            "order": null,
            "overflow": null,
            "overflow_x": null,
            "overflow_y": null,
            "padding": null,
            "right": null,
            "top": null,
            "visibility": null,
            "width": null
          }
        },
        "ca2766cf52974bfcb38c04eb712fd1c2": {
          "model_module": "@jupyter-widgets/controls",
          "model_name": "DescriptionStyleModel",
          "model_module_version": "1.5.0",
          "state": {
            "_model_module": "@jupyter-widgets/controls",
            "_model_module_version": "1.5.0",
            "_model_name": "DescriptionStyleModel",
            "_view_count": null,
            "_view_module": "@jupyter-widgets/base",
            "_view_module_version": "1.2.0",
            "_view_name": "StyleView",
            "description_width": ""
          }
        },
        "e0267ea3fc864d178b87e33c24c2912a": {
          "model_module": "@jupyter-widgets/controls",
          "model_name": "HBoxModel",
          "model_module_version": "1.5.0",
          "state": {
            "_dom_classes": [],
            "_model_module": "@jupyter-widgets/controls",
            "_model_module_version": "1.5.0",
            "_model_name": "HBoxModel",
            "_view_count": null,
            "_view_module": "@jupyter-widgets/controls",
            "_view_module_version": "1.5.0",
            "_view_name": "HBoxView",
            "box_style": "",
            "children": [
              "IPY_MODEL_83be572ed6134a95b0a8cbddc8ed3966",
              "IPY_MODEL_c8441c6e381f4185a33cd834545d37d0",
              "IPY_MODEL_910f068dddb54dbaa7c720e670d7825b"
            ],
            "layout": "IPY_MODEL_42ca64a4511d469d9f5dd41f762eb6c3"
          }
        },
        "83be572ed6134a95b0a8cbddc8ed3966": {
          "model_module": "@jupyter-widgets/controls",
          "model_name": "HTMLModel",
          "model_module_version": "1.5.0",
          "state": {
            "_dom_classes": [],
            "_model_module": "@jupyter-widgets/controls",
            "_model_module_version": "1.5.0",
            "_model_name": "HTMLModel",
            "_view_count": null,
            "_view_module": "@jupyter-widgets/controls",
            "_view_module_version": "1.5.0",
            "_view_name": "HTMLView",
            "description": "",
            "description_tooltip": null,
            "layout": "IPY_MODEL_b53e156f6371441ca00332d2561daaf9",
            "placeholder": "​",
            "style": "IPY_MODEL_4bf8f695eab049a593815793a986344b",
            "value": "100%"
          }
        },
        "c8441c6e381f4185a33cd834545d37d0": {
          "model_module": "@jupyter-widgets/controls",
          "model_name": "FloatProgressModel",
          "model_module_version": "1.5.0",
          "state": {
            "_dom_classes": [],
            "_model_module": "@jupyter-widgets/controls",
            "_model_module_version": "1.5.0",
            "_model_name": "FloatProgressModel",
            "_view_count": null,
            "_view_module": "@jupyter-widgets/controls",
            "_view_module_version": "1.5.0",
            "_view_name": "ProgressView",
            "bar_style": "danger",
            "description": "",
            "description_tooltip": null,
            "layout": "IPY_MODEL_b73e2503806640188e0b7d5e1519fca4",
            "max": 25250,
            "min": 0,
            "orientation": "horizontal",
            "style": "IPY_MODEL_2f76fd4d07c743a4a7885c9a4f22c13d",
            "value": 25249
          }
        },
        "910f068dddb54dbaa7c720e670d7825b": {
          "model_module": "@jupyter-widgets/controls",
          "model_name": "HTMLModel",
          "model_module_version": "1.5.0",
          "state": {
            "_dom_classes": [],
            "_model_module": "@jupyter-widgets/controls",
            "_model_module_version": "1.5.0",
            "_model_name": "HTMLModel",
            "_view_count": null,
            "_view_module": "@jupyter-widgets/controls",
            "_view_module_version": "1.5.0",
            "_view_name": "HTMLView",
            "description": "",
            "description_tooltip": null,
            "layout": "IPY_MODEL_3f6e970a7640477f9d9939204c75f08c",
            "placeholder": "​",
            "style": "IPY_MODEL_80844dddd1bc4ab4bbad9a1ee481807b",
            "value": " 25249/25250 [00:04&lt;00:00, 5047.49 examples/s]"
          }
        },
        "42ca64a4511d469d9f5dd41f762eb6c3": {
          "model_module": "@jupyter-widgets/base",
          "model_name": "LayoutModel",
          "model_module_version": "1.2.0",
          "state": {
            "_model_module": "@jupyter-widgets/base",
            "_model_module_version": "1.2.0",
            "_model_name": "LayoutModel",
            "_view_count": null,
            "_view_module": "@jupyter-widgets/base",
            "_view_module_version": "1.2.0",
            "_view_name": "LayoutView",
            "align_content": null,
            "align_items": null,
            "align_self": null,
            "border": null,
            "bottom": null,
            "display": null,
            "flex": null,
            "flex_flow": null,
            "grid_area": null,
            "grid_auto_columns": null,
            "grid_auto_flow": null,
            "grid_auto_rows": null,
            "grid_column": null,
            "grid_gap": null,
            "grid_row": null,
            "grid_template_areas": null,
            "grid_template_columns": null,
            "grid_template_rows": null,
            "height": null,
            "justify_content": null,
            "justify_items": null,
            "left": null,
            "margin": null,
            "max_height": null,
            "max_width": null,
            "min_height": null,
            "min_width": null,
            "object_fit": null,
            "object_position": null,
            "order": null,
            "overflow": null,
            "overflow_x": null,
            "overflow_y": null,
            "padding": null,
            "right": null,
            "top": null,
            "visibility": null,
            "width": null
          }
        },
        "b53e156f6371441ca00332d2561daaf9": {
          "model_module": "@jupyter-widgets/base",
          "model_name": "LayoutModel",
          "model_module_version": "1.2.0",
          "state": {
            "_model_module": "@jupyter-widgets/base",
            "_model_module_version": "1.2.0",
            "_model_name": "LayoutModel",
            "_view_count": null,
            "_view_module": "@jupyter-widgets/base",
            "_view_module_version": "1.2.0",
            "_view_name": "LayoutView",
            "align_content": null,
            "align_items": null,
            "align_self": null,
            "border": null,
            "bottom": null,
            "display": null,
            "flex": null,
            "flex_flow": null,
            "grid_area": null,
            "grid_auto_columns": null,
            "grid_auto_flow": null,
            "grid_auto_rows": null,
            "grid_column": null,
            "grid_gap": null,
            "grid_row": null,
            "grid_template_areas": null,
            "grid_template_columns": null,
            "grid_template_rows": null,
            "height": null,
            "justify_content": null,
            "justify_items": null,
            "left": null,
            "margin": null,
            "max_height": null,
            "max_width": null,
            "min_height": null,
            "min_width": null,
            "object_fit": null,
            "object_position": null,
            "order": null,
            "overflow": null,
            "overflow_x": null,
            "overflow_y": null,
            "padding": null,
            "right": null,
            "top": null,
            "visibility": null,
            "width": null
          }
        },
        "4bf8f695eab049a593815793a986344b": {
          "model_module": "@jupyter-widgets/controls",
          "model_name": "DescriptionStyleModel",
          "model_module_version": "1.5.0",
          "state": {
            "_model_module": "@jupyter-widgets/controls",
            "_model_module_version": "1.5.0",
            "_model_name": "DescriptionStyleModel",
            "_view_count": null,
            "_view_module": "@jupyter-widgets/base",
            "_view_module_version": "1.2.0",
            "_view_name": "StyleView",
            "description_width": ""
          }
        },
        "b73e2503806640188e0b7d5e1519fca4": {
          "model_module": "@jupyter-widgets/base",
          "model_name": "LayoutModel",
          "model_module_version": "1.2.0",
          "state": {
            "_model_module": "@jupyter-widgets/base",
            "_model_module_version": "1.2.0",
            "_model_name": "LayoutModel",
            "_view_count": null,
            "_view_module": "@jupyter-widgets/base",
            "_view_module_version": "1.2.0",
            "_view_name": "LayoutView",
            "align_content": null,
            "align_items": null,
            "align_self": null,
            "border": null,
            "bottom": null,
            "display": null,
            "flex": null,
            "flex_flow": null,
            "grid_area": null,
            "grid_auto_columns": null,
            "grid_auto_flow": null,
            "grid_auto_rows": null,
            "grid_column": null,
            "grid_gap": null,
            "grid_row": null,
            "grid_template_areas": null,
            "grid_template_columns": null,
            "grid_template_rows": null,
            "height": null,
            "justify_content": null,
            "justify_items": null,
            "left": null,
            "margin": null,
            "max_height": null,
            "max_width": null,
            "min_height": null,
            "min_width": null,
            "object_fit": null,
            "object_position": null,
            "order": null,
            "overflow": null,
            "overflow_x": null,
            "overflow_y": null,
            "padding": null,
            "right": null,
            "top": null,
            "visibility": null,
            "width": null
          }
        },
        "2f76fd4d07c743a4a7885c9a4f22c13d": {
          "model_module": "@jupyter-widgets/controls",
          "model_name": "ProgressStyleModel",
          "model_module_version": "1.5.0",
          "state": {
            "_model_module": "@jupyter-widgets/controls",
            "_model_module_version": "1.5.0",
            "_model_name": "ProgressStyleModel",
            "_view_count": null,
            "_view_module": "@jupyter-widgets/base",
            "_view_module_version": "1.2.0",
            "_view_name": "StyleView",
            "bar_color": null,
            "description_width": ""
          }
        },
        "3f6e970a7640477f9d9939204c75f08c": {
          "model_module": "@jupyter-widgets/base",
          "model_name": "LayoutModel",
          "model_module_version": "1.2.0",
          "state": {
            "_model_module": "@jupyter-widgets/base",
            "_model_module_version": "1.2.0",
            "_model_name": "LayoutModel",
            "_view_count": null,
            "_view_module": "@jupyter-widgets/base",
            "_view_module_version": "1.2.0",
            "_view_name": "LayoutView",
            "align_content": null,
            "align_items": null,
            "align_self": null,
            "border": null,
            "bottom": null,
            "display": null,
            "flex": null,
            "flex_flow": null,
            "grid_area": null,
            "grid_auto_columns": null,
            "grid_auto_flow": null,
            "grid_auto_rows": null,
            "grid_column": null,
            "grid_gap": null,
            "grid_row": null,
            "grid_template_areas": null,
            "grid_template_columns": null,
            "grid_template_rows": null,
            "height": null,
            "justify_content": null,
            "justify_items": null,
            "left": null,
            "margin": null,
            "max_height": null,
            "max_width": null,
            "min_height": null,
            "min_width": null,
            "object_fit": null,
            "object_position": null,
            "order": null,
            "overflow": null,
            "overflow_x": null,
            "overflow_y": null,
            "padding": null,
            "right": null,
            "top": null,
            "visibility": null,
            "width": null
          }
        },
        "80844dddd1bc4ab4bbad9a1ee481807b": {
          "model_module": "@jupyter-widgets/controls",
          "model_name": "DescriptionStyleModel",
          "model_module_version": "1.5.0",
          "state": {
            "_model_module": "@jupyter-widgets/controls",
            "_model_module_version": "1.5.0",
            "_model_name": "DescriptionStyleModel",
            "_view_count": null,
            "_view_module": "@jupyter-widgets/base",
            "_view_module_version": "1.2.0",
            "_view_name": "StyleView",
            "description_width": ""
          }
        }
      }
    }
  },
  "cells": [
    {
      "cell_type": "markdown",
      "metadata": {
        "id": "view-in-github",
        "colab_type": "text"
      },
      "source": [
        "<a href=\"https://colab.research.google.com/github/elinteerie/Models/blob/main/food101_model.ipynb\" target=\"_parent\"><img src=\"https://colab.research.google.com/assets/colab-badge.svg\" alt=\"Open In Colab\"/></a>"
      ]
    },
    {
      "cell_type": "markdown",
      "source": [
        "###Setting up Food101 and Other Dependencies"
      ],
      "metadata": {
        "id": "C9IS9CFPJoZ9"
      }
    },
    {
      "cell_type": "code",
      "execution_count": 1,
      "metadata": {
        "colab": {
          "base_uri": "https://localhost:8080/"
        },
        "id": "AhvUYtBng3m7",
        "outputId": "40f922ba-df6b-4b96-c1fb-00f582bb9c92"
      },
      "outputs": [
        {
          "output_type": "stream",
          "name": "stdout",
          "text": [
            "GPU 0: Tesla T4 (UUID: GPU-a180345b-39bb-f2cb-df87-bbc4a32df6ff)\n"
          ]
        }
      ],
      "source": [
        "!nvidia-smi -L"
      ]
    },
    {
      "cell_type": "code",
      "source": [
        "import tensorflow as tf\n",
        "\n",
        "from tensorflow import keras\n",
        "from tensorflow.keras import layers\n",
        "from tensorflow.keras import mixed_precision\n",
        "\n",
        "#Importing my Beautiful functions for flexibility\n",
        "!wget https://raw.githubusercontent.com/elinteerie/Extra/main/helper_functions.py\n",
        "\n",
        "from helper_functions import *"
      ],
      "metadata": {
        "colab": {
          "base_uri": "https://localhost:8080/"
        },
        "id": "a4R2PxWUg7wL",
        "outputId": "9deedb15-194f-4446-9a44-99838f9b0871"
      },
      "execution_count": 2,
      "outputs": [
        {
          "output_type": "stream",
          "name": "stdout",
          "text": [
            "--2022-06-25 18:10:22--  https://raw.githubusercontent.com/elinteerie/Extra/main/helper_functions.py\n",
            "Resolving raw.githubusercontent.com (raw.githubusercontent.com)... 185.199.108.133, 185.199.109.133, 185.199.110.133, ...\n",
            "Connecting to raw.githubusercontent.com (raw.githubusercontent.com)|185.199.108.133|:443... connected.\n",
            "HTTP request sent, awaiting response... 200 OK\n",
            "Length: 13968 (14K) [text/plain]\n",
            "Saving to: ‘helper_functions.py’\n",
            "\n",
            "helper_functions.py 100%[===================>]  13.64K  --.-KB/s    in 0s      \n",
            "\n",
            "2022-06-25 18:10:23 (87.1 MB/s) - ‘helper_functions.py’ saved [13968/13968]\n",
            "\n"
          ]
        }
      ]
    },
    {
      "cell_type": "code",
      "source": [
        "import tensorflow_datasets as tfds"
      ],
      "metadata": {
        "id": "TXMryaKDhMBo"
      },
      "execution_count": 3,
      "outputs": []
    },
    {
      "cell_type": "code",
      "source": [
        "datasets_list = tfds.list_builders()"
      ],
      "metadata": {
        "id": "J20rgOEhhUwD"
      },
      "execution_count": 4,
      "outputs": []
    },
    {
      "cell_type": "code",
      "source": [
        "for i in enumerate(datasets_list):\n",
        "  print(i)\n"
      ],
      "metadata": {
        "colab": {
          "base_uri": "https://localhost:8080/"
        },
        "id": "NQqdJPeahaql",
        "outputId": "9fd4ba50-e34c-4481-d741-2408057b2681"
      },
      "execution_count": 5,
      "outputs": [
        {
          "output_type": "stream",
          "name": "stdout",
          "text": [
            "(0, 'abstract_reasoning')\n",
            "(1, 'accentdb')\n",
            "(2, 'aeslc')\n",
            "(3, 'aflw2k3d')\n",
            "(4, 'ag_news_subset')\n",
            "(5, 'ai2_arc')\n",
            "(6, 'ai2_arc_with_ir')\n",
            "(7, 'amazon_us_reviews')\n",
            "(8, 'anli')\n",
            "(9, 'arc')\n",
            "(10, 'bair_robot_pushing_small')\n",
            "(11, 'bccd')\n",
            "(12, 'beans')\n",
            "(13, 'big_patent')\n",
            "(14, 'bigearthnet')\n",
            "(15, 'billsum')\n",
            "(16, 'binarized_mnist')\n",
            "(17, 'binary_alpha_digits')\n",
            "(18, 'blimp')\n",
            "(19, 'bool_q')\n",
            "(20, 'c4')\n",
            "(21, 'caltech101')\n",
            "(22, 'caltech_birds2010')\n",
            "(23, 'caltech_birds2011')\n",
            "(24, 'cars196')\n",
            "(25, 'cassava')\n",
            "(26, 'cats_vs_dogs')\n",
            "(27, 'celeb_a')\n",
            "(28, 'celeb_a_hq')\n",
            "(29, 'cfq')\n",
            "(30, 'chexpert')\n",
            "(31, 'cifar10')\n",
            "(32, 'cifar100')\n",
            "(33, 'cifar10_1')\n",
            "(34, 'cifar10_corrupted')\n",
            "(35, 'citrus_leaves')\n",
            "(36, 'cityscapes')\n",
            "(37, 'civil_comments')\n",
            "(38, 'clevr')\n",
            "(39, 'clic')\n",
            "(40, 'clinc_oos')\n",
            "(41, 'cmaterdb')\n",
            "(42, 'cnn_dailymail')\n",
            "(43, 'coco')\n",
            "(44, 'coco_captions')\n",
            "(45, 'coil100')\n",
            "(46, 'colorectal_histology')\n",
            "(47, 'colorectal_histology_large')\n",
            "(48, 'common_voice')\n",
            "(49, 'coqa')\n",
            "(50, 'cos_e')\n",
            "(51, 'cosmos_qa')\n",
            "(52, 'covid19sum')\n",
            "(53, 'crema_d')\n",
            "(54, 'curated_breast_imaging_ddsm')\n",
            "(55, 'cycle_gan')\n",
            "(56, 'deep_weeds')\n",
            "(57, 'definite_pronoun_resolution')\n",
            "(58, 'dementiabank')\n",
            "(59, 'diabetic_retinopathy_detection')\n",
            "(60, 'div2k')\n",
            "(61, 'dmlab')\n",
            "(62, 'downsampled_imagenet')\n",
            "(63, 'dsprites')\n",
            "(64, 'dtd')\n",
            "(65, 'duke_ultrasound')\n",
            "(66, 'emnist')\n",
            "(67, 'eraser_multi_rc')\n",
            "(68, 'esnli')\n",
            "(69, 'eurosat')\n",
            "(70, 'fashion_mnist')\n",
            "(71, 'flic')\n",
            "(72, 'flores')\n",
            "(73, 'food101')\n",
            "(74, 'forest_fires')\n",
            "(75, 'fuss')\n",
            "(76, 'gap')\n",
            "(77, 'geirhos_conflict_stimuli')\n",
            "(78, 'genomics_ood')\n",
            "(79, 'german_credit_numeric')\n",
            "(80, 'gigaword')\n",
            "(81, 'glue')\n",
            "(82, 'goemotions')\n",
            "(83, 'gpt3')\n",
            "(84, 'groove')\n",
            "(85, 'gtzan')\n",
            "(86, 'gtzan_music_speech')\n",
            "(87, 'hellaswag')\n",
            "(88, 'higgs')\n",
            "(89, 'horses_or_humans')\n",
            "(90, 'i_naturalist2017')\n",
            "(91, 'imagenet2012')\n",
            "(92, 'imagenet2012_corrupted')\n",
            "(93, 'imagenet2012_real')\n",
            "(94, 'imagenet2012_subset')\n",
            "(95, 'imagenet_a')\n",
            "(96, 'imagenet_r')\n",
            "(97, 'imagenet_resized')\n",
            "(98, 'imagenet_v2')\n",
            "(99, 'imagenette')\n",
            "(100, 'imagewang')\n",
            "(101, 'imdb_reviews')\n",
            "(102, 'irc_disentanglement')\n",
            "(103, 'iris')\n",
            "(104, 'kitti')\n",
            "(105, 'kmnist')\n",
            "(106, 'lfw')\n",
            "(107, 'librispeech')\n",
            "(108, 'librispeech_lm')\n",
            "(109, 'libritts')\n",
            "(110, 'ljspeech')\n",
            "(111, 'lm1b')\n",
            "(112, 'lost_and_found')\n",
            "(113, 'lsun')\n",
            "(114, 'malaria')\n",
            "(115, 'math_dataset')\n",
            "(116, 'mctaco')\n",
            "(117, 'mnist')\n",
            "(118, 'mnist_corrupted')\n",
            "(119, 'movie_lens')\n",
            "(120, 'movie_rationales')\n",
            "(121, 'movielens')\n",
            "(122, 'moving_mnist')\n",
            "(123, 'multi_news')\n",
            "(124, 'multi_nli')\n",
            "(125, 'multi_nli_mismatch')\n",
            "(126, 'natural_questions')\n",
            "(127, 'natural_questions_open')\n",
            "(128, 'newsroom')\n",
            "(129, 'nsynth')\n",
            "(130, 'nyu_depth_v2')\n",
            "(131, 'omniglot')\n",
            "(132, 'open_images_challenge2019_detection')\n",
            "(133, 'open_images_v4')\n",
            "(134, 'openbookqa')\n",
            "(135, 'opinion_abstracts')\n",
            "(136, 'opinosis')\n",
            "(137, 'opus')\n",
            "(138, 'oxford_flowers102')\n",
            "(139, 'oxford_iiit_pet')\n",
            "(140, 'para_crawl')\n",
            "(141, 'patch_camelyon')\n",
            "(142, 'paws_wiki')\n",
            "(143, 'paws_x_wiki')\n",
            "(144, 'pet_finder')\n",
            "(145, 'pg19')\n",
            "(146, 'places365_small')\n",
            "(147, 'plant_leaves')\n",
            "(148, 'plant_village')\n",
            "(149, 'plantae_k')\n",
            "(150, 'qa4mre')\n",
            "(151, 'qasc')\n",
            "(152, 'quickdraw_bitmap')\n",
            "(153, 'radon')\n",
            "(154, 'reddit')\n",
            "(155, 'reddit_disentanglement')\n",
            "(156, 'reddit_tifu')\n",
            "(157, 'resisc45')\n",
            "(158, 'robonet')\n",
            "(159, 'rock_paper_scissors')\n",
            "(160, 'rock_you')\n",
            "(161, 'salient_span_wikipedia')\n",
            "(162, 'samsum')\n",
            "(163, 'savee')\n",
            "(164, 'scan')\n",
            "(165, 'scene_parse150')\n",
            "(166, 'scicite')\n",
            "(167, 'scientific_papers')\n",
            "(168, 'sentiment140')\n",
            "(169, 'shapes3d')\n",
            "(170, 'smallnorb')\n",
            "(171, 'snli')\n",
            "(172, 'so2sat')\n",
            "(173, 'speech_commands')\n",
            "(174, 'spoken_digit')\n",
            "(175, 'squad')\n",
            "(176, 'stanford_dogs')\n",
            "(177, 'stanford_online_products')\n",
            "(178, 'starcraft_video')\n",
            "(179, 'stl10')\n",
            "(180, 'sun397')\n",
            "(181, 'super_glue')\n",
            "(182, 'svhn_cropped')\n",
            "(183, 'ted_hrlr_translate')\n",
            "(184, 'ted_multi_translate')\n",
            "(185, 'tedlium')\n",
            "(186, 'tf_flowers')\n",
            "(187, 'the300w_lp')\n",
            "(188, 'tiny_shakespeare')\n",
            "(189, 'titanic')\n",
            "(190, 'trec')\n",
            "(191, 'trivia_qa')\n",
            "(192, 'tydi_qa')\n",
            "(193, 'uc_merced')\n",
            "(194, 'ucf101')\n",
            "(195, 'vctk')\n",
            "(196, 'vgg_face2')\n",
            "(197, 'visual_domain_decathlon')\n",
            "(198, 'voc')\n",
            "(199, 'voxceleb')\n",
            "(200, 'voxforge')\n",
            "(201, 'waymo_open_dataset')\n",
            "(202, 'web_questions')\n",
            "(203, 'wider_face')\n",
            "(204, 'wiki40b')\n",
            "(205, 'wikihow')\n",
            "(206, 'wikipedia')\n",
            "(207, 'wikipedia_toxicity_subtypes')\n",
            "(208, 'wine_quality')\n",
            "(209, 'winogrande')\n",
            "(210, 'wmt14_translate')\n",
            "(211, 'wmt15_translate')\n",
            "(212, 'wmt16_translate')\n",
            "(213, 'wmt17_translate')\n",
            "(214, 'wmt18_translate')\n",
            "(215, 'wmt19_translate')\n",
            "(216, 'wmt_t2t_translate')\n",
            "(217, 'wmt_translate')\n",
            "(218, 'wordnet')\n",
            "(219, 'xnli')\n",
            "(220, 'xquad')\n",
            "(221, 'xsum')\n",
            "(222, 'yelp_polarity_reviews')\n",
            "(223, 'yes_no')\n"
          ]
        }
      ]
    },
    {
      "cell_type": "code",
      "source": [
        "datasets_list[73]"
      ],
      "metadata": {
        "colab": {
          "base_uri": "https://localhost:8080/",
          "height": 35
        },
        "id": "ZXfigJYUhcQJ",
        "outputId": "21d96b73-3f63-4ab7-ad45-873f6ca70042"
      },
      "execution_count": 6,
      "outputs": [
        {
          "output_type": "execute_result",
          "data": {
            "text/plain": [
              "'food101'"
            ],
            "application/vnd.google.colaboratory.intrinsic+json": {
              "type": "string"
            }
          },
          "metadata": {},
          "execution_count": 6
        }
      ]
    },
    {
      "cell_type": "code",
      "source": [
        "(train_data, test_data), ds_info = tfds.load(name ='food101', \n",
        "                                             split =['train', 'validation'],\n",
        "                                             shuffle_files =True,\n",
        "                                             as_supervised=True,\n",
        "                                             with_info =True)"
      ],
      "metadata": {
        "colab": {
          "base_uri": "https://localhost:8080/",
          "height": 319,
          "referenced_widgets": [
            "5c24a17a0a6f4d6f95c17cccf6bcd326",
            "0be7463f9cd94b03a48a7e6103e4f442",
            "888ade40e37f4c4290c42f1f85ad7bb5",
            "8210456e86944cc4b97d65e3cc739961",
            "9ca3062558004111b25c6354d9f51e85",
            "8d58636baaf64f34afd6e742e4ec1d12",
            "37f84ee09fe34c78a1104e872a64d952",
            "551a830a5fbe435a9feecd4962c3ef03",
            "101f76fc9a4c4b3eb4e1b3d86ab7234d",
            "2eecb3dcf5194b3dab8b67f8966eaa50",
            "baec31a8d4024b5d9aa8c7115b09699a",
            "672784d2fd6e45bf923704d3ae722f45",
            "ebe78dcaa47e4f2d94c3981aea9d1701",
            "145ca26d52a3410dbca927e237d68076",
            "fca921d1d2f5491a8885d669effc6b35",
            "4b5a222deb3e4612a77b9688e5797ae6",
            "66ffb673605f4bb39af3fc9ee10dddef",
            "ffd621d622734d0582b2b953be104b9d",
            "03a0cd7c0ef84f199011855b340b43a9",
            "12f7e0b9c7b34076b5ed10aa1dc5f030",
            "9c52f62804674b5db0393e8421ac5630",
            "fd016788da364a3b9c87b7f466d460bc",
            "8d4889fa1cad429c94c9d448e6f5f7a7",
            "8351057f713f47dc9e9aa348769a8fbe",
            "2e98814041624a61b3b265dc09a0bf22",
            "ff6be535d04c48cb9e1844c30389d752",
            "4923d48c45c44e02822108d8d3df448c",
            "cbf181b0dad349b4abe66f45d7172147",
            "3bc23ca7a7fe4fbdb0eeb9fe6a3efb3b",
            "e6b9e1f6c9a84cfaaf6e870784e8a24d",
            "c04f9e220f0141dab665ffdb25d06fd9",
            "d87bcd52dbb843b4a94467f267f5105e",
            "0ac1a5d75a144d6bbec9336cfa3d8610",
            "1f5efd9d91ac43b4847eabf7f8090f34",
            "18f5b4e43aaf4ed2a2967772158fb0be",
            "a8692f36e1d244b58feaf02a70b86685",
            "09a08f38f6c4446884692c59b09fa45d",
            "6f3cd1a031854636ba8f5e6cf81c5a3f",
            "1c35482d38784e259a5b510e9689283c",
            "efc3b3767a984f7cb6bf04a005575470",
            "c7746826de9443fa823b82f8d1959582",
            "c5cdc70ab035498ebb304db899e63ea8",
            "eae7705d164d4119a7253f33225b6b8b",
            "2537e381e5104db2bae3944dcc2956ee",
            "8846e43c083b4d8fb72ed65b0931d26e",
            "ad4c4c4615634664acd5c9b018c41770",
            "388948169ebe4fb4b4bee68374c62072",
            "4d08edbc18104fbfa21f9a29746aeb5a",
            "faa9d9b82c60411584aa2b0988c113b7",
            "596828c2e3c240bcbe34fede59715d31",
            "9ec106a77f9643c0895021d3c252df93",
            "ebcd81f159164286828f4333fdce5db6",
            "8eb351709b324cc8a1ed8d45bcb24099",
            "caf0d6c2eb7b4651bb999ad1bd4da5a9",
            "9592b1b5547c4ff18c3e063558b7ad47",
            "2f9969e2af5c425cbaafba74aaa252d0",
            "0faa67931afb466e9984e7ef6597be8d",
            "79dbe636cd5644e295ecc98b23dc6300",
            "0f71d708a4a14333a6b6599c97ddc97f",
            "b30aa8ae8e3842838b9ba7ca562cd3d1",
            "6817681506dd4f72b72a984277cbf7da",
            "7cdd96c726af4ca391b31fe0fcf39bf8",
            "c40450f472334239ba7af6d10b362b83",
            "822bdad8cb5247bd9fce2e196f2c8629",
            "1cf82016d3784167ab41eac04b88ffdf",
            "ca2766cf52974bfcb38c04eb712fd1c2",
            "e0267ea3fc864d178b87e33c24c2912a",
            "83be572ed6134a95b0a8cbddc8ed3966",
            "c8441c6e381f4185a33cd834545d37d0",
            "910f068dddb54dbaa7c720e670d7825b",
            "42ca64a4511d469d9f5dd41f762eb6c3",
            "b53e156f6371441ca00332d2561daaf9",
            "4bf8f695eab049a593815793a986344b",
            "b73e2503806640188e0b7d5e1519fca4",
            "2f76fd4d07c743a4a7885c9a4f22c13d",
            "3f6e970a7640477f9d9939204c75f08c",
            "80844dddd1bc4ab4bbad9a1ee481807b"
          ]
        },
        "id": "xPR4PMB0h4AO",
        "outputId": "d70b4c36-2ada-41b0-cfa3-91b9e094de9c"
      },
      "execution_count": 7,
      "outputs": [
        {
          "output_type": "stream",
          "name": "stdout",
          "text": [
            "\u001b[1mDownloading and preparing dataset food101/2.0.0 (download: 4.65 GiB, generated: Unknown size, total: 4.65 GiB) to /root/tensorflow_datasets/food101/2.0.0...\u001b[0m\n"
          ]
        },
        {
          "output_type": "display_data",
          "data": {
            "text/plain": [
              "Dl Completed...: 0 url [00:00, ? url/s]"
            ],
            "application/vnd.jupyter.widget-view+json": {
              "version_major": 2,
              "version_minor": 0,
              "model_id": "5c24a17a0a6f4d6f95c17cccf6bcd326"
            }
          },
          "metadata": {}
        },
        {
          "output_type": "display_data",
          "data": {
            "text/plain": [
              "Dl Size...: 0 MiB [00:00, ? MiB/s]"
            ],
            "application/vnd.jupyter.widget-view+json": {
              "version_major": 2,
              "version_minor": 0,
              "model_id": "672784d2fd6e45bf923704d3ae722f45"
            }
          },
          "metadata": {}
        },
        {
          "output_type": "display_data",
          "data": {
            "text/plain": [
              "Extraction completed...: 0 file [00:00, ? file/s]"
            ],
            "application/vnd.jupyter.widget-view+json": {
              "version_major": 2,
              "version_minor": 0,
              "model_id": "8d4889fa1cad429c94c9d448e6f5f7a7"
            }
          },
          "metadata": {}
        },
        {
          "output_type": "stream",
          "name": "stdout",
          "text": [
            "\n",
            "\n",
            "\n"
          ]
        },
        {
          "output_type": "display_data",
          "data": {
            "text/plain": [
              "0 examples [00:00, ? examples/s]"
            ],
            "application/vnd.jupyter.widget-view+json": {
              "version_major": 2,
              "version_minor": 0,
              "model_id": "1f5efd9d91ac43b4847eabf7f8090f34"
            }
          },
          "metadata": {}
        },
        {
          "output_type": "stream",
          "name": "stdout",
          "text": [
            "Shuffling and writing examples to /root/tensorflow_datasets/food101/2.0.0.incomplete5GXCRB/food101-train.tfrecord\n"
          ]
        },
        {
          "output_type": "display_data",
          "data": {
            "text/plain": [
              "  0%|          | 0/75750 [00:00<?, ? examples/s]"
            ],
            "application/vnd.jupyter.widget-view+json": {
              "version_major": 2,
              "version_minor": 0,
              "model_id": "8846e43c083b4d8fb72ed65b0931d26e"
            }
          },
          "metadata": {}
        },
        {
          "output_type": "display_data",
          "data": {
            "text/plain": [
              "0 examples [00:00, ? examples/s]"
            ],
            "application/vnd.jupyter.widget-view+json": {
              "version_major": 2,
              "version_minor": 0,
              "model_id": "2f9969e2af5c425cbaafba74aaa252d0"
            }
          },
          "metadata": {}
        },
        {
          "output_type": "stream",
          "name": "stdout",
          "text": [
            "Shuffling and writing examples to /root/tensorflow_datasets/food101/2.0.0.incomplete5GXCRB/food101-validation.tfrecord\n"
          ]
        },
        {
          "output_type": "display_data",
          "data": {
            "text/plain": [
              "  0%|          | 0/25250 [00:00<?, ? examples/s]"
            ],
            "application/vnd.jupyter.widget-view+json": {
              "version_major": 2,
              "version_minor": 0,
              "model_id": "e0267ea3fc864d178b87e33c24c2912a"
            }
          },
          "metadata": {}
        },
        {
          "output_type": "stream",
          "name": "stdout",
          "text": [
            "\u001b[1mDataset food101 downloaded and prepared to /root/tensorflow_datasets/food101/2.0.0. Subsequent calls will reuse this data.\u001b[0m\n"
          ]
        }
      ]
    },
    {
      "cell_type": "markdown",
      "source": [
        "###Features of Food 101 from TFDS"
      ],
      "metadata": {
        "id": "c0c8ViiQjUus"
      }
    },
    {
      "cell_type": "code",
      "source": [
        "ds_info.features"
      ],
      "metadata": {
        "colab": {
          "base_uri": "https://localhost:8080/"
        },
        "id": "bBYRAD09kWxN",
        "outputId": "c0bd7997-0fa5-4e49-ea9d-468973f2a49a"
      },
      "execution_count": 9,
      "outputs": [
        {
          "output_type": "execute_result",
          "data": {
            "text/plain": [
              "FeaturesDict({\n",
              "    'image': Image(shape=(None, None, 3), dtype=tf.uint8),\n",
              "    'label': ClassLabel(shape=(), dtype=tf.int64, num_classes=101),\n",
              "})"
            ]
          },
          "metadata": {},
          "execution_count": 9
        }
      ]
    },
    {
      "cell_type": "code",
      "source": [
        "class_names = ds_info.features['label'].names"
      ],
      "metadata": {
        "id": "b9r9bUjPkbTe"
      },
      "execution_count": 10,
      "outputs": []
    },
    {
      "cell_type": "code",
      "source": [
        "class_names[:10]"
      ],
      "metadata": {
        "colab": {
          "base_uri": "https://localhost:8080/"
        },
        "id": "nnyxb3aWk5BD",
        "outputId": "cdb4f6d5-e5ee-49af-d6d8-a6e5e98caee4"
      },
      "execution_count": 11,
      "outputs": [
        {
          "output_type": "execute_result",
          "data": {
            "text/plain": [
              "['apple_pie',\n",
              " 'baby_back_ribs',\n",
              " 'baklava',\n",
              " 'beef_carpaccio',\n",
              " 'beef_tartare',\n",
              " 'beet_salad',\n",
              " 'beignets',\n",
              " 'bibimbap',\n",
              " 'bread_pudding',\n",
              " 'breakfast_burrito']"
            ]
          },
          "metadata": {},
          "execution_count": 11
        }
      ]
    },
    {
      "cell_type": "code",
      "source": [
        "train_one_sample = train_data.take(1)"
      ],
      "metadata": {
        "id": "Mf3_DL9Jk8me"
      },
      "execution_count": 12,
      "outputs": []
    },
    {
      "cell_type": "code",
      "source": [
        "train_one_sample"
      ],
      "metadata": {
        "colab": {
          "base_uri": "https://localhost:8080/"
        },
        "id": "cRMBDEpclvh1",
        "outputId": "fb7e70f4-ef27-4291-9a38-930d02e67189"
      },
      "execution_count": 13,
      "outputs": [
        {
          "output_type": "execute_result",
          "data": {
            "text/plain": [
              "<TakeDataset element_spec=(TensorSpec(shape=(None, None, 3), dtype=tf.uint8, name=None), TensorSpec(shape=(), dtype=tf.int64, name=None))>"
            ]
          },
          "metadata": {},
          "execution_count": 13
        }
      ]
    },
    {
      "cell_type": "code",
      "source": [
        "# Output info\n",
        "tf.random.set_seed(42)\n",
        "for image, label in train_one_sample:\n",
        "  print(f'''\n",
        "  Image shape: {image.shape}\n",
        "  Image datatype: {image.dtype}\n",
        "  Target: {label}\n",
        "  class name: {class_names[label.numpy()]}\n",
        "  \n",
        "  ''')"
      ],
      "metadata": {
        "colab": {
          "base_uri": "https://localhost:8080/"
        },
        "id": "wYRw5A4vlxPG",
        "outputId": "5b49798c-3bcd-451b-bb65-b41e5cad9cb6"
      },
      "execution_count": 14,
      "outputs": [
        {
          "output_type": "stream",
          "name": "stdout",
          "text": [
            "\n",
            "  Image shape: (512, 512, 3)\n",
            "  Image datatype: <dtype: 'uint8'>\n",
            "  Target: 16\n",
            "  class name: cheesecake\n",
            "  \n",
            "  \n"
          ]
        }
      ]
    },
    {
      "cell_type": "code",
      "source": [
        "image"
      ],
      "metadata": {
        "colab": {
          "base_uri": "https://localhost:8080/"
        },
        "id": "VCVWDGTZmrvq",
        "outputId": "0e819b36-68d4-4bf4-8038-526037a908a7"
      },
      "execution_count": 15,
      "outputs": [
        {
          "output_type": "execute_result",
          "data": {
            "text/plain": [
              "<tf.Tensor: shape=(512, 512, 3), dtype=uint8, numpy=\n",
              "array([[[ 85,  84,  92],\n",
              "        [ 86,  85,  93],\n",
              "        [ 93,  92, 100],\n",
              "        ...,\n",
              "        [120, 196, 245],\n",
              "        [120, 198, 246],\n",
              "        [121, 199, 247]],\n",
              "\n",
              "       [[ 88,  88,  96],\n",
              "        [ 82,  82,  90],\n",
              "        [ 88,  88,  96],\n",
              "        ...,\n",
              "        [116, 192, 244],\n",
              "        [118, 195, 249],\n",
              "        [119, 196, 248]],\n",
              "\n",
              "       [[ 77,  80,  89],\n",
              "        [ 75,  78,  87],\n",
              "        [ 82,  86,  95],\n",
              "        ...,\n",
              "        [115, 189, 252],\n",
              "        [117, 192, 255],\n",
              "        [118, 194, 255]],\n",
              "\n",
              "       ...,\n",
              "\n",
              "       [[159, 166, 194],\n",
              "        [154, 161, 187],\n",
              "        [171, 178, 204],\n",
              "        ...,\n",
              "        [219, 216, 235],\n",
              "        [223, 220, 239],\n",
              "        [227, 226, 244]],\n",
              "\n",
              "       [[170, 179, 208],\n",
              "        [169, 179, 206],\n",
              "        [173, 183, 210],\n",
              "        ...,\n",
              "        [218, 217, 235],\n",
              "        [223, 222, 240],\n",
              "        [226, 227, 245]],\n",
              "\n",
              "       [[168, 177, 206],\n",
              "        [170, 179, 208],\n",
              "        [152, 162, 189],\n",
              "        ...,\n",
              "        [224, 223, 241],\n",
              "        [228, 229, 247],\n",
              "        [231, 232, 250]]], dtype=uint8)>"
            ]
          },
          "metadata": {},
          "execution_count": 15
        }
      ]
    },
    {
      "cell_type": "code",
      "source": [
        "tf.reduce_min(image), tf.reduce_max(image)"
      ],
      "metadata": {
        "colab": {
          "base_uri": "https://localhost:8080/"
        },
        "id": "feM5cZ3hnSZJ",
        "outputId": "0e62e1fd-1fd4-49f5-834b-720bd4b92524"
      },
      "execution_count": 16,
      "outputs": [
        {
          "output_type": "execute_result",
          "data": {
            "text/plain": [
              "(<tf.Tensor: shape=(), dtype=uint8, numpy=0>,\n",
              " <tf.Tensor: shape=(), dtype=uint8, numpy=255>)"
            ]
          },
          "metadata": {},
          "execution_count": 16
        }
      ]
    },
    {
      "cell_type": "markdown",
      "source": [
        "###Plot an Image Tensor from TFDS"
      ],
      "metadata": {
        "id": "GtOlY_6AnoLl"
      }
    },
    {
      "cell_type": "code",
      "source": [
        "fig = tfds.show_examples(train_data, ds_info)"
      ],
      "metadata": {
        "colab": {
          "base_uri": "https://localhost:8080/",
          "height": 535
        },
        "id": "ROPMCjxjoaBw",
        "outputId": "c305928f-ef27-46b0-af94-cb2bbe8c4531"
      },
      "execution_count": 17,
      "outputs": [
        {
          "output_type": "display_data",
          "data": {
            "text/plain": [
              "<Figure size 648x648 with 9 Axes>"
            ],
            "image/png": "[encoded data removed]"
          },
          "metadata": {}
        }
      ]
    },
    {
      "cell_type": "markdown",
      "source": [
        "###Preprocessing Image"
      ],
      "metadata": {
        "id": "S_TR8zUFo21w"
      }
    },
    {
      "cell_type": "code",
      "source": [
        "def preprocess_img(image, label, img_shape= 224):\n",
        "  '''\n",
        "  Converts image datatypes from 'unit8 too float32 and reshapes image to \n",
        "  [img_shape, img_shape, color_channels]\n",
        "  \n",
        "  Args:\n",
        "  image: image iterable to pass\n",
        "  label: image label for tfds\n",
        "  img_shape: image shape\n",
        "  '''\n",
        "  image =tf.image.resize(image, [img_shape, img_shape])\n",
        "  #image = image/255. #uncomment to scale\n",
        "  return tf.cast(image, tf.float32), label\n",
        "\n"
      ],
      "metadata": {
        "id": "vy3xGy0gp0Ms"
      },
      "execution_count": 18,
      "outputs": []
    },
    {
      "cell_type": "code",
      "source": [
        "processed_image = preprocess_img(image, label)"
      ],
      "metadata": {
        "id": "XV2f9sCpsbJd"
      },
      "execution_count": 19,
      "outputs": []
    },
    {
      "cell_type": "code",
      "source": [
        "processed_image[0].dtype"
      ],
      "metadata": {
        "colab": {
          "base_uri": "https://localhost:8080/"
        },
        "id": "JHVMT_rusbl5",
        "outputId": "b252c6d0-8d92-4657-f4a0-7ffb5b2f74a9"
      },
      "execution_count": 20,
      "outputs": [
        {
          "output_type": "execute_result",
          "data": {
            "text/plain": [
              "tf.float32"
            ]
          },
          "metadata": {},
          "execution_count": 20
        }
      ]
    },
    {
      "cell_type": "markdown",
      "source": [
        "###Batch and prepare Datasets"
      ],
      "metadata": {
        "id": "VOYwEySNugO5"
      }
    },
    {
      "cell_type": "code",
      "source": [
        "train_data = train_data.map(preprocess_img, num_parallel_calls=tf.data.AUTOTUNE)\n",
        "\n",
        "# Shuffle and turn into batch\n",
        "train_data = train_data.shuffle(buffer_size=1000).batch(batch_size=32).prefetch(buffer_size=tf.data.AUTOTUNE)\n",
        "\n",
        "#Map Processng to Test Data\n",
        "\n",
        "test_data = test_data.map(preprocess_img, num_parallel_calls=tf.data.AUTOTUNE).batch(32).prefetch(tf.data.AUTOTUNE)\n"
      ],
      "metadata": {
        "id": "j0ky8PvxwtT5"
      },
      "execution_count": 21,
      "outputs": []
    },
    {
      "cell_type": "code",
      "source": [
        ""
      ],
      "metadata": {
        "id": "uukEz-8yJDQ0"
      },
      "execution_count": null,
      "outputs": []
    },
    {
      "cell_type": "code",
      "source": [
        "train_data, test_data"
      ],
      "metadata": {
        "colab": {
          "base_uri": "https://localhost:8080/"
        },
        "id": "ZIHMYrawxGSI",
        "outputId": "e2ff81cc-1030-4c24-9f2d-1b8da551da25"
      },
      "execution_count": 22,
      "outputs": [
        {
          "output_type": "execute_result",
          "data": {
            "text/plain": [
              "(<PrefetchDataset element_spec=(TensorSpec(shape=(None, 224, 224, 3), dtype=tf.float32, name=None), TensorSpec(shape=(None,), dtype=tf.int64, name=None))>,\n",
              " <PrefetchDataset element_spec=(TensorSpec(shape=(None, 224, 224, 3), dtype=tf.float32, name=None), TensorSpec(shape=(None,), dtype=tf.int64, name=None))>)"
            ]
          },
          "metadata": {},
          "execution_count": 22
        }
      ]
    },
    {
      "cell_type": "markdown",
      "source": [
        "###Set up Tensor Flow Mixed Precison"
      ],
      "metadata": {
        "id": "HTWpvj7_zuiB"
      }
    },
    {
      "cell_type": "code",
      "source": [
        "mixed_precision.set_global_policy('mixed_float16')"
      ],
      "metadata": {
        "colab": {
          "base_uri": "https://localhost:8080/"
        },
        "id": "NOlVgACt0GJL",
        "outputId": "d2ac425d-a1b6-4c43-e3c5-43f47444e63e"
      },
      "execution_count": 25,
      "outputs": [
        {
          "output_type": "stream",
          "name": "stdout",
          "text": [
            "INFO:tensorflow:Mixed precision compatibility check (mixed_float16): OK\n",
            "Your GPU will likely run quickly with dtype policy mixed_float16 as it has compute capability of at least 7.0. Your GPU: Tesla T4, compute capability 7.5\n"
          ]
        },
        {
          "output_type": "stream",
          "name": "stderr",
          "text": [
            "INFO:tensorflow:Mixed precision compatibility check (mixed_float16): OK\n",
            "Your GPU will likely run quickly with dtype policy mixed_float16 as it has compute capability of at least 7.0. Your GPU: Tesla T4, compute capability 7.5\n"
          ]
        }
      ]
    },
    {
      "cell_type": "markdown",
      "source": [
        "###Creating Our Feature Extractor"
      ],
      "metadata": {
        "id": "wEBfbcioHubB"
      }
    },
    {
      "cell_type": "code",
      "source": [
        "##Build Future extracion model\n",
        "\n",
        "from tensorflow.keras import layers\n",
        "input_shape = (224,224,3)\n",
        "base_model = tf.keras.applications.EfficientNetB0(include_top =False)\n",
        "base_model.trainable = False\n",
        "\n",
        "#Create Functional Model\n",
        "\n",
        "inputs = layers.Input(shape =input_shape, name='input_layer')\n",
        "\n",
        "x = base_model(inputs, training =False)\n",
        "x = layers.GlobalAveragePooling2D()(x)\n",
        "x = layers.Dense(len(class_names))(x)\n",
        "outputs = layers.Activation('softmax', dtype=tf.float32, name='output_layer')(x)\n",
        "model =tf.keras.Model(inputs, outputs)\n",
        "\n",
        "\n",
        "\n",
        "#Compile the model\n",
        "\n",
        "model.compile(loss ='SparseCategoricalCrossentropy', \n",
        "              optimizer = tf.keras.optimizers.Adam(),\n",
        "              metrics =['accuracy'])"
      ],
      "metadata": {
        "id": "1xp3DdboIunt"
      },
      "execution_count": 29,
      "outputs": []
    },
    {
      "cell_type": "code",
      "source": [
        "model.summary()"
      ],
      "metadata": {
        "colab": {
          "base_uri": "https://localhost:8080/"
        },
        "id": "7OQHAKwWOWqT",
        "outputId": "785a8a66-b77a-4d5a-b64e-305c31711114"
      },
      "execution_count": 30,
      "outputs": [
        {
          "output_type": "stream",
          "name": "stdout",
          "text": [
            "Model: \"model\"\n",
            "_________________________________________________________________\n",
            " Layer (type)                Output Shape              Param #   \n",
            "=================================================================\n",
            " input_layer (InputLayer)    [(None, 224, 224, 3)]     0         \n",
            "                                                                 \n",
            " efficientnetb0 (Functional)  (None, None, None, 1280)  4049571  \n",
            "                                                                 \n",
            " global_average_pooling2d (G  (None, 1280)             0         \n",
            " lobalAveragePooling2D)                                          \n",
            "                                                                 \n",
            " dense (Dense)               (None, 101)               129381    \n",
            "                                                                 \n",
            " output_layer (Activation)   (None, 101)               0         \n",
            "                                                                 \n",
            "=================================================================\n",
            "Total params: 4,178,952\n",
            "Trainable params: 129,381\n",
            "Non-trainable params: 4,049,571\n",
            "_________________________________________________________________\n"
          ]
        }
      ]
    },
    {
      "cell_type": "markdown",
      "source": [
        "###Check Dtype policy"
      ],
      "metadata": {
        "id": "WstlsYP-O8gC"
      }
    },
    {
      "cell_type": "code",
      "source": [
        "for layer in model.layers:\n",
        "  print(layer.name, layer.dtype, layer.dtype_policy)"
      ],
      "metadata": {
        "colab": {
          "base_uri": "https://localhost:8080/"
        },
        "id": "igE3Q9kmMf4N",
        "outputId": "eda37994-0ca1-4bc8-b477-4be4830d31b8"
      },
      "execution_count": 33,
      "outputs": [
        {
          "output_type": "stream",
          "name": "stdout",
          "text": [
            "input_layer float32 <Policy \"float32\">\n",
            "efficientnetb0 float32 <Policy \"mixed_float16\">\n",
            "global_average_pooling2d float32 <Policy \"mixed_float16\">\n",
            "dense float32 <Policy \"mixed_float16\">\n",
            "output_layer float32 <Policy \"float32\">\n"
          ]
        }
      ]
    },
    {
      "cell_type": "code",
      "source": [
        "base_model"
      ],
      "metadata": {
        "colab": {
          "base_uri": "https://localhost:8080/"
        },
        "id": "rqPjOrELQAb7",
        "outputId": "04f475f2-7d14-4def-b3ab-81a1cba7fa7f"
      },
      "execution_count": 37,
      "outputs": [
        {
          "output_type": "execute_result",
          "data": {
            "text/plain": [
              "<keras.engine.functional.Functional at 0x7fbbf4bd1c10>"
            ]
          },
          "metadata": {},
          "execution_count": 37
        }
      ]
    },
    {
      "cell_type": "code",
      "source": [
        "for layer in model.layers[1].layers:\n",
        "    print(layer.name, layer.dtype, layer.dtype_policy)\n"
      ],
      "metadata": {
        "colab": {
          "base_uri": "https://localhost:8080/"
        },
        "id": "UutkunYRPwp8",
        "outputId": "473034b8-91ab-4320-e09d-582b00733023"
      },
      "execution_count": 39,
      "outputs": [
        {
          "output_type": "stream",
          "name": "stdout",
          "text": [
            "input_2 float32 <Policy \"float32\">\n",
            "rescaling_1 float32 <Policy \"mixed_float16\">\n",
            "normalization_1 float32 <Policy \"mixed_float16\">\n",
            "stem_conv_pad float32 <Policy \"mixed_float16\">\n",
            "stem_conv float32 <Policy \"mixed_float16\">\n",
            "stem_bn float32 <Policy \"mixed_float16\">\n",
            "stem_activation float32 <Policy \"mixed_float16\">\n",
            "block1a_dwconv float32 <Policy \"mixed_float16\">\n",
            "block1a_bn float32 <Policy \"mixed_float16\">\n",
            "block1a_activation float32 <Policy \"mixed_float16\">\n",
            "block1a_se_squeeze float32 <Policy \"mixed_float16\">\n",
            "block1a_se_reshape float32 <Policy \"mixed_float16\">\n",
            "block1a_se_reduce float32 <Policy \"mixed_float16\">\n",
            "block1a_se_expand float32 <Policy \"mixed_float16\">\n",
            "block1a_se_excite float32 <Policy \"mixed_float16\">\n",
            "block1a_project_conv float32 <Policy \"mixed_float16\">\n",
            "block1a_project_bn float32 <Policy \"mixed_float16\">\n",
            "block2a_expand_conv float32 <Policy \"mixed_float16\">\n",
            "block2a_expand_bn float32 <Policy \"mixed_float16\">\n",
            "block2a_expand_activation float32 <Policy \"mixed_float16\">\n",
            "block2a_dwconv_pad float32 <Policy \"mixed_float16\">\n",
            "block2a_dwconv float32 <Policy \"mixed_float16\">\n",
            "block2a_bn float32 <Policy \"mixed_float16\">\n",
            "block2a_activation float32 <Policy \"mixed_float16\">\n",
            "block2a_se_squeeze float32 <Policy \"mixed_float16\">\n",
            "block2a_se_reshape float32 <Policy \"mixed_float16\">\n",
            "block2a_se_reduce float32 <Policy \"mixed_float16\">\n",
            "block2a_se_expand float32 <Policy \"mixed_float16\">\n",
            "block2a_se_excite float32 <Policy \"mixed_float16\">\n",
            "block2a_project_conv float32 <Policy \"mixed_float16\">\n",
            "block2a_project_bn float32 <Policy \"mixed_float16\">\n",
            "block2b_expand_conv float32 <Policy \"mixed_float16\">\n",
            "block2b_expand_bn float32 <Policy \"mixed_float16\">\n",
            "block2b_expand_activation float32 <Policy \"mixed_float16\">\n",
            "block2b_dwconv float32 <Policy \"mixed_float16\">\n",
            "block2b_bn float32 <Policy \"mixed_float16\">\n",
            "block2b_activation float32 <Policy \"mixed_float16\">\n",
            "block2b_se_squeeze float32 <Policy \"mixed_float16\">\n",
            "block2b_se_reshape float32 <Policy \"mixed_float16\">\n",
            "block2b_se_reduce float32 <Policy \"mixed_float16\">\n",
            "block2b_se_expand float32 <Policy \"mixed_float16\">\n",
            "block2b_se_excite float32 <Policy \"mixed_float16\">\n",
            "block2b_project_conv float32 <Policy \"mixed_float16\">\n",
            "block2b_project_bn float32 <Policy \"mixed_float16\">\n",
            "block2b_drop float32 <Policy \"mixed_float16\">\n",
            "block2b_add float32 <Policy \"mixed_float16\">\n",
            "block3a_expand_conv float32 <Policy \"mixed_float16\">\n",
            "block3a_expand_bn float32 <Policy \"mixed_float16\">\n",
            "block3a_expand_activation float32 <Policy \"mixed_float16\">\n",
            "block3a_dwconv_pad float32 <Policy \"mixed_float16\">\n",
            "block3a_dwconv float32 <Policy \"mixed_float16\">\n",
            "block3a_bn float32 <Policy \"mixed_float16\">\n",
            "block3a_activation float32 <Policy \"mixed_float16\">\n",
            "block3a_se_squeeze float32 <Policy \"mixed_float16\">\n",
            "block3a_se_reshape float32 <Policy \"mixed_float16\">\n",
            "block3a_se_reduce float32 <Policy \"mixed_float16\">\n",
            "block3a_se_expand float32 <Policy \"mixed_float16\">\n",
            "block3a_se_excite float32 <Policy \"mixed_float16\">\n",
            "block3a_project_conv float32 <Policy \"mixed_float16\">\n",
            "block3a_project_bn float32 <Policy \"mixed_float16\">\n",
            "block3b_expand_conv float32 <Policy \"mixed_float16\">\n",
            "block3b_expand_bn float32 <Policy \"mixed_float16\">\n",
            "block3b_expand_activation float32 <Policy \"mixed_float16\">\n",
            "block3b_dwconv float32 <Policy \"mixed_float16\">\n",
            "block3b_bn float32 <Policy \"mixed_float16\">\n",
            "block3b_activation float32 <Policy \"mixed_float16\">\n",
            "block3b_se_squeeze float32 <Policy \"mixed_float16\">\n",
            "block3b_se_reshape float32 <Policy \"mixed_float16\">\n",
            "block3b_se_reduce float32 <Policy \"mixed_float16\">\n",
            "block3b_se_expand float32 <Policy \"mixed_float16\">\n",
            "block3b_se_excite float32 <Policy \"mixed_float16\">\n",
            "block3b_project_conv float32 <Policy \"mixed_float16\">\n",
            "block3b_project_bn float32 <Policy \"mixed_float16\">\n",
            "block3b_drop float32 <Policy \"mixed_float16\">\n",
            "block3b_add float32 <Policy \"mixed_float16\">\n",
            "block4a_expand_conv float32 <Policy \"mixed_float16\">\n",
            "block4a_expand_bn float32 <Policy \"mixed_float16\">\n",
            "block4a_expand_activation float32 <Policy \"mixed_float16\">\n",
            "block4a_dwconv_pad float32 <Policy \"mixed_float16\">\n",
            "block4a_dwconv float32 <Policy \"mixed_float16\">\n",
            "block4a_bn float32 <Policy \"mixed_float16\">\n",
            "block4a_activation float32 <Policy \"mixed_float16\">\n",
            "block4a_se_squeeze float32 <Policy \"mixed_float16\">\n",
            "block4a_se_reshape float32 <Policy \"mixed_float16\">\n",
            "block4a_se_reduce float32 <Policy \"mixed_float16\">\n",
            "block4a_se_expand float32 <Policy \"mixed_float16\">\n",
            "block4a_se_excite float32 <Policy \"mixed_float16\">\n",
            "block4a_project_conv float32 <Policy \"mixed_float16\">\n",
            "block4a_project_bn float32 <Policy \"mixed_float16\">\n",
            "block4b_expand_conv float32 <Policy \"mixed_float16\">\n",
            "block4b_expand_bn float32 <Policy \"mixed_float16\">\n",
            "block4b_expand_activation float32 <Policy \"mixed_float16\">\n",
            "block4b_dwconv float32 <Policy \"mixed_float16\">\n",
            "block4b_bn float32 <Policy \"mixed_float16\">\n",
            "block4b_activation float32 <Policy \"mixed_float16\">\n",
            "block4b_se_squeeze float32 <Policy \"mixed_float16\">\n",
            "block4b_se_reshape float32 <Policy \"mixed_float16\">\n",
            "block4b_se_reduce float32 <Policy \"mixed_float16\">\n",
            "block4b_se_expand float32 <Policy \"mixed_float16\">\n",
            "block4b_se_excite float32 <Policy \"mixed_float16\">\n",
            "block4b_project_conv float32 <Policy \"mixed_float16\">\n",
            "block4b_project_bn float32 <Policy \"mixed_float16\">\n",
            "block4b_drop float32 <Policy \"mixed_float16\">\n",
            "block4b_add float32 <Policy \"mixed_float16\">\n",
            "block4c_expand_conv float32 <Policy \"mixed_float16\">\n",
            "block4c_expand_bn float32 <Policy \"mixed_float16\">\n",
            "block4c_expand_activation float32 <Policy \"mixed_float16\">\n",
            "block4c_dwconv float32 <Policy \"mixed_float16\">\n",
            "block4c_bn float32 <Policy \"mixed_float16\">\n",
            "block4c_activation float32 <Policy \"mixed_float16\">\n",
            "block4c_se_squeeze float32 <Policy \"mixed_float16\">\n",
            "block4c_se_reshape float32 <Policy \"mixed_float16\">\n",
            "block4c_se_reduce float32 <Policy \"mixed_float16\">\n",
            "block4c_se_expand float32 <Policy \"mixed_float16\">\n",
            "block4c_se_excite float32 <Policy \"mixed_float16\">\n",
            "block4c_project_conv float32 <Policy \"mixed_float16\">\n",
            "block4c_project_bn float32 <Policy \"mixed_float16\">\n",
            "block4c_drop float32 <Policy \"mixed_float16\">\n",
            "block4c_add float32 <Policy \"mixed_float16\">\n",
            "block5a_expand_conv float32 <Policy \"mixed_float16\">\n",
            "block5a_expand_bn float32 <Policy \"mixed_float16\">\n",
            "block5a_expand_activation float32 <Policy \"mixed_float16\">\n",
            "block5a_dwconv float32 <Policy \"mixed_float16\">\n",
            "block5a_bn float32 <Policy \"mixed_float16\">\n",
            "block5a_activation float32 <Policy \"mixed_float16\">\n",
            "block5a_se_squeeze float32 <Policy \"mixed_float16\">\n",
            "block5a_se_reshape float32 <Policy \"mixed_float16\">\n",
            "block5a_se_reduce float32 <Policy \"mixed_float16\">\n",
            "block5a_se_expand float32 <Policy \"mixed_float16\">\n",
            "block5a_se_excite float32 <Policy \"mixed_float16\">\n",
            "block5a_project_conv float32 <Policy \"mixed_float16\">\n",
            "block5a_project_bn float32 <Policy \"mixed_float16\">\n",
            "block5b_expand_conv float32 <Policy \"mixed_float16\">\n",
            "block5b_expand_bn float32 <Policy \"mixed_float16\">\n",
            "block5b_expand_activation float32 <Policy \"mixed_float16\">\n",
            "block5b_dwconv float32 <Policy \"mixed_float16\">\n",
            "block5b_bn float32 <Policy \"mixed_float16\">\n",
            "block5b_activation float32 <Policy \"mixed_float16\">\n",
            "block5b_se_squeeze float32 <Policy \"mixed_float16\">\n",
            "block5b_se_reshape float32 <Policy \"mixed_float16\">\n",
            "block5b_se_reduce float32 <Policy \"mixed_float16\">\n",
            "block5b_se_expand float32 <Policy \"mixed_float16\">\n",
            "block5b_se_excite float32 <Policy \"mixed_float16\">\n",
            "block5b_project_conv float32 <Policy \"mixed_float16\">\n",
            "block5b_project_bn float32 <Policy \"mixed_float16\">\n",
            "block5b_drop float32 <Policy \"mixed_float16\">\n",
            "block5b_add float32 <Policy \"mixed_float16\">\n",
            "block5c_expand_conv float32 <Policy \"mixed_float16\">\n",
            "block5c_expand_bn float32 <Policy \"mixed_float16\">\n",
            "block5c_expand_activation float32 <Policy \"mixed_float16\">\n",
            "block5c_dwconv float32 <Policy \"mixed_float16\">\n",
            "block5c_bn float32 <Policy \"mixed_float16\">\n",
            "block5c_activation float32 <Policy \"mixed_float16\">\n",
            "block5c_se_squeeze float32 <Policy \"mixed_float16\">\n",
            "block5c_se_reshape float32 <Policy \"mixed_float16\">\n",
            "block5c_se_reduce float32 <Policy \"mixed_float16\">\n",
            "block5c_se_expand float32 <Policy \"mixed_float16\">\n",
            "block5c_se_excite float32 <Policy \"mixed_float16\">\n",
            "block5c_project_conv float32 <Policy \"mixed_float16\">\n",
            "block5c_project_bn float32 <Policy \"mixed_float16\">\n",
            "block5c_drop float32 <Policy \"mixed_float16\">\n",
            "block5c_add float32 <Policy \"mixed_float16\">\n",
            "block6a_expand_conv float32 <Policy \"mixed_float16\">\n",
            "block6a_expand_bn float32 <Policy \"mixed_float16\">\n",
            "block6a_expand_activation float32 <Policy \"mixed_float16\">\n",
            "block6a_dwconv_pad float32 <Policy \"mixed_float16\">\n",
            "block6a_dwconv float32 <Policy \"mixed_float16\">\n",
            "block6a_bn float32 <Policy \"mixed_float16\">\n",
            "block6a_activation float32 <Policy \"mixed_float16\">\n",
            "block6a_se_squeeze float32 <Policy \"mixed_float16\">\n",
            "block6a_se_reshape float32 <Policy \"mixed_float16\">\n",
            "block6a_se_reduce float32 <Policy \"mixed_float16\">\n",
            "block6a_se_expand float32 <Policy \"mixed_float16\">\n",
            "block6a_se_excite float32 <Policy \"mixed_float16\">\n",
            "block6a_project_conv float32 <Policy \"mixed_float16\">\n",
            "block6a_project_bn float32 <Policy \"mixed_float16\">\n",
            "block6b_expand_conv float32 <Policy \"mixed_float16\">\n",
            "block6b_expand_bn float32 <Policy \"mixed_float16\">\n",
            "block6b_expand_activation float32 <Policy \"mixed_float16\">\n",
            "block6b_dwconv float32 <Policy \"mixed_float16\">\n",
            "block6b_bn float32 <Policy \"mixed_float16\">\n",
            "block6b_activation float32 <Policy \"mixed_float16\">\n",
            "block6b_se_squeeze float32 <Policy \"mixed_float16\">\n",
            "block6b_se_reshape float32 <Policy \"mixed_float16\">\n",
            "block6b_se_reduce float32 <Policy \"mixed_float16\">\n",
            "block6b_se_expand float32 <Policy \"mixed_float16\">\n",
            "block6b_se_excite float32 <Policy \"mixed_float16\">\n",
            "block6b_project_conv float32 <Policy \"mixed_float16\">\n",
            "block6b_project_bn float32 <Policy \"mixed_float16\">\n",
            "block6b_drop float32 <Policy \"mixed_float16\">\n",
            "block6b_add float32 <Policy \"mixed_float16\">\n",
            "block6c_expand_conv float32 <Policy \"mixed_float16\">\n",
            "block6c_expand_bn float32 <Policy \"mixed_float16\">\n",
            "block6c_expand_activation float32 <Policy \"mixed_float16\">\n",
            "block6c_dwconv float32 <Policy \"mixed_float16\">\n",
            "block6c_bn float32 <Policy \"mixed_float16\">\n",
            "block6c_activation float32 <Policy \"mixed_float16\">\n",
            "block6c_se_squeeze float32 <Policy \"mixed_float16\">\n",
            "block6c_se_reshape float32 <Policy \"mixed_float16\">\n",
            "block6c_se_reduce float32 <Policy \"mixed_float16\">\n",
            "block6c_se_expand float32 <Policy \"mixed_float16\">\n",
            "block6c_se_excite float32 <Policy \"mixed_float16\">\n",
            "block6c_project_conv float32 <Policy \"mixed_float16\">\n",
            "block6c_project_bn float32 <Policy \"mixed_float16\">\n",
            "block6c_drop float32 <Policy \"mixed_float16\">\n",
            "block6c_add float32 <Policy \"mixed_float16\">\n",
            "block6d_expand_conv float32 <Policy \"mixed_float16\">\n",
            "block6d_expand_bn float32 <Policy \"mixed_float16\">\n",
            "block6d_expand_activation float32 <Policy \"mixed_float16\">\n",
            "block6d_dwconv float32 <Policy \"mixed_float16\">\n",
            "block6d_bn float32 <Policy \"mixed_float16\">\n",
            "block6d_activation float32 <Policy \"mixed_float16\">\n",
            "block6d_se_squeeze float32 <Policy \"mixed_float16\">\n",
            "block6d_se_reshape float32 <Policy \"mixed_float16\">\n",
            "block6d_se_reduce float32 <Policy \"mixed_float16\">\n",
            "block6d_se_expand float32 <Policy \"mixed_float16\">\n",
            "block6d_se_excite float32 <Policy \"mixed_float16\">\n",
            "block6d_project_conv float32 <Policy \"mixed_float16\">\n",
            "block6d_project_bn float32 <Policy \"mixed_float16\">\n",
            "block6d_drop float32 <Policy \"mixed_float16\">\n",
            "block6d_add float32 <Policy \"mixed_float16\">\n",
            "block7a_expand_conv float32 <Policy \"mixed_float16\">\n",
            "block7a_expand_bn float32 <Policy \"mixed_float16\">\n",
            "block7a_expand_activation float32 <Policy \"mixed_float16\">\n",
            "block7a_dwconv float32 <Policy \"mixed_float16\">\n",
            "block7a_bn float32 <Policy \"mixed_float16\">\n",
            "block7a_activation float32 <Policy \"mixed_float16\">\n",
            "block7a_se_squeeze float32 <Policy \"mixed_float16\">\n",
            "block7a_se_reshape float32 <Policy \"mixed_float16\">\n",
            "block7a_se_reduce float32 <Policy \"mixed_float16\">\n",
            "block7a_se_expand float32 <Policy \"mixed_float16\">\n",
            "block7a_se_excite float32 <Policy \"mixed_float16\">\n",
            "block7a_project_conv float32 <Policy \"mixed_float16\">\n",
            "block7a_project_bn float32 <Policy \"mixed_float16\">\n",
            "top_conv float32 <Policy \"mixed_float16\">\n",
            "top_bn float32 <Policy \"mixed_float16\">\n",
            "top_activation float32 <Policy \"mixed_float16\">\n"
          ]
        }
      ]
    },
    {
      "cell_type": "code",
      "source": [
        "model.fit(train_data, \n",
        "          epochs = 5,\n",
        "          validation_data =test_data,\n",
        "          steps_per_epoch = len(train_data),\n",
        "          validation_steps = len(test_data),\n",
        "          callbacks =[create_tensorboard_callback('tensorboard', 'model1'),\n",
        "                      create_model_checkpoint('Checkpoint')]\n",
        "          )"
      ],
      "metadata": {
        "colab": {
          "base_uri": "https://localhost:8080/"
        },
        "id": "QzJ0akK3MgNU",
        "outputId": "ae67a13e-a4dc-4c52-e211-84cff3896326"
      },
      "execution_count": null,
      "outputs": [
        {
          "output_type": "stream",
          "name": "stdout",
          "text": [
            "Saving TensorBoard log files to: tensorboard/model1/20220625-190854\n",
            "Epoch 1/5\n",
            "2368/2368 [==============================] - ETA: 0s - loss: 1.8220 - accuracy: 0.5574\n",
            "Epoch 1: saving model to Checkpoint/20220625-190854.ckpt\n",
            "INFO:tensorflow:Assets written to: Checkpoint/20220625-190854.ckpt/assets\n"
          ]
        },
        {
          "output_type": "stream",
          "name": "stderr",
          "text": [
            "INFO:tensorflow:Assets written to: Checkpoint/20220625-190854.ckpt/assets\n"
          ]
        },
        {
          "output_type": "stream",
          "name": "stdout",
          "text": [
            "\b\b\b\b\b\b\b\b\b\b\b\b\b\b\b\b\b\b\b\b\b\b\b\b\b\b\b\b\b\b\b\b\b\b\b\b\b\b\b\b\b\b\b\b\b\b\b\b\b\b\b\b\b\b\b\b\b\b\b\b\b\b\b\b\b\b\b\b\b\b\b\b\b\b\b\b\b\b\b\b\b\b\b\b\b\b\r2368/2368 [==============================] - 262s 103ms/step - loss: 1.8220 - accuracy: 0.5574 - val_loss: 1.2293 - val_accuracy: 0.6801\n",
            "Epoch 2/5\n",
            "2368/2368 [==============================] - ETA: 0s - loss: 1.2929 - accuracy: 0.6664\n",
            "Epoch 2: saving model to Checkpoint/20220625-190854.ckpt\n",
            "INFO:tensorflow:Assets written to: Checkpoint/20220625-190854.ckpt/assets\n"
          ]
        },
        {
          "output_type": "stream",
          "name": "stderr",
          "text": [
            "INFO:tensorflow:Assets written to: Checkpoint/20220625-190854.ckpt/assets\n"
          ]
        },
        {
          "output_type": "stream",
          "name": "stdout",
          "text": [
            "\b\b\b\b\b\b\b\b\b\b\b\b\b\b\b\b\b\b\b\b\b\b\b\b\b\b\b\b\b\b\b\b\b\b\b\b\b\b\b\b\b\b\b\b\b\b\b\b\b\b\b\b\b\b\b\b\b\b\b\b\b\b\b\b\b\b\b\b\b\b\b\b\b\b\b\b\b\b\b\b\b\b\b\b\b\b\r2368/2368 [==============================] - 243s 102ms/step - loss: 1.2929 - accuracy: 0.6664 - val_loss: 1.1271 - val_accuracy: 0.6976\n",
            "Epoch 3/5\n",
            "2368/2368 [==============================] - ETA: 0s - loss: 1.1433 - accuracy: 0.7022\n",
            "Epoch 3: saving model to Checkpoint/20220625-190854.ckpt\n",
            "INFO:tensorflow:Assets written to: Checkpoint/20220625-190854.ckpt/assets\n"
          ]
        },
        {
          "output_type": "stream",
          "name": "stderr",
          "text": [
            "INFO:tensorflow:Assets written to: Checkpoint/20220625-190854.ckpt/assets\n"
          ]
        },
        {
          "output_type": "stream",
          "name": "stdout",
          "text": [
            "\b\b\b\b\b\b\b\b\b\b\b\b\b\b\b\b\b\b\b\b\b\b\b\b\b\b\b\b\b\b\b\b\b\b\b\b\b\b\b\b\b\b\b\b\b\b\b\b\b\b\b\b\b\b\b\b\b\b\b\b\b\b\b\b\b\b\b\b\b\b\b\b\b\b\b\b\b\b\b\b\b\b\b\b\b\b\r2368/2368 [==============================] - 240s 100ms/step - loss: 1.1433 - accuracy: 0.7022 - val_loss: 1.0890 - val_accuracy: 0.7076\n",
            "Epoch 4/5\n",
            "2367/2368 [============================>.] - ETA: 0s - loss: 1.0464 - accuracy: 0.7253\n",
            "Epoch 4: saving model to Checkpoint/20220625-190854.ckpt\n",
            "INFO:tensorflow:Assets written to: Checkpoint/20220625-190854.ckpt/assets\n"
          ]
        },
        {
          "output_type": "stream",
          "name": "stderr",
          "text": [
            "INFO:tensorflow:Assets written to: Checkpoint/20220625-190854.ckpt/assets\n"
          ]
        },
        {
          "output_type": "stream",
          "name": "stdout",
          "text": [
            "\b\b\b\b\b\b\b\b\b\b\b\b\b\b\b\b\b\b\b\b\b\b\b\b\b\b\b\b\b\b\b\b\b\b\b\b\b\b\b\b\b\b\b\b\b\b\b\b\b\b\b\b\b\b\b\b\b\b\b\b\b\b\b\b\b\b\b\b\b\b\b\b\b\b\b\b\b\b\b\b\b\b\b\b\b\b\r2368/2368 [==============================] - 283s 118ms/step - loss: 1.0463 - accuracy: 0.7253 - val_loss: 1.0703 - val_accuracy: 0.7109\n",
            "Epoch 5/5\n",
            "2367/2368 [============================>.] - ETA: 0s - loss: 0.9732 - accuracy: 0.7448"
          ]
        }
      ]
    },
    {
      "cell_type": "code",
      "source": [
        ""
      ],
      "metadata": {
        "id": "_W-00zAbN8aN"
      },
      "execution_count": null,
      "outputs": []
    }
  ]
}