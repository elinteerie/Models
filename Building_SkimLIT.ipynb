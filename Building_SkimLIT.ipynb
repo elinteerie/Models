{
  "nbformat": 4,
  "nbformat_minor": 0,
  "metadata": {
    "colab": {
      "name": "Building SkimLIT",
      "provenance": [],
      "authorship_tag": "ABX9TyP+4EMcB8Cg0NcQignYQU+q",
      "include_colab_link": true
    },
    "kernelspec": {
      "name": "python3",
      "display_name": "Python 3"
    },
    "language_info": {
      "name": "python"
    },
    "gpuClass": "standard",
    "accelerator": "GPU"
  },
  "cells": [
    {
      "cell_type": "markdown",
      "metadata": {
        "id": "view-in-github",
        "colab_type": "text"
      },
      "source": [
        "<a href=\"https://colab.research.google.com/github/elinteerie/Models/blob/main/Building_SkimLIT.ipynb\" target=\"_parent\"><img src=\"https://colab.research.google.com/assets/colab-badge.svg\" alt=\"Open In Colab\"/></a>"
      ]
    },
    {
      "cell_type": "markdown",
      "source": [
        "# SkimLit\n",
        "\n",
        "Build an NLP Model to make reading medical abstracts easier"
      ],
      "metadata": {
        "id": "v6zwuf3NSRhq"
      }
    },
    {
      "cell_type": "markdown",
      "source": [
        "### Confirm Access to a GPU"
      ],
      "metadata": {
        "id": "FoBn5lptZrGx"
      }
    },
    {
      "cell_type": "code",
      "source": [
        "!nvidia-smi -L\n"
      ],
      "metadata": {
        "colab": {
          "base_uri": "https://localhost:8080/"
        },
        "id": "5NX8qTqGaCI_",
        "outputId": "a3b02c12-feae-4bfd-caed-adfc2c695f1a"
      },
      "execution_count": 1,
      "outputs": [
        {
          "output_type": "stream",
          "name": "stdout",
          "text": [
            "NVIDIA-SMI has failed because it couldn't communicate with the NVIDIA driver. Make sure that the latest NVIDIA driver is installed and running.\n",
            "\n"
          ]
        }
      ]
    },
    {
      "cell_type": "markdown",
      "source": [
        "###Get Data\n",
        "\n"
      ],
      "metadata": {
        "id": "-u84HajsaI-g"
      }
    },
    {
      "cell_type": "code",
      "source": [
        "!git clone https://github.com/Franck-Dernoncourt/pubmed-rct.git\n",
        "!ls pubmed-rct"
      ],
      "metadata": {
        "colab": {
          "base_uri": "https://localhost:8080/"
        },
        "id": "kxVSoAD4aYpX",
        "outputId": "f7abe328-7fa9-4d74-94da-953a88a29aff"
      },
      "execution_count": 2,
      "outputs": [
        {
          "output_type": "stream",
          "name": "stdout",
          "text": [
            "Cloning into 'pubmed-rct'...\n",
            "remote: Enumerating objects: 33, done.\u001b[K\n",
            "remote: Counting objects: 100% (8/8), done.\u001b[K\n",
            "remote: Compressing objects: 100% (3/3), done.\u001b[K\n",
            "remote: Total 33 (delta 5), reused 5 (delta 5), pack-reused 25\u001b[K\n",
            "Unpacking objects: 100% (33/33), done.\n",
            "Checking out files: 100% (13/13), done.\n",
            "PubMed_200k_RCT\n",
            "PubMed_200k_RCT_numbers_replaced_with_at_sign\n",
            "PubMed_20k_RCT\n",
            "PubMed_20k_RCT_numbers_replaced_with_at_sign\n",
            "README.md\n"
          ]
        }
      ]
    },
    {
      "cell_type": "code",
      "source": [
        "!ls /content/pubmed-rct/PubMed_20k_RCT_numbers_replaced_with_at_sign"
      ],
      "metadata": {
        "colab": {
          "base_uri": "https://localhost:8080/"
        },
        "id": "2Hz2JLJDbgrK",
        "outputId": "881fc75b-743c-4864-a0d9-124982080705"
      },
      "execution_count": 3,
      "outputs": [
        {
          "output_type": "stream",
          "name": "stdout",
          "text": [
            "dev.txt  test.txt  train.txt\n"
          ]
        }
      ]
    },
    {
      "cell_type": "code",
      "source": [
        "data_dir = '/content/pubmed-rct/PubMed_20k_RCT_numbers_replaced_with_at_sign/'"
      ],
      "metadata": {
        "id": "8N4sJJ72bqnV"
      },
      "execution_count": 4,
      "outputs": []
    },
    {
      "cell_type": "code",
      "source": [
        "#Check All the file names\n",
        "\n",
        "import os\n",
        "filenames = [data_dir + filename for filename in os.listdir(data_dir)]\n",
        "filenames[0]"
      ],
      "metadata": {
        "colab": {
          "base_uri": "https://localhost:8080/",
          "height": 35
        },
        "id": "jdU7MbaDcmY4",
        "outputId": "2d436bb8-7884-4ddd-8d8c-c1ffc78c1069"
      },
      "execution_count": 5,
      "outputs": [
        {
          "output_type": "execute_result",
          "data": {
            "text/plain": [
              "'/content/pubmed-rct/PubMed_20k_RCT_numbers_replaced_with_at_sign/test.txt'"
            ],
            "application/vnd.google.colaboratory.intrinsic+json": {
              "type": "string"
            }
          },
          "metadata": {},
          "execution_count": 5
        }
      ]
    },
    {
      "cell_type": "markdown",
      "source": [
        "###Preprocess Data"
      ],
      "metadata": {
        "id": "D7wL99xXdWpg"
      }
    },
    {
      "cell_type": "code",
      "source": [
        "def get_lines(filename):\n",
        "  '''\n",
        "  Reads Filename (a text file ) and returns the lines of text as a list\n",
        "\n",
        "  Args:\n",
        "  filename: a string containin the target filepath\n",
        "  \n",
        "  Returns: A list of strings with one string per line from the target filename\n",
        "  '''\n",
        "  with open(filename, 'r') as f:\n",
        "    return f.readlines()\n",
        "\n",
        "\n"
      ],
      "metadata": {
        "id": "8pyw4tO8dk5d"
      },
      "execution_count": 6,
      "outputs": []
    },
    {
      "cell_type": "code",
      "source": [
        "train_lines = get_lines(filenames[0])"
      ],
      "metadata": {
        "id": "B2YkDXeec8ba"
      },
      "execution_count": 7,
      "outputs": []
    },
    {
      "cell_type": "code",
      "source": [
        "train_lines[:2]"
      ],
      "metadata": {
        "colab": {
          "base_uri": "https://localhost:8080/"
        },
        "id": "hefB5s8JfAR9",
        "outputId": "abdff191-3f68-407f-bffa-ed280c4bcdf3"
      },
      "execution_count": 8,
      "outputs": [
        {
          "output_type": "execute_result",
          "data": {
            "text/plain": [
              "['###24845963\\n',\n",
              " 'BACKGROUND\\tThis study analyzed liver function abnormalities in heart failure patients admitted with severe acute decompensated heart failure ( ADHF ) .\\n']"
            ]
          },
          "metadata": {},
          "execution_count": 8
        }
      ]
    },
    {
      "cell_type": "code",
      "source": [
        "def preprocess_text_with_line_numbers(filename):\n",
        "  \"\"\"Returns a list of dictionaries of abstract line data.\n",
        "\n",
        "  Takes in filename, reads its contents and sorts through each line,\n",
        "  extracting things like the target label, the text of the sentence,\n",
        "  how many sentences are in the current abstract and what sentence number\n",
        "  the target line is.\n",
        "\n",
        "  Args:\n",
        "      filename: a string of the target text file to read and extract line data\n",
        "      from.\n",
        "\n",
        "  Returns:\n",
        "      A list of dictionaries each containing a line from an abstract,\n",
        "      the lines label, the lines position in the abstract and the total number\n",
        "      of lines in the abstract where the line is from. For example:\n",
        "\n",
        "      [{\"target\": 'CONCLUSION',\n",
        "        \"text\": The study couldn't have gone better, turns out people are kinder than you think\",\n",
        "        \"line_number\": 8,\n",
        "        \"total_lines\": 8}]\n",
        "  \"\"\"\n",
        "  input_lines = get_lines(filename) # get all lines from filename\n",
        "  abstract_lines = \"\" # create an empty abstract\n",
        "  abstract_samples = [] # create an empty list of abstracts\n",
        "  \n",
        "  # Loop through each line in target file\n",
        "  for line in input_lines:\n",
        "    if line.startswith(\"###\"): # check to see if line is an ID line\n",
        "      abstract_id = line\n",
        "      abstract_lines = \"\" # reset abstract string\n",
        "    elif line.isspace(): # check to see if line is a new line\n",
        "      abstract_line_split = abstract_lines.splitlines() # split abstract into separate lines\n",
        "\n",
        "      # Iterate through each line in abstract and count them at the same time\n",
        "      for abstract_line_number, abstract_line in enumerate(abstract_line_split):\n",
        "        line_data = {} # create empty dict to store data from line\n",
        "        target_text_split = abstract_line.split(\"\\t\") # split target label from text\n",
        "        line_data[\"target\"] = target_text_split[0] # get target label\n",
        "        line_data[\"text\"] = target_text_split[1].lower() # get target text and lower it\n",
        "        line_data[\"line_number\"] = abstract_line_number # what number line does the line appear in the abstract?\n",
        "        line_data[\"total_lines\"] = len(abstract_line_split) - 1 # how many total lines are in the abstract? (start from 0)\n",
        "        abstract_samples.append(line_data) # add line data to abstract samples list\n",
        "    \n",
        "    else: # if the above conditions aren't fulfilled, the line contains a labelled sentence\n",
        "      abstract_lines += line\n",
        "  \n",
        "  return abstract_samples"
      ],
      "metadata": {
        "id": "AbicsjQEi8F8"
      },
      "execution_count": 9,
      "outputs": []
    },
    {
      "cell_type": "code",
      "source": [
        "train_samples = preprocess_text_with_line_numbers(filenames[0])\n",
        "val_samples = preprocess_text_with_line_numbers(filenames[1])\n",
        "test_samples = preprocess_text_with_line_numbers(filenames[2])"
      ],
      "metadata": {
        "id": "OcFI2BJylmW5"
      },
      "execution_count": 10,
      "outputs": []
    },
    {
      "cell_type": "code",
      "source": [
        "import pandas as pd\n",
        "\n",
        "train_df = pd.DataFrame(train_samples)\n",
        "val_df = pd.DataFrame(val_samples)\n",
        "test_df =pd.DataFrame(test_samples)"
      ],
      "metadata": {
        "id": "4v-jQ8vXxQbe"
      },
      "execution_count": 11,
      "outputs": []
    },
    {
      "cell_type": "code",
      "source": [
        "train_df.head(14)"
      ],
      "metadata": {
        "colab": {
          "base_uri": "https://localhost:8080/",
          "height": 775
        },
        "id": "ntsjhsZO7t2M",
        "outputId": "2286cee0-69d3-4df7-f250-5b8972ded125"
      },
      "execution_count": 12,
      "outputs": [
        {
          "output_type": "execute_result",
          "data": {
            "text/plain": [
              "         target                                               text  \\\n",
              "0    BACKGROUND  this study analyzed liver function abnormaliti...   \n",
              "1       RESULTS  a post hoc analysis was conducted with the use...   \n",
              "2       RESULTS  liver function tests ( lfts ) were measured at...   \n",
              "3       RESULTS  survival analyses were used to assess the asso...   \n",
              "4       RESULTS  the percentage of patients with abnormal lfts ...   \n",
              "5       RESULTS  when mean hemodynamic profiles were compared i...   \n",
              "6       RESULTS  multivariable analyses revealed that patients ...   \n",
              "7   CONCLUSIONS  abnormal lfts are common in the adhf populatio...   \n",
              "8   CONCLUSIONS  elevated meld-xi scores are associated with po...   \n",
              "9    BACKGROUND  minimally invasive endovascular aneurysm repai...   \n",
              "10   BACKGROUND  the aim of this study was to analyse the cost-...   \n",
              "11      METHODS  resource use was determined from the amsterdam...   \n",
              "12      METHODS  the analysis was performed from a provider per...   \n",
              "13      METHODS  all costs were calculated as if all patients h...   \n",
              "\n",
              "    line_number  total_lines  \n",
              "0             0            8  \n",
              "1             1            8  \n",
              "2             2            8  \n",
              "3             3            8  \n",
              "4             4            8  \n",
              "5             5            8  \n",
              "6             6            8  \n",
              "7             7            8  \n",
              "8             8            8  \n",
              "9             0           12  \n",
              "10            1           12  \n",
              "11            2           12  \n",
              "12            3           12  \n",
              "13            4           12  "
            ],
            "text/html": [
              "\n",
              "  <div id=\"df-cf8080f7-3338-4112-9729-e3fbb1c6912c\">\n",
              "    <div class=\"colab-df-container\">\n",
              "      <div>\n",
              "<style scoped>\n",
              "    .dataframe tbody tr th:only-of-type {\n",
              "        vertical-align: middle;\n",
              "    }\n",
              "\n",
              "    .dataframe tbody tr th {\n",
              "        vertical-align: top;\n",
              "    }\n",
              "\n",
              "    .dataframe thead th {\n",
              "        text-align: right;\n",
              "    }\n",
              "</style>\n",
              "<table border=\"1\" class=\"dataframe\">\n",
              "  <thead>\n",
              "    <tr style=\"text-align: right;\">\n",
              "      <th></th>\n",
              "      <th>target</th>\n",
              "      <th>text</th>\n",
              "      <th>line_number</th>\n",
              "      <th>total_lines</th>\n",
              "    </tr>\n",
              "  </thead>\n",
              "  <tbody>\n",
              "    <tr>\n",
              "      <th>0</th>\n",
              "      <td>BACKGROUND</td>\n",
              "      <td>this study analyzed liver function abnormaliti...</td>\n",
              "      <td>0</td>\n",
              "      <td>8</td>\n",
              "    </tr>\n",
              "    <tr>\n",
              "      <th>1</th>\n",
              "      <td>RESULTS</td>\n",
              "      <td>a post hoc analysis was conducted with the use...</td>\n",
              "      <td>1</td>\n",
              "      <td>8</td>\n",
              "    </tr>\n",
              "    <tr>\n",
              "      <th>2</th>\n",
              "      <td>RESULTS</td>\n",
              "      <td>liver function tests ( lfts ) were measured at...</td>\n",
              "      <td>2</td>\n",
              "      <td>8</td>\n",
              "    </tr>\n",
              "    <tr>\n",
              "      <th>3</th>\n",
              "      <td>RESULTS</td>\n",
              "      <td>survival analyses were used to assess the asso...</td>\n",
              "      <td>3</td>\n",
              "      <td>8</td>\n",
              "    </tr>\n",
              "    <tr>\n",
              "      <th>4</th>\n",
              "      <td>RESULTS</td>\n",
              "      <td>the percentage of patients with abnormal lfts ...</td>\n",
              "      <td>4</td>\n",
              "      <td>8</td>\n",
              "    </tr>\n",
              "    <tr>\n",
              "      <th>5</th>\n",
              "      <td>RESULTS</td>\n",
              "      <td>when mean hemodynamic profiles were compared i...</td>\n",
              "      <td>5</td>\n",
              "      <td>8</td>\n",
              "    </tr>\n",
              "    <tr>\n",
              "      <th>6</th>\n",
              "      <td>RESULTS</td>\n",
              "      <td>multivariable analyses revealed that patients ...</td>\n",
              "      <td>6</td>\n",
              "      <td>8</td>\n",
              "    </tr>\n",
              "    <tr>\n",
              "      <th>7</th>\n",
              "      <td>CONCLUSIONS</td>\n",
              "      <td>abnormal lfts are common in the adhf populatio...</td>\n",
              "      <td>7</td>\n",
              "      <td>8</td>\n",
              "    </tr>\n",
              "    <tr>\n",
              "      <th>8</th>\n",
              "      <td>CONCLUSIONS</td>\n",
              "      <td>elevated meld-xi scores are associated with po...</td>\n",
              "      <td>8</td>\n",
              "      <td>8</td>\n",
              "    </tr>\n",
              "    <tr>\n",
              "      <th>9</th>\n",
              "      <td>BACKGROUND</td>\n",
              "      <td>minimally invasive endovascular aneurysm repai...</td>\n",
              "      <td>0</td>\n",
              "      <td>12</td>\n",
              "    </tr>\n",
              "    <tr>\n",
              "      <th>10</th>\n",
              "      <td>BACKGROUND</td>\n",
              "      <td>the aim of this study was to analyse the cost-...</td>\n",
              "      <td>1</td>\n",
              "      <td>12</td>\n",
              "    </tr>\n",
              "    <tr>\n",
              "      <th>11</th>\n",
              "      <td>METHODS</td>\n",
              "      <td>resource use was determined from the amsterdam...</td>\n",
              "      <td>2</td>\n",
              "      <td>12</td>\n",
              "    </tr>\n",
              "    <tr>\n",
              "      <th>12</th>\n",
              "      <td>METHODS</td>\n",
              "      <td>the analysis was performed from a provider per...</td>\n",
              "      <td>3</td>\n",
              "      <td>12</td>\n",
              "    </tr>\n",
              "    <tr>\n",
              "      <th>13</th>\n",
              "      <td>METHODS</td>\n",
              "      <td>all costs were calculated as if all patients h...</td>\n",
              "      <td>4</td>\n",
              "      <td>12</td>\n",
              "    </tr>\n",
              "  </tbody>\n",
              "</table>\n",
              "</div>\n",
              "      <button class=\"colab-df-convert\" onclick=\"convertToInteractive('df-cf8080f7-3338-4112-9729-e3fbb1c6912c')\"\n",
              "              title=\"Convert this dataframe to an interactive table.\"\n",
              "              style=\"display:none;\">\n",
              "        \n",
              "  <svg xmlns=\"http://www.w3.org/2000/svg\" height=\"24px\"viewBox=\"0 0 24 24\"\n",
              "       width=\"24px\">\n",
              "    <path d=\"M0 0h24v24H0V0z\" fill=\"none\"/>\n",
              "    <path d=\"M18.56 5.44l.94 2.06.94-2.06 2.06-.94-2.06-.94-.94-2.06-.94 2.06-2.06.94zm-11 1L8.5 8.5l.94-2.06 2.06-.94-2.06-.94L8.5 2.5l-.94 2.06-2.06.94zm10 10l.94 2.06.94-2.06 2.06-.94-2.06-.94-.94-2.06-.94 2.06-2.06.94z\"/><path d=\"M17.41 7.96l-1.37-1.37c-.4-.4-.92-.59-1.43-.59-.52 0-1.04.2-1.43.59L10.3 9.45l-7.72 7.72c-.78.78-.78 2.05 0 2.83L4 21.41c.39.39.9.59 1.41.59.51 0 1.02-.2 1.41-.59l7.78-7.78 2.81-2.81c.8-.78.8-2.07 0-2.86zM5.41 20L4 18.59l7.72-7.72 1.47 1.35L5.41 20z\"/>\n",
              "  </svg>\n",
              "      </button>\n",
              "      \n",
              "  <style>\n",
              "    .colab-df-container {\n",
              "      display:flex;\n",
              "      flex-wrap:wrap;\n",
              "      gap: 12px;\n",
              "    }\n",
              "\n",
              "    .colab-df-convert {\n",
              "      background-color: #E8F0FE;\n",
              "      border: none;\n",
              "      border-radius: 50%;\n",
              "      cursor: pointer;\n",
              "      display: none;\n",
              "      fill: #1967D2;\n",
              "      height: 32px;\n",
              "      padding: 0 0 0 0;\n",
              "      width: 32px;\n",
              "    }\n",
              "\n",
              "    .colab-df-convert:hover {\n",
              "      background-color: #E2EBFA;\n",
              "      box-shadow: 0px 1px 2px rgba(60, 64, 67, 0.3), 0px 1px 3px 1px rgba(60, 64, 67, 0.15);\n",
              "      fill: #174EA6;\n",
              "    }\n",
              "\n",
              "    [theme=dark] .colab-df-convert {\n",
              "      background-color: #3B4455;\n",
              "      fill: #D2E3FC;\n",
              "    }\n",
              "\n",
              "    [theme=dark] .colab-df-convert:hover {\n",
              "      background-color: #434B5C;\n",
              "      box-shadow: 0px 1px 3px 1px rgba(0, 0, 0, 0.15);\n",
              "      filter: drop-shadow(0px 1px 2px rgba(0, 0, 0, 0.3));\n",
              "      fill: #FFFFFF;\n",
              "    }\n",
              "  </style>\n",
              "\n",
              "      <script>\n",
              "        const buttonEl =\n",
              "          document.querySelector('#df-cf8080f7-3338-4112-9729-e3fbb1c6912c button.colab-df-convert');\n",
              "        buttonEl.style.display =\n",
              "          google.colab.kernel.accessAllowed ? 'block' : 'none';\n",
              "\n",
              "        async function convertToInteractive(key) {\n",
              "          const element = document.querySelector('#df-cf8080f7-3338-4112-9729-e3fbb1c6912c');\n",
              "          const dataTable =\n",
              "            await google.colab.kernel.invokeFunction('convertToInteractive',\n",
              "                                                     [key], {});\n",
              "          if (!dataTable) return;\n",
              "\n",
              "          const docLinkHtml = 'Like what you see? Visit the ' +\n",
              "            '<a target=\"_blank\" href=https://colab.research.google.com/notebooks/data_table.ipynb>data table notebook</a>'\n",
              "            + ' to learn more about interactive tables.';\n",
              "          element.innerHTML = '';\n",
              "          dataTable['output_type'] = 'display_data';\n",
              "          await google.colab.output.renderOutput(dataTable, element);\n",
              "          const docLink = document.createElement('div');\n",
              "          docLink.innerHTML = docLinkHtml;\n",
              "          element.appendChild(docLink);\n",
              "        }\n",
              "      </script>\n",
              "    </div>\n",
              "  </div>\n",
              "  "
            ]
          },
          "metadata": {},
          "execution_count": 12
        }
      ]
    },
    {
      "cell_type": "code",
      "source": [
        "train_df.target.value_counts()"
      ],
      "metadata": {
        "colab": {
          "base_uri": "https://localhost:8080/"
        },
        "id": "CfNJXh0J7s-8",
        "outputId": "00d38bd5-e90c-4999-c3b2-1f13e1b8244e"
      },
      "execution_count": 13,
      "outputs": [
        {
          "output_type": "execute_result",
          "data": {
            "text/plain": [
              "METHODS        9897\n",
              "RESULTS        9713\n",
              "CONCLUSIONS    4571\n",
              "BACKGROUND     3621\n",
              "OBJECTIVE      2333\n",
              "Name: target, dtype: int64"
            ]
          },
          "metadata": {},
          "execution_count": 13
        }
      ]
    },
    {
      "cell_type": "code",
      "source": [
        "train_df.total_lines.plot.hist();"
      ],
      "metadata": {
        "colab": {
          "base_uri": "https://localhost:8080/",
          "height": 265
        },
        "id": "L7oogEo68YtC",
        "outputId": "4d98a164-12b7-457d-af21-1a039e4e510e"
      },
      "execution_count": 14,
      "outputs": [
        {
          "output_type": "display_data",
          "data": {
            "text/plain": [
              "<Figure size 432x288 with 1 Axes>"
            ],
            "image/png": "[encoded data removed]"
          },
          "metadata": {
            "needs_background": "light"
          }
        }
      ]
    },
    {
      "cell_type": "code",
      "source": [
        "train_sentences = train_df['text'].tolist()\n",
        "val_sentences =val_df['text'].tolist()\n",
        "test_sentences =test_df['text'].tolist()\n",
        "\n",
        "len(train_sentences)"
      ],
      "metadata": {
        "colab": {
          "base_uri": "https://localhost:8080/"
        },
        "id": "RhtUCPbk2GkV",
        "outputId": "fc8aaf14-16e4-467d-c94b-3ed8cf7448f3"
      },
      "execution_count": 15,
      "outputs": [
        {
          "output_type": "execute_result",
          "data": {
            "text/plain": [
              "30135"
            ]
          },
          "metadata": {},
          "execution_count": 15
        }
      ]
    },
    {
      "cell_type": "code",
      "source": [
        "train_sentences[:10]\n"
      ],
      "metadata": {
        "colab": {
          "base_uri": "https://localhost:8080/"
        },
        "id": "uXD-3DUA09p1",
        "outputId": "6b4998c9-bdeb-4560-87da-be70d71ba6ed"
      },
      "execution_count": 16,
      "outputs": [
        {
          "output_type": "execute_result",
          "data": {
            "text/plain": [
              "['this study analyzed liver function abnormalities in heart failure patients admitted with severe acute decompensated heart failure ( adhf ) .',\n",
              " 'a post hoc analysis was conducted with the use of data from the evaluation study of congestive heart failure and pulmonary artery catheterization effectiveness ( escape ) .',\n",
              " 'liver function tests ( lfts ) were measured at @ time points from baseline , at discharge , and up to @ months follow-up .',\n",
              " 'survival analyses were used to assess the association between admission model of end-stage liver disease excluding international normalized ratio ( meld-xi ) scores and patient outcome.there was a high prevalence of abnormal baseline ( admission ) lfts ( albumin @ % , aspartate transaminase @ % , alanine transaminase @ % , and total bilirubin @ % ) .',\n",
              " \"the percentage of patients with abnormal lfts decreased significantly from baseline to @-months ' follow-up .\",\n",
              " 'when mean hemodynamic profiles were compared in patients with abnormal versus normal lfts , elevated total bilirubin was associated with a significantly lower cardiac index ( @ vs @ ; p < @ ) and higher central venous pressure ( @ vs @ ; p = @ ) .',\n",
              " 'multivariable analyses revealed that patients with elevated meld-xi scores ( @ ) had a @-fold ( hazard ratio@ @ , @ % confidence interval @-@ @ ) increased risk of death , rehospitalization , or transplantation after adjusting for baseline lfts , age , sex , race , body mass index , diabetes , and systolic blood pressure .',\n",
              " 'abnormal lfts are common in the adhf population and are a dynamic marker of an impaired hemodynamic state .',\n",
              " 'elevated meld-xi scores are associated with poor outcomes among patients admitted with adhf .',\n",
              " 'minimally invasive endovascular aneurysm repair ( evar ) could be a surgical technique that improves outcome of patients with ruptured abdominal aortic aneurysm ( raaa ) .']"
            ]
          },
          "metadata": {},
          "execution_count": 16
        }
      ]
    },
    {
      "cell_type": "markdown",
      "source": [
        "### Making Numerical Labels\n",
        "\n"
      ],
      "metadata": {
        "id": "7Ao6D-YX6Yq-"
      }
    },
    {
      "cell_type": "code",
      "source": [
        "from sklearn.preprocessing import OneHotEncoder\n",
        "one_hot_encoder = OneHotEncoder(sparse =False)\n",
        "train_labels_one_hot = one_hot_encoder.fit_transform(train_df[['target']].to_numpy())\n",
        "val_labels_one_hot = one_hot_encoder.fit_transform(val_df[['target']].to_numpy())\n",
        "test_label_one_hot =one_hot_encoder.fit_transform(test_df[['target']].to_numpy())\n",
        "\n"
      ],
      "metadata": {
        "id": "3inEx73_-E9f"
      },
      "execution_count": 17,
      "outputs": []
    },
    {
      "cell_type": "code",
      "source": [
        "test_label_one_hot"
      ],
      "metadata": {
        "colab": {
          "base_uri": "https://localhost:8080/"
        },
        "id": "ml6V7ccO_RLE",
        "outputId": "19a497e4-5a72-4aa6-ce9a-c4513b30ec9b"
      },
      "execution_count": 18,
      "outputs": [
        {
          "output_type": "execute_result",
          "data": {
            "text/plain": [
              "array([[0., 0., 0., 1., 0.],\n",
              "       [0., 0., 1., 0., 0.],\n",
              "       [0., 0., 1., 0., 0.],\n",
              "       ...,\n",
              "       [0., 0., 0., 0., 1.],\n",
              "       [0., 1., 0., 0., 0.],\n",
              "       [0., 1., 0., 0., 0.]])"
            ]
          },
          "metadata": {},
          "execution_count": 18
        }
      ]
    },
    {
      "cell_type": "code",
      "source": [
        "###Encode Labels"
      ],
      "metadata": {
        "id": "9ioqIPFhAcIs"
      },
      "execution_count": 19,
      "outputs": []
    },
    {
      "cell_type": "code",
      "source": [
        "from sklearn.preprocessing import LabelEncoder\n",
        "label_encoder = LabelEncoder()\n",
        "train_labels_encoded = label_encoder.fit_transform(train_df[['target']].to_numpy())\n",
        "val_labels_encoded = label_encoder.fit_transform(val_df[['target']].to_numpy())\n",
        "test_labels_encoded = label_encoder.fit_transform(test_df[['target']].to_numpy())"
      ],
      "metadata": {
        "colab": {
          "base_uri": "https://localhost:8080/"
        },
        "id": "qgX3lkXD--UI",
        "outputId": "5dcb2177-e179-48e6-cc90-8c3e9a5cf42b"
      },
      "execution_count": 20,
      "outputs": [
        {
          "output_type": "stream",
          "name": "stderr",
          "text": [
            "/usr/local/lib/python3.7/dist-packages/sklearn/preprocessing/_label.py:115: DataConversionWarning: A column-vector y was passed when a 1d array was expected. Please change the shape of y to (n_samples, ), for example using ravel().\n",
            "  y = column_or_1d(y, warn=True)\n"
          ]
        }
      ]
    },
    {
      "cell_type": "code",
      "source": [
        "train_labels_encoded"
      ],
      "metadata": {
        "colab": {
          "base_uri": "https://localhost:8080/"
        },
        "id": "RRN5YtCsBCjA",
        "outputId": "e59c0a42-4be1-4b38-bfb8-4812d992694a"
      },
      "execution_count": 21,
      "outputs": [
        {
          "output_type": "execute_result",
          "data": {
            "text/plain": [
              "array([0, 4, 4, ..., 4, 4, 1])"
            ]
          },
          "metadata": {},
          "execution_count": 21
        }
      ]
    },
    {
      "cell_type": "code",
      "source": [
        "train_labels_one_hot"
      ],
      "metadata": {
        "colab": {
          "base_uri": "https://localhost:8080/"
        },
        "id": "d-HnDBXMBGAs",
        "outputId": "5b4c8647-3f52-4567-c566-06c0e15c07ae"
      },
      "execution_count": 22,
      "outputs": [
        {
          "output_type": "execute_result",
          "data": {
            "text/plain": [
              "array([[1., 0., 0., 0., 0.],\n",
              "       [0., 0., 0., 0., 1.],\n",
              "       [0., 0., 0., 0., 1.],\n",
              "       ...,\n",
              "       [0., 0., 0., 0., 1.],\n",
              "       [0., 0., 0., 0., 1.],\n",
              "       [0., 1., 0., 0., 0.]])"
            ]
          },
          "metadata": {},
          "execution_count": 22
        }
      ]
    },
    {
      "cell_type": "code",
      "source": [
        "###Get the Class\n",
        "label_encoder.classes_\n",
        "\n"
      ],
      "metadata": {
        "colab": {
          "base_uri": "https://localhost:8080/"
        },
        "id": "jMgvV5hr_jC3",
        "outputId": "4ad87edd-31e4-4c51-f465-782c0a110766"
      },
      "execution_count": 23,
      "outputs": [
        {
          "output_type": "execute_result",
          "data": {
            "text/plain": [
              "array(['BACKGROUND', 'CONCLUSIONS', 'METHODS', 'OBJECTIVE', 'RESULTS'],\n",
              "      dtype=object)"
            ]
          },
          "metadata": {},
          "execution_count": 23
        }
      ]
    },
    {
      "cell_type": "code",
      "source": [
        "###Starting With serie of Modelling Experiments\n",
        "\n",
        "from sklearn.feature_extraction.text import TfidfVectorizer\n",
        "from sklearn.naive_bayes import MultinomialNB\n",
        "from sklearn.pipeline import Pipeline"
      ],
      "metadata": {
        "id": "O3xGhYr29JPc"
      },
      "execution_count": 24,
      "outputs": []
    },
    {
      "cell_type": "code",
      "source": [
        "##Create a pipleline\n",
        "\n",
        "model_0 = Pipeline([\n",
        "     ('tf-idf', TfidfVectorizer()),\n",
        "      ('clf', MultinomialNB())               \n",
        "])\n",
        "\n",
        "#fit \n",
        "\n",
        "model_0.fit(train_sentences, train_labels_encoded)\n"
      ],
      "metadata": {
        "colab": {
          "base_uri": "https://localhost:8080/"
        },
        "id": "Ah9YwGGc_G6x",
        "outputId": "2ae2c372-8297-4d61-c0e0-4ce646aa39b8"
      },
      "execution_count": 25,
      "outputs": [
        {
          "output_type": "execute_result",
          "data": {
            "text/plain": [
              "Pipeline(steps=[('tf-idf', TfidfVectorizer()), ('clf', MultinomialNB())])"
            ]
          },
          "metadata": {},
          "execution_count": 25
        }
      ]
    },
    {
      "cell_type": "code",
      "source": [
        "#Evalaute\n",
        "\n",
        "model_0.score(X =val_sentences, y= val_labels_encoded)"
      ],
      "metadata": {
        "colab": {
          "base_uri": "https://localhost:8080/"
        },
        "id": "KkylFMJqBdhi",
        "outputId": "b2945d8f-da95-4af0-cd0f-58197dd14945"
      },
      "execution_count": 26,
      "outputs": [
        {
          "output_type": "execute_result",
          "data": {
            "text/plain": [
              "0.6760889712696941"
            ]
          },
          "metadata": {},
          "execution_count": 26
        }
      ]
    },
    {
      "cell_type": "code",
      "source": [
        "#Make Predictions\n",
        "\n",
        "baseline_preds = model_0.predict(val_sentences)\n",
        "baseline_preds"
      ],
      "metadata": {
        "colab": {
          "base_uri": "https://localhost:8080/"
        },
        "id": "o9uk8SbiAcnF",
        "outputId": "f889bbfc-0232-4e7d-f60c-7c8c96184966"
      },
      "execution_count": 27,
      "outputs": [
        {
          "output_type": "execute_result",
          "data": {
            "text/plain": [
              "array([0, 1, 2, ..., 4, 4, 0])"
            ]
          },
          "metadata": {},
          "execution_count": 27
        }
      ]
    },
    {
      "cell_type": "code",
      "source": [
        "val_labels_encoded"
      ],
      "metadata": {
        "colab": {
          "base_uri": "https://localhost:8080/"
        },
        "id": "4mcspWpkBFQY",
        "outputId": "26c5bcb7-4dae-4080-e4ef-b278e340b478"
      },
      "execution_count": 28,
      "outputs": [
        {
          "output_type": "execute_result",
          "data": {
            "text/plain": [
              "array([0, 0, 3, ..., 4, 1, 1])"
            ]
          },
          "metadata": {},
          "execution_count": 28
        }
      ]
    },
    {
      "cell_type": "code",
      "source": [
        "!wget https://raw.githubusercontent.com/elinteerie/Extra/main/helper_functions.py"
      ],
      "metadata": {
        "colab": {
          "base_uri": "https://localhost:8080/"
        },
        "id": "ycLl5i77BJoo",
        "outputId": "fe63646f-c487-4165-c459-0be684bb1c5c"
      },
      "execution_count": 29,
      "outputs": [
        {
          "output_type": "stream",
          "name": "stdout",
          "text": [
            "--2022-07-04 20:06:35--  https://raw.githubusercontent.com/elinteerie/Extra/main/helper_functions.py\n",
            "Resolving raw.githubusercontent.com (raw.githubusercontent.com)... 185.199.108.133, 185.199.109.133, 185.199.110.133, ...\n",
            "Connecting to raw.githubusercontent.com (raw.githubusercontent.com)|185.199.108.133|:443... connected.\n",
            "HTTP request sent, awaiting response... 200 OK\n",
            "Length: 14389 (14K) [text/plain]\n",
            "Saving to: ‘helper_functions.py’\n",
            "\n",
            "\rhelper_functions.py   0%[                    ]       0  --.-KB/s               \rhelper_functions.py 100%[===================>]  14.05K  --.-KB/s    in 0.001s  \n",
            "\n",
            "2022-07-04 20:06:35 (26.9 MB/s) - ‘helper_functions.py’ saved [14389/14389]\n",
            "\n"
          ]
        }
      ]
    },
    {
      "cell_type": "code",
      "source": [
        "from helper_functions import *"
      ],
      "metadata": {
        "id": "p26DOP3YBVn-"
      },
      "execution_count": 30,
      "outputs": []
    },
    {
      "cell_type": "code",
      "source": [
        "baseline_results = calculate_results(val_labels_encoded, baseline_preds)"
      ],
      "metadata": {
        "id": "PUp2y3OeBd5I"
      },
      "execution_count": 31,
      "outputs": []
    },
    {
      "cell_type": "code",
      "source": [
        "baseline_results"
      ],
      "metadata": {
        "colab": {
          "base_uri": "https://localhost:8080/"
        },
        "id": "P4Z7VrLUB094",
        "outputId": "44dd2b9c-50e4-420a-9194-c97643c1bf7a"
      },
      "execution_count": 32,
      "outputs": [
        {
          "output_type": "execute_result",
          "data": {
            "text/plain": [
              "{'accuracy': 67.60889712696941,\n",
              " 'f1': 0.6351051244365337,\n",
              " 'precision': 0.6750509747444058,\n",
              " 'recall': 0.6760889712696941}"
            ]
          },
          "metadata": {},
          "execution_count": 32
        }
      ]
    },
    {
      "cell_type": "code",
      "source": [
        "import numpy as np\n",
        "import tensorflow as tf\n",
        "from tensorflow.keras import layers"
      ],
      "metadata": {
        "id": "XC3bsG7QDnDP"
      },
      "execution_count": 33,
      "outputs": []
    },
    {
      "cell_type": "code",
      "source": [
        "sent_len = [len(sentence.split()) for sentence in train_sentences]\n",
        "avg_sent_len = np.mean(sent_len)"
      ],
      "metadata": {
        "id": "TcLs6YvjDyJI"
      },
      "execution_count": 34,
      "outputs": []
    },
    {
      "cell_type": "code",
      "source": [
        "round(avg_sent_len)"
      ],
      "metadata": {
        "colab": {
          "base_uri": "https://localhost:8080/"
        },
        "id": "wnuAJu9vE12h",
        "outputId": "1d32dfd7-de16-49f8-9ba5-81d8e0d7d12e"
      },
      "execution_count": 35,
      "outputs": [
        {
          "output_type": "execute_result",
          "data": {
            "text/plain": [
              "26"
            ]
          },
          "metadata": {},
          "execution_count": 35
        }
      ]
    },
    {
      "cell_type": "code",
      "source": [
        "import matplotlib.pyplot as plt\n",
        "plt.hist(sent_len);"
      ],
      "metadata": {
        "colab": {
          "base_uri": "https://localhost:8080/",
          "height": 269
        },
        "id": "nLFG-OAzGMlv",
        "outputId": "b13a824b-c42f-478a-d8e4-c3c910ffe2a2"
      },
      "execution_count": 36,
      "outputs": [
        {
          "output_type": "display_data",
          "data": {
            "text/plain": [
              "<Figure size 432x288 with 1 Axes>"
            ],
            "image/png": "[encoded data removed]"
          },
          "metadata": {
            "needs_background": "light"
          }
        }
      ]
    },
    {
      "cell_type": "code",
      "source": [
        "#How long is the Sentence\n",
        "output_seq_len = int(np.percentile(sent_len, 95))"
      ],
      "metadata": {
        "id": "qqwQwKl8GO6v"
      },
      "execution_count": 37,
      "outputs": []
    },
    {
      "cell_type": "code",
      "source": [
        "output_seq_len "
      ],
      "metadata": {
        "colab": {
          "base_uri": "https://localhost:8080/"
        },
        "id": "QMDmCK2qGabk",
        "outputId": "cb7f6307-cae0-4978-acc4-65557b9272f4"
      },
      "execution_count": 38,
      "outputs": [
        {
          "output_type": "execute_result",
          "data": {
            "text/plain": [
              "55"
            ]
          },
          "metadata": {},
          "execution_count": 38
        }
      ]
    },
    {
      "cell_type": "code",
      "source": [
        "max(sent_len)"
      ],
      "metadata": {
        "colab": {
          "base_uri": "https://localhost:8080/"
        },
        "id": "iqN3rvBcGb8S",
        "outputId": "e3985492-bb96-4892-ddcd-f05a54219296"
      },
      "execution_count": 39,
      "outputs": [
        {
          "output_type": "execute_result",
          "data": {
            "text/plain": [
              "211"
            ]
          },
          "metadata": {},
          "execution_count": 39
        }
      ]
    },
    {
      "cell_type": "code",
      "source": [
        "max_tokens = 68000"
      ],
      "metadata": {
        "id": "j2vc2zt2HYVt"
      },
      "execution_count": 40,
      "outputs": []
    },
    {
      "cell_type": "code",
      "source": [
        "#### Using Deep Sequence\n",
        "\n",
        "text_vectorizer = tf.keras.layers.TextVectorization(max_tokens=max_tokens, # number of words in vocabulary\n",
        "                                                    ngrams=1,\n",
        "                                    output_sequence_length=55) # desired output length of vectorized sequences"
      ],
      "metadata": {
        "id": "HHaG14ukBzfx"
      },
      "execution_count": 41,
      "outputs": []
    },
    {
      "cell_type": "code",
      "source": [
        "import random\n",
        "target_sentence = random.choice(train_sentences)"
      ],
      "metadata": {
        "id": "PJrCZS1-Clna"
      },
      "execution_count": 42,
      "outputs": []
    },
    {
      "cell_type": "code",
      "source": [
        "target_sentence"
      ],
      "metadata": {
        "colab": {
          "base_uri": "https://localhost:8080/",
          "height": 70
        },
        "id": "TOeQZIa8IYDD",
        "outputId": "93f9acd6-391b-4d60-869e-e2ec5ac0fc8f"
      },
      "execution_count": 43,
      "outputs": [
        {
          "output_type": "execute_result",
          "data": {
            "text/plain": [
              "'dual therapy with lopinavir and ritonavir plus lamivudine regimen warrants further clinical research and consideration as a potential therapeutic option for antiretroviral-therapy-naive patients .'"
            ],
            "application/vnd.google.colaboratory.intrinsic+json": {
              "type": "string"
            }
          },
          "metadata": {},
          "execution_count": 43
        }
      ]
    },
    {
      "cell_type": "code",
      "source": [
        "text_vectorizer.adapt(train_sentences)"
      ],
      "metadata": {
        "id": "Qp9w0kuoCZgD"
      },
      "execution_count": 44,
      "outputs": []
    },
    {
      "cell_type": "code",
      "source": [
        "test = text_vectorizer(target_sentence)"
      ],
      "metadata": {
        "id": "mQ0xDFbXChfl"
      },
      "execution_count": 45,
      "outputs": []
    },
    {
      "cell_type": "code",
      "source": [
        "test = tf.expand_dims(test, axis =0)"
      ],
      "metadata": {
        "id": "Dn3l1BfpDK-_"
      },
      "execution_count": 46,
      "outputs": []
    },
    {
      "cell_type": "code",
      "source": [
        "rct_20k = text_vectorizer.get_vocabulary()\n",
        "len(rct_20k)"
      ],
      "metadata": {
        "colab": {
          "base_uri": "https://localhost:8080/"
        },
        "id": "_4YbUvTRDU-v",
        "outputId": "dcb651a0-3a2b-4c00-d2e5-556c7a0647a8"
      },
      "execution_count": 47,
      "outputs": [
        {
          "output_type": "execute_result",
          "data": {
            "text/plain": [
              "24854"
            ]
          },
          "metadata": {},
          "execution_count": 47
        }
      ]
    },
    {
      "cell_type": "code",
      "source": [
        "text_vectorizer.get_config()"
      ],
      "metadata": {
        "colab": {
          "base_uri": "https://localhost:8080/"
        },
        "id": "zDzjMdAgGIGj",
        "outputId": "6f096804-5539-427a-9bb9-c7dddb2bc193"
      },
      "execution_count": 48,
      "outputs": [
        {
          "output_type": "execute_result",
          "data": {
            "text/plain": [
              "{'batch_input_shape': (None,),\n",
              " 'dtype': 'string',\n",
              " 'idf_weights': None,\n",
              " 'max_tokens': 68000,\n",
              " 'name': 'text_vectorization',\n",
              " 'ngrams': 1,\n",
              " 'output_mode': 'int',\n",
              " 'output_sequence_length': 55,\n",
              " 'pad_to_max_tokens': False,\n",
              " 'ragged': False,\n",
              " 'sparse': False,\n",
              " 'split': 'whitespace',\n",
              " 'standardize': 'lower_and_strip_punctuation',\n",
              " 'trainable': True,\n",
              " 'vocabulary': None}"
            ]
          },
          "metadata": {},
          "execution_count": 48
        }
      ]
    },
    {
      "cell_type": "code",
      "source": [
        "token_embed = layers.Embedding(input_dim=68000, # length of vocabulary\n",
        "                               output_dim=128, # Note: different embedding sizes result in drastically different numbers of parameters to train\n",
        "                               # Use masking to handle variable sequence lengths (save space)\n",
        "                               mask_zero=True,\n",
        "                               name=\"token_embedding\") "
      ],
      "metadata": {
        "id": "ZOtc_h9EJiHw"
      },
      "execution_count": 49,
      "outputs": []
    },
    {
      "cell_type": "code",
      "source": [
        "em = token_embed(test)"
      ],
      "metadata": {
        "id": "5R8v5JCaKLuW"
      },
      "execution_count": 50,
      "outputs": []
    },
    {
      "cell_type": "code",
      "source": [
        "print(em.shape)"
      ],
      "metadata": {
        "colab": {
          "base_uri": "https://localhost:8080/"
        },
        "id": "4oBCt-plKN34",
        "outputId": "96c18a02-8f85-496e-aa5c-8ce78abbcd61"
      },
      "execution_count": 51,
      "outputs": [
        {
          "output_type": "stream",
          "name": "stdout",
          "text": [
            "(1, 55, 128)\n"
          ]
        }
      ]
    },
    {
      "cell_type": "code",
      "source": [
        "#train_sentences = tf.expand_dims(train_sentences, axis =0)\n",
        "#val_sentences = tf.expand_dims(val_sentences, axis =0)\n",
        "#test_sentences = tf.expand_dims(test_sentences, axis =0)\n",
        "\n"
      ],
      "metadata": {
        "id": "_KD_uP8ua1f9"
      },
      "execution_count": 52,
      "outputs": []
    },
    {
      "cell_type": "markdown",
      "source": [
        "# Create a Dataset With Tf Dataset"
      ],
      "metadata": {
        "id": "cFbZsdCfL-cf"
      }
    },
    {
      "cell_type": "code",
      "source": [
        "train_dataset =  tf.data.Dataset.from_tensor_slices((train_sentences, train_labels_one_hot))\n",
        "val_dataset = tf.data.Dataset.from_tensor_slices((val_sentences, val_labels_one_hot))\n",
        "test_dataset = tf.data.Dataset.from_tensor_slices((test_sentences, test_label_one_hot))"
      ],
      "metadata": {
        "id": "N5zgy-0DM1Ax"
      },
      "execution_count": 53,
      "outputs": []
    },
    {
      "cell_type": "code",
      "source": [
        "train_dataset"
      ],
      "metadata": {
        "colab": {
          "base_uri": "https://localhost:8080/"
        },
        "id": "0jESCoMBW1V9",
        "outputId": "37a35187-6b5b-46f0-d01e-573cae8d328a"
      },
      "execution_count": 54,
      "outputs": [
        {
          "output_type": "execute_result",
          "data": {
            "text/plain": [
              "<TensorSliceDataset element_spec=(TensorSpec(shape=(), dtype=tf.string, name=None), TensorSpec(shape=(5,), dtype=tf.float64, name=None))>"
            ]
          },
          "metadata": {},
          "execution_count": 54
        }
      ]
    },
    {
      "cell_type": "code",
      "source": [
        "train_dataset\n",
        "\n",
        "list(train_dataset.as_numpy_iterator())"
      ],
      "metadata": {
        "colab": {
          "base_uri": "https://localhost:8080/"
        },
        "id": "3ub_inAHazMN",
        "outputId": "b9f2170d-3c8c-42bb-f6ae-4117047e50a5"
      },
      "execution_count": 55,
      "outputs": [
        {
          "output_type": "execute_result",
          "data": {
            "text/plain": [
              "[(b'this study analyzed liver function abnormalities in heart failure patients admitted with severe acute decompensated heart failure ( adhf ) .',\n",
              "  array([1., 0., 0., 0., 0.])),\n",
              " (b'a post hoc analysis was conducted with the use of data from the evaluation study of congestive heart failure and pulmonary artery catheterization effectiveness ( escape ) .',\n",
              "  array([0., 0., 0., 0., 1.])),\n",
              " (b'liver function tests ( lfts ) were measured at @ time points from baseline , at discharge , and up to @ months follow-up .',\n",
              "  array([0., 0., 0., 0., 1.])),\n",
              " (b'survival analyses were used to assess the association between admission model of end-stage liver disease excluding international normalized ratio ( meld-xi ) scores and patient outcome.there was a high prevalence of abnormal baseline ( admission ) lfts ( albumin @ % , aspartate transaminase @ % , alanine transaminase @ % , and total bilirubin @ % ) .',\n",
              "  array([0., 0., 0., 0., 1.])),\n",
              " (b\"the percentage of patients with abnormal lfts decreased significantly from baseline to @-months ' follow-up .\",\n",
              "  array([0., 0., 0., 0., 1.])),\n",
              " (b'when mean hemodynamic profiles were compared in patients with abnormal versus normal lfts , elevated total bilirubin was associated with a significantly lower cardiac index ( @ vs @ ; p < @ ) and higher central venous pressure ( @ vs @ ; p = @ ) .',\n",
              "  array([0., 0., 0., 0., 1.])),\n",
              " (b'multivariable analyses revealed that patients with elevated meld-xi scores ( @ ) had a @-fold ( hazard ratio@ @ , @ % confidence interval @-@ @ ) increased risk of death , rehospitalization , or transplantation after adjusting for baseline lfts , age , sex , race , body mass index , diabetes , and systolic blood pressure .',\n",
              "  array([0., 0., 0., 0., 1.])),\n",
              " (b'abnormal lfts are common in the adhf population and are a dynamic marker of an impaired hemodynamic state .',\n",
              "  array([0., 1., 0., 0., 0.])),\n",
              " (b'elevated meld-xi scores are associated with poor outcomes among patients admitted with adhf .',\n",
              "  array([0., 1., 0., 0., 0.])),\n",
              " (b'minimally invasive endovascular aneurysm repair ( evar ) could be a surgical technique that improves outcome of patients with ruptured abdominal aortic aneurysm ( raaa ) .',\n",
              "  array([1., 0., 0., 0., 0.])),\n",
              " (b'the aim of this study was to analyse the cost-effectiveness and cost-utility of evar compared with standard open repair ( or ) in the treatment of raaa , with costs per @-day and @-month survivor as outcome parameters .',\n",
              "  array([1., 0., 0., 0., 0.])),\n",
              " (b'resource use was determined from the amsterdam acute aneurysm ( ajax ) trial , a multicentre randomized trial comparing evar with or in patients with raaa .',\n",
              "  array([0., 0., 1., 0., 0.])),\n",
              " (b'the analysis was performed from a provider perspective .',\n",
              "  array([0., 0., 1., 0., 0.])),\n",
              " (b'all costs were calculated as if all patients had been treated in the same hospital ( onze lieve vrouwe gasthuis , teaching hospital ) .',\n",
              "  array([0., 0., 1., 0., 0.])),\n",
              " (b'a total of @ patients were randomized .', array([0., 0., 0., 0., 1.])),\n",
              " (b'the @-day mortality rate was @ per cent after evar and @ per cent for or : absolute risk reduction ( arr ) @ ( @ per cent confidence interval ( c.i. ) -@ to @ ) per cent .',\n",
              "  array([0., 0., 0., 0., 1.])),\n",
              " (b'at @months , the total mortality rate for evar was @ per cent , compared with @ per cent among those assigned to or : arr @ ( -@ to @ ) per cent .',\n",
              "  array([0., 0., 0., 0., 1.])),\n",
              " (b'the mean cost difference between evar and or was @ ( @ per cent c.i. -@ to @,@ ) at @days and @,@ ( -@ to @,@ ) at @months .',\n",
              "  array([0., 0., 0., 0., 1.])),\n",
              " (b'the incremental cost-effectiveness ratio per prevented death was @,@ at @days and @,@ at @months .',\n",
              "  array([0., 0., 0., 0., 1.])),\n",
              " (b'there was no significant difference in quality of life between evar and or .',\n",
              "  array([0., 0., 0., 0., 1.])),\n",
              " (b'nor was evar superior regarding cost-utility .',\n",
              "  array([0., 0., 0., 0., 1.])),\n",
              " (b'evar may be more effective for raaa , but its increased costs mean that it is unaffordable based on current standards of societal willingness-to-pay for health gains .',\n",
              "  array([0., 1., 0., 0., 0.])),\n",
              " (b'evidence suggests that individuals with social anxiety demonstrate vigilance to social threat , whilst the peptide hormone oxytocin is widely accepted as supporting affiliative behaviour in humans .',\n",
              "  array([1., 0., 0., 0., 0.])),\n",
              " (b'this study investigated whether oxytocin can affect attentional bias in social anxiety .',\n",
              "  array([0., 0., 1., 0., 0.])),\n",
              " (b'in a double-blind , randomized , placebo-controlled , within-group study design , @ healthy and @ highly socially anxious ( hsa ) male volunteers ( within the hsa group , @ were diagnosed with generalized social anxiety disorder ) were administered @ iu of oxytocin or placebo to investigate attentional processing in social anxiety .',\n",
              "  array([0., 0., 1., 0., 0.])),\n",
              " (b'attentional bias was assessed using the dot-probe paradigm with angry , fearful , happy and neutral face stimuli .',\n",
              "  array([0., 0., 1., 0., 0.])),\n",
              " (b'in the baseline placebo condition , the hsa group showed greater attentional bias for emotional faces than healthy individuals .',\n",
              "  array([0., 0., 0., 0., 1.])),\n",
              " (b'oxytocin reduced the difference between hsa and non-socially anxious individuals in attentional bias for emotional faces .',\n",
              "  array([0., 0., 0., 0., 1.])),\n",
              " (b'moreover , it appeared to normalize attentional bias in hsa individuals to levels seen in the healthy population in the baseline condition .',\n",
              "  array([0., 0., 0., 0., 1.])),\n",
              " (b'the biological mechanisms by which oxytocin may be exerting these effects are discussed .',\n",
              "  array([0., 0., 0., 0., 1.])),\n",
              " (b'these results , coupled with previous research , could indicate a potential therapeutic use of this hormone in treatment for social anxiety .',\n",
              "  array([0., 1., 0., 0., 0.])),\n",
              " (b'exposure to diesel exhaust causes inflammatory responses .',\n",
              "  array([1., 0., 0., 0., 0.])),\n",
              " (b'previous controlled exposure studies at a concentration of @ g/m ( @ ) of diesel exhaust particles mainly lasted for @ h.',\n",
              "  array([1., 0., 0., 0., 0.])),\n",
              " (b'we prolonged the exposure period and investigated how quickly diesel exhaust can induce respiratory and systemic effects .',\n",
              "  array([1., 0., 0., 0., 0.])),\n",
              " (b'eighteen healthy volunteers were exposed twice to diluted diesel exhaust ( pm@ ~ @ g/m ( @ ) ) and twice to filtered air ( pm@ ~ @ g/m ( @ ) ) for @ h , seated , in a chamber with a double-blind set-up .',\n",
              "  array([0., 0., 1., 0., 0.])),\n",
              " (b'immediately before and after exposure , we performed a medical examination , spirometry , rhinometry , nasal lavage and blood sampling .',\n",
              "  array([0., 0., 1., 0., 0.])),\n",
              " (b'nasal lavage and blood samples were collected again @ h post-exposure .',\n",
              "  array([0., 0., 1., 0., 0.])),\n",
              " (b'symptom scores and peak expiratory flow ( pef ) were assessed before exposure , and at @ , @ , and @ min of exposure .',\n",
              "  array([0., 0., 1., 0., 0.])),\n",
              " (b'self-rated throat irritation was higher during diesel exhaust than filtered air exposure .',\n",
              "  array([0., 0., 0., 0., 1.])),\n",
              " (b'clinical signs of irritation in the upper airways were also significantly more common after diesel exhaust exposure ( odds ratio = @ , p < @ ) .',\n",
              "  array([0., 0., 0., 0., 1.])),\n",
              " (b'pef increased during filtered air , but decreased during diesel exhaust exposure , with a statistically significant difference at @ min ( +@ l/min vs. -@ l/min , p = @ ) .',\n",
              "  array([0., 0., 0., 0., 1.])),\n",
              " (b'monocyte and total leukocyte counts in peripheral blood were higher after exposure to diesel exhaust than filtered air @ h post-exposure , and a trend ( p = @ ) towards increased serum il-@ concentrations was also observed @ h post-exposure .',\n",
              "  array([0., 0., 0., 0., 1.])),\n",
              " (b'diesel exhaust induced acute adverse effects such as symptoms and signs of irritation , decreased pef , inflammatory markers in healthy volunteers .',\n",
              "  array([0., 1., 0., 0., 0.])),\n",
              " (b'the effects were first seen at @ min of exposure .',\n",
              "  array([0., 1., 0., 0., 0.])),\n",
              " (b'depressive disorders are one of the leading components of the global burden of disease with a prevalence of up to @ % in the general population .',\n",
              "  array([0., 0., 0., 1., 0.])),\n",
              " (b'numerous studies have demonstrated that pharmacotherapy combined with non-pharmacological measures offer the best treatment approach .',\n",
              "  array([0., 0., 0., 1., 0.])),\n",
              " (b'psycho-education as an intervention has been studied mostly in disorders such as schizophrenia and dementia , less so in depressive disorders .',\n",
              "  array([0., 0., 0., 1., 0.])),\n",
              " (b'the present study aimed to assess the impact of psycho-education of patients and their caregivers on the outcome of depression .',\n",
              "  array([0., 0., 0., 1., 0.])),\n",
              " (b'a total of @ eligible depressed subjects were recruited and randomised into @ groups .',\n",
              "  array([0., 0., 1., 0., 0.])),\n",
              " (b'the study group involved an eligible family member and all were offered individual structured psycho-educational modules .',\n",
              "  array([0., 0., 1., 0., 0.])),\n",
              " (b'another group ( controls ) received routine counselling .',\n",
              "  array([0., 0., 1., 0., 0.])),\n",
              " (b'the subjects in both groups also received routine pharmacotherapy and counselling from the treating clinician and were assessed at baseline , @ , @ , @ , and @ weeks using the hamilton depression rating scale ( hdrs ) , global assessment of functioning ( gaf ) , and psychological general well-being index ( pgwbi ) .',\n",
              "  array([0., 0., 1., 0., 0.])),\n",
              " (b\"results from both groups were compared using statistical methods including chi-square test , fisher 's exact test , student 's t test , pearson 's correlation coefficient , as well as univariate and multiple regression analyses .\",\n",
              "  array([0., 0., 1., 0., 0.])),\n",
              " (b'baseline socio-demographic and assessment measures were similar in both groups .',\n",
              "  array([0., 0., 0., 0., 1.])),\n",
              " (b'the study group had consistent improvement in terms of outcome measures with hdrs , gaf , and pgwbi scores showing respective mean change of -@ , @ , and @ over @ weeks .',\n",
              "  array([0., 0., 0., 0., 1.])),\n",
              " (b'the comparable respective changes in the controls were -@ , @ , and @ .',\n",
              "  array([0., 0., 0., 0., 1.])),\n",
              " (b'structured psycho-education combined with pharmacotherapy is an effective intervention for people with depressive disorders .',\n",
              "  array([0., 1., 0., 0., 0.])),\n",
              " (b'psycho-education optimises the pharmacological treatment of depression in terms of faster recovery , reduction in severity of depression , and improvement in subjective wellbeing and social functioning .',\n",
              "  array([0., 1., 0., 0., 0.])),\n",
              " (b'a pharmacokinetic substudy was conducted within a phase @ clinical trial that evaluated the efficacy and safety of two leuprolide acetate @-month depot formulations in children with central precocious puberty ( cpp ) , where the pharmacokinetics of leuprolide and the exposure-response relationship between leuprolide concentration and the probability of luteinizing hormone ( lh ) suppression were assessed .',\n",
              "  array([0., 0., 0., 1., 0.])),\n",
              " (b'children diagnosed with cpp ( n = @ in each dosing cohort ) , who were treatment nave or previously treated , received a total of two intramuscular injections of either leuprolide acetate depot @ or @ mg formulations administered @ months apart .',\n",
              "  array([0., 0., 1., 0., 0.])),\n",
              " (b'serial blood samples were collected for leuprolide concentration determination in a subset of subjects ( n = @ in each cohort ) .',\n",
              "  array([0., 0., 1., 0., 0.])),\n",
              " (b'one-way analysis of covariance was used to assess dose proportionality .',\n",
              "  array([0., 0., 1., 0., 0.])),\n",
              " (b'the probability of lh suppression ( peak-stimulated lh concentrations < @ miu/ml ) exposure-response relationship was modelled using repeated measures logistic regression .',\n",
              "  array([0., 0., 1., 0., 0.])),\n",
              " (b'the predicted probability of lh suppression and the corresponding @ % confidence interval at the mean leuprolide concentration of each dose group and at each time of measurement were computed .',\n",
              "  array([0., 0., 1., 0., 0.])),\n",
              " (b'mean leuprolide concentrations between weeks @ and @ for @ and @ mg doses were relatively constant and dose proportional , with no accumulation of leuprolide upon repeated administration .',\n",
              "  array([0., 0., 0., 0., 1.])),\n",
              " (b'body weight and age were not found to be significant covariates on leuprolide pharmacokinetics .',\n",
              "  array([0., 0., 0., 0., 1.])),\n",
              " (b'higher leuprolide concentrations were associated with higher probability of lh suppression and both doses provided lh suppression levels < @ miu/ml .',\n",
              "  array([0., 0., 0., 0., 1.])),\n",
              " (b'leuprolide pharmacokinetics were characterized for @ and @ mg @-month depot injections .',\n",
              "  array([0., 1., 0., 0., 0.])),\n",
              " (b'an exposure-response model was developed to link leuprolide concentrations and probability of peak-stimulated lh suppression .',\n",
              "  array([0., 1., 0., 0., 0.])),\n",
              " (b'to determine whether alcohol consumption is causally associated with cognitive impairment in older men as predicted by mendelian randomization .',\n",
              "  array([0., 0., 0., 1., 0.])),\n",
              " (b'retrospective analysis of a cohort study of @,@ community-dwelling men aged @ to @ years followed for @ years .',\n",
              "  array([0., 0., 1., 0., 0.])),\n",
              " (b'cognitive impairment was established by a mini-mental state examination score of @ or less .',\n",
              "  array([0., 0., 1., 0., 0.])),\n",
              " (b'participants provided detailed information about their use of alcohol during the preceding year and were classified as abstainers , occasional drinkers , and regular drinkers : mild ( < @ drinks/wk ) , moderate ( @-@ drinks/wk ) , heavy ( @-@ drinks/wk ) , and abusers ( @ drinks/wk ) .',\n",
              "  array([0., 0., 1., 0., 0.])),\n",
              " (b'we genotyped the rs@ ga variant of the alcohol dehydrogenase @b ( adh@b ) gene , which is associated with lower prevalence of alcohol abuse and dependence .',\n",
              "  array([0., 0., 1., 0., 0.])),\n",
              " (b'other measures included age , education , marital status , smoking and physical activity , body mass index , diabetes , hypertension , and cardiovascular diseases .',\n",
              "  array([0., 0., 1., 0., 0.])),\n",
              " (b'at study entry , rs@ ga polymorphism was associated with lower prevalence of regular use of alcohol and decreased consumption among regular users .',\n",
              "  array([0., 0., 0., 0., 1.])),\n",
              " (b'six years later , @ men ( @ % ) showed evidence of cognitive impairment .',\n",
              "  array([0., 0., 0., 0., 1.])),\n",
              " (b'abstainers and irregular drinkers had higher odds of cognitive impairment than regular drinkers ( odds ratio -lsb- or -rsb- = @ , @ % confidence interval -lsb- ci -rsb- = @-@ @ , after adjustment for other measured factors ) .',\n",
              "  array([0., 0., 0., 0., 1.])),\n",
              " (b'the rs@ ga polymorphism did not decrease the odds of cognitive impairment ( aa/gg or = @ , @ % ci = @-@ @ ; ga/gg or = @ , @ % ci = @-@ @ ) .',\n",
              "  array([0., 0., 0., 0., 1.])),\n",
              " (b'alcohol consumption , including heavy regular drinking and abuse , is not a direct cause of cognitive impairment in later life .',\n",
              "  array([0., 1., 0., 0., 0.])),\n",
              " (b'our results are consistent with the possibility , but do not prove , that regular moderate drinking decreases the risk of cognitive impairment in older men .',\n",
              "  array([0., 1., 0., 0., 0.])),\n",
              " (b'detoxification with psychosocial counseling remains a standard opioid-use disorder treatment practice but is associated with poor outcomes .',\n",
              "  array([1., 0., 0., 0., 0.])),\n",
              " (b'this study tested the efficacy of a newly developed psychosocial intervention , community reinforcement approach and family training for treatment retention ( craft-t ) , relative to psychosocial treatment as usual ( tau ) , for improving treatment outcomes .',\n",
              "  array([1., 0., 0., 0., 0.])),\n",
              " (b'a randomized , @-week trial with follow-up visits at @ and @ months post-randomization conducted at two substance use disorder ( sud ) treatment programs .',\n",
              "  array([0., 0., 1., 0., 0.])),\n",
              " (b'opioid-dependent adults ( i.e. , identified patient - ip ) enrolled in a residential buprenorphine-detoxification program and their identified concerned significant other ( cso ) was randomized to craft-t ( n = @ dyads ) or tau ( n = @ dyads ) .',\n",
              "  array([0., 0., 1., 0., 0.])),\n",
              " (b'craft-t consisted of two sessions with the ip and cso together and @ with the cso alone , over @ weeks .',\n",
              "  array([0., 0., 1., 0., 0.])),\n",
              " (b'tau for the csos was primarily educational and referral to self-help .',\n",
              "  array([0., 0., 1., 0., 0.])),\n",
              " (b'all ips received treatment as usually provided by the sud program in which they were enrolled .',\n",
              "  array([0., 0., 1., 0., 0.])),\n",
              " (b'the primary outcome was time to first ip drop from treatment lasting @ days or more .',\n",
              "  array([0., 0., 1., 0., 0.])),\n",
              " (b'opioid and other drug use were key secondary outcomes .',\n",
              "  array([0., 0., 1., 0., 0.])),\n",
              " (b'craft-t resulted in a moderate but non-significant effect on treatment retention ( p = @ , hazard ratio = @ ) .',\n",
              "  array([0., 0., 0., 0., 1.])),\n",
              " (b'when the cso was parental family , craft-t had a large and significant effect on treatment retention ( p < @ , hazard ratio = @ ) .',\n",
              "  array([0., 0., 0., 0., 1.])),\n",
              " (b'craft-t had a significant positive effect on ip opioid and other drug use ( p < @ ) .',\n",
              "  array([0., 0., 0., 0., 1.])),\n",
              " (b'craft-t is a promising treatment for opioid use disorder but replication is needed to confirm these results .',\n",
              "  array([0., 1., 0., 0., 0.])),\n",
              " (b'characterization of the variations in the metabolomic profiles of elderly people is a necessary step to understand changes associated with aging .',\n",
              "  array([1., 0., 0., 0., 0.])),\n",
              " (b'this study assessed whether diets with different fat quality and supplementation with coenzyme q@ ( coq ) affect the metabolomic profile in urine analyzed by proton nuclear magnetic resonance spectroscopy from elderly people .',\n",
              "  array([1., 0., 0., 0., 0.])),\n",
              " (b'ten participants received , in a cross-over design , four isocaloric diets for @-week periods each : mediterranean diet supplemented with coq ( med + coq diet ) ; mediterranean diet ; western diet rich in saturated fat diet ; low-fat , high-carbohydrate diet enriched in n-@ polyunsaturated fat .',\n",
              "  array([0., 0., 1., 0., 0.])),\n",
              " (b'multivariate analysis showed differences between diets when comparing med + coq diet and saturated fat diet , with greater hippurate urine levels after med + coq diet and higher phenylacetylglycine levels after saturated fat diet in women .',\n",
              "  array([0., 0., 0., 0., 1.])),\n",
              " (b'following consumption of med + coq , hippurate excretion was positively correlated with coq and - carotene plasma levels and inversely related to nrf@ , thioredoxin , superoxide dismutase @ , and gp@ ( phox ) subunit of nadph oxidase gene expression .',\n",
              "  array([0., 0., 0., 0., 1.])),\n",
              " (b'after saturated fat diet consumption , phenylacetylglycine excretion was inversely related to coq plasma level and positively correlated with isoprostanes urinary level .',\n",
              "  array([0., 0., 0., 0., 1.])),\n",
              " (b'the association between hippurate excretion and antioxidant biomarkers along with the relationship between phenylacetylglycine excretion and oxidant biomarkers suggests that the long-term consumption of a med + coq diet could be beneficial for healthy aging and a promising challenge in the prevention of processes related to chronic oxidative stress , such as cardiovascular and neurodegenerative disease .',\n",
              "  array([0., 1., 0., 0., 0.])),\n",
              " (b'to compare the differences in the efficacy on lower limb motor function in children with spastic cerebral palsy between the combined therapeutic program of jin three-needle therapy and motomed intelligent motor training and the simple motomed .',\n",
              "  array([0., 0., 0., 1., 0.])),\n",
              " (b'eighty children with spastic cerebral palsy were randomized into an observation group and a control group , @ cases in each group .',\n",
              "  array([0., 0., 1., 0., 0.])),\n",
              " (b'in the observation group , jin three-needle therapy was used at four mind points , three brain points , three intelligent points , three temporal points , three knee points and three foot points , as well as chengjin ( bl @ ) , chengshen ( bl @ ) and the other .',\n",
              "  array([0., 0., 1., 0., 0.])),\n",
              " (b'additionally , motomed was given in assistance with conventional rehabilitation training .',\n",
              "  array([0., 0., 1., 0., 0.])),\n",
              " (b'in the control group , motomed and the conventional rehabilitation training were adopted .',\n",
              "  array([0., 0., 1., 0., 0.])),\n",
              " (b'in the two groups , the treatment was given once a day , @ treatments made one session and there were @ to @ days at interval between the two sessions .',\n",
              "  array([0., 0., 1., 0., 0.])),\n",
              " (b'the efficacy evaluation was performed after continuous @ sessions of treatment .',\n",
              "  array([0., 0., 1., 0., 0.])),\n",
              " (b'the gross motor function measure ( gmfm ) and modified ashworth scale ( mas ) were applied for the evaluation before and after treatment in the two groups .',\n",
              "  array([0., 0., 1., 0., 0.])),\n",
              " (b'after @ sessions of treatment , gmfm score was increased apparently as compared with that before treatment in the two groups ( p < @ , p < @ ) .',\n",
              "  array([0., 0., 0., 0., 1.])),\n",
              " (b'after treatment , gmfm score in the observation group was increased more remarkably than that in the control group ( @ + / - @ vs @ + / - @ , p < @ ) .',\n",
              "  array([0., 0., 0., 0., 1.])),\n",
              " (b'after treatment , the total effective rate of gastrocnemius ashworth spasm grade -lsb- @ % ( @/@ ) -rsb- in the observation group was better apparently than -lsb- @ % ( @/@ ) -rsb- in the control group ( p < @ ) .',\n",
              "  array([0., 0., 0., 0., 1.])),\n",
              " (b'the combined therapeutic program of jin three-needle therapy and motomet intelligent motor training improves the lower limb motor function of the children with spastic cerebral palsy and its efficacy is better than simple motomed .',\n",
              "  array([0., 1., 0., 0., 0.])),\n",
              " (b'stenting is an alternative to endarterectomy for treatment of carotid artery stenosis , but long-term efficacy is uncertain .',\n",
              "  array([1., 0., 0., 0., 0.])),\n",
              " (b'we report long-term data from the randomised international carotid stenting study comparison of these treatments .',\n",
              "  array([1., 0., 0., 0., 0.])),\n",
              " (b'patients with symptomatic carotid stenosis were randomly assigned @:@ to open treatment with stenting or endarterectomy at @ centres worldwide .',\n",
              "  array([0., 0., 1., 0., 0.])),\n",
              " (b'randomisation was computer generated centrally and allocated by telephone call or fax .',\n",
              "  array([0., 0., 1., 0., 0.])),\n",
              " (b'major outcomes were assessed by an independent endpoint committee unaware of treatment assignment .',\n",
              "  array([0., 0., 1., 0., 0.])),\n",
              " (b'the primary endpoint was fatal or disabling stroke in any territory after randomisation to the end of follow-up .',\n",
              "  array([0., 0., 1., 0., 0.])),\n",
              " (b'analysis was by intention to treat ( -lsb- itt -rsb- all patients ) and per protocol from @ days after treatment ( all patients in whom assigned treatment was completed ) .',\n",
              "  array([0., 0., 1., 0., 0.])),\n",
              " (b'functional ability was rated with the modified rankin scale .',\n",
              "  array([0., 0., 1., 0., 0.])),\n",
              " (b'this study is registered , number isrctn@ .', array([0., 0., 1., 0., 0.])),\n",
              " (b'@ patients were assigned to stenting ( n = @ ) or endarterectomy ( n = @ ) and followed up for a median of @ years ( iqr @-@ , maximum @ ) .',\n",
              "  array([0., 0., 0., 0., 1.])),\n",
              " (b'three patients withdrew immediately and , therefore , the itt population comprised @ patients .',\n",
              "  array([0., 0., 0., 0., 1.])),\n",
              " (b'the number of fatal or disabling strokes ( @ vs @ ) and cumulative @-year risk did not differ significantly between the stenting and endarterectomy groups ( @ % vs @ % ; hazard ratio -lsb- hr -rsb- @ , @ % ci @-@ , p = @ ) .',\n",
              "  array([0., 0., 0., 0., 1.])),\n",
              " (b'any stroke was more frequent in the stenting group than in the endarterectomy group ( @ vs @ events ; itt population , @-year cumulative risk @ % vs @ % , hr @ , @ % ci @-@ , p < @ ; per-protocol population , @-year cumulative risk @ % vs @ % , @ , @-@ , p = @ ) , but were mainly non-disabling strokes .',\n",
              "  array([0., 0., 0., 0., 1.])),\n",
              " (b'the distribution of modified rankin scale scores at @ year , @ years , or final follow-up did not differ significantly between treatment groups .',\n",
              "  array([0., 0., 0., 0., 1.])),\n",
              " (b'long-term functional outcome and risk of fatal or disabling stroke are similar for stenting and endarterectomy for symptomatic carotid stenosis .',\n",
              "  array([0., 1., 0., 0., 0.])),\n",
              " (b'medical research council , stroke association , sanofi-synthlabo , european union .',\n",
              "  array([1., 0., 0., 0., 0.])),\n",
              " (b'to investigate the effect of central venous blood oxygen saturation ( scvo@ ) and venous-arterial pco@ ( p ( cv-a ) co@ ) guided fluid therapy on tissue perfusion , gastrointestinal function recovering and outcome of the patients who undergoing open gastrointestinal surgery .',\n",
              "  array([0., 0., 0., 1., 0.])),\n",
              " (b'forty patients undergoing open gastrointestinal surgery were randomly divided into @ groups ( n = @ each ) : scvo@ guided fluid therapy ( group s ) and p ( cv-a ) co@ guided fluid therapy ( group p ) .',\n",
              "  array([0., 0., 1., 0., 0.])),\n",
              " (b\"all the patients were infused @ ml/kg lactated ringer 's ( lr ) solution before anesthesia induction , they were all also given a continuous lactated ringer 's ( lr ) solution 's infusion at the speed of @ mlkg ( -@ ) h ( -@ ) during the operation .\",\n",
              "  array([0., 0., 1., 0., 0.])),\n",
              " (b\"while , @ % hes @/@ @ ( free flex @ % hes @/@ @ , fresenius kabi ) infusion was different between the @ groups , when the patients of group s 's central venous blood oxygen saturation < @ % or venous-arterial pco@ in the patients of p group @ mm hg , then infused @ % hes @/@ @ .\",\n",
              "  array([0., 0., 1., 0., 0.])),\n",
              " (b'arterial and central venous blood gas analyses were performed every @ minutes after skin incision , measure the venous and arterial lactate value , and record the anal exhaust time after surgery , postoperative complications and mortality in @ days .',\n",
              "  array([0., 0., 1., 0., 0.])),\n",
              " (b'compared with group s , the arterial lactate value in t@ ( after operation began @ min ) were significantly decreased in group p ( p = @ ) , and venous lactate value in t@ ( after operation began @ min ) were also lower ( p = @ ) , other lactate value were not different ( p > @ ) .',\n",
              "  array([0., 0., 0., 0., 1.])),\n",
              " (b'the anal exhaust time was not different between the two groups ( p = @ ) .',\n",
              "  array([0., 0., 0., 0., 1.])),\n",
              " (b'all the patients were survival , and there were no obvious postoperative complications .',\n",
              "  array([0., 0., 0., 0., 1.])),\n",
              " (b'compared to group s , there was a transient improvement in tissue perfusion in group p , but there were no difference in complications and mortality .',\n",
              "  array([0., 1., 0., 0., 0.])),\n",
              " (b'the study aim was to compare the efficacy and safety of ultrasound-guided intra-articular injections of hyaluronic acid and betamethasone in the management of patients with osteoarthritis of the thumb .',\n",
              "  array([0., 0., 0., 1., 0.])),\n",
              " (b'eighty-eight evaluable patients diagnosed with osteoarthritis of the thumb ( kellgren-lawrence grade ii-iii ) received ultrasound-guided intra-articular treatment with hyaluronic acid ( @ ) or betamethasone ( @ ) .',\n",
              "  array([0., 0., 1., 0., 0.])),\n",
              " (b'in total , @ local injections were scheduled at @-day intervals .',\n",
              "  array([0., 0., 1., 0., 0.])),\n",
              " (b'assessments were performed at baseline and at @ , @ , @ , @ , and @ days .',\n",
              "  array([0., 0., 1., 0., 0.])),\n",
              " (b'in both study groups , the pain visual analogue scale and functional index for hand osteoarthritis scores decreased significantly during follow-up compared to baseline .',\n",
              "  array([0., 0., 0., 0., 1.])),\n",
              " (b'there were no significant differences between the groups .',\n",
              "  array([0., 0., 0., 0., 1.])),\n",
              " (b'however , at @ days , the functional score showed a trend towards greater clinical improvement in the hyaluronic acid group ( p @ ) .',\n",
              "  array([0., 0., 0., 0., 1.])),\n",
              " (b'a subanalysis of patients with functional index score@ and visual analogue scale score@ at baseline showed a significantly higher median functionality score in the hyaluronic acid group ( p @ at @ days and p @ at @ days ) .',\n",
              "  array([0., 0., 0., 0., 1.])),\n",
              " (b'further limiting analysis to a baseline pain score@ showed significantly greater improvement in functionality score ( p @ at @ days ) , which was already apparent after the second intra-articular injection at @ days ( p @ ) .',\n",
              "  array([0., 0., 0., 0., 1.])),\n",
              " (b'in this patient subset , the mean pain score also improved significantly at @ days ( p @ ) .',\n",
              "  array([0., 0., 0., 0., 1.])),\n",
              " (b'both hyaluronic acid and betamethasone were effective and well-tolerated for the management of rhizarthrosis .',\n",
              "  array([0., 1., 0., 0., 0.])),\n",
              " (b'hyaluronic acid was more effective over time and more efficiently improved functionality and pain in patients with more severe symptoms .',\n",
              "  array([0., 1., 0., 0., 0.])),\n",
              " (b'the management of recurrent malignant pleural effusions ( mpe ) can be challenging .',\n",
              "  array([1., 0., 0., 0., 0.])),\n",
              " (b'various options are available , with the most efficacious and widely used being talc pleurodesis .',\n",
              "  array([1., 0., 0., 0., 0.])),\n",
              " (b'talc can either be applied via a chest drain in the form of slurry , or at medical thoracoscopy using poudrage .',\n",
              "  array([1., 0., 0., 0., 0.])),\n",
              " (b'current evidence regarding which method is most effective is conflicting and often methodologically flawed .',\n",
              "  array([1., 0., 0., 0., 0.])),\n",
              " (b'the tapps trial is a suitably powered , multicentre , open-label , randomised controlled trial designed to compare the pleurodesis success rate of medical thoracoscopy and talc poudrage with chest drain insertion and talc slurry .',\n",
              "  array([1., 0., 0., 0., 0.])),\n",
              " (b'@ patients with a confirmed mpe requiring intervention will be recruited from uk hospitals .',\n",
              "  array([0., 0., 1., 0., 0.])),\n",
              " (b'patients will be randomised ( @:@ ) to undergo either small bore ( < @fr ) seldinger chest drain insertion followed by instillation of sterile talc ( @g ) , or to undergo medical thoracoscopy and simultaneous poudrage ( @g ) .',\n",
              "  array([0., 0., 1., 0., 0.])),\n",
              " (b'the allocated procedure will be performed as an inpatient within @days of randomisation taking place .',\n",
              "  array([0., 0., 1., 0., 0.])),\n",
              " (b'following discharge , patients will be followed up at regular intervals for @months .',\n",
              "  array([0., 0., 1., 0., 0.])),\n",
              " (b'the primary outcome measure is pleurodesis failure rates at @months .',\n",
              "  array([0., 0., 1., 0., 0.])),\n",
              " (b'pleurodesis failure is defined as the need for further pleural intervention for fluid management on the side of the trial intervention .',\n",
              "  array([0., 0., 1., 0., 0.])),\n",
              " (b'the trial has received ethical approval from the national research ethics service committee north west-preston ( @/nw/@ ) .',\n",
              "  array([1., 0., 0., 0., 0.])),\n",
              " (b'there is a trial steering committee which includes independent members and a patient and public representative .',\n",
              "  array([1., 0., 0., 0., 0.])),\n",
              " (b'the trial results will be published in a peer-reviewed journal and presented at international conferences , as well as being disseminated via local and national charities and patient groups .',\n",
              "  array([1., 0., 0., 0., 0.])),\n",
              " (b'all participants who wish to know the study results will also be contacted directly on their publication .',\n",
              "  array([1., 0., 0., 0., 0.])),\n",
              " (b'isrctn@ .', array([1., 0., 0., 0., 0.])),\n",
              " (b'reference values for plasma pth assessment were generally established on small samples of apparently healthy subjects , without considering their @-hydroxyvitamin d ( @ohd ) status or other potential modifiers of pth concentration .',\n",
              "  array([1., 0., 0., 0., 0.])),\n",
              " (b'our objective was to assess ranges of plasma pth concentration in a large sample of adults , stratifying by @ohd status , age , gender , weight status , and calcium intake .',\n",
              "  array([0., 0., 0., 1., 0.])),\n",
              " (b'this cross-sectional survey is based on @ middle-aged caucasian adults from the supplmentation en vitamines et minraux antioxydants study ( @ ) .',\n",
              "  array([0., 0., 1., 0., 0.])),\n",
              " (b'plasma pth and @ohd concentrations were measured by an electrochemoluminescent immunoassay .',\n",
              "  array([0., 0., 1., 0., 0.])),\n",
              " (b'extreme percentiles of plasma pth concentrations were assessed specifically in subjects who had plasmatic values of @ohd of @ ng/ml or greater and @ ng/ml or greater .',\n",
              "  array([0., 0., 1., 0., 0.])),\n",
              " (b'among subjects with @ohd status of @ ng/ml or greater , the @ th percentile of plasma pth concentration was @ ng/l .',\n",
              "  array([0., 0., 0., 0., 1.])),\n",
              " (b'by using this value as a reference , @ % of the subjects with plasma @ohd less than @ nmol/l had a high plasma pth level , reflecting secondary hyperparathyroidism .',\n",
              "  array([0., 0., 0., 0., 1.])),\n",
              " (b'among vitamin d-replete subjects ( @ohd status of @ ng/ml or greater ) , the @ th percentile of plasma pth was higher in overweight/obese subjects ( @ vs @ ng/l among normal weight subjects ) .',\n",
              "  array([0., 0., 0., 0., 1.])),\n",
              " (b'the reference value for plasma pth defined in this vitamin d-replete population was far below the value currently provided by the manufacturer ( @ ng/l ) and varied according to overweight status .',\n",
              "  array([0., 1., 0., 0., 0.])),\n",
              " (b'these results may contribute to improve the diagnosis of primary and secondary hyperparathyroidism and subsequent therapeutic indication .',\n",
              "  array([0., 1., 0., 0., 0.])),\n",
              " (b'cytokine responses accompanying sublingual immunotherapy ( slit ) responder phenotypes have not previously been reported .',\n",
              "  array([1., 0., 0., 0., 0.])),\n",
              " (b'to investigate clinical and cytokine responses of house dust mite ( hdm ) sensitive patients with allergic rhinitis receiving hdm slit or placebo for @ years .',\n",
              "  array([0., 0., 0., 1., 0.])),\n",
              " (b'sixty adults were randomized to receive slit or placebo .',\n",
              "  array([0., 0., 1., 0., 0.])),\n",
              " (b'clinical symptoms were measured using the total @ symptom score ( tss@ ) and juniper rhinitis quality of life questionnaire .',\n",
              "  array([0., 0., 1., 0., 0.])),\n",
              " (b'hdm specific ige , igg , skin prick tests , and hdm-stimulated release of interleukin ( il ) @ and interferon ( ifn - ) in peripheral blood mononuclear cells was studied at @ , @ , @ , and @ months and il-@ , il-@ , and il-@ at @ and @ months .',\n",
              "  array([0., 0., 1., 0., 0.])),\n",
              " (b'a total of @ of @ slit and @ of @ placebo patients completed the study .',\n",
              "  array([0., 0., 0., 0., 1.])),\n",
              " (b'there was significant clinical improvement in both the slit and placebo groups .',\n",
              "  array([0., 0., 0., 0., 1.])),\n",
              " (b'median t@ss decreased from @ to @ in the slit group ( p < @ ) and @ to @ in the placebo group ( p = @ ) .',\n",
              "  array([0., 0., 0., 0., 1.])),\n",
              " (b'the median quality-of-life score also decreased in the slit group ( p < @ ) and the placebo group ( p < @ ) .',\n",
              "  array([0., 0., 0., 0., 1.])),\n",
              " (b'a subgroup analysis of patients found a @ % or greater improvement ( on the t@ss and the juniper rhinitis quality of life questionnaire ) in the good responders group and a @ % to @ % improvement or no improvement in the intermediate responders group .',\n",
              "  array([0., 0., 0., 0., 1.])),\n",
              " (b'this subgroup analysis also found more good responders in the slit group ( @ % ) compared with the placebo group ( @ % ; p = @ ) .',\n",
              "  array([0., 0., 0., 0., 1.])),\n",
              " (b'significant decreases in the il-@ / ifn - ( p < @ ) , il-@ / ifn - ( p < @ ) , and il-@ / ifn - ( p = @ ) ratios were found in the combined good clinical improvement group at @ months .',\n",
              "  array([0., 0., 0., 0., 1.])),\n",
              " (b'a good clinical response ( @ % improvement in both tss@ and quality of life ) is associated with significant decreases in il-@ , il-@ , and il-@ relative to ifn - during @ years of slit therapy for hdms .',\n",
              "  array([0., 1., 0., 0., 0.])),\n",
              " (b'the effects of combined oxycodone/naloxone prolonged release tablets ( oxn pr ) were investigated in patients with moderate-to-severe chronic cancer-related or non-cancer pain .',\n",
              "  array([0., 0., 0., 1., 0.])),\n",
              " (b'all patients had opioid-induced constipation ( oic ) which persisted despite substantial laxative therapy .',\n",
              "  array([0., 0., 0., 1., 0.])),\n",
              " (b'this pooled analysis included @ patients with oic at study entry that was refractory to at least two laxatives with different modes of action .',\n",
              "  array([0., 0., 1., 0., 0.])),\n",
              " (b'patients completed randomized , double-blind treatment with oxn pr @-@mg / day for either @ weeks ( oxn @ : non-cancer pain study ) or @ weeks ( oxn @ : cancer-related pain study ) .',\n",
              "  array([0., 0., 1., 0., 0.])),\n",
              " (b'analgesia and bowel function were assessed using the brief pain inventory short form and bowel function index ( bfi ) , respectively .',\n",
              "  array([0., 0., 1., 0., 0.])),\n",
              " (b'use of laxative medication and safety were assessed throughout the studies .',\n",
              "  array([0., 0., 1., 0., 0.])),\n",
              " (b'nct@ , eudract @-@-@ , eudract @-@-@ .', array([1., 0., 0., 0., 0.])),\n",
              " (b'statistically and clinically significant improvements in bowel function were observed following double-blind treatment with oxn pr .',\n",
              "  array([0., 0., 0., 0., 1.])),\n",
              " (b'mean ( sd ) reduction in bfi score was @ ( @ ) and comparable in patients with cancer-related ( @ -lsb- @ -rsb- ) and non-cancer pain ( @ .',\n",
              "  array([0., 0., 0., 0., 1.])),\n",
              " (b'-lsb- @ -rsb- ; p@ @ ) .', array([0., 0., 0., 0., 1.])),\n",
              " (b'furthermore , the proportion of patients with a bfi score within normal range ( @ ) increased from @ % at screening to @ % at day @ of oxn pr .',\n",
              "  array([0., 0., 0., 0., 1.])),\n",
              " (b'while all patients used @ laxatives of different classes at screening , during study treatment @ % stopped using laxatives ( p < @ ) .',\n",
              "  array([0., 0., 0., 0., 1.])),\n",
              " (b'oxn pr provided effective analgesia , evidenced by stable pain scores during study treatment , and there were no unanticipated adverse events .',\n",
              "  array([0., 0., 0., 0., 1.])),\n",
              " (b'oxn pr significantly improved bowel function and reduced the use of laxatives in patients with oic , previously unresponsive to at least two different classes of laxatives .',\n",
              "  array([0., 1., 0., 0., 0.])),\n",
              " (b'oxn also provided effective analgesia for patients with moderate-to-severe cancer-related pain and non-cancer-related pain .',\n",
              "  array([0., 1., 0., 0., 0.])),\n",
              " (b'to observe the difference in the clinical efficacy on oculomotor impairment between electroacupuncture and acupuncture and explore the best therapeutic method in the treatment of this disease .',\n",
              "  array([0., 0., 0., 1., 0.])),\n",
              " (b'sixty cases of oculomotor impairment were randomized into an electroacupuncture group and an acupuncture group , @ cases in each one .',\n",
              "  array([0., 0., 1., 0., 0.])),\n",
              " (b'in the electroacupuncture group , the points were selected on extraocular muscles , the internal needling technique in the eye was used in combination of electroacupuncture therapy .',\n",
              "  array([0., 0., 1., 0., 0.])),\n",
              " (b'in the acupuncture group , the points and needling technique were same as the electroacupuncture group , but without electric stimulation applied .',\n",
              "  array([0., 0., 1., 0., 0.])),\n",
              " (b'the treatment was given @ times a week , @ treatments made one session .',\n",
              "  array([0., 0., 1., 0., 0.])),\n",
              " (b'after @ sessions of treatment , the clinical efficacy , palpebral fissure size , pupil size , oculomotor range and the recovery in diplopia were compared before and after treatment in the two groups .',\n",
              "  array([0., 0., 1., 0., 0.])),\n",
              " (b'in the electroacupuncture group , the palpebral fissure size was ( @ + / -@ ) mm and the eyeball shifting distance was ( @ + / -@ ) mm , which were hig-her than ( @ + / -@ ) mm and ( @ + / -@ ) mm respectively in the acupuncture group .',\n",
              "  array([0., 0., 0., 0., 1.])),\n",
              " (b'in the electroacupuncture group , the pupil diameter was ( @ + / -@ ) mm , which was less than ( @ + / - @ ) mm in the acupuncture group , indicating the significant difference ( all p < @ ) .',\n",
              "  array([0., 0., 0., 0., 1.])),\n",
              " (b'the cured rate was @ % ( @/@ ) and the total effective rate was @ % ( @/@ ) in the electroacupuncture group , which was better than @ % ( @/@ ) and @ ( @/@ ) in the acupuncture group separately , indicating the significant difference ( all p < @ ) .',\n",
              "  array([0., 0., 0., 0., 1.])),\n",
              " (b'electroacupuncture presents the obvious advantages in the treatment of oculomotor impairment , characterized as quick and high effect , short duration of treatment and remarkable improvements in clinical symptoms , there are important significance for the improvement of survival quality of patients .',\n",
              "  array([0., 1., 0., 0., 0.])),\n",
              " (b'in this multi-country cluster-randomized behavioural intervention trial promoting exclusive breastfeeding ( ebf ) in africa , we compared growth of infants up to @months of age living in communities where peer counsellors promoted ebf with growth in those infants living in control communities .',\n",
              "  array([1., 0., 0., 0., 0.])),\n",
              " (b'a total of @ clusters in burkina faso , uganda and south africa were randomised to either the intervention or the control arm .',\n",
              "  array([0., 0., 1., 0., 0.])),\n",
              " (b'feeding data and anthropometric measurements were collected at visits scheduled @ , @ , @ and @weeks post-partum .',\n",
              "  array([0., 0., 1., 0., 0.])),\n",
              " (b'we calculated weight-for-length ( wlz ) , length-for-age ( laz ) and weight-for-age ( waz ) z-scores .',\n",
              "  array([0., 0., 1., 0., 0.])),\n",
              " (b'country specific adjusted least squares means with @ % confidence intervals ( ci ) based on a longitudinal analysis are reported .',\n",
              "  array([0., 0., 1., 0., 0.])),\n",
              " (b'prevalence ratios ( pr ) for the association between peer counselling for ebf and wasting ( wlz < -@ ) , stunting ( laz < -@ ) and underweight ( waz < -@ ) were calculated at each data collection point .',\n",
              "  array([0., 0., 1., 0., 0.])),\n",
              " (b'the study included a total of @,@ children .',\n",
              "  array([0., 0., 0., 0., 1.])),\n",
              " (b'adjusting for socio-economic status , the mean wlz at @weeks were in burkina faso -@ ( @ % ci -@ to -@ ) and in uganda -@ ( @ % ci -@ to -@ ) lower in the intervention than in the control arm .',\n",
              "  array([0., 0., 0., 0., 1.])),\n",
              " (b'in south africa the mean wlz at @weeks was @ ( @ % ci @ to @ ) greater in the intervention than in the control arm .',\n",
              "  array([0., 0., 0., 0., 1.])),\n",
              " (b'differences in laz between the study arms were small and not statistically significant .',\n",
              "  array([0., 0., 0., 0., 1.])),\n",
              " (b'in uganda , infants in the intervention arm were more likely to be wasted compared to those in the control arm at @weeks ( pr @ ; @ % ci @ to @ ) .',\n",
              "  array([0., 0., 0., 0., 1.])),\n",
              " (b'differences in wasting in south africa and burkina faso and stunting and underweight in all three countries were small and not significantly different .',\n",
              "  array([0., 0., 0., 0., 1.])),\n",
              " (b'there were small differences in mean anthropometric indicators between the intervention and control arms in the study , but in uganda and burkina faso , a tendency to slightly lower ponderal growth ( weight-for-length z-scores ) was found in the intervention arms .',\n",
              "  array([0., 1., 0., 0., 0.])),\n",
              " (b'clinicaltrials.gov : nct@ .', array([1., 0., 0., 0., 0.])),\n",
              " (b'dietary nitrate , which is in green leafy vegetables and beetroot , decreases blood pressure through the enterosalivary nitrate-nitrite-nitric oxide pathway in healthy individuals .',\n",
              "  array([1., 0., 0., 0., 0.])),\n",
              " (b'whether similar effects would occur in individuals with treated hypertension and , therefore , at increased risk of cardiovascular disease is unclear .',\n",
              "  array([1., 0., 0., 0., 0.])),\n",
              " (b'we assessed whether increased dietary nitrate intake by using beetroot juice for @ wk lowers blood pressure in treated hypertensive men and women .',\n",
              "  array([0., 0., 0., 1., 0.])),\n",
              " (b'participants ( n = @ ) were recruited to a randomized , placebo-controlled , double-blind crossover trial .',\n",
              "  array([0., 0., 1., 0., 0.])),\n",
              " (b'the effect of @-wk intake of nitrate-rich beetroot juice was compared with @-wk intake of nitrate-depleted beetroot juice ( placebo ) .',\n",
              "  array([0., 0., 1., 0., 0.])),\n",
              " (b'the primary outcome was blood pressure assessed by measuring home blood pressure during the intervention and @-h ambulatory blood pressure on day @ of the intervention .',\n",
              "  array([0., 0., 1., 0., 0.])),\n",
              " (b'other outcomes included nitrate metabolism assessed by measuring nitrate and nitrite in plasma , saliva , and urine .',\n",
              "  array([0., 0., 1., 0., 0.])),\n",
              " (b'relative to the placebo , @-wk intake of nitrate-rich beetroot juice resulted in a @-fold increase in plasma nitrite and nitrate , a @-fold increase in salivary nitrite , an @-fold higher salivary nitrate , and a @-fold increase in both urinary nitrite and nitrate ( p < @ ) .',\n",
              "  array([0., 0., 0., 0., 1.])),\n",
              " (b'however , no differences in home blood pressure and @-h ambulatory blood pressure were observed with @-wk intake of nitrate-rich beetroot juice in comparison with the placebo .',\n",
              "  array([0., 0., 0., 0., 1.])),\n",
              " (b'an increase in dietary nitrate intake may not be an effective short-term approach to further lower blood pressure in treated hypertensive subjects .',\n",
              "  array([0., 1., 0., 0., 0.])),\n",
              " (b'the oxymizer is a special nasal cannula that provides a higher luminal diameter in combination with an incorporated oxygen ( o@ ) reservoir .',\n",
              "  array([1., 0., 0., 0., 0.])),\n",
              " (b'it is assumed that a higher o@ concentration can be delivered breath by breath in order to increase oxygenation .',\n",
              "  array([1., 0., 0., 0., 0.])),\n",
              " (b'we aimed to investigate the effects of the oxymizer on endurance time in comparison to a conventional nasal cannula ( cnc ) .',\n",
              "  array([0., 0., 0., 1., 0.])),\n",
              " (b'forty-three patients with severe chronic obstructive pulmonary disease ( copd , age @ @ years , fev@ @ @ % pred . )',\n",
              "  array([0., 0., 1., 0., 0.])),\n",
              " (b'and indications for ltot were recruited during pulmonary rehabilitation for this cross-over study .',\n",
              "  array([0., 0., 1., 0., 0.])),\n",
              " (b'after an initial maximal incremental cycle test , all patients performed @ cycling endurance time tests at @ % of their peak work rate ( twice with the oxymizer and twice with a cnc , in reverse order ) .',\n",
              "  array([0., 0., 1., 0., 0.])),\n",
              " (b'the endurance time was significantly higher when patients cycled while using the oxymizer in comparison to while using the cnc -lsb- @ @ vs. @ @ s ; between-group difference @ s ( @ % confidence interval @-@ ) , p < @ -rsb- .',\n",
              "  array([0., 0., 0., 0., 1.])),\n",
              " (b'in addition to a longer cycling duration , o@ saturation at isotime was significantly higher with the oxymizer ( @ @ vs. @ @ % ; p = @ ) .',\n",
              "  array([0., 0., 0., 0., 1.])),\n",
              " (b'furthermore , there was a positive correlation ( r = @ , p = @ ) between the o@ flow rate and improvements in the constant work rate test , showing greater improvements in favor of the oxymizer in patients with a higher demand for o@ ( @ liters/min ) .',\n",
              "  array([0., 0., 0., 0., 1.])),\n",
              " (b'we show that o@ delivery via the oxymizer is superior to a cnc with regard to endurance capacity and oxygenation during exercise in patients with severe copd .',\n",
              "  array([0., 1., 0., 0., 0.])),\n",
              " (b'it seems that patients with a higher demand for o@ ( @ liters/min ) , in particular , may benefit more from the use of the oxymizer .',\n",
              "  array([0., 1., 0., 0., 0.])),\n",
              " (b'while acute-phase antipsychotic response has been attributed to @ % -@ % dopamine d receptor blockade , the degree of occupancy for relapse prevention in the maintenance treatment of schizophrenia remains unknown .',\n",
              "  array([1., 0., 0., 0., 0.])),\n",
              " (b'in this secondary study of an open-label , @-week , randomized , controlled trial conducted between april @ and august @ , clinically stable patients with schizophrenia ( dsm-iv ) treated with risperidone or olanzapine were randomly assigned to the reduction group ( dose reduced by @ % ) or maintenance group ( dose kept constant ) .',\n",
              "  array([0., 0., 1., 0., 0.])),\n",
              " (b'plasma antipsychotic concentrations at peak and trough before and after dose reduction were estimated with population pharmacokinetic techniques , using @ collected plasma samples .',\n",
              "  array([0., 0., 1., 0., 0.])),\n",
              " (b'corresponding dopamine d occupancy levels were then estimated using the model we developed .',\n",
              "  array([0., 0., 1., 0., 0.])),\n",
              " (b'relapse was defined as worsening in @ positive and negative syndrome scale-positive subscale items : delusion , conceptual disorganization , hallucinatory behavior , and suspiciousness .',\n",
              "  array([0., 0., 1., 0., 0.])),\n",
              " (b'plasma antipsychotic concentrations were available for @ and @ patients in the reduction and maintenance groups , respectively .',\n",
              "  array([0., 0., 0., 0., 1.])),\n",
              " (b'estimated dopamine d occupancy ( mean sd ) decreased following dose reduction from @ % @ % to @ % @ % at peak and @ % @ % to @ % @ % at trough .',\n",
              "  array([0., 0., 0., 0., 1.])),\n",
              " (b'in the reduction group , @ patients ( @ % ) did not demonstrate continuous d receptor blockade above @ % ( ie , < @ % at trough ) after dose reduction ; furthermore , @ patients ( @ % ) did not achieve a threshold of @ % occupancy even at peak .',\n",
              "  array([0., 0., 0., 0., 1.])),\n",
              " (b'nonetheless , only @ patient met our relapse criteria after dose reduction during the @ months of the study .',\n",
              "  array([0., 0., 0., 0., 1.])),\n",
              " (b'the results suggest that the therapeutic threshold regarding dopamine d occupancy may be lower for those who are stable in antipsychotic maintenance versus acute-phase treatment .',\n",
              "  array([0., 1., 0., 0., 0.])),\n",
              " (b'positron emission tomography studies are warranted to further test our preliminary findings .',\n",
              "  array([0., 1., 0., 0., 0.])),\n",
              " (b'umin clinical trials registry identifier : umin@ .',\n",
              "  array([1., 0., 0., 0., 0.])),\n",
              " (b'to determine the prevalence of , risk factors for , and visual acuity ( va ) correlations with outer retinal tubulation ( ort ) seen on spectral-domain optical coherence tomography ( sd oct ) in eyes with neovascular age-related macular degeneration ( amd ) after anti-vascular endothelial growth factor ( vegf ) therapy .',\n",
              "  array([0., 0., 0., 1., 0.])),\n",
              " (b'prospective cohort study within a randomized clinical trial .',\n",
              "  array([0., 0., 1., 0., 0.])),\n",
              " (b'patients with sd oct images at weeks @ and @ in the comparison of amd treatments trials ( catt ) .',\n",
              "  array([0., 0., 1., 0., 0.])),\n",
              " (b'participants in the catt were assigned randomly to ranibizumab ( @ mg ) or bevacizumab ( @ mg ) treatment and to a monthly or pro re nata ( prn ) injection-dosing regimen .',\n",
              "  array([0., 0., 1., 0., 0.])),\n",
              " (b'a subset of eyes was imaged with sd oct beginning at week @ .',\n",
              "  array([0., 0., 1., 0., 0.])),\n",
              " (b'cirrus @ or spectralis @ volume cube scan protocols were used to acquire sd oct images .',\n",
              "  array([0., 0., 1., 0., 0.])),\n",
              " (b'two independent readers at the catt oct reading center graded scans , and a senior reader arbitrated discrepant grades .',\n",
              "  array([0., 0., 1., 0., 0.])),\n",
              " (b'the prevalence of ort , identified as tubular structures seen on at least @ consecutive cirrus b scans or @ consecutive spectralis b scans , was determined .',\n",
              "  array([0., 0., 1., 0., 0.])),\n",
              " (b'the associations of patient-specific and ocular features at baseline and follow-up with ort were evaluated by univariate and multivariate analyses .',\n",
              "  array([0., 0., 1., 0., 0.])),\n",
              " (b'outer retinal tubulations .', array([0., 0., 1., 0., 0.])),\n",
              " (b'seven of @ eyes ( @ % ) at @ weeks and @ of @ eyes ( @ % ) at week @ had orts .',\n",
              "  array([0., 0., 0., 0., 1.])),\n",
              " (b'absence of diabetes , poor va , blocked fluorescence , geographic atrophy , greater lesion size , and presence of subretinal hyperreflective material at baseline were associated independently with greater risk of ort at @ weeks ( p < @ ) .',\n",
              "  array([0., 0., 0., 0., 1.])),\n",
              " (b'neither drug nor dosing regimen were associated significantly with ort .',\n",
              "  array([0., 0., 0., 0., 1.])),\n",
              " (b'the mean va of eyes with ort at week @ ( @ early treatment diabetic retinopathy study letters ) was worse than the mean va of eyes without ort ( @ letters ; p < @ ) .',\n",
              "  array([0., 0., 0., 0., 1.])),\n",
              " (b'at @ years after initiation of anti-vegf therapy for neovascular amd , orts are present in a substantial proportion of eyes .',\n",
              "  array([0., 1., 0., 0., 0.])),\n",
              " (b'we identified baseline features that independently predict orts .',\n",
              "  array([0., 1., 0., 0., 0.])),\n",
              " (b'it is important to identify orts because eyes with orts have worse va outcomes than those without this finding .',\n",
              "  array([0., 1., 0., 0., 0.])),\n",
              " (b'patients with type @ diabetes are generally treated in primary care setting and as a final treatment step to obtain good glycaemic control , multiple daily insulin injections ( mdi ) are generally used .',\n",
              "  array([0., 0., 0., 1., 0.])),\n",
              " (b'the aim of this study is to evaluate the effect of glp-@ analogue liraglutide on glycaemic control in patients with type @ diabetes treated with mdi with inadequate glycaemic control .',\n",
              "  array([0., 0., 0., 1., 0.])),\n",
              " (b'overweight and obese patients with type @ diabetes and impaired glycaemic control treated with mdi were randomised to liraglutide or placebo over @ weeks .',\n",
              "  array([0., 0., 1., 0., 0.])),\n",
              " (b'masked continuous glucose monitoring was performed at baseline and during the trial .',\n",
              "  array([0., 0., 1., 0., 0.])),\n",
              " (b'the primary endpoint was the change in haemoglobin a@c from baseline to week @ .',\n",
              "  array([0., 0., 1., 0., 0.])),\n",
              " (b'additional endpoints include changes in weight , fasting glucose , glycaemic variability , treatment satisfaction , insulin dose , hypoglycaemias , blood pressure and blood lipid levels .',\n",
              "  array([0., 0., 1., 0., 0.])),\n",
              " (b'recruitment occurred between february @ and february @ .',\n",
              "  array([0., 0., 0., 0., 1.])),\n",
              " (b'a total of @ patients were randomised .', array([0., 0., 0., 0., 1.])),\n",
              " (b'study completion is anticipated in august @ .',\n",
              "  array([0., 0., 0., 0., 1.])),\n",
              " (b'it is expected that the results of this study will establish whether adding liraglutide to patients with type @ diabetes treated with mdi will improve glycaemic control , lower body weight , and influence glycaemic variability .',\n",
              "  array([0., 1., 0., 0., 0.])),\n",
              " (b'standard first-line antiretroviral therapy for hiv-@ infection includes two nucleoside or nucleotide reverse transcriptase inhibitors ( ntrtis ) , but these drugs have limitations .',\n",
              "  array([1., 0., 0., 0., 0.])),\n",
              " (b'we assessed the @ week efficacy and safety of an ntrti-sparing regimen .',\n",
              "  array([1., 0., 0., 0., 0.])),\n",
              " (b'between august , @ , and september , @ , we enrolled treatment-naive adults into this randomised , open-label , non-inferiority trial in treatment-naive adults in @ european countries .',\n",
              "  array([0., 0., 1., 0., 0.])),\n",
              " (b'the composite primary outcome was change to randomised treatment before week @ because of insufficient virological response , no virological response by week @ , hiv-@ rna concentration @ copies per ml or higher at any time after week @ ; death from any cause ; any new or recurrent aids event ; or any serious non-aids event .',\n",
              "  array([0., 0., 1., 0., 0.])),\n",
              " (b'patients were randomised in a @:@ ratio to receive oral treatment with @ mg raltegravir twice daily plus @ mg darunavir and @ mg ritonavir once daily ( ntrti-sparing regimen ) or tenofovir-emtricitabine in a @ mg and @ mg fixed-dose combination once daily , plus @ mg darunavir and @ mg ritonavir once daily ( standard regimen ) .',\n",
              "  array([0., 0., 1., 0., 0.])),\n",
              " (b'this trial was registered with clinicaltrials.gov , number nct@ .',\n",
              "  array([0., 0., 1., 0., 0.])),\n",
              " (b'of @ patients enrolled , @ received the ntrti-sparing regimen and @ the standard regimen , with median follow-up of @ weeks ( iqr @-@ ) .',\n",
              "  array([0., 0., 0., 0., 1.])),\n",
              " (b'treatment failure was seen in @ ( @ % ) in the ntrti-sparing group and @ ( @ % ) in the standard group .',\n",
              "  array([0., 0., 0., 0., 1.])),\n",
              " (b'kaplan-meier estimated proportions of treatment failure by week @ were @ % and @ % , respectively ( difference @ % , @ % ci -@ to @ ) .',\n",
              "  array([0., 0., 0., 0., 1.])),\n",
              " (b'the frequency of serious or treatment-modifying adverse events were similar ( @ vs @ per @ person-years and @ vs @ per @ person-years , respectively ) .',\n",
              "  array([0., 0., 0., 0., 1.])),\n",
              " (b'our ntrti-sparing regimen was non-inferior to standard treatment and represents a treatment option for patients with cd@ cell counts higher than @ cells per l.',\n",
              "  array([0., 1., 0., 0., 0.])),\n",
              " (b'european union sixth framework programme , inserm-anrs , gilead sciences , janssen pharmaceuticals , merck laboratories .',\n",
              "  array([1., 0., 0., 0., 0.])),\n",
              " (b'higher-risk patients may not receive evidence-based therapy because of limited life expectancy , which is a composite measure that encompasses many patient factors , including age , frailty , and comorbidities .',\n",
              "  array([1., 0., 0., 0., 0.])),\n",
              " (b'in this study , we evaluated the extent to which treatment care gaps can be explained by a difference in projected life expectancy .',\n",
              "  array([1., 0., 0., 0., 0.])),\n",
              " (b'an observational cohort study was conducted on acute myocardial infarction patients hospitalized in ontario , canada .',\n",
              "  array([0., 0., 0., 0., 1.])),\n",
              " (b'projected life expectancy was estimated using actual survival data with extrapolation using proportional hazard models adjusting for important covariates .',\n",
              "  array([0., 0., 0., 0., 1.])),\n",
              " (b'the relationship between projected life expectancy with statins and reperfusion therapy was examined using generalized linear models .',\n",
              "  array([0., 0., 0., 0., 1.])),\n",
              " (b'among the @ acute myocardial infarction patients , @ % were prescribed statins and @ % were treated with reperfusion therapy .',\n",
              "  array([0., 0., 0., 0., 1.])),\n",
              " (b'when projected life expectancy was < @ years , the likelihood of receiving either treatment declined progressively with reduction in life expectancy ( p < @ ) .',\n",
              "  array([0., 0., 0., 0., 1.])),\n",
              " (b'at the @th percentile of projected life expectancies , the likelihood of receiving a statin decreased by @ % ( @ % confidence interval , @-@ @ % ) , and acute reperfusion therapy decreased by @ % ( @ % confidence interval , @-@ @ % ) for each year decline in projected life expectancy .',\n",
              "  array([0., 0., 0., 0., 1.])),\n",
              " (b'life expectancy of a patient strongly influences evidence-based treatment in acute myocardial infarction .',\n",
              "  array([0., 1., 0., 0., 0.])),\n",
              " (b'it was seen not only among patients with limited life expectancies but also among those with many years to live .',\n",
              "  array([0., 1., 0., 0., 0.])),\n",
              " (b\"treatment care gaps may reflect clinicians ' synthesis about frailty and life-expectancy gains .\",\n",
              "  array([0., 1., 0., 0., 0.])),\n",
              " (b'to compare the bioavailability and safety profile of crushed ticagrelor tablets suspended in water and administered orally or via nasogastric tube , with that of whole tablets administered orally .',\n",
              "  array([0., 0., 0., 1., 0.])),\n",
              " (b'in this single-center , open-label , randomized , three-treatment crossover study , @ healthy volunteers were randomized to receive a single @-mg dose of ticagrelor administered orally as a whole tablet or as crushed tablets suspended in water and given orally or via a nasogastric tube into the stomach , with a minimum @-day wash-out between treatments .',\n",
              "  array([0., 0., 1., 0., 0.])),\n",
              " (b'plasma concentrations of ticagrelor and ar-c@xx were assessed at @ , @ , @ , @ , @ , @ , @ , @ , @ , @ , @ , @ , @ , and @ hours post-ticagrelor dose for pharmacokinetic analyses .',\n",
              "  array([0., 0., 1., 0., 0.])),\n",
              " (b'safety and tolerability was assessed throughout the study .',\n",
              "  array([0., 0., 1., 0., 0.])),\n",
              " (b'at @ hours postdose , plasma concentrations of ticagrelor and ar-c@xx were higher with crushed tablets administered orally ( @ ng/ml and @ ng/ml , respectively ) or via nasogastric tube ( @ ng/ml and @ ng/ml , respectively ) compared with whole-tablet administration ( @ ng/ml and @ ng/ml , respectively ) .',\n",
              "  array([0., 0., 0., 0., 1.])),\n",
              " (b'a similar trend was observed at @ hour postdose .',\n",
              "  array([0., 0., 0., 0., 1.])),\n",
              " (b'ticagrelor tmax was shorter following crushed vs. whole-tablet administration ( @ vs. @ hours , respectively ) .',\n",
              "  array([0., 0., 0., 0., 1.])),\n",
              " (b'geometric mean ratios between treatments for auc and cmax were contained within the bioequivalence limits of @-@ % for ticagrelor and ar-c@xx .',\n",
              "  array([0., 0., 0., 0., 1.])),\n",
              " (b'all treatments were generally well tolerated .',\n",
              "  array([0., 0., 0., 0., 1.])),\n",
              " (b'ticagrelor administered as a crushed tablet is bioequivalent to whole-tablet administration , independent of mode of administration ( oral or via nasogastric tube ) , and resulted in increased plasma concentrations of ticagrelor and arc@xx at early timepoints .',\n",
              "  array([0., 1., 0., 0., 0.])),\n",
              " (b'preterm birth leads to an estimated @ % of neonatal deaths worldwide .',\n",
              "  array([1., 0., 0., 0., 0.])),\n",
              " (b'our study analyses neonatal mortality risks among preterm births in rural bangladesh .',\n",
              "  array([1., 0., 0., 0., 0.])),\n",
              " (b'trained community health workers ( chw ) prospectively collected data between june @ and september @ .',\n",
              "  array([0., 0., 1., 0., 0.])),\n",
              " (b'among @ livebirths , @ % were preterm ( delivered at < @ weeks gestation ) and almost half ( @ % ) of all neonatal deaths occurred among preterm babies .',\n",
              "  array([0., 0., 0., 0., 1.])),\n",
              " (b'preterm babies who were born as the first child -lcb- -lsb- risk ratio ( rr ) @ ; @ % confidence interval ( ci ) @ , @ -rsb- -rcb- and in the poorest households -lsb- rr @ ; @ % ci @ , @ -rsb- were at higher mortality risk .',\n",
              "  array([0., 0., 0., 0., 1.])),\n",
              " (b'birth and newborn care preparedness was associated with lower risk of mortality -lsb- rr @ ; @ % ci @ , @ -rsb- while preterm infants who had symptoms of infection -lsb- rr @ ; @ % ci @ , @ -rsb- or whose mother suffered antenatal complications -lsb- rr @ ; @ % ci @ , @ -rsb- were at higher mortality risk .',\n",
              "  array([0., 0., 0., 0., 1.])),\n",
              " (b'elimination of excess neonatal deaths caused by preterm would decrease population-level neonatal mortality rate by @ % -lsb- @ % ci @ % , @ % -rsb- .',\n",
              "  array([0., 0., 0., 0., 1.])),\n",
              " (b'given that @ % of preterm births and @ % of preterm deaths were in late or moderate preterm infants , and that @ % preterm babies received a visit from chw within third day of life , a home-based essential care package delivered by chws for sick preterm infants , specifically focused on birth preparedness , skin-to-skin care , immediate breast feeding , early recognition of danger signs , and linked through referral to intensive and quality care in health facilities , could be an effective approach in low resource settings .',\n",
              "  array([0., 1., 0., 0., 0.])),\n",
              " (b'the braf inhibitors vemurafenib and dabrafenib have shown efficacy as monotherapies in patients with previously untreated metastatic melanoma with braf v@e or v@k mutations .',\n",
              "  array([1., 0., 0., 0., 0.])),\n",
              " (b'combining dabrafenib and the mek inhibitor trametinib , as compared with dabrafenib alone , enhanced antitumor activity in this population of patients .',\n",
              "  array([1., 0., 0., 0., 0.])),\n",
              " (b'in this open-label , phase @ trial , we randomly assigned @ patients with metastatic melanoma with a braf v@ mutation to receive either a combination of dabrafenib ( @ mg twice daily ) and trametinib ( @ mg once daily ) or vemurafenib ( @ mg twice daily ) orally as first-line therapy .',\n",
              "  array([0., 0., 1., 0., 0.])),\n",
              " (b'the primary end point was overall survival .',\n",
              "  array([0., 0., 1., 0., 0.])),\n",
              " (b'at the preplanned interim overall survival analysis , which was performed after @ % of the total number of expected events occurred , the overall survival rate at @ months was @ % ( @ % confidence interval -lsb- ci -rsb- , @ to @ ) in the combination-therapy group and @ % ( @ % ci , @ to @ ) in the vemurafenib group ( hazard ratio for death in the combination-therapy group , @ ; @ % ci , @ to @ ; p = @ ) .',\n",
              "  array([0., 0., 0., 0., 1.])),\n",
              " (b'the prespecified interim stopping boundary was crossed , and the study was stopped for efficacy in july @ .',\n",
              "  array([0., 0., 0., 0., 1.])),\n",
              " (b'median progression-free survival was @ months in the combination-therapy group and @ months in the vemurafenib group ( hazard ratio , @ ; @ % ci , @ to @ ; p < @ ) .',\n",
              "  array([0., 0., 0., 0., 1.])),\n",
              " (b'the objective response rate was @ % in the combination-therapy group and @ % in the vemurafenib group ( p < @ ) .',\n",
              "  array([0., 0., 0., 0., 1.])),\n",
              " (b'rates of severe adverse events and study-drug discontinuations were similar in the two groups .',\n",
              "  array([0., 0., 0., 0., 1.])),\n",
              " (b'cutaneous squamous-cell carcinoma and keratoacanthoma occurred in @ % of patients in the combination-therapy group and @ % of those in the vemurafenib group .',\n",
              "  array([0., 0., 0., 0., 1.])),\n",
              " (b'dabrafenib plus trametinib , as compared with vemurafenib monotherapy , significantly improved overall survival in previously untreated patients with metastatic melanoma with braf v@e or v@k mutations , without increased overall toxicity .',\n",
              "  array([0., 1., 0., 0., 0.])),\n",
              " (b'( funded by glaxosmithkline ; clinicaltrials.gov number , nct@ . )',\n",
              "  array([0., 1., 0., 0., 0.])),\n",
              " (b'this phase @ trial evaluated the efficacy , safety , and tolerability of low - and high-dose cariprazine in patients meeting dsm-iv-tr criteria for acute manic or mixed episodes associated with bipolar i disorder .',\n",
              "  array([0., 0., 0., 1., 0.])),\n",
              " (b'this multicenter , randomized , double-blind , placebo-controlled , parallel-group , fixed/flexible-dose study was conducted from february @ to december @ .',\n",
              "  array([0., 0., 1., 0., 0.])),\n",
              " (b'patients were randomly assigned to placebo , cariprazine @-@ mg/d , or cariprazine @-@ mg/d for @ weeks of double-blind treatment .',\n",
              "  array([0., 0., 1., 0., 0.])),\n",
              " (b'primary and secondary efficacy parameters were change from baseline to week @ in young mania rating scale ( ymrs ) total score and clinical global impressions-severity of illness ( cgi-s ) score , respectively .',\n",
              "  array([0., 0., 1., 0., 0.])),\n",
              " (b'post hoc analysis examined change from baseline to week @ in ymrs single items .',\n",
              "  array([0., 0., 1., 0., 0.])),\n",
              " (b'a total of @ patients were randomized ; @ % completed the study .',\n",
              "  array([0., 0., 0., 0., 1.])),\n",
              " (b'the least squares mean difference ( lsmd ) for change from baseline to week @ in ymrs total score was statistically significant in favor of both cariprazine groups versus placebo ( lsmd -lsb- @ % ci -rsb- : @-@ mg/d , -@ -lsb- -@ to -@ -rsb- ; @-@ mg/d , -@ -lsb- -@ , -@ -rsb- ; p < @ -lsb- both -rsb- ) .',\n",
              "  array([0., 0., 0., 0., 1.])),\n",
              " (b'both cariprazine treatment groups showed statistically significant superiority to placebo on all @ ymrs single items ( all comparisons , p < @ ) .',\n",
              "  array([0., 0., 0., 0., 1.])),\n",
              " (b'change from baseline in cgi-s scores was statistically significantly greater in both cariprazine groups compared with placebo ( lsmd -lsb- @ % ci -rsb- : @-@ mg/d , -@ -lsb- -@ to -@ -rsb- ; @-@ mg/d , -@ -lsb- -@ to -@ -rsb- ; p < @ -lsb- both -rsb- ) .',\n",
              "  array([0., 0., 0., 0., 1.])),\n",
              " (b'the most common ( @ % and twice the rate of placebo ) treatment-related adverse events for cariprazine were akathisia ( both groups ) and nausea , constipation , and tremor ( @-@ mg/d only ) .',\n",
              "  array([0., 0., 0., 0., 1.])),\n",
              " (b'results of this study demonstrated that both low - and high-dose cariprazine were more effective than placebo in the treatment of acute manic or mixed episodes associated with bipolar i disorder .',\n",
              "  array([0., 1., 0., 0., 0.])),\n",
              " (b'cariprazine was generally well tolerated , although the incidence of akathisia was greater with cariprazine than with placebo .',\n",
              "  array([0., 1., 0., 0., 0.])),\n",
              " (b'clinicaltrials.gov identifier : nct@ .', array([1., 0., 0., 0., 0.])),\n",
              " (b'although neoadjuvant chemotherapy ( nac ) for locally advanced breast cancer can improve operability and local disease control , there is a lack of reliable biomarkers that predict response to chemotherapy or long-term survival .',\n",
              "  array([1., 0., 0., 0., 0.])),\n",
              " (b'since expression of aldehyde dehydrogenase-@ ( aldh@ ) is associated with the stem-like properties of self-renewal and innate chemoresistance in breast cancer , we asked whether expression in serial tumor samples treated with nac could identify women more likely to benefit from this therapy .',\n",
              "  array([1., 0., 0., 0., 0.])),\n",
              " (b'women with locally advanced breast cancer were randomly assigned to receive four cycles of anthracycline-based chemotherapy , followed by four cycles of taxane therapy ( arm a ) , or the same regimen in reverse order ( arm b ) .',\n",
              "  array([0., 0., 1., 0., 0.])),\n",
              " (b'tumor specimens were collected at baseline , after four cycles , and then at surgical resection .',\n",
              "  array([0., 0., 1., 0., 0.])),\n",
              " (b\"aldh@ expression was determined by immunohistochemistry and correlated with tumor response using fisher 's exact test while kaplan-meier method was used to calculate survival .\",\n",
              "  array([0., 0., 1., 0., 0.])),\n",
              " (b'a hundred and nineteen women were enrolled into the study .',\n",
              "  array([0., 0., 0., 0., 1.])),\n",
              " (b'fifty seven ( @ % ) were randomized to arm a and @ ( @ % ) to arm b. most of the women ( @ % ) had ductal carcinoma and @ % had lobular carcinoma .',\n",
              "  array([0., 0., 0., 0., 1.])),\n",
              " (b'of these , @ ( @ % ) achieved a pathological complete response ( pcr ) after nac .',\n",
              "  array([0., 0., 0., 0., 1.])),\n",
              " (b'there was no correlation between baseline aldh@ expression and tumor grade , stage , hormone receptor , human epidermal growth factor receptor @ ( her@ ) status and ki@ index .',\n",
              "  array([0., 0., 0., 0., 1.])),\n",
              " (b'aldh@ negativity at baseline was significantly associated with pcr ( p = @ ) .',\n",
              "  array([0., 0., 0., 0., 1.])),\n",
              " (b'the presence of aldh@ ( + ) cells in the residual tumor cells in non-responding women was strongly predictive of worse overall survival ( p = @ ) .',\n",
              "  array([0., 0., 0., 0., 1.])),\n",
              " (b'moreover , serial analysis of specimens from non-responders showed a marked increase in tumor-specific aldh@ expression ( p = @ ) .',\n",
              "  array([0., 0., 0., 0., 1.])),\n",
              " (b'overall , there was no survival difference according to the chemotherapy sequence .',\n",
              "  array([0., 0., 0., 0., 1.])),\n",
              " (b'however , poorly responding tumours from women receiving docetaxel chemotherapy showed an unexpected significant increase in aldh@ expression .',\n",
              "  array([0., 0., 0., 0., 1.])),\n",
              " (b'aldh@ expression is a useful predictor of chemoresistance .',\n",
              "  array([0., 1., 0., 0., 0.])),\n",
              " (b'the up-regulation of aldh@ after nac predicts poor survival in locally advanced breast cancer .',\n",
              "  array([0., 1., 0., 0., 0.])),\n",
              " (b'although the chemotherapy sequence had no effect on overall prognosis , our results suggest that anthracycline-based chemotherapy may be more effective at targeting aldh@ ( + ) breast cancer cells .',\n",
              "  array([0., 1., 0., 0., 0.])),\n",
              " (b'actrn@ .', array([1., 0., 0., 0., 0.])),\n",
              " (b'there have been several studies of atrial fibrillation ( af ) over the past decades ; however , data from chinese patients are scarce .',\n",
              "  array([0., 0., 0., 1., 0.])),\n",
              " (b'the aim of the study was therefore to describe the patient characteristics , risk profile and management strategies for chinese af patients presenting to emergency department ( ed ) .',\n",
              "  array([0., 0., 0., 1., 0.])),\n",
              " (b'we conducted a prospective , multicentre registry of patients with af or atrial flutter ( afl ) in china .',\n",
              "  array([0., 0., 1., 0., 0.])),\n",
              " (b'participants were enrolled at @ eds , then data regarding baseline characteristics and treatment in eds were collected .',\n",
              "  array([0., 0., 1., 0., 0.])),\n",
              " (b'of the @ chinese patients , @ ( @ % ) were female .',\n",
              "  array([0., 0., 0., 0., 1.])),\n",
              " (b'six hundred eighteen ( @ % ) had paroxysmal af , @ ( @ % ) had persistent af and @ ( @ % ) had permanent af .',\n",
              "  array([0., 0., 0., 0., 1.])),\n",
              " (b'the most common comorbidity was hypertension ( @ % ) , followed by coronary artery disease ( @ % ) and heart failure ( hf , @ % ) .',\n",
              "  array([0., 0., 0., 0., 1.])),\n",
              " (b'the prevalence of concomitant cardiovascular risk factors , such as hf and valvular heart disease , increased as af progressed .',\n",
              "  array([0., 0., 0., 0., 1.])),\n",
              " (b'among the patients with non-valvular af , @ ( @ % ) of those with chads@ ( congestive hf , hypertension , age of @ years and greater , diabetes mellitus and history of stroke ) @ were prescribed oral anticoagulants ( oac ) , while @ ( @ % ) of those with chads@ < @ received such agents .',\n",
              "  array([0., 0., 0., 0., 1.])),\n",
              " (b'among the @ patients with valvular af , @ ( @ % ) actually were treated with oac .',\n",
              "  array([0., 0., 0., 0., 1.])),\n",
              " (b'the international normalised ratio value was within the target range ( @-@ @ ) in @ patients only ( @ % ) .',\n",
              "  array([0., 0., 0., 0., 1.])),\n",
              " (b'moreover , a total of @ % of the patients received @ anti-arrhythmic agents , whereas rate control agents were used more frequently ( @ % ) .',\n",
              "  array([0., 0., 0., 0., 1.])),\n",
              " (b'according to the present study , the risk profile and management of chinese patients with af/afl differed from that observed in previous studies .',\n",
              "  array([0., 1., 0., 0., 0.])),\n",
              " (b'the use of oac inadequately deviate from current guidelines .',\n",
              "  array([0., 1., 0., 0., 0.])),\n",
              " (b'the acosog ( american college of surgeons oncology group ) z@ ( alliance ) study , a randomized , placebo-controlled trial , demonstrated that @ year of adjuvant imatinib prolonged recurrence-free survival ( rfs ) after resection of primary gi stromal tumor ( gist ) .',\n",
              "  array([0., 0., 0., 1., 0.])),\n",
              " (b'we sought to determine the pathologic and molecular factors associated with patient outcome .',\n",
              "  array([0., 0., 0., 1., 0.])),\n",
              " (b'there were @ patients assigned to the placebo arm and @ to the imatinib arm .',\n",
              "  array([0., 0., 1., 0., 0.])),\n",
              " (b'median patient follow-up was @ months .', array([0., 0., 1., 0., 0.])),\n",
              " (b'there were @ tumor specimens available for mitotic rate or mutation analysis .',\n",
              "  array([0., 0., 1., 0., 0.])),\n",
              " (b'rfs remained superior in the imatinib arm ( hazard ratio , @ ; @ % ci , @ to @ ; cox model-adjusted p < @ ) .',\n",
              "  array([0., 0., 0., 0., 1.])),\n",
              " (b'on multivariable analysis of patients in the placebo arm , large tumor size , small bowel location , and high mitotic rate were associated with lower rfs , whereas tumor genotype was not significantly associated with rfs .',\n",
              "  array([0., 0., 0., 0., 1.])),\n",
              " (b'multivariable analysis of patients in the imatinib arm yielded similar findings .',\n",
              "  array([0., 0., 0., 0., 1.])),\n",
              " (b'when comparing the two arms , imatinib therapy was associated with higher rfs in patients with a kit exon @ deletion of any type , but not a kit exon @ insertion or point mutation , kit exon @ mutation , pdgfra mutation , or wild-type tumor , although some of these patient groups were small .',\n",
              "  array([0., 0., 0., 0., 1.])),\n",
              " (b'adjuvant imatinib did not seem to alter overall survival .',\n",
              "  array([0., 0., 0., 0., 1.])),\n",
              " (b'our findings show that tumor size , location , and mitotic rate , but not tumor genotype , are associated with the natural history of gist .',\n",
              "  array([0., 1., 0., 0., 0.])),\n",
              " (b'patients with kit exon @ deletions assigned to @ year of adjuvant imatinib had a longer rfs .',\n",
              "  array([0., 1., 0., 0., 0.])),\n",
              " (b'nausea and vomiting are two of the most frequently experienced postoperative side effects complicating one third of the cases .',\n",
              "  array([1., 0., 0., 0., 0.])),\n",
              " (b'the objective of this study was to determine the effectiveness of gastric decompression in reducing the incidence and complications associated with post-tonsillectomy vomiting in children .',\n",
              "  array([1., 0., 0., 0., 0.])),\n",
              " (b'this was a randomised control study conducted at the ent department , ayub teaching hospital abbottabad from january to june @ .',\n",
              "  array([0., 0., 1., 0., 0.])),\n",
              " (b'patients included in this study were divided into two groups , group a undergoing gastric aspiration and group b not undergoing gastric aspiration .',\n",
              "  array([0., 0., 1., 0., 0.])),\n",
              " (b'gastric aspiration was done with an oro-gastric tube placed under direct visualisation while the patient was still under general anaesthesia .',\n",
              "  array([0., 0., 1., 0., 0.])),\n",
              " (b'the incidence of vomiting , episodes of vomiting and the need for rescue anti-emetic prophylaxis were noted .',\n",
              "  array([0., 0., 1., 0., 0.])),\n",
              " (b'a total of @ patients were included in the study .',\n",
              "  array([0., 0., 0., 0., 1.])),\n",
              " (b'their ages ranged from @ to @ years with mean age @ + / - @ years .',\n",
              "  array([0., 0., 0., 0., 1.])),\n",
              " (b'no statistically significant difference ( p > @ ) was noted between the two groups for the patients experiencing vomiting ( @ % vs @ % , p = @ ) , the mean number of episodes of vomiting ( @ vs @ , p = @ ) , and patients requiring rescue anti-emetics ( @ % vs @ % , p = @ ) .',\n",
              "  array([0., 0., 0., 0., 1.])),\n",
              " (b'gastric aspiration during tonsillectomy is not useful in reducing post-tonsillectomy vomiting .',\n",
              "  array([0., 1., 0., 0., 0.])),\n",
              " (b'this study evaluated the efficacy and safety of atl@ , an antisense oligonucleotide that selectively targets the rna for human cd@d , the subunit of very late antigen @ , in patients with relapsing-remitting multiple sclerosis ( rrms ) .',\n",
              "  array([0., 0., 0., 1., 0.])),\n",
              " (b'in a multicenter , double-blind , placebo-controlled randomized phase ii trial , @ patients with rrms were treated with @ mg of atl@ subcutaneously injected @ times in the first week and twice weekly for @ weeks or placebo and monitored for a further @ weeks .',\n",
              "  array([0., 0., 1., 0., 0.])),\n",
              " (b'mri scans were taken at baseline and weeks @ , @ , @ , and @ .',\n",
              "  array([0., 0., 1., 0., 0.])),\n",
              " (b'the primary endpoint was the cumulative number of new active lesions ( either new gadolinium-enhancing t@ lesions or nonenhancing new or enlarging t@ lesions ) at weeks @ , @ , and @ .',\n",
              "  array([0., 0., 1., 0., 0.])),\n",
              " (b'a total of @ patients completed the study and @ intention-to-treat patients were assessed .',\n",
              "  array([0., 0., 0., 0., 1.])),\n",
              " (b'atl@ significantly reduced the cumulative number of new active lesions by @ % compared to placebo ( mean @ -lsb- sd @ -rsb- vs @ -lsb- @ -rsb- , p = @ ) .',\n",
              "  array([0., 0., 0., 0., 1.])),\n",
              " (b'the cumulative number of new gadolinium-enhancing t@ lesions was reduced by @ % compared to placebo ( p = @ ) .',\n",
              "  array([0., 0., 0., 0., 1.])),\n",
              " (b'treatment-emergent adverse events included mild to moderate injection site erythema and decrease in platelet counts that returned to within the normal range after dosing .',\n",
              "  array([0., 0., 0., 0., 1.])),\n",
              " (b'in patients with rrms , atl@ significantly reduced disease activity after @ weeks of treatment and was generally well-tolerated .',\n",
              "  array([0., 1., 0., 0., 0.])),\n",
              " (b'this trial provides evidence for the first time that antisense oligonucleotides may be used as a therapeutic approach in neuroimmunologic disorders .',\n",
              "  array([0., 1., 0., 0., 0.])),\n",
              " (b'this study provides class i evidence that for patients with rrms , the antisense oligonucleotide atl@ reduces the number of new active head mri lesions .',\n",
              "  array([0., 0., 1., 0., 0.])),\n",
              " (b'to compare bipolar with standard monopolar transurethral resection of the prostate ( turp ) .',\n",
              "  array([0., 0., 0., 1., 0.])),\n",
              " (b'a prospectively randomized study was conducted between january @ and september @ .',\n",
              "  array([0., 0., 1., 0., 0.])),\n",
              " (b'primary end points studied were efficacy ( maximum flow rate -lsb- qmax -rsb- , international prostate symptom score ) and safety ( adverse events , decline in postoperative serum sodium -lsb- na + -rsb- and haemoglobin -lsb- hb -rsb- levels ) .',\n",
              "  array([0., 0., 1., 0., 0.])),\n",
              " (b'secondary end points were operation time and duration of irrigation , catheterization , and hospitalization .',\n",
              "  array([0., 0., 1., 0., 0.])),\n",
              " (b'sixty consecutive patients were randomized and completed the study , with @ patients in the monopolar turp group and @ in the turis group .',\n",
              "  array([0., 0., 0., 0., 1.])),\n",
              " (b'at baseline , the two groups were comparable in age , prostate volume , mean prostate-specific antigen value , international prostate symptom score , and they had at least @ months of follow-up .',\n",
              "  array([0., 0., 0., 0., 1.])),\n",
              " (b'declines in the mean postoperative serum na + for bipolar and monopolar turp groups were @ and @ mmol/l , respectively .',\n",
              "  array([0., 0., 0., 0., 1.])),\n",
              " (b'however , there was no statistical difference in the decline in postoperative hb between the two groups .',\n",
              "  array([0., 0., 0., 0., 1.])),\n",
              " (b'the mean catheterization time was @ and @ hours in the bipolar and standard groups , respectively .',\n",
              "  array([0., 0., 0., 0., 1.])),\n",
              " (b'this difference was statistically significant as was the difference in the time to hospital discharge .',\n",
              "  array([0., 0., 0., 0., 1.])),\n",
              " (b'the ipss and qmax improvements were comparable between the two groups at @ months of follow-up .',\n",
              "  array([0., 0., 0., 0., 1.])),\n",
              " (b'no clinically relevant differences in short-term efficacy are existed between the two techniques , but bipolar turp is preferable due to a more favorable safety profile and shorter catheterization duration .',\n",
              "  array([0., 1., 0., 0., 0.])),\n",
              " (b'larger biopsy specimens or increasing the number of biopsies may improve the diagnostic accuracy of gastric epithelial neoplasia ( gen ) .',\n",
              "  array([0., 0., 0., 1., 0.])),\n",
              " (b'the aims of this study was to compare the diagnostic accuracies between conventional and jumbo forceps biopsy of gen before endoscopic submucosal dissection ( esd ) and to confirm that increasing the number of biopsies is useful for the diagnosis of gen.',\n",
              "  array([0., 0., 0., 1., 0.])),\n",
              " (b'the concordance rate between efb and esd specimens was not significantly different between the two groups -lsb- @ % ( @/@ ) in jg vs. @ % ( @/@ ) in cg -rsb- .',\n",
              "  array([0., 0., 0., 0., 1.])),\n",
              " (b'on multivariate analyses , two or four efbs significantly increased the cumulating concordance rate -lsb- coefficients ; twice : @ ( p = @ ) , four times : @ ( p = @ ) -rsb- .',\n",
              "  array([0., 0., 0., 0., 1.])),\n",
              " (b'but , the concordance rate was decreased in high grade dysplasia ( coefficient -@ , p = @ ) .',\n",
              "  array([0., 0., 0., 0., 1.])),\n",
              " (b'one hundred and sixty gens from @ patients were randomized into two groups and finally @ gens in @ patients and @ gens in @ patients were allocated to the conventional group ( cg ) or jumbo group ( jg ) , respectively .',\n",
              "  array([0., 0., 1., 0., 0.])),\n",
              " (b'four endoscopic forceps biopsy ( efb ) specimens were obtained from each lesion with conventional ( @ mm ) forceps or jumbo ( @ mm ) forceps .',\n",
              "  array([0., 0., 1., 0., 0.])),\n",
              " (b'the histological concordance rate between @ efb specimens and esd specimens was investigated in the two groups .',\n",
              "  array([0., 0., 1., 0., 0.])),\n",
              " (b'before esd , the diagnostic accuracy of gens was significantly increased not by the use of jumbo forceps biopsy but by increasing the number of biopsies .',\n",
              "  array([0., 1., 0., 0., 0.])),\n",
              " (b'prospective trials specifically designed for elderly patients with advanced non-small-cell lung cancer demonstrating the benefit of platinum-based therapies are still lacking .',\n",
              "  array([0., 0., 0., 1., 0.])),\n",
              " (b'this trial was designed to clarify whether the addition of cisplatin to monotherapy could improve survival for elderly patients .',\n",
              "  array([0., 0., 0., 1., 0.])),\n",
              " (b'elderly patients ( age @ years , ecog performance status @-@ ) with advanced non-small-cell lung cancer were randomized to receive docetaxel @ mg/m ( @ ) plus cisplatin @ mg/m ( @ ) on day @ , @ and @ ( docetaxel plus cisplatin ) or docetaxel @ mg/m ( @ ) on the same schedule ( docetaxel ) .',\n",
              "  array([0., 0., 1., 0., 0.])),\n",
              " (b'both regimens were repeated every @ weeks until disease progression .',\n",
              "  array([0., 0., 1., 0., 0.])),\n",
              " (b'one hundred and twenty-six patients were enrolled .',\n",
              "  array([0., 0., 0., 0., 1.])),\n",
              " (b'sixty-three were randomly assigned docetaxel plus cisplatin and @ docetaxel monotherapy .',\n",
              "  array([0., 0., 0., 0., 1.])),\n",
              " (b'median age was @ years ( range @-@ ) .', array([0., 0., 0., 0., 1.])),\n",
              " (b'the second planned interim analysis was performed on @ assessable patients ( docetaxel/docetaxel plus cisplatin : @/@ ) .',\n",
              "  array([0., 0., 0., 0., 1.])),\n",
              " (b'although the formal criterion for stopping the trial was not met , the data and safety monitoring committee recommended study termination on ethical grounds based on the interaction ( two-sided p = @ , hazard ratios for @/@ : @ / @ ) between age and subgroup and treatment arm , which suggested that docetaxel may not represent an adequate control arm regimen for the age subgroup of @-@ years .',\n",
              "  array([0., 0., 0., 0., 1.])),\n",
              " (b'the interpretation of study results is limited due to early stopping .',\n",
              "  array([0., 1., 0., 0., 0.])),\n",
              " (b'further study is needed to confirm survival benefit of platinum-based chemotherapy for elderly non-small-cell lung cancer -lsb- umin-ctr ( www.umin.ac.jp/ctr/ ) id : c@ -rsb- .',\n",
              "  array([0., 1., 0., 0., 0.])),\n",
              " (b'recommended therapy duration for patients hospitalized with cellulitis is @-@ days .',\n",
              "  array([1., 0., 0., 0., 0.])),\n",
              " (b'unnecessary use of antibiotics is one of the key factors driving resistance .',\n",
              "  array([1., 0., 0., 0., 0.])),\n",
              " (b'recent studies have shown that antibiotic therapy for cellulitis in outpatients can safely be shortened , despite residual inflammation .',\n",
              "  array([1., 0., 0., 0., 0.])),\n",
              " (b'this study will compare in hospitalized patients the safety and effectiveness of shortening antibiotic therapy for cellulitis from @ to @ days .',\n",
              "  array([1., 0., 0., 0., 0.])),\n",
              " (b'in a multicenter , randomized , double-blind , non-inferiority trial , adult patients admitted with cellulitis will be included .',\n",
              "  array([0., 0., 1., 0., 0.])),\n",
              " (b'cellulitis is defined as warmth , erythema , and induration of the skin and/or subcutaneous tissue , with or without pain ( including erysipelas ) .',\n",
              "  array([0., 0., 1., 0., 0.])),\n",
              " (b'all patients will initially be treated with intravenous flucloxacillin , and will be evaluated after @-@ days .',\n",
              "  array([0., 0., 1., 0., 0.])),\n",
              " (b'those who have improved substantially ( defined as being afebrile , and having a lower cellulitis severity score ) will be randomized at day @ between additional @ days of oral flucloxacillin ( n = @ ) or placebo ( n = @ ) .',\n",
              "  array([0., 0., 1., 0., 0.])),\n",
              " (b'treatment success is defined as resolution of cellulitis on day @ ( disappearance of warmth and tenderness , improvement of erythema and edema ) , without the need of additional antibiotics for cellulitis by day @ .',\n",
              "  array([0., 0., 1., 0., 0.])),\n",
              " (b'secondary endpoints are relapse rate ( up to day @ ) , speed of recovery ( using a cellulitis severity score until day @ , and vas scores on pain and swelling until day @ ) , quality of life ( using the sf-@ and eq-@d questionnaires ) and costs ( associated with total antibiotic use and health-care resource utilization up to day @ ) .',\n",
              "  array([0., 0., 1., 0., 0.])),\n",
              " (b'inclusion is planned to start in q@ @ .', array([0., 1., 0., 0., 0.])),\n",
              " (b'clinicaltrials.gov ( nct@ ) and the netherlands trial register ( ntr@ ) .',\n",
              "  array([1., 0., 0., 0., 0.])),\n",
              " (b'injection opioid use plays a significant role in the transmission of hiv infection in many communities and several regions of the world .',\n",
              "  array([1., 0., 0., 0., 0.])),\n",
              " (b'access to evidence-based treatments for opioid use disorders is extremely limited .',\n",
              "  array([1., 0., 0., 0., 0.])),\n",
              " (b'hiv prevention trials network @ ( hptn @ ) was a randomized controlled trial designed to compare the impact of @ medication-assisted treatment ( mat ) strategies on hiv incidence or death among opioid-dependent people who inject drugs ( pwid ) .',\n",
              "  array([0., 0., 1., 0., 0.])),\n",
              " (b'hiv-negative opioid-dependent pwid were recruited from @ communities in thailand and china with historically high prevalence of hiv among pwid .',\n",
              "  array([0., 0., 1., 0., 0.])),\n",
              " (b'a total of @ participants were randomly assigned to either ( @ ) a @-year intervention consisting of @ opportunities for a @-day detoxification with buprenorphine/naloxone ( bup/nx ) combined with up to @ sessions of behavioral drug and risk counseling -lsb- short-term medication-assisted treatment ( st-mat ) -rsb- or ( @ ) thrice-weekly dosing for @ weeks with bup/nx and up to @ counseling sessions -lsb- long-term medication-assisted treatment ( lt-mat ) -rsb- followed by dose tapering .',\n",
              "  array([0., 0., 1., 0., 0.])),\n",
              " (b'all participants were followed for @ weeks after treatment completion to assess durability of impact .',\n",
              "  array([0., 0., 1., 0., 0.])),\n",
              " (b'although the study was stopped early due to lower than expected occurrence of the primary end points , sufficient data were available to assess the impact of the interventions on drug use and injection-related risk behavior .',\n",
              "  array([0., 0., 0., 0., 1.])),\n",
              " (b'at week @ , @ % of st-mat participants had negative urinalyses for opioids compared with @ % in the lt-mat ( p < @ ) .',\n",
              "  array([0., 0., 0., 0., 1.])),\n",
              " (b'differences disappeared in the year after treatment : at week @ , @ % in st-mat and @ % in the lt-mat had negative urinalyses .',\n",
              "  array([0., 0., 0., 0., 1.])),\n",
              " (b'injection-related risk behaviors were significantly reduced in both groups after randomization .',\n",
              "  array([0., 0., 0., 0., 1.])),\n",
              " (b'participants receiving bup/nx @ times weekly were more likely to reduce opioid injection while on active treatment .',\n",
              "  array([0., 1., 0., 0., 0.])),\n",
              " (b'both treatment strategies were considered safe and associated with reductions in injection-related risk behavior .',\n",
              "  array([0., 1., 0., 0., 0.])),\n",
              " (b'these data support the use of thrice-weekly bup/nx as a way to reduce exposure to hiv risk .',\n",
              "  array([0., 1., 0., 0., 0.])),\n",
              " (b'continued access to bup/nx may be required to sustain reductions in opioid use .',\n",
              "  array([0., 1., 0., 0., 0.])),\n",
              " (b'medication use is a potentially modifiable risk factor for falling ; psychotropic and cardiovascular drugs have been indicated as main drug groups that increase fall risk .',\n",
              "  array([1., 0., 0., 0., 0.])),\n",
              " (b'however , evidence is mainly based on studies that recorded falls retrospectively and/or did not determine medication use at the time of the fall .',\n",
              "  array([1., 0., 0., 0., 0.])),\n",
              " (b'therefore , we investigated the associations indicated in the literature between medication use and falls , using prospectively recorded falls and medication use determined at the time of the fall .',\n",
              "  array([1., 0., 0., 0., 0.])),\n",
              " (b'data from the b-proof ( b-vitamins for the prevention of osteoporotic fractures ) study were used , concerning community-dwelling elderly aged @ years .',\n",
              "  array([0., 0., 1., 0., 0.])),\n",
              " (b'we included @,@ participants with pharmacy dispensing records .',\n",
              "  array([0., 0., 1., 0., 0.])),\n",
              " (b'during the @ - to @-year follow-up , participants recorded falls using a fall calendar .',\n",
              "  array([0., 0., 1., 0., 0.])),\n",
              " (b'cox proportional hazard models were applied , adjusting for potential confounders including age , sex , health status variables and concomitant medication use .',\n",
              "  array([0., 0., 1., 0., 0.])),\n",
              " (b'during follow-up , @,@ participants experienced at least one fall .',\n",
              "  array([0., 0., 0., 0., 1.])),\n",
              " (b'users of anti-arrhythmic medication had an increased fall risk ( hazard ratio -lsb- hr -rsb- @ ; @ % confidence interval -lsb- ci -rsb- @-@ @ ) compared with non-users .',\n",
              "  array([0., 0., 0., 0., 1.])),\n",
              " (b'similarly , non-selective beta-blocker use was associated with an increased fall risk ( hr @ -lsb- @ % ci @-@ @ -rsb- ) , while statin use was associated with a lower risk ( hr @ -lsb- @ % ci @-@ @ -rsb- ) .',\n",
              "  array([0., 0., 0., 0., 1.])),\n",
              " (b'benzodiazepine use ( hr @ -lsb- @ % ci @-@ @ -rsb- ) , and antidepressant use ( hr @ -lsb- @ % ci @-@ @ -rsb- ) were associated with an increased fall risk .',\n",
              "  array([0., 0., 0., 0., 1.])),\n",
              " (b'use of other cardiovascular and psychotropic medication was not associated with fall risk .',\n",
              "  array([0., 0., 0., 0., 1.])),\n",
              " (b'our results strengthen the evidence for an increased fall risk in community-dwelling elderly during the use of anti-arrhythmics , non-selective beta-blockers , benzodiazepines , and antidepressant medication .',\n",
              "  array([0., 1., 0., 0., 0.])),\n",
              " (b'clinicians should prescribe these drugs cautiously and if possible choose safer alternatives for older patients .',\n",
              "  array([0., 1., 0., 0., 0.])),\n",
              " (b'patients with end-stage renal disease are at a high risk of adverse cardiovascular events .',\n",
              "  array([1., 0., 0., 0., 0.])),\n",
              " (b'elevated level of homocysteine is an important risk factor for cardiovascular morbidity and mortality in dialysis patients .',\n",
              "  array([1., 0., 0., 0., 0.])),\n",
              " (b'there are some strategies for reduction of serum homocysteine level in these patients , including folate and vitamin supplementation .',\n",
              "  array([1., 0., 0., 0., 0.])),\n",
              " (b'the aim of the present study was to evaluate the effect of omega-@ supplementation on serum homocysteine level in patients on hemodialysis .',\n",
              "  array([1., 0., 0., 0., 0.])),\n",
              " (b'in a randomized controlled trial , @ hemodialysis patients were assigned into two groups to receive omega-@ ( oral capsule , @ g/d ) or placebo for @ months .',\n",
              "  array([0., 0., 1., 0., 0.])),\n",
              " (b'complete blood count , blood urea nitrogen , serum creatinine , serum lipids , and serum homocysteine levels were measured before the study and after @ months at the end of study .',\n",
              "  array([0., 0., 1., 0., 0.])),\n",
              " (b'of @ patients , @ in each group were excluded , and @ patients in each group completed the study .',\n",
              "  array([0., 0., 0., 0., 1.])),\n",
              " (b'there were no significant differences regarding the age , sex , and the number of dialysis sessions per week between the two groups .',\n",
              "  array([0., 0., 0., 0., 1.])),\n",
              " (b'no difference was observed between the two groups in the laboratory investigations at the end of the study , except for a significant reduction in serum homocysteine level in the omega-@ group as compared to the placebo group ( p = @ ) .',\n",
              "  array([0., 0., 0., 0., 1.])),\n",
              " (b'our study showed a significant reduction regulated by omega-@ supplementation in serum homocysteine level which is a cardiovascular risk factor among hemodialysis patients .',\n",
              "  array([0., 1., 0., 0., 0.])),\n",
              " (b'omega-@ can be considered as another homocysteine-reducing agent in this population .',\n",
              "  array([0., 1., 0., 0., 0.])),\n",
              " (b'intra-articular corticosteroids are a mainstay in the treatment of knee osteoarthritis , and in clinical trials , they demonstrate a large initial analgesic effect that wanes over one to four weeks with the rapid efflux of drug from the joint .',\n",
              "  array([1., 0., 0., 0., 0.])),\n",
              " (b'the present study was undertaken to determine if fx@ , an extended-release formulation of triamcinolone acetonide , can provide pain relief that is superior to the current standard of care , immediate-release triamcinolone acetonide .',\n",
              "  array([1., 0., 0., 0., 0.])),\n",
              " (b'in this phase-@ , double-blind , multicenter study , @ patients with moderate to severe knee osteoarthritis pain were randomized to a single intra-articular injection of fx@ ( containing @ , @ , or @ mg of triamcinolone acetonide ) or @ mg of immediate-release triamcinolone acetonide .',\n",
              "  array([0., 0., 1., 0., 0.])),\n",
              " (b'data on the mean daily pain on the @-point numeric rating scale were collected over twelve weeks ; the primary efficacy end point was the change from baseline to each of eight , ten , and twelve weeks in the weekly mean of the mean daily pain intensity scores analyzed with a longitudinal mixed-effects model .',\n",
              "  array([0., 0., 1., 0., 0.])),\n",
              " (b'the @-mg dose of fx@ produced pain relief that was improved relative to immediate-release triamcinolone acetonide at two through twelve weeks , although the difference in pain relief was not significant ( p @ ) .',\n",
              "  array([0., 0., 0., 0., 1.])),\n",
              " (b'the @-mg dose of fx@ produced pain relief that was improved at two through twelve weeks and was significantly superior to immediate-release triamcinolone acetonide at five to ten weeks ( p < @ at each time point ) .',\n",
              "  array([0., 0., 0., 0., 1.])),\n",
              " (b'at the @-mg dose of fx@ , prespecified secondary analyses , including responder analyses and all western ontario and mcmaster universities subscales , were significantly superior ( p < @ ) to immediate-release triamcinolone acetonide at eight weeks , and the time-weighted mean pain relief ( assessed with mean daily pain intensity scores ) was significantly superior to immediate-release triamcinolone acetonide over one to twelve weeks ( p = @ ) .',\n",
              "  array([0., 0., 0., 0., 1.])),\n",
              " (b'the @-mg dose did not provide additional improvement relative to the @-mg dose .',\n",
              "  array([0., 0., 0., 0., 1.])),\n",
              " (b'adverse events were generally mild and similar across all treatments .',\n",
              "  array([0., 0., 0., 0., 1.])),\n",
              " (b'intra-articular injection of fx@ , an extended-release formulation of triamcinolone acetonide , provided a clinically relevant improvement in pain relief in patients with knee osteoarthritis relative to immediate-release triamcinolone acetonide , the current standard of care .',\n",
              "  array([0., 1., 0., 0., 0.])),\n",
              " (b'therapeutic level i. see instructions for authors for a complete description of levels of evidence .',\n",
              "  array([0., 0., 1., 0., 0.])),\n",
              " (b'the mitraclip realism ( abbott vascular , menlo park , ca ) trial included several inclusion criteria to identify patients at high risk for conventional mitral valve ( mv ) surgery .',\n",
              "  array([1., 0., 0., 0., 0.])),\n",
              " (b'this study evaluated contemporary surgical outcomes for high-risk surgical patients who met these defined criteria to serve as a benchmark to evaluate appropriateness in treatment allocation between surgical and percutaneous mv repair .',\n",
              "  array([1., 0., 0., 0., 0.])),\n",
              " (b'a statewide society for thoracic surgeons ( sts ) database was queried for patients undergoing isolated mitral valve surgery over a @-year study period from @ different hospitals .',\n",
              "  array([0., 0., 1., 0., 0.])),\n",
              " (b'patients were stratified into high-risk ( hr ) versus non-high-risk ( non-hr ) cohorts based upon clinical criteria similar to those utilized in the realism trial .',\n",
              "  array([0., 0., 1., 0., 0.])),\n",
              " (b'mixed effects multivariable regression modeling was used to evaluate study endpoints including mortality , morbidity , and resource utilization .',\n",
              "  array([0., 0., 1., 0., 0.])),\n",
              " (b'of @,@ isolated mitral operations , @ % ( n = @ ) were hr per realism criteria .',\n",
              "  array([0., 0., 0., 0., 1.])),\n",
              " (b'median sts predicted risk of mortality ( prom ) for hr patients was @ % compared with @ % for non-hr patients ( p < @ ) .',\n",
              "  array([0., 0., 0., 0., 1.])),\n",
              " (b'the hr patients more commonly underwent mv replacement as well as urgent ( @ % vs @ % , p < @ ) operations .',\n",
              "  array([0., 0., 0., 0., 1.])),\n",
              " (b'high-risk patients incurred higher morbidity and mortality ( @ % vs @ % ) with longer intensive care unit ( @ vs @ hours ) and hospital stays ( @ vs @ days , all p < @ ) .',\n",
              "  array([0., 0., 0., 0., 1.])),\n",
              " (b'among realism criteria , sts prom @ % or greater and high-risk sts criteria were the only criteria associated with mortality .',\n",
              "  array([0., 0., 0., 0., 1.])),\n",
              " (b'select realism criteria , including reoperation with patent grafts and functional mr with ejection fraction less than @ , may not identify patients truly at high risk of death with surgery .',\n",
              "  array([0., 1., 0., 0., 0.])),\n",
              " (b'in addition to conventional sts criteria , risk assessment by surgeons is essential to direct appropriate treatment allocation for high-risk mitral disease .',\n",
              "  array([0., 1., 0., 0., 0.])),\n",
              " (b'identification of pretreatment patient characteristics predictive of psychotherapy outcome could help to guide treatment choices .',\n",
              "  array([0., 0., 0., 1., 0.])),\n",
              " (b\"this study evaluates patients ' initial level of immature defense style as a predictor of the outcome of short-term versus long-term psychotherapy .\",\n",
              "  array([0., 0., 0., 1., 0.])),\n",
              " (b'in the helsinki psychotherapy study , @ adult outpatients with mood or anxiety disorder were randomized to individual short-term ( psychodynamic or solution-focused ) or long-term ( psychodynamic ) psychotherapy .',\n",
              "  array([0., 0., 1., 0., 0.])),\n",
              " (b'their defense style was assessed at baseline using the @-item defense style questionnaire and classified as low or high around the median value of the respective score .',\n",
              "  array([0., 0., 1., 0., 0.])),\n",
              " (b'both specific ( beck depression inventory -lsb- bdi -rsb- , hamilton depression rating scale -lsb- hdrs -rsb- , symptom check list anxiety scale -lsb- scl-@-anx -rsb- , hamilton anxiety rating scale -lsb- hars -rsb- ) and global ( symptom check list global severity index -lsb- scl-@-gsi -rsb- , global assessment of functioning scale -lsb- gaf -rsb- ) psychiatric symptoms were measured at baseline and @-@ times during a @-year follow-up .',\n",
              "  array([0., 0., 1., 0., 0.])),\n",
              " (b'patients with high use of immature defense style experienced greater symptom reduction in long-term than in short-term psychotherapy by the end of the @-year follow-up ( @ % vs. @ % ) .',\n",
              "  array([0., 0., 0., 0., 1.])),\n",
              " (b'patients with low use of immature defense style experienced faster symptom reduction in short-term than in long-term psychotherapy during the first year of follow-up ( @ % vs. @ % ) .',\n",
              "  array([0., 0., 0., 0., 1.])),\n",
              " (b\"knowledge of patients ' initial level of immature defense style may potentially be utilized in tailoring treatments .\",\n",
              "  array([0., 1., 0., 0., 0.])),\n",
              " (b'further research on defense styles as outcome predictors in psychotherapies of different types is needed .',\n",
              "  array([0., 1., 0., 0., 0.])),\n",
              " (b'the purpose of this study was to compare once-daily tacrolimus with twice-daily tacrolimus in terms of safety , efficacy , and patient satisfaction .',\n",
              "  array([0., 0., 0., 1., 0.])),\n",
              " (b'this prospective , randomized , open-label , multicenter study was conducted at three institutes .',\n",
              "  array([0., 0., 1., 0., 0.])),\n",
              " (b'patients in the investigational group were converted from tacrolimus twice daily to the same dose of extended-release tacrolimus once daily at @ month post-transplantation , while patients in the control group were maintained on tacrolimus twice daily .',\n",
              "  array([0., 0., 1., 0., 0.])),\n",
              " (b'the efficacies , safeties , and patient satisfaction for the two drugs at @ months post-transplantation were compared .',\n",
              "  array([0., 0., 1., 0., 0.])),\n",
              " (b'sixty patients were enrolled and randomized to the investigational group ( @ of @ patients completed the study ) or the control group ( @ of @ patients completed the study ) .',\n",
              "  array([0., 0., 0., 0., 1.])),\n",
              " (b'at @ months post-transplantation , composite efficacy failure rates including the incidences of biopsy-confirmed acute rejection in the investigational and control groups were @ % and @ % , respectively ; patient survival was @ % in each group .',\n",
              "  array([0., 0., 0., 0., 1.])),\n",
              " (b'no difference in estimated glomerular filtration rate values were observed at @ months post-transplantation ( p = @ ) .',\n",
              "  array([0., 0., 0., 0., 1.])),\n",
              " (b'the safety and satisfaction profile ( immunosuppressant therapy barrier scale ) of once-daily tacrolimus was comparable with that of twice-daily tacrolimus ( p = @ ) .',\n",
              "  array([0., 0., 0., 0., 1.])),\n",
              " (b'conversion from twice-daily tacrolimus to once-daily tacrolimus one month after transplantation is safe and effective .',\n",
              "  array([0., 1., 0., 0., 0.])),\n",
              " (b'serelaxin is a promising therapy for acute heart failure .',\n",
              "  array([1., 0., 0., 0., 0.])),\n",
              " (b'the renal hemodynamic effects of serelaxin in patients with chronic heart failure are unknown .',\n",
              "  array([1., 0., 0., 0., 0.])),\n",
              " (b'in this double-blind , randomized , placebo-controlled , multicenter study , patients with new york heart association class ii to iii chronic heart failure , left ventricular ejection fraction @ % , and estimated glomerular filtration rate ( gfr ) @ to @ ml/min per @ m ( @ ) received intravenous serelaxin @ g/kg per day or placebo for @ hours .',\n",
              "  array([0., 0., 0., 0., 1.])),\n",
              " (b'primarily , we assessed the difference between serelaxin and placebo on renal plasma flow ( para-aminohippuric acid clearance ) and gfr ( iothalamate clearance ) over @ to @ hours .',\n",
              "  array([0., 0., 0., 0., 1.])),\n",
              " (b'all @ patients from @ clinical site were excluded from primary analyses before unblinding because of implausible measurements .',\n",
              "  array([0., 0., 0., 0., 1.])),\n",
              " (b'the primary analysis comprised @ patients , mean age was @ ( @ ) years , @ % were male , mean estimated gfr was @ ( @ ) ml/min per @ m ( @ ) , and @ % had new york heart association class iii symptoms .',\n",
              "  array([0., 0., 0., 0., 1.])),\n",
              " (b'renal plasma flow increased by @ % with serelaxin and @ % with placebo ( @ % relative increase with serelaxin ; p = @ ) , whereas gfr changes did not differ significantly during @ to @ hours .',\n",
              "  array([0., 0., 0., 0., 1.])),\n",
              " (b'filtration fraction increased by @ % with serelaxin and @ % with placebo ( @ % relative decrease with serelaxin ; p = @ ) during @ to @ hours .',\n",
              "  array([0., 0., 0., 0., 1.])),\n",
              " (b'changes in systolic blood pressure were largely similar , and creatinine clearance did not differ between groups .',\n",
              "  array([0., 0., 0., 0., 1.])),\n",
              " (b'adverse event rates were similar with serelaxin ( @ % ) and placebo ( @ % ) .',\n",
              "  array([0., 0., 0., 0., 1.])),\n",
              " (b'in patients with chronic heart failure , serelaxin increased renal plasma flow and reduced the increase in filtration fraction compared with placebo , but did not affect gfr .',\n",
              "  array([0., 1., 0., 0., 0.])),\n",
              " (b'these results suggest beneficial renal hemodynamic effects in patients with chronic heart failure .',\n",
              "  array([0., 1., 0., 0., 0.])),\n",
              " (b'http://www.clinicaltrials.gov .', array([1., 0., 0., 0., 0.])),\n",
              " (b'unique identifier : nct@ .', array([1., 0., 0., 0., 0.])),\n",
              " (b'low-income and racial/ethnic minority populations experience disproportionate colorectal cancer ( crc ) burden and poorer survival .',\n",
              "  array([1., 0., 0., 0., 0.])),\n",
              " (b'novel behavioral strategies are needed to improve screening rates in these groups .',\n",
              "  array([1., 0., 0., 0., 0.])),\n",
              " (b\"the study aimed to test a theoretically based `` implementation intentions '' intervention for improving crc screening among unscreened adults in urban safety-net clinics .\",\n",
              "  array([1., 0., 0., 0., 0.])),\n",
              " (b'randomized controlled trial .', array([0., 0., 1., 0., 0.])),\n",
              " (b'adults ( n = @ ) aged @ years , due for crc screening , from urban safety-net clinics were recruited .',\n",
              "  array([0., 0., 1., 0., 0.])),\n",
              " (b'the intervention ( conducted in @-@ ) was delivered via touchscreen computers that tailored informational messages to decisional stage and screening barriers .',\n",
              "  array([0., 0., 1., 0., 0.])),\n",
              " (b\"the computer then randomized participants to generic health information on diet and exercise ( comparison group ) or `` implementation intentions '' questions and planning ( experimental group ) specific to the crc screening test chosen ( fecal immunochemical test or colonoscopy ) .\",\n",
              "  array([0., 0., 1., 0., 0.])),\n",
              " (b'the primary study outcome was completion of crc screening at @ weeks based on test reports ( analysis conducted in @-@ ) .',\n",
              "  array([0., 0., 1., 0., 0.])),\n",
              " (b'the study population had a mean age of @ years and was @ % non-hispanic african american , @ % non-hispanic white , and @ % hispanic .',\n",
              "  array([0., 0., 0., 0., 1.])),\n",
              " (b'those receiving the implementation intentions-based intervention had higher odds ( aor = @ , @ % ci = @ , @ ) of completing crc screening than the comparison group .',\n",
              "  array([0., 0., 0., 0., 1.])),\n",
              " (b\"those with higher self-efficacy for screening ( aor = @ , @ % ci = @ , @ ) , history of asthma ( aor = @ , @ % ci = @ , @ ) , no history of diabetes ( aor = @ , @ % ci = @ , @ ) , and reporting they had never heard that `` cutting on cancer '' makes it spread ( aor = @ , @ % ci = @ , @ ) were more likely to complete crc screening .\",\n",
              "  array([0., 0., 0., 0., 1.])),\n",
              " (b'the results of this study suggest that programs incorporating an implementation intentions approach can contribute to successful completion of crc screening even among very low-income and diverse primary care populations .',\n",
              "  array([0., 1., 0., 0., 0.])),\n",
              " (b'future initiatives to reduce crc incidence and mortality disparities may be able to employ implementation intentions in large-scale efforts to encourage screening and prevention behaviors .',\n",
              "  array([0., 1., 0., 0., 0.])),\n",
              " (b'increased utilization of online medical information seeking demands investigation of potentially detrimental effects of these activities .',\n",
              "  array([0., 0., 0., 1., 0.])),\n",
              " (b'the present study investigated whether viewing medical websites may adversely affect anxiety sensitivity ( as ) , a well-established risk factor for the development of psychopathology .',\n",
              "  array([0., 0., 0., 1., 0.])),\n",
              " (b'participants ( n = @ ) were randomly assigned to view medical symptom related websites or general health and wellness control websites .',\n",
              "  array([0., 0., 1., 0., 0.])),\n",
              " (b'as was measured before and after the website viewing .',\n",
              "  array([0., 0., 1., 0., 0.])),\n",
              " (b'individuals in the medical website group reported higher as compared to the control group at post-manipulation after controlling for baseline health anxiety and baseline as .',\n",
              "  array([0., 0., 0., 0., 1.])),\n",
              " (b'additionally , intolerance of uncertainty ( iu ) , an individual difference variable assessing negative beliefs about uncertainty , significantly moderated this effect such that medical website viewing only affected as in participants with high iu but not in participants with low iu .',\n",
              "  array([0., 0., 0., 0., 1.])),\n",
              " (b'the limitations of the current study include the lack of individualization of the website viewing and the short duration of the website viewing .',\n",
              "  array([0., 1., 0., 0., 0.])),\n",
              " (b'the results of this study provide initial evidence that exposure to online medical information could increase risk for anxiety psychopathology in individuals with elevated iu .',\n",
              "  array([0., 1., 0., 0., 0.])),\n",
              " (b'additionally , these results provide support for a learning based model of the etiology of as .',\n",
              "  array([0., 1., 0., 0., 0.])),\n",
              " (b'miglitol is an - glucosidase inhibitor ( agi ) used as an antihyperglycemic agent in the treatment of type @ diabetes mellitus .',\n",
              "  array([1., 0., 0., 0., 0.])),\n",
              " (b'the mechanism is that miglitol binds to and inhibits the - glucosidase reversibly in the proximal intestine .',\n",
              "  array([1., 0., 0., 0., 0.])),\n",
              " (b'thus , carbohydrates not digested in the upper small intestine are transported to the lower intestine where they are eventually digested .',\n",
              "  array([1., 0., 0., 0., 0.])),\n",
              " (b'this study was performed for the subsequent marketing of the test miglitol formulation in korea .',\n",
              "  array([0., 0., 0., 1., 0.])),\n",
              " (b'we evaluated the comparative bioavailability and tolerability of the test and reference formulations in healthy male adult volunteers .',\n",
              "  array([0., 0., 0., 1., 0.])),\n",
              " (b'a total of @ healthy adult subjects were enrolled in this single-dose , randomized , open-label , @-period , @-sequence , crossover bioequivalence study .',\n",
              "  array([0., 0., 1., 0., 0.])),\n",
              " (b'during each period , subjects received @ mg of miglitol test or reference .',\n",
              "  array([0., 0., 1., 0., 0.])),\n",
              " (b'blood samples from the subjects were obtained before dosing at @ , @ , @ , @ , @ , @ , @ , @ , @ , @ , and @ hours after oral drug administration .',\n",
              "  array([0., 0., 1., 0., 0.])),\n",
              " (b'plasma concentrations were determined by using liquid chromatography/mass spectrometry/mass spectrometry ( lc-ms/ms ) .',\n",
              "  array([0., 0., 1., 0., 0.])),\n",
              " (b'the pk parameters including auct , auc , cmax , and tmax were measured and all treatment-emergent adverse events ( teaes ) and their relationships to study these medications were recorded throughout the entire study .',\n",
              "  array([0., 0., 1., 0., 0.])),\n",
              " (b'a total of @ healthy adult male korean subjects were enrolled in the study and randomized into two treatment groups .',\n",
              "  array([0., 0., 0., 0., 1.])),\n",
              " (b'ultimately , @ subjects completed the study .',\n",
              "  array([0., 0., 0., 0., 1.])),\n",
              " (b'during each treatment period , blood samples were collected at specific time intervals from @ to @ hours after administration of a single drug dose .',\n",
              "  array([0., 0., 0., 0., 1.])),\n",
              " (b'the pk parameters including auct , auc , cmax , and tmax were calculated and the @ % cis of the ratio ( test/reference ) of the parameters were obtained by analysis of variance ( anova ) on logarithmically transformed data .',\n",
              "  array([0., 0., 0., 0., 1.])),\n",
              " (b'the @ % cis of the geometric mean ratios for the test to reference formulations were as follows : @ ( @ - @ ) for auct and @ ( @ - @ ) for cmax .',\n",
              "  array([0., 0., 0., 0., 1.])),\n",
              " (b'statistical analysis confirmed that the @ % cis for these pk parameters were within the commonly accepted bioequivalence range of @ - @ .',\n",
              "  array([0., 0., 0., 0., 1.])),\n",
              " (b'there were no serious or unexpected teaes during the study .',\n",
              "  array([0., 0., 0., 0., 1.])),\n",
              " (b'in the healthy adult korean subjects , the test and reference formulations had similar pk parameters and similar plasma concentration-time profiles .',\n",
              "  array([0., 1., 0., 0., 0.])),\n",
              " (b'the test formulation of miglitol met the korean regulatory criteria ( auct and cmax ) for assuming bioequivalence and both formulations were generally well-tolerated .',\n",
              "  array([0., 1., 0., 0., 0.])),\n",
              " (b'the cris identifiers : kct@ .', array([0., 1., 0., 0., 0.])),\n",
              " (b\"to compare clerkship medical students ' confidence in performing a simulated normal vaginal delivery ( nvd ) after participating in a simulation training session using two different models .\",\n",
              "  array([0., 0., 0., 1., 0.])),\n",
              " (b'medical students were randomized to participate in a simulated nvd session using either an obstetrics mannequin or a birthing pelvis model .',\n",
              "  array([0., 0., 1., 0., 0.])),\n",
              " (b'questionnaires were used to assess confidence and evaluate the simulation before and immediately after the session and on the last day of the obstetrics clerkship rotation .',\n",
              "  array([0., 0., 1., 0., 0.])),\n",
              " (b'one hundred ten students were randomized .', array([0., 0., 0., 0., 1.])),\n",
              " (b'at the start of the clerkship , both groups had similar obstetrics exposure and confidence levels .',\n",
              "  array([0., 0., 0., 0., 1.])),\n",
              " (b'only @ students ( @ % ) agreed they were ready to attempt a nvd with minimal supervision or independently .',\n",
              "  array([0., 0., 0., 0., 1.])),\n",
              " (b'this increased significantly to @ students ( @ % ) immediately after the session .',\n",
              "  array([0., 0., 0., 0., 1.])),\n",
              " (b'at the end of the clerkship , @ of @ responding students ( @ % ) were confident that they could attempt a nvd with minimal supervision or independently .',\n",
              "  array([0., 0., 0., 0., 1.])),\n",
              " (b'there were no significant differences noted between simulator groups at any point .',\n",
              "  array([0., 0., 0., 0., 1.])),\n",
              " (b'the sessions were rated as equally useful and realistic , and this remained unchanged at the end of the clerkship .',\n",
              "  array([0., 0., 0., 0., 1.])),\n",
              " (b'simulated nvd training using either an obstetrics mannequin or a birthing pelvis model provides clerkship students with a positive experience and increases confidence immediately .',\n",
              "  array([0., 1., 0., 0., 0.])),\n",
              " (b\"it should be implemented early in the rotation , as it appears the clerkship experience also plays a large role in terms of students ' confidence .\",\n",
              "  array([0., 1., 0., 0., 0.])),\n",
              " (b'despite this , students maintain this type of learning is useful .',\n",
              "  array([0., 1., 0., 0., 0.])),\n",
              " (b'effective simulation training can easily be incorporated into clerkship training .',\n",
              "  array([0., 1., 0., 0., 0.])),\n",
              " (b'pulmonary rehabilitation ( pr ) provides benefit for patients with chronic obstructive pulmonary disease ( copd ) in terms of quality of life ( qol ) and exercise capacity ; however , the effects diminish over time .',\n",
              "  array([0., 0., 0., 1., 0.])),\n",
              " (b'our aim was to evaluate a maintenance programme for patients who had completed pr .',\n",
              "  array([0., 0., 0., 1., 0.])),\n",
              " (b'primary and secondary care pr programmes in norfolk .',\n",
              "  array([0., 0., 1., 0., 0.])),\n",
              " (b'@ patients with copd who had completed at least @ % of a standard pr programme were randomised and data are available for @ patients .',\n",
              "  array([0., 0., 1., 0., 0.])),\n",
              " (b'patients had greater than @ pack year smoking history and less than @ % predicted forced expiratory volume in @s but no other significant disease or recent respiratory tract infection .',\n",
              "  array([0., 0., 1., 0., 0.])),\n",
              " (b'patients were randomised to receive a maintenance programme or standard care .',\n",
              "  array([0., 0., 1., 0., 0.])),\n",
              " (b'the maintenance programme consisted of @h ( @h individually tailored exercise training and @h education programme ) every @months for @year .',\n",
              "  array([0., 0., 1., 0., 0.])),\n",
              " (b'the chronic respiratory questionnaire ( crq ) ( primary outcome ) , endurance shuttle walk test ( eswt ) , euroqol ( eq@d ) , hospital anxiety and depression score ( hads ) , body mass index ( bmi ) , body fat , activity levels ( overall score and activity diary ) and exacerbations were assessed before and after @months .',\n",
              "  array([0., 0., 1., 0., 0.])),\n",
              " (b'there was no statistically significant difference between the groups for the change in crq dyspnoea score ( primary end point ) at @months which amounted to @ ( -@ to @ ) units or other domains of the crq .',\n",
              "  array([0., 0., 0., 0., 1.])),\n",
              " (b'there was no difference in the eswt duration ( -@ ( -@ to @ ) seconds ) , bmi , body fat , eq@d , met-minutes , activity rating , hads , exacerbations or admissions .',\n",
              "  array([0., 0., 0., 0., 1.])),\n",
              " (b'a maintenance programme of three monthly @h sessions does not improve outcomes in patients with copd after @months .',\n",
              "  array([0., 1., 0., 0., 0.])),\n",
              " (b'we do not recommend that our maintenance programme is adopted .',\n",
              "  array([0., 1., 0., 0., 0.])),\n",
              " (b'other methods of sustaining the benefits of pr are required .',\n",
              "  array([0., 1., 0., 0., 0.])),\n",
              " (b'nct@ .', array([1., 0., 0., 0., 0.])),\n",
              " (b'only few randomized trials comparing sustained effects of short - and long-term psychotherapies in personality functioning are available .',\n",
              "  array([1., 0., 0., 0., 0.])),\n",
              " (b\"in this study we compared the effects of two short-term therapies and long-term psychodynamic psychotherapy on patients ' personality functioning during a @-year follow-up .\",\n",
              "  array([1., 0., 0., 0., 0.])),\n",
              " (b'altogether @ patients of the helsinki psychotherapy study , with anxiety or mood disorder , were randomly assigned to either short-term psychotherapy of about six months ( solution-focused therapy ( sft , n = @ ) or short-term psychodynamic psychotherapy ( spp , n = @ ) ) , or to long-term psychodynamic psychotherapy ( lpp , n = @ ) , lasting on average three years .',\n",
              "  array([0., 0., 1., 0., 0.])),\n",
              " (b'outcomes in personality functioning ( i.e. , self-concept , defense style , interpersonal problems , and level of personality organization ) were assessed five to seven times using , respectively , questionnaires ( sasb , dsq , iip ) and interview ( lpo ) during the @-year follow-up from randomization .',\n",
              "  array([0., 0., 1., 0., 0.])),\n",
              " (b'personality functioning improved in all therapy groups .',\n",
              "  array([0., 0., 0., 0., 1.])),\n",
              " (b'both short-term therapies fared better than lpp during the first year of follow-up , by faster improvement in self-concept and decrease in immature defense style .',\n",
              "  array([0., 0., 0., 0., 1.])),\n",
              " (b'sft also showed more early reduction of interpersonal problems .',\n",
              "  array([0., 0., 0., 0., 1.])),\n",
              " (b'however , lpp thereafter showed larger and more sustained benefits than sft and spp , through greater changes in self-concept .',\n",
              "  array([0., 0., 0., 0., 1.])),\n",
              " (b'additionally , lpp outperformed sft at the end of the follow-up in iip and lpo , after adjustment for auxiliary treatment .',\n",
              "  array([0., 0., 0., 0., 1.])),\n",
              " (b'no differences were noted between the short-term therapies at any measurement point .',\n",
              "  array([0., 0., 0., 0., 1.])),\n",
              " (b'auxiliary treatment was used relatively widely which limits generalization to exclusive use of short - or long-term therapy .',\n",
              "  array([0., 1., 0., 0., 0.])),\n",
              " (b'lpp seems to be somewhat more effective than short-term therapies in facilitating longterm changes in personality functioning .',\n",
              "  array([0., 1., 0., 0., 0.])),\n",
              " (b'acute oral tyrosine administration has been associated with increased constant-load , submaximal exercise capacity in the heat .',\n",
              "  array([0., 0., 0., 1., 0.])),\n",
              " (b'this study sought to determine whether self-paced exercise performance in the heat is enhanced with the same tyrosine dosage .',\n",
              "  array([0., 0., 0., 1., 0.])),\n",
              " (b'after familiarization , seven male endurance-trained volunteers , unacclimated to exercise in the heat , performed two experimental trials in @c ( @ % relative humidity ) in a crossover fashion separated by at least @ d. subjects ingested @ mgkg ( -@ ) body mass tyrosine ( tyr ) or an isocaloric quantity of whey powder ( pla ) in @ ml of sugar-free flavored water in a randomized , double-blind fashion .',\n",
              "  array([0., 0., 1., 0., 0.])),\n",
              " (b'sixty minutes after drink ingestion , the subjects cycled for @ min at @ % @ % peak oxygen uptake ( vo@peak ) and then performed a simulated cycling time trial requiring completion of an individualized target work quantity ( @ @ kj ) .',\n",
              "  array([0., 0., 1., 0., 0.])),\n",
              " (b'the ratio of plasma tyrosine plus phenylalanine ( tyrosine precursor ) to amino acids competing for brain uptake ( free-tryptophan , leucine , isoleucine , valine , methionine , threonine , and lysine ) increased @-fold from rest in tyr and remained elevated throughout exercise ( p < @ ) , whereas it declined in pla from rest to preexercise ( p = @ ) .',\n",
              "  array([0., 0., 0., 0., 1.])),\n",
              " (b'time-trial power output ( p = @ ) and performance ( @ @ and @ @ min in tyr and pla , respectively ; p = @ ) were similar between trials .',\n",
              "  array([0., 0., 0., 0., 1.])),\n",
              " (b'thermal sensation ( p > @ ) , rpe ( p > @ ) , core temperature ( p = @ ) , skin temperature ( p = @ ) , and heart rate ( p = @ ) did not differ between trials .',\n",
              "  array([0., 0., 0., 0., 1.])),\n",
              " (b'these data indicate that acute tyrosine administration did not influence self-paced endurance exercise performance in the heat .',\n",
              "  array([0., 1., 0., 0., 0.])),\n",
              " (b'plasma tyrosine availability is apparently not a key determinant of fatigue processes under these conditions .',\n",
              "  array([0., 1., 0., 0., 0.])),\n",
              " (b'the aim of this study was to investigate the effects of gonadotropin releasing hormone analog ( gnrha ) therapy on normalized testicular atrophy index ( tain ) using gonadorelin before and after orchiopexy .',\n",
              "  array([0., 0., 0., 1., 0.])),\n",
              " (b'@ infants with @ undescended testes ( udt ) were prospectively assigned to two homogeneous groups according to age , position of udt and tain .',\n",
              "  array([0., 0., 1., 0., 0.])),\n",
              " (b'the patients were randomized to receive either orchiopexy alone or orchiopexy combined with gnrha as nasal spray at @ mg daily for @ weeks before surgery and @ weeks after surgery .',\n",
              "  array([0., 0., 1., 0., 0.])),\n",
              " (b'surgical approaches were relative to the position of the udt : shoemakers technique in proximal-udt and bianchi technique in distal-udt .',\n",
              "  array([0., 0., 1., 0., 0.])),\n",
              " (b'all the patients were evaluated clinically and sonographically @ month before surgery , at the time of surgery , @ month , @ months and @ years after surgery .',\n",
              "  array([0., 0., 1., 0., 0.])),\n",
              " (b'ultrasound data in our study have shown a statistically significant decrease of tain in children given additional ht only after @ years of follow-up , in unilateral cases and in the entirety of treated patients ; in bilateral cases this difference was not statistically significant .',\n",
              "  array([0., 0., 0., 0., 1.])),\n",
              " (b'patients with a tain > @ % treated with preoperative and post-operative gnrha therapy have a significant increase in testicular volume after @ years of follow-up , as shown by the relative reduction of tain values .',\n",
              "  array([0., 1., 0., 0., 0.])),\n",
              " (b'to improve the translation of public health evidence into practice , there is a need to increase practitioner involvement in initiative development , to place greater emphasis on contextual knowledge , and to address intervention processes and outcomes .',\n",
              "  array([1., 0., 0., 0., 0.])),\n",
              " (b'evidence that demonstrates the need to reduce childhood fire-related injuries is compelling but its translation into practice is inconsistent and limited .',\n",
              "  array([1., 0., 0., 0., 0.])),\n",
              " (b\"with this knowledge the keeping children safe programme developed an `` injury prevention briefing ( ipb ) '' using a @ step process to combine scientific evidence with practitioner contextual knowledge .\",\n",
              "  array([1., 0., 0., 0., 0.])),\n",
              " (b\"the ipb was designed specifically for children 's centres ( ccs ) to support delivery of key fire safety messages to parents .\",\n",
              "  array([1., 0., 0., 0., 0.])),\n",
              " (b'this paper reports the findings of a nested qualitative study within a clustered randomised controlled trial of the ipb , in which staff described their experiences of ipb implementation to aid understanding of why or how the intervention worked .',\n",
              "  array([1., 0., 0., 0., 0.])),\n",
              " (b'interviews were conducted with key staff at @ ccs participating in the two intervention arms : @ ) ipb supplemented by initial training and regular facilitation ; @ ) ipb sent by post with no facilitation .',\n",
              "  array([0., 0., 1., 0., 0.])),\n",
              " (b'framework analysis was applied to these interview data to explore intervention adherence including ; exposure or dose ; quality of delivery ; participant responsiveness ; programme differentiation ; and staff experience of ipb implementation .',\n",
              "  array([0., 0., 1., 0., 0.])),\n",
              " (b'this included barriers , facilitators and suggested improvements .',\n",
              "  array([0., 0., 1., 0., 0.])),\n",
              " (b'@ % of ccs regarded the ipb as a simple , accessible tool which raised awareness , and stimulated discussion and behaviour change .',\n",
              "  array([0., 0., 0., 0., 1.])),\n",
              " (b'@ ccs suggested minor modifications to format and content .',\n",
              "  array([0., 0., 0., 0., 1.])),\n",
              " (b'four levels of implementation were identified according to content , frequency , duration and coverage .',\n",
              "  array([0., 0., 0., 0., 1.])),\n",
              " (b\"most ccs ( @ % ) achieved ` extended ' or ` essential ' ipb implementation .\",\n",
              "  array([0., 0., 0., 0., 1.])),\n",
              " (b'three universal factors affected all ccs : organisational change and resourcing ; working with hard to engage groups ; additional demands of participating in a research study .',\n",
              "  array([0., 0., 0., 0., 1.])),\n",
              " (b'six specific factors were associated with the implementation level achieved : staff engagement and training ; staff continuity ; adaptability and flexibility ; other agency support ; conflicting priorities ; facilitation .',\n",
              "  array([0., 0., 0., 0., 1.])),\n",
              " (b'ccs achieving high implementation levels increased from @ % ( no facilitation ) to @ % with facilitation .',\n",
              "  array([0., 0., 0., 0., 1.])),\n",
              " (b'incorporating service provider perspectives and scientific evidence into health education initiatives enhances potential for successful implementation , particularly when supplemented by ongoing training and facilitation .',\n",
              "  array([0., 1., 0., 0., 0.])),\n",
              " (b'to determine whether the insulin resistance that exists in metabolic syndrome ( mets ) patients is modulated by dietary fat composition .',\n",
              "  array([0., 0., 1., 0., 0.])),\n",
              " (b'seventy-five patients were randomly assigned to one of four diets for @ wk : high-saturated fatty acids ( hsfas ) , high-mufa ( hmufa ) , and two low-fat , high-complex carbohydrate ( lfhcc ) diets supplemented with long-chain n-@ ( lfhcc n-@ ) pufa or placebo .',\n",
              "  array([0., 0., 0., 0., 1.])),\n",
              " (b'at the end of intervention , the lfhcc n-@ diet reduced plasma insulin , homeostasis model assessment of insulin resistance , and nonsterified fatty acid concentration ( p < @ ) as compared to baseline spanish habitual ( bsh ) diet .',\n",
              "  array([0., 0., 0., 0., 1.])),\n",
              " (b'subcutaneous white adipose tissue ( wat ) analysis revealed decreased eh-domain containing-@ mrna levels and increased cbl-associated protein gene expression with the lfhcc n-@ compared to hsfa and hmufa diets , respectively ( p < @ ) .',\n",
              "  array([0., 0., 0., 0., 1.])),\n",
              " (b'moreover , the lfhcc n-@ decreased gene expression of glyceraldehyde-@-phosphate dehydrogenase with respect to hmufa and bsh diets ( p < @ ) .',\n",
              "  array([0., 0., 0., 0., 1.])),\n",
              " (b'finally , proteomic characterization of subcutaneous wat identified three proteins of glucose metabolism downregulated by the lfhcc n-@ diet , including annexin a@ .',\n",
              "  array([0., 0., 0., 0., 1.])),\n",
              " (b'rt-pcr analysis confirmed the decrease of annexin a@ ( p = @ ) after this diet .',\n",
              "  array([0., 0., 0., 0., 1.])),\n",
              " (b'our data suggest that the lfhcc n-@ diet reduces systemic insulin resistance and improves insulin signaling in subcutaneous wat of mets patients compared to hsfa and bsh diets consumption .',\n",
              "  array([0., 1., 0., 0., 0.])),\n",
              " (b'the outcomes of acute cardiovascular symptom presentations are potentially modifiable with the use of biomarkers to accelerate accurate diagnosis .',\n",
              "  array([1., 0., 0., 0., 0.])),\n",
              " (b'this randomized trial tested troponin and b-type natriuretic peptide before hospital guidance in patients with acute cardiovascular symptoms .',\n",
              "  array([1., 0., 0., 0., 0.])),\n",
              " (b'patients with either chest pain or shortness of breath were randomized to usual care or biomarkers analyzed using a point-of-care device in the ambulance .',\n",
              "  array([0., 0., 1., 0., 0.])),\n",
              " (b'the primary end point was time to final disposition ( discharge from the emergency department or admission to hospital ) .',\n",
              "  array([0., 0., 1., 0., 0.])),\n",
              " (b'the trial was stopped prematurely because of less than expected enrollment of patients of interest and no difference in the primary end point .',\n",
              "  array([0., 0., 1., 0., 0.])),\n",
              " (b'we randomized @ patients ; @ formed the final cohort .',\n",
              "  array([0., 0., 0., 0., 1.])),\n",
              " (b'patients were @ % male ; median age @ years ; @ % had previous acute coronary syndrome ; and @ % diabetes .',\n",
              "  array([0., 0., 0., 0., 1.])),\n",
              " (b'the b-type natriuretic peptide level before hospital arrival was @ pg/ml in @ % .',\n",
              "  array([0., 0., 0., 0., 1.])),\n",
              " (b'troponin was > @ ng/ml in @ % ; @ % had troponin > @ ng/ml .',\n",
              "  array([0., 0., 0., 0., 1.])),\n",
              " (b'after adjudication , @ % had acute coronary syndrome , @ % acute heart failure , @ % angina , and @ % another diagnosis .',\n",
              "  array([0., 0., 0., 0., 1.])),\n",
              " (b'the primary end point was @ ( interquartile range , @-@ @ ) hours in the biomarker group and @ ( interquartile range , @-@ @ ) hours in the usual care group ( p = @ ) .',\n",
              "  array([0., 0., 0., 0., 1.])),\n",
              " (b'none died in the ambulance or in the emergency department : all-cause @-day mortality was @ % ( usual care ) and @ % ( biomarker ) .',\n",
              "  array([0., 0., 0., 0., 1.])),\n",
              " (b'to our knowledge , this is the first randomized trial of biomarkers before hospital arrival to guide emergency management of suspected acute cardiovascular disease which showed no benefit and was terminated early because of futility .',\n",
              "  array([0., 1., 0., 0., 0.])),\n",
              " (b'the results have important implications for the use of biomarkers in emergency management of heart disease and for the design of future randomized trials on this important topic .',\n",
              "  array([0., 1., 0., 0., 0.])),\n",
              " (b'medication-overuse headache ( moh ) is a common problem in primary care .',\n",
              "  array([1., 0., 0., 0., 0.])),\n",
              " (b'brief intervention ( bi ) has successfully been used for detoxification from overuse of alcohol and drugs .',\n",
              "  array([1., 0., 0., 0., 0.])),\n",
              " (b'the aim of this pilot study was to develop and test methodology , acceptability and logistics for a bi for moh in primary care .',\n",
              "  array([1., 0., 0., 0., 0.])),\n",
              " (b'observational feasibility study of an intervention in a norwegian general practice population.six general practitioners ( gps ) were recruited .',\n",
              "  array([0., 0., 0., 0., 1.])),\n",
              " (b'a screening questionnaire for moh was sent to all @-@ year old patients on these gps ` list .',\n",
              "  array([0., 0., 0., 0., 1.])),\n",
              " (b'gps were taught bi , which was applied to moh patients as follows : severity of dependence scale ( sds ) scores were collected and individual feedback was given of the relationship between the sds , medication overuse and headache .',\n",
              "  array([0., 0., 0., 0., 1.])),\n",
              " (b'finally , advice to reduce medication was given .',\n",
              "  array([0., 0., 0., 0., 1.])),\n",
              " (b'patients were invited to a headache interview three months after the bi .',\n",
              "  array([0., 0., 0., 0., 1.])),\n",
              " (b'main outcomes were feedback from gps/patients about the feasibility and logistics of the study design , screening/recruitment process , bi and headache interviews .',\n",
              "  array([0., 0., 0., 0., 1.])),\n",
              " (b'efficacy and patient-related outcomes were not focused .',\n",
              "  array([0., 0., 0., 0., 1.])),\n",
              " (b'the patients reported a high degree of acceptability of the methodology .',\n",
              "  array([0., 0., 0., 0., 1.])),\n",
              " (b'the gps reported the bi to be feasible to implement within a busy practice and to represent a new and improved instrument for communication with moh patients .',\n",
              "  array([0., 0., 0., 0., 1.])),\n",
              " (b'the bi requires further testing in a randomised controlled trial ( rct ) in order to provide evidence of efficacy .',\n",
              "  array([0., 0., 0., 0., 1.])),\n",
              " (b'this feasibility study will be used to improve the bi for moh and the design of a cluster-rct .',\n",
              "  array([0., 1., 0., 0., 0.])),\n",
              " (b'clinicaltrials.gov : nct@ ( initially registered as controlled efficacy trial but changed to observational study ) .',\n",
              "  array([1., 0., 0., 0., 0.])),\n",
              " (b'to observe the effects of intra-operative combined dosing of dezoxine and dexmedetomidine on sedation , analgesia and the incidence of untoward events during and after surgery in teenagers undergoing horizontal concomitant strabismus surgery .',\n",
              "  array([0., 0., 0., 1., 0.])),\n",
              " (b'for this prospective and randomized trial , approval was obtained from the ethical committee and informed consent from their parents .',\n",
              "  array([0., 0., 1., 0., 0.])),\n",
              " (b'a total of @ patients aged @-@ years undergoing strabismus surgery at second affiliated hospital from september to december @ were collected .',\n",
              "  array([0., 0., 1., 0., 0.])),\n",
              " (b'the treatment group received an intravenous dose of dezoxine @ mgkg ( -@ ) at @ minutes before surgery .',\n",
              "  array([0., 0., 1., 0., 0.])),\n",
              " (b'and another intravenous injection of dexmedetomidine was administered at @ gkg ( -@ ) h ( -@ ) until the end of the first ocular muscle correcting .',\n",
              "  array([0., 0., 1., 0., 0.])),\n",
              " (b'the control group received the same volume of normal saline .',\n",
              "  array([0., 0., 1., 0., 0.])),\n",
              " (b'observational parameters including visual analogue scale ( vas ) , ramsay scores , self-rating anxiety scale ( sas ) , heart rate ( hr ) , blood pressure and the incidence of untoward events such as nausea and vomiting or arrhythmia were recorded .',\n",
              "  array([0., 0., 1., 0., 0.])),\n",
              " (b'the vas pain scores in the treatment group at t@-t@ decreased significantly versus the control group ( p < @ ) .',\n",
              "  array([0., 0., 0., 0., 1.])),\n",
              " (b'the ramsay scores in the treatment group at t@-t@ increased and significantly differences existed with the control group ( p < @ ) .',\n",
              "  array([0., 0., 0., 0., 1.])),\n",
              " (b'sas scores showed significant differences between pre-operative and post-operative periods in the treatment group ( p < @ ) .',\n",
              "  array([0., 0., 0., 0., 1.])),\n",
              " (b'the treatment group has shorter operative duration with @ cases of dragging pain in the treatment group versus @ in the control group ( p < @ ) .',\n",
              "  array([0., 0., 0., 0., 1.])),\n",
              " (b'during dragging reflex , hr was lower in the control group at t@ and t@ .',\n",
              "  array([0., 0., 0., 0., 1.])),\n",
              " (b'there were significant differences with the control group ( p < @ ) .',\n",
              "  array([0., 0., 0., 0., 1.])),\n",
              " (b'a combination of dezoxine and dexmedetomidine provide multiple benefits for patients undergoing strabismus surgery .',\n",
              "  array([0., 1., 0., 0., 0.])),\n",
              " (b'compared with simple local anesthesia , it effectively attenuates pain and anxiety and provides mild sedation and better cooperation during strabismus surgery .',\n",
              "  array([0., 1., 0., 0., 0.])),\n",
              " (b'eicosapentaenoic acid ( epa ) , which may reduce the risk for coronary heart disease ( chd ) , can be synthesized at low rates from - linolenic acid ( ala ) .',\n",
              "  array([0., 0., 0., 1., 0.])),\n",
              " (b'the rate-limiting step for this conversion is the @-desaturation of ala into stearidonic acid ( sda ) .',\n",
              "  array([0., 0., 0., 1., 0.])),\n",
              " (b'thus providing oils rich in sda may increase endogenous synthesis of epa , which may subsequently lower serum triacylglycerol concentrations , an effect frequently observed after epa supplementation .',\n",
              "  array([0., 0., 0., 1., 0.])),\n",
              " (b'we therefore studied the effects of echium oil on serum triacylglycerol concentrations and the omega-@ index , which correlate negatively with the risk for chd .',\n",
              "  array([0., 0., 0., 1., 0.])),\n",
              " (b'a randomized , double-blind , placebo-controlled crossover trial was conducted , in which @ healthy overweight and slightly obese subjects daily received @ g of echium oil ( providing @ g of sda ) or a high oleic acid sunflower oil ( hoso ) as control for @ weeks , with a washout period of at least @ days .',\n",
              "  array([0., 0., 1., 0., 0.])),\n",
              " (b'four subjects dropped out .', array([0., 0., 1., 0., 0.])),\n",
              " (b'differences between periods were tested for statistical significance ( p < @ ) using a paired t-test .',\n",
              "  array([0., 0., 1., 0., 0.])),\n",
              " (b'serum triacylglycerol and other lipid concentrations were not significantly affected by consumption of echium oil compared with hoso .',\n",
              "  array([0., 0., 0., 0., 1.])),\n",
              " (b'echium oil significantly increased percentage of epa in red blood cell ( rbc ) membranes with @ @ % ( mean s.d. ) compared with hoso ( p = @ ) .',\n",
              "  array([0., 0., 0., 0., 1.])),\n",
              " (b'no significant effects on docosahexaenoic acid in rbc membranes or on the omega-@ index were found .',\n",
              "  array([0., 0., 0., 0., 1.])),\n",
              " (b'in healthy overweight and slightly obese subjects , an increased intake of sda from echium oil does not lower serum triacylglycerol concentrations .',\n",
              "  array([0., 1., 0., 0., 0.])),\n",
              " (b'despite an increase in the percentage of epa in rbc membranes , the omega-@ index was not changed .',\n",
              "  array([0., 1., 0., 0., 0.])),\n",
              " (b'huai qi huang ( hqh ) is a compound chinese herbal medicine that contains trametes robiniophila murr , wolfberry fruit , and polygonatum .',\n",
              "  array([0., 0., 0., 1., 0.])),\n",
              " (b'in the present study , we investigated the effects of hqh on patients with mild immunoglobulin a nephropathy ( igan ) through a prospective randomized controlled study .',\n",
              "  array([0., 0., 0., 1., 0.])),\n",
              " (b'forty-five adults diagnosed with igan according to renal pathology , who had hematuria or/and proteinuria ( @ g/day ) , were randomly assigned to receive hqh or no treatment for @ weeks .',\n",
              "  array([0., 0., 1., 0., 0.])),\n",
              " (b'twenty-four hour urinary protein excretion and hematuria were measured at weeks @ , @ , @ , and @ .',\n",
              "  array([0., 0., 1., 0., 0.])),\n",
              " (b'the rate of complete remission of proteinuria and hematuria was evaluated .',\n",
              "  array([0., 0., 1., 0., 0.])),\n",
              " (b'any adverse events induced by hqh were also observed during the treatment period .',\n",
              "  array([0., 0., 1., 0., 0.])),\n",
              " (b'twenty-four hour urinary protein excretion was significantly reduced by hqh treatment compared with that in the control group at weeks @ and @ .',\n",
              "  array([0., 0., 0., 0., 1.])),\n",
              " (b'a much higher rate of complete remission of proteinuria was observed in the hqh group than in control group at week @ .',\n",
              "  array([0., 0., 0., 0., 1.])),\n",
              " (b'hqh administration also obviously reduced the extent of hematuria compared with that in the control group at week @ .',\n",
              "  array([0., 0., 0., 0., 1.])),\n",
              " (b'hqh treatment dramatically increased the rate of complete remission of hematuria compared with that in control group at weeks @ and @ .',\n",
              "  array([0., 0., 0., 0., 1.])),\n",
              " (b'no obvious adverse events caused by hqh were observed .',\n",
              "  array([0., 0., 0., 0., 1.])),\n",
              " (b'hqh could be a new conservative therapy for igan patients who can not tolerate steroids and immunosuppressive agents .',\n",
              "  array([0., 1., 0., 0., 0.])),\n",
              " (b'the relapse rate after discontinuing treatment still needs further investigation .',\n",
              "  array([0., 1., 0., 0., 0.])),\n",
              " (b'extracranial carotid and vertebral artery dissection is an important cause of stroke , especially in young people .',\n",
              "  array([1., 0., 0., 0., 0.])),\n",
              " (b'in some observational studies it has been associated with a high risk of recurrent stroke .',\n",
              "  array([1., 0., 0., 0., 0.])),\n",
              " (b'both antiplatelet drugs and anticoagulant drugs are used to reduce risk of stroke but whether one treatment strategy is more effective than the other is unknown .',\n",
              "  array([1., 0., 0., 0., 0.])),\n",
              " (b'we compared their efficacy in the cervical artery dissection in stroke study ( cadiss ) , with the additional aim of establishing the true risk of recurrent stroke .',\n",
              "  array([1., 0., 0., 0., 0.])),\n",
              " (b'we did this randomised trial at hospitals with specialised stroke or neurology services ( @ in the uk and seven in australia ) .',\n",
              "  array([0., 0., 1., 0., 0.])),\n",
              " (b'we included patients with extracranial carotid and vertebral dissection with onset of symptoms within the past @ days .',\n",
              "  array([0., 0., 1., 0., 0.])),\n",
              " (b'patients were randomly assigned ( @:@ ) by an automated telephone randomisation service to receive antiplatelet drugs or anticoagulant drugs ( specific treatment decided by the local clinician ) for @ months .',\n",
              "  array([0., 0., 1., 0., 0.])),\n",
              " (b'patients and clinicians were not masked to allocation , but investigators assessing endpoints were .',\n",
              "  array([0., 0., 1., 0., 0.])),\n",
              " (b'the primary endpoint was ipsilateral stroke or death in the intention-to-treat population .',\n",
              "  array([0., 0., 1., 0., 0.])),\n",
              " (b'the trial was registered with eudract ( @-@-@ ) and isrn ( ctn@ ) .',\n",
              "  array([0., 0., 1., 0., 0.])),\n",
              " (b'we enrolled @ participants ( @ carotid , @ vertebral ) .',\n",
              "  array([0., 0., 0., 0., 1.])),\n",
              " (b'mean time to randomisation was @ days ( sd @ ) .',\n",
              "  array([0., 0., 0., 0., 1.])),\n",
              " (b\"the major presenting symptoms were stroke or transient ischaemic attack ( n = @ ) and local symptoms ( headache , neck pain , or horner 's syndrome ; n = @ ) .\",\n",
              "  array([0., 0., 0., 0., 1.])),\n",
              " (b'@ participants were assigned to antiplatelet treatment versus @ to anticoagulant treatment .',\n",
              "  array([0., 0., 0., 0., 1.])),\n",
              " (b'overall , four ( @ % ) of @ patients had stroke recurrence ( all ipsilateral ) .',\n",
              "  array([0., 0., 0., 0., 1.])),\n",
              " (b'stroke or death occurred in three ( @ % ) of @ patients versus one ( @ % ) of @ ( odds ratio -lsb- or -rsb- @ , @ % ci @-@ ; p = @ ) .',\n",
              "  array([0., 0., 0., 0., 1.])),\n",
              " (b'there were no deaths , but one major bleeding ( subarachnoid haemorrhage ) in the anticoagulant group .',\n",
              "  array([0., 0., 0., 0., 1.])),\n",
              " (b'central review of imaging failed to confirm dissection in @ patients .',\n",
              "  array([0., 0., 0., 0., 1.])),\n",
              " (b'preplanned per-protocol analysis excluding these patients showed stroke or death in three ( @ % ) of @ patients in the antiplatelet group versus one ( @ % ) of @ patients in the anticoagulant group ( or @ , @ % ci @-@ ; p = @ ) .',\n",
              "  array([0., 0., 0., 0., 1.])),\n",
              " (b'we found no difference in efficacy of antiplatelet and anticoagulant drugs at preventing stroke and death in patients with symptomatic carotid and vertebral artery dissection but stroke was rare in both groups , and much rarer than reported in some observational studies .',\n",
              "  array([0., 1., 0., 0., 0.])),\n",
              " (b'diagnosis of dissection was not confirmed after review in many cases , suggesting that radiographic criteria are not always correctly applied in routine clinical practice .',\n",
              "  array([0., 1., 0., 0., 0.])),\n",
              " (b'stroke association .', array([1., 0., 0., 0., 0.])),\n",
              " (b'the purpose of this study was to investigate the efficacy of eyelid cooling to reduce postoperative pain , edema , erythema , and hematoma after upper blepharoplasty .',\n",
              "  array([1., 0., 0., 0., 0.])),\n",
              " (b'after bilateral upper blepharoplasty in @ consecutive patients , one eyelid per patient was randomized for cooling with an ice pack , and the other eyelid was left uncooled .',\n",
              "  array([0., 0., 1., 0., 0.])),\n",
              " (b'pain was scored by the patients using a visual analogue scale ( @ to @ ) @ hour and @ day after surgery .',\n",
              "  array([0., 0., 1., 0., 0.])),\n",
              " (b'degree of edema , erythema , and hematoma were scored by the patients on a four-point rating scale ( no , minimal , moderate , or severe ) @ hour , @ day , @ week , and @ months after surgery .',\n",
              "  array([0., 0., 1., 0., 0.])),\n",
              " (b'light photography was obtained @ week after surgery for scoring the degree of bruising on a four-point rating scale by a blinded observer .',\n",
              "  array([0., 0., 1., 0., 0.])),\n",
              " (b'pain did not differ between cooled and uncooled eyelids on the day of surgery .',\n",
              "  array([0., 0., 0., 0., 1.])),\n",
              " (b'however , pain in cooled eyelids was significantly lower @ day after surgery ( p = @ ) , yet absolute pain scores were low ( median , @ and @ , on a scale of @ ) .',\n",
              "  array([0., 0., 0., 0., 1.])),\n",
              " (b'edema , erythema , or hematoma did not differ between cooled and uncooled eyelids on any of the time points studied .',\n",
              "  array([0., 0., 0., 0., 1.])),\n",
              " (b'cooling of eyelids after upper blepharoplasty does not reduce edema , erythema , or hematoma of the eyelids , but reduces pain @ day after surgery .',\n",
              "  array([0., 1., 0., 0., 0.])),\n",
              " (b'however , because the degree of pain seems clinically irrelevant and because the majority of patients indicate that they have no preference for cooling over noncooling , eyelid cooling after upper blepharoplasty as a rule of thumb can be abandoned .',\n",
              "  array([0., 1., 0., 0., 0.])),\n",
              " (b'therapeutic , ii .', array([0., 0., 1., 0., 0.])),\n",
              " (b'there is limited evidence to support the use of facemasks in preventing infection for primary care professionals .',\n",
              "  array([1., 0., 0., 0., 0.])),\n",
              " (b'negative effects on communication has been suggested when the physician wears a facemask .',\n",
              "  array([1., 0., 0., 0., 0.])),\n",
              " (b\"as communication skills and doctor patient relationship are essential to primary care consultations , the effects of doctor 's facemask wearing were explored .\",\n",
              "  array([1., 0., 0., 0., 0.])),\n",
              " (b\"a randomised controlled study was conducted in primary care to explore the effects of doctors wearing facemasks on patients ' perception of doctors ' empathy , patient enablement and patient satisfaction .\",\n",
              "  array([0., 0., 1., 0., 0.])),\n",
              " (b'primary care doctors were randomized to mask wearing and non mask wearing clinical consultations in public primary care clinics in hong kong .',\n",
              "  array([0., 0., 1., 0., 0.])),\n",
              " (b\"patients ' views were gathered using the consultation and relational empathy ( care ) measure , patient enablement instrument ( pei ) and an overall satisfaction rating scale .\",\n",
              "  array([0., 0., 1., 0., 0.])),\n",
              " (b'the effects of face mask wearing were investigated using multilevel ( hierarchical ) modelling .',\n",
              "  array([0., 0., 1., 0., 0.])),\n",
              " (b'@,@ patients were randomised to doctor-mask wearing consultations ( n = @ ) and non mask wearing consultations ( n = @ ) .',\n",
              "  array([0., 0., 0., 0., 1.])),\n",
              " (b\"a significant and negative effect was found in the patients ' perception of the doctors ' empathy ( care score reduction -@ , p-value = @ ) .\",\n",
              "  array([0., 0., 0., 0., 1.])),\n",
              " (b\"in the more established doctor-patient relationship , the effect of doctors ' mask wearing was more pronounced ( care score reduction -@ , p-value = @ ) .\",\n",
              "  array([0., 0., 0., 0., 1.])),\n",
              " (b\"this study demonstrates that when doctors wearing a facemask during consultations , this has a significant negative impact on the patient 's perceived empathy and diminish the positive effects of relational continuity .\",\n",
              "  array([0., 1., 0., 0., 0.])),\n",
              " (b'consideration should be taken in planning appropriate use of facemasks in infectious disease policy for primary care and other healthcare professionals at a national , local or practice level .',\n",
              "  array([0., 1., 0., 0., 0.])),\n",
              " (b'this trial was registered on chinese clinical trial register ( chictr ) .',\n",
              "  array([1., 0., 0., 0., 0.])),\n",
              " (b'registration no. : chictr-ttrcc-@ .', array([1., 0., 0., 0., 0.])),\n",
              " (b'url : http://www.chictr.org/en/proj/show.aspx?proj=@ .',\n",
              "  array([1., 0., 0., 0., 0.])),\n",
              " (b'due to administrative error , registration of trial did not take place until after the trial started on @st august @ and registration number was released on @st september @ .',\n",
              "  array([1., 0., 0., 0., 0.])),\n",
              " (b'limited ankle joint dorsiflexion passive range of motion ( prom ) has been associated with common chronic lower extremity conditions , and clinicians often instruct patients in stretching exercises to increase dorsiflexion .',\n",
              "  array([1., 0., 0., 0., 0.])),\n",
              " (b'however , little is known about how subtalar joint ( stj ) position affects dorsiflexion at the midfoot/forefoot versus ankle/rearfoot during gastrocnemius stretching .',\n",
              "  array([1., 0., 0., 0., 0.])),\n",
              " (b'the purpose of this study was to determine if more dorsiflexion occurs at the ankle/rearfoot and less at the midfoot/forefoot during gastrocnemius stretching with the stj positioned in supination versus pronation .',\n",
              "  array([1., 0., 0., 0., 0.])),\n",
              " (b'in this repeated measures design , @ participants ( @ females , @ males ; mean age = @ years , sd = @ ) with current or recent history of lower extremity chronic conditions and less than @ degrees ankle dorsiflexion measured with the knee in extension on the involved side ( s ) performed five @-second gastrocnemius stretching trials in pronation and supination on each side in a randomly determined sequence .',\n",
              "  array([0., 0., 1., 0., 0.])),\n",
              " (b'a @-camera vicon motion analysis system and an amti force plate were used to measure midfoot/forefoot dorsiflexion , ankle/rearfoot dorsiflexion , knee extension , and normalized vertical ground reaction force .',\n",
              "  array([0., 0., 1., 0., 0.])),\n",
              " (b'two-way repeated measures anova revealed a significant increase in midfoot/forefoot dorsiflexion when stretching in pronation compared to supination ( p < @ ) .',\n",
              "  array([0., 0., 0., 0., 1.])),\n",
              " (b'anovas also demonstrated significantly more extension of the knee when stretching in supination compared to pronation ( p < @ ) , and increased normalized vertical ground reaction force when stretching in supination compared to pronation ( p = @ ) .',\n",
              "  array([0., 0., 0., 0., 1.])),\n",
              " (b'with the numbers available , no significant difference in ankle/rearfoot dorsiflexion when stretching in supination compared to pronation could be detected ( p > @ ) .',\n",
              "  array([0., 0., 0., 0., 1.])),\n",
              " (b'gastrocnemius stretching in pronation resulted in more dorsiflexion at the midfoot/forefoot than stretching in supination .',\n",
              "  array([0., 1., 0., 0., 0.])),\n",
              " (b'clinicians may want to consider stj position during gastrocnemius stretching to either facilitate or limit recruitment of dorsiflexion motion at the midfoot/forefoot .',\n",
              "  array([0., 1., 0., 0., 0.])),\n",
              " (b'cryptococcal meningitis is the most common cause of adult meningitis in sub-saharan africa .',\n",
              "  array([1., 0., 0., 0., 0.])),\n",
              " (b'raised intracranial pressure ( icp ) is common in cryptococcosis .',\n",
              "  array([1., 0., 0., 0., 0.])),\n",
              " (b'prior studies suggest elevated icp is associated with mortality , and guidelines recommend frequent lumbar punctures ( lps ) to control icp .',\n",
              "  array([1., 0., 0., 0., 0.])),\n",
              " (b'however , the magnitude of the impact of lps on cryptococcal-related mortality is unknown .',\n",
              "  array([1., 0., 0., 0., 0.])),\n",
              " (b'in sum , @ individuals with human immunodeficiency virus ( hiv ) - associated cryptococcal meningitis , screened for the cryptococcal optimal art timing ( coat ) trial in uganda and south africa , were observed .',\n",
              "  array([0., 0., 1., 0., 0.])),\n",
              " (b'individuals received an lp to diagnose meningitis , and subsequent therapeutic lps were recommended for elevated icp ( > @ mmh@o ) or new symptoms .',\n",
              "  array([0., 0., 1., 0., 0.])),\n",
              " (b'we compared survival , through @ days , between individuals receiving at least @ therapeutic lp with individuals not receiving therapeutic lps .',\n",
              "  array([0., 0., 1., 0., 0.])),\n",
              " (b'the coat trial randomized subjects at @-@ days ; thus , follow-up stopped at time of death , randomization , or @ days .',\n",
              "  array([0., 0., 1., 0., 0.])),\n",
              " (b'seventy-five ( @ % ) individuals had at least @ therapeutic lp .',\n",
              "  array([0., 0., 0., 0., 1.])),\n",
              " (b'individuals receiving therapeutic lps had higher cerebrospinal fluid ( csf ) opening pressures , higher csf fungal burdens , and were more likely to have altered mental status at baseline than those with no therapeutic lps .',\n",
              "  array([0., 0., 0., 0., 1.])),\n",
              " (b'thirty-one deaths ( @ % ) occurred among @ individuals without a therapeutic lp and @ deaths ( @ % ) among @ with at least @ therapeutic lp .',\n",
              "  array([0., 0., 0., 0., 1.])),\n",
              " (b'the adjusted relative risk of mortality was @ ( @ % confidence interval : @ -@ ) .',\n",
              "  array([0., 0., 0., 0., 1.])),\n",
              " (b'the association was observed regardless of opening pressure at baseline .',\n",
              "  array([0., 0., 0., 0., 1.])),\n",
              " (b'therapeutic lps were associated with a @ % relative improvement in survival , regardless of initial intracranial pressure .',\n",
              "  array([0., 1., 0., 0., 0.])),\n",
              " (b'the role of therapeutic lps should be reevaluated .',\n",
              "  array([0., 1., 0., 0., 0.])),\n",
              " (b'angiotensin-converting enzyme inhibitors ( aceis ) are currently used to control proteinuria in dogs with chronic kidney disease .',\n",
              "  array([1., 0., 0., 0., 0.])),\n",
              " (b'renal diets ( rds ) have beneficial effects in the management of azotemic dogs , but its role in proteinuric non-azotemic ( pnaz ) dogs has been poorly documented .',\n",
              "  array([1., 0., 0., 0., 0.])),\n",
              " (b'administration of a rd to pnaz dogs treated with benazepril ( be ) improves proteinuria control compared with the administration of a maintenance diet ( md ) .',\n",
              "  array([0., 0., 0., 1., 0.])),\n",
              " (b'twenty-two pnaz ( urine protein/creatinine ratio -lsb- upc -rsb- > @ ) dogs .',\n",
              "  array([0., 0., 1., 0., 0.])),\n",
              " (b'randomized open label clinical trial design .',\n",
              "  array([0., 0., 1., 0., 0.])),\n",
              " (b'dogs were assigned to group-md ( @ g protein/@ kcal me ) / be or to group-rd ( @ g protein/@ kcal me ) / be group during @ days .',\n",
              "  array([0., 0., 1., 0., 0.])),\n",
              " (b'dogs with serum albumin ( alb ) < @ g/dl received aspirin ( @ mg/kg/@ hours ) .',\n",
              "  array([0., 0., 1., 0., 0.])),\n",
              " (b'a physical examination , systolic blood pressure ( sbp ) measurement , complete blood count ( cbc ) , biochemistry panel , urinalysis , and upc were performed at day @ ( d@ ) and day @ ( d@ ) .',\n",
              "  array([0., 0., 1., 0., 0.])),\n",
              " (b'at d@ , there were no significant differences between groups in the evaluated variables .',\n",
              "  array([0., 0., 0., 0., 1.])),\n",
              " (b'during the study , logupc ( geometric mean ( @ % ci ) and sbp ( meansd mmhg ) significantly decreased ( paired t-test , p = @ ) in group-rd ( logupc ( d@ ) = @ -lsb- @-@ @ -rsb- ; upc ( d@ ) = @ -lsb- @-@ @ -rsb- ; sbp ( d@ ) = @ @ ; sbp ( d@ ) = @ @ ) , but not in group-md ( upc ( d@ ) = @ -lsb- @-@ @ -rsb- ; upc ( d@ ) = @ -lsb- @-@ @ -rsb- ; sbp ( d@ ) = @ @ ; sbp ( d@ ) = @ @ ) .',\n",
              "  array([0., 0., 0., 0., 1.])),\n",
              " (b'however , rm-anova test did not confirm that changes were consequence of dietary modification .',\n",
              "  array([0., 0., 0., 0., 1.])),\n",
              " (b'weight and alb concentration did not change significantly in any group .',\n",
              "  array([0., 0., 0., 0., 1.])),\n",
              " (b'the administration of a rd to pnaz dogs treated with be might help to control proteinuria and sbp compared with the administration of a md , without inducing clinically detectable malnutrition , but more studies are warranted .',\n",
              "  array([0., 1., 0., 0., 0.])),\n",
              " (b'to assess the temporal patterns of late gastrointestinal ( gi ) and genitourinary ( gu ) radiotherapy toxicity and resolution rates in a randomised controlled trial ( all-ireland cooperative oncology research group @-@ ) assessing duration of neo-adjuvant ( na ) hormone therapy for localised prostate cancer .',\n",
              "  array([1., 0., 0., 0., 0.])),\n",
              " (b'node negative patients with > @ of : psa > @ ng/ml , gleason score @ , and stage t@ or more , were included .',\n",
              "  array([0., 0., 1., 0., 0.])),\n",
              " (b'follow-up , including toxicity assessment , was three-monthly in the early stages and yearly thereafter .',\n",
              "  array([0., 0., 1., 0., 0.])),\n",
              " (b'median follow-up from the end of rt was @ years .',\n",
              "  array([0., 0., 0., 0., 1.])),\n",
              " (b'in the interval between @ days following the end of rt and the last toxicity assessment , gi and gu toxicity ( any grade ) was found in @ % and @ % of @ and @ patients , respectively .',\n",
              "  array([0., 0., 0., 0., 1.])),\n",
              " (b'for those who did develop toxicity , the median time from end of rt until the first development of any grade gi or gu toxicity was @ years and @ years , respectively , whilst median time to final resolution was @ years and @ years , respectively .',\n",
              "  array([0., 0., 0., 0., 1.])),\n",
              " (b'grade @ ( g@ ) or greater gi and gu toxicity occurred in @ ( @ % ) and @ ( @ % ) patients , respectively .',\n",
              "  array([0., 0., 0., 0., 1.])),\n",
              " (b'the proportion with unresolved g@ + gi and gu toxicity was @ % and @ % , respectively , in year @ , @ % and @ % in year @ , @ % and @ % in year @ and @ % and @ % in year @ .',\n",
              "  array([0., 0., 0., 0., 1.])),\n",
              " (b'long-term toxicities continue to occur many years after na hormone therapy and rt. .',\n",
              "  array([0., 1., 0., 0., 0.])),\n",
              " (b'the rate of occurrence does not appear to reduce within the time frame during which our patients were followed .',\n",
              "  array([0., 1., 0., 0., 0.])),\n",
              " (b'the percentage of patients suffering from g@ + toxicity at any time is however low .',\n",
              "  array([0., 1., 0., 0., 0.])),\n",
              " (b'resolution of these toxicities continues for the duration of the follow-up .',\n",
              "  array([0., 1., 0., 0., 0.])),\n",
              " (b'a novel therapeutic management of osteoarthritis ( oa ) of the knee was assessed .',\n",
              "  array([1., 0., 0., 0., 0.])),\n",
              " (b'the study aimed to evaluate the effect of monthly sodium bicarbonate with a single ( sbcg@ ) or double dose ( sbcg@ ) of calcium gluconate injections on oa of the knee ; as well as the efficacy and safety of both sbcg interventions in the long term .',\n",
              "  array([1., 0., 0., 0., 0.])),\n",
              " (b'a double-blind parallel-group clinical trial with @ knee oa patients was performed during @months , both sbcg interventions were followed-up for another @mo after intervention .',\n",
              "  array([0., 0., 1., 0., 0.])),\n",
              " (b\"the outcome variables were the western ontario-mcmaster university osteoarthritis index ( womac ) , the lequesne 's functional index and joint-space width changes from serial radiographs .\",\n",
              "  array([0., 0., 1., 0., 0.])),\n",
              " (b'after @months , group sbcg@ decreased -@ ( @ % ci : -@ , -@ ) and group sbcg@ decreased -@ ( -@ , -@ ) in the global womac score , the mean changes represent @ % and @ % lessened pain , respectively .',\n",
              "  array([0., 0., 0., 0., 1.])),\n",
              " (b'in the lequesne functional index scale , sbcg@ decreased -@ ( -@ , -@ ) and sbcg@ decreased -@ ( -@ , -@ ) , representing @ and @ % of improvement .',\n",
              "  array([0., 0., 0., 0., 1.])),\n",
              " (b'both mean scores were maintained after intervention discontinued .',\n",
              "  array([0., 0., 0., 0., 1.])),\n",
              " (b\"sbcg@ improved the knees ' joint space width more than sbcg@ at @ and @months .\",\n",
              "  array([0., 0., 0., 0., 1.])),\n",
              " (b'both sbcg interventions were well tolerated after @months of treatment',\n",
              "  array([0., 0., 0., 0., 1.])),\n",
              " (b'a solution of sodium bicarbonate and calcium gluconate is effective on reducing the symptoms associated with oa .',\n",
              "  array([0., 1., 0., 0., 0.])),\n",
              " (b'its beneficial effect is maintained for one year of continuous monthly administration and at least for @months after the administration is discontinued .',\n",
              "  array([0., 1., 0., 0., 0.])),\n",
              " (b'when the dose of calcium gluconate is increased , it prevents further narrowing of joint-space .',\n",
              "  array([0., 1., 0., 0., 0.])),\n",
              " (b'clinicaltrials.gov nct@ september @ , @ .', array([1., 0., 0., 0., 0.])),\n",
              " (b'deprivation of parents might decrease self-esteem ( se ) and result in affective and social incompatibility .',\n",
              "  array([1., 0., 0., 0., 0.])),\n",
              " (b'in this randomized control trial , we examined the effect of aerobics exercise on se among female adolescents living with no natural family .',\n",
              "  array([1., 0., 0., 0., 0.])),\n",
              " (b'the sample consisted of all female adolescents aged @ to @ years ( n : @ ) who were covered by isfahan welfare organization .',\n",
              "  array([0., 0., 1., 0., 0.])),\n",
              " (b'participants were assigned into intervention and control groups by matched random sampling .',\n",
              "  array([0., 0., 1., 0., 0.])),\n",
              " (b'intervention included @ weeks of aerobics exercise .',\n",
              "  array([0., 0., 1., 0., 0.])),\n",
              " (b'coppersmith se inventory was administered before and after intervention as well as after one month follow-up .',\n",
              "  array([0., 0., 1., 0., 0.])),\n",
              " (b'no significant difference was seen between pre-se scores of intervention ( @ @ ) and control ( @ @ ) groups ( t = @ , p = @ ) .',\n",
              "  array([0., 0., 0., 0., 1.])),\n",
              " (b'a significant difference was obtained in post-se scores ( @ @ versus @ @ , t = @ , p = @ ) and in one month follow-up scores ( @ @ versus @ @ , t = @ , p = @ ) .',\n",
              "  array([0., 0., 0., 0., 1.])),\n",
              " (b'the results demonstrated a low level of pre-se in both groups .',\n",
              "  array([0., 1., 0., 0., 0.])),\n",
              " (b'however , a significant improvement was seen in posttest of intervention group which persisted even one month after intervention .',\n",
              "  array([0., 1., 0., 0., 0.])),\n",
              " (b'it supports the use of aerobics for female adolescents deprived from family life .',\n",
              "  array([0., 1., 0., 0., 0.])),\n",
              " (b'to evaluate the effect of oral supplementation with omega-@ ( -@ ) fatty acids ( fas ) in improving contrast sensitivity ( cs ) of patients with moderate meibomian gland dysfunction ( mgd ) .',\n",
              "  array([0., 0., 0., 1., 0.])),\n",
              " (b'in this prospective study , @ patients with moderate mgd were allocated alternately to treatment and control groups .',\n",
              "  array([0., 0., 1., 0., 0.])),\n",
              " (b'both groups received warm compresses , lid massage , and artificial tear substitutes .',\n",
              "  array([0., 0., 1., 0., 0.])),\n",
              " (b'the treatment group also received oral supplements of @ g -@ fas per day .',\n",
              "  array([0., 0., 1., 0., 0.])),\n",
              " (b'all parameters were recorded at baseline and at @ weeks and included ocular surface disease index scores , cs testing at @ , @ , @ , and @ cycles per degree ( cpd ) , tear break-up time , schirmer test i without anesthesia , corneal and conjunctival staining scores , and meibum quality and expressibility .',\n",
              "  array([0., 0., 1., 0., 0.])),\n",
              " (b'at the end of @ weeks , significant improvement in cs was seen in the treatment group in @ of the @ testing conditions ( @ , @ , @ , and @ cpd photopic and @ , @ , and @ cpd mesopic ) , whereas in the placebo group , significant improvement was seen only in @ of the @ testing conditions ( @ cpd photopic , @ and @ cpd mesopic ) .',\n",
              "  array([0., 0., 0., 0., 1.])),\n",
              " (b'ocular surface disease index , tear break-up time , ocular surface staining , and meibum quality and expressibility improved significantly in both groups , but more so in the treatment group .',\n",
              "  array([0., 0., 0., 0., 1.])),\n",
              " (b'schirmer scores showed no significant improvement in either group .',\n",
              "  array([0., 0., 0., 0., 1.])),\n",
              " (b'oral supplementation with -@ fas significantly improved cs under both photopic and mesopic testing conditions in patients with moderate mgd .',\n",
              "  array([0., 1., 0., 0., 0.])),\n",
              " (b'tear film stability also improved significantly , whereas no effect was seen on aqueous tear production .',\n",
              "  array([0., 1., 0., 0., 0.])),\n",
              " (b'concern about pain during placement of an intrauterine device ( iud ) represents a barrier to use , especially among nulliparous women .',\n",
              "  array([0., 0., 0., 1., 0.])),\n",
              " (b'we hypothesized that nitroglycerin gel applied vaginally @ min prior to iud placement would reduce insertion-related pain .',\n",
              "  array([0., 0., 0., 1., 0.])),\n",
              " (b'we designed a randomized , double-blinded , placebo-controlled pilot study to evaluate the efficacy and tolerability of @-mg nitroglycerin gel ( @ ml ) or identical placebo gel applied vaginally in nulliparous women @ min prior to iud placement .',\n",
              "  array([0., 0., 1., 0., 0.])),\n",
              " (b'the study was limited to women who opted for the levonorgestrel-releasing intrauterine system .',\n",
              "  array([0., 0., 1., 0., 0.])),\n",
              " (b'subjects completed a series of @-mm visual analogue scales at several time points .',\n",
              "  array([0., 0., 1., 0., 0.])),\n",
              " (b'the primary outcome was subject-reported pain with passage of the iud through the cervix .',\n",
              "  array([0., 0., 1., 0., 0.])),\n",
              " (b'secondary outcomes included subject-reported pain at other time points , provider-reported ease of insertion , side effects , adverse events and need for additional dilation .',\n",
              "  array([0., 0., 1., 0., 0.])),\n",
              " (b'a total of @ women were randomized .', array([0., 0., 0., 0., 1.])),\n",
              " (b'baseline characteristics were similar between groups .',\n",
              "  array([0., 0., 0., 0., 1.])),\n",
              " (b'the mean pain score with iud deployment was @ mm -lsb- standard deviation ( sd ) = @ mm -rsb- in the placebo group and @ mm ( sd @ mm ) in the nitroglycerin group ( p = @ ) .',\n",
              "  array([0., 0., 0., 0., 1.])),\n",
              " (b'there was no difference in ease of insertion reported by providers .',\n",
              "  array([0., 0., 0., 0., 1.])),\n",
              " (b'two subjects required dilation , one in each group .',\n",
              "  array([0., 0., 0., 0., 1.])),\n",
              " (b'vaginal administration of @-mg nitroglycerin gel @ min prior to iud placement does not appear to decrease patient-reported procedural pain among nulliparous women or ease of insertion for providers .',\n",
              "  array([0., 1., 0., 0., 0.])),\n",
              " (b'long-term clinical outcomes of everolimus-eluting stent ( ees ) compared with sirolimus-eluting stent ( ses ) have not been evaluated fully yet , especially whether ees implantation could positively affect late adverse events reported after ses implantation occurring > @ year .',\n",
              "  array([1., 0., 0., 0., 0.])),\n",
              " (b'in this all-comer prospective multicenter randomized open-label trial , @ patients were assigned randomly to implant either ees ( n = @ ) or ses ( n = @ ) .',\n",
              "  array([0., 0., 0., 0., 1.])),\n",
              " (b'at @ years , ees was noninferior to ses on the primary safety end point ( all-cause death or myocardial infarction ; @ % versus @ % ; noninferiority p < @ ; and superiority p = @ ) .',\n",
              "  array([0., 0., 0., 0., 1.])),\n",
              " (b'cumulative incidence of definite stent thrombosis was low and was not significantly different between the @ groups ( @ % versus @ % ; p = @ ) .',\n",
              "  array([0., 0., 0., 0., 1.])),\n",
              " (b'there was no significant difference in the efficacy end point of target-lesion revascularization between the ees and ses groups ( @ % versus @ % ; p = @ ) .',\n",
              "  array([0., 0., 0., 0., 1.])),\n",
              " (b'however , the cumulative incidence of target-lesion failure ( cardiac death/target-vessel myocardial infarction/ischemia-driven target-lesion revascularization ) was significantly lower in the ees group than in the ses group ( @ % versus @ % ; p = @ ) .',\n",
              "  array([0., 0., 0., 0., 1.])),\n",
              " (b'by a landmark analysis at @ year , the cumulative incidence of very late stent thrombosis and late target-lesion revascularization was not significantly different between the @ groups ( @ % versus @ % ; p = @ and @ % versus @ % ; p = @ , respectively ) .',\n",
              "  array([0., 0., 0., 0., 1.])),\n",
              " (b'the efficacy and safety outcomes for this trial after ees implantation remained comparable with those after ses implantation through @-year follow-up .',\n",
              "  array([0., 1., 0., 0., 0.])),\n",
              " (b'however , improvement of clinical outcome after ees implantation compared with ses implantation was suggested by the significantly lower cumulative incidences of target-lesion failure , which has been the most widely used primary end point in the stent-versus-stent trials .',\n",
              "  array([0., 1., 0., 0., 0.])),\n",
              " (b'http://www.clinicaltrials.gov .', array([1., 0., 0., 0., 0.])),\n",
              " (b'unique identifier : nct@ .', array([1., 0., 0., 0., 0.])),\n",
              " (b'metamizole use has been limited because of its risk of agranulocytosis .',\n",
              "  array([1., 0., 0., 0., 0.])),\n",
              " (b'however , more recent literature seems to support its safety .',\n",
              "  array([1., 0., 0., 0., 0.])),\n",
              " (b'this prospective , randomised , double-blind study was conducted to compare the analgesic effects of intravenous metamizole or intravenous paracetamol in combination with morphine pca during the first @h following total hip arthroplasty .',\n",
              "  array([1., 0., 0., 0., 0.])),\n",
              " (b'one hundred ten consecutive patients were selected for study .',\n",
              "  array([0., 0., 1., 0., 0.])),\n",
              " (b'the two study groups were ( a ) metamizole , ( b ) paracetamol .',\n",
              "  array([0., 0., 1., 0., 0.])),\n",
              " (b'postoperative pain therapy was provided by morphine pca pump .',\n",
              "  array([0., 0., 1., 0., 0.])),\n",
              " (b'in the first treatment group ( a group ) , all patients received intravenous metamizole @ g every @h during the first @ postoperative hours .',\n",
              "  array([0., 0., 1., 0., 0.])),\n",
              " (b'in the second treatment group ( b group ) , all patients received intravenous paracetamol @g every @h during the first @ postoperative hours .',\n",
              "  array([0., 0., 1., 0., 0.])),\n",
              " (b'postoperative pain intensity was measured @ , @ , @ , @ , @ , @ , @ , @ , @ , @h after the end of surgery by a vas .',\n",
              "  array([0., 0., 1., 0., 0.])),\n",
              " (b'statistically significant differences in vas pain values favoring metamizole were reported at @-h ( p = @ ) , @-h ( p = @ ) , @-h ( p = @ ) , @-h ( p < @ ) and @-h ( p = @ ) post-baseline .',\n",
              "  array([0., 0., 0., 0., 1.])),\n",
              " (b'mean cumulative pain values were @ for metamizole and @ for paracetamol .',\n",
              "  array([0., 0., 0., 0., 1.])),\n",
              " (b'in this study , we have also shown excellent efficacy of paracetamol and metamizole combined with opioids , but metamizole proved to be a better analgesic than paracetamol .',\n",
              "  array([0., 1., 0., 0., 0.])),\n",
              " (b'it is also necessary to mention the financial aspect considering that intravenous paracetamol is about ten times more expensive than an equivalent analgesic doses of intravenous metamizole .',\n",
              "  array([0., 1., 0., 0., 0.])),\n",
              " (b'a malaria vaccine could be an important addition to current control strategies .',\n",
              "  array([1., 0., 0., 0., 0.])),\n",
              " (b'we report the safety and vaccine efficacy ( ve ) of the rts , s/as@ vaccine during @ mo following vaccination at @ african sites with varying malaria transmission .',\n",
              "  array([1., 0., 0., 0., 0.])),\n",
              " (b'@,@ infants aged @-@ wk and @,@ children aged @-@ mo were randomized to receive three doses of rts , s/as@ or comparator vaccine .',\n",
              "  array([0., 0., 0., 0., 1.])),\n",
              " (b've against clinical malaria in children during the @ mo after vaccine dose @ ( per protocol ) was @ % ( @ % ci @ % to @ % ) ( range @ % to @ % ; ve , p < @ across all sites ) .',\n",
              "  array([0., 0., 0., 0., 1.])),\n",
              " (b've during the @ mo after vaccine dose @ ( intention to treat -lsb- itt -rsb- ) was @ % ( @ % ci @ % to @ % ) .',\n",
              "  array([0., 0., 0., 0., 1.])),\n",
              " (b've against severe malaria , malaria hospitalization , and all-cause hospitalization was @ % ( @ % ci @ % to @ % ) , @ % ( @ % ci @ % to @ % ) , and @ % ( @ % ci @ % to @ % ) , respectively ( itt ) .',\n",
              "  array([0., 0., 0., 0., 1.])),\n",
              " (b've against clinical malaria in infants was @ % ( @ % ci @ % to @ % , per protocol ; @ % -lsb- @ % ci @ % to @ % -rsb- , itt ) , with no significant protection against severe malaria , malaria hospitalization , or all-cause hospitalization .',\n",
              "  array([0., 0., 0., 0., 1.])),\n",
              " (b'post-vaccination anti-circumsporozoite antibody geometric mean titer varied from @ to @ eu/ml across sites in children and from @ to @ eu/ml in infants ( per protocol ) .',\n",
              "  array([0., 0., 0., 0., 1.])),\n",
              " (b've waned over time in both age categories ( schoenfeld residuals p < @ ) .',\n",
              "  array([0., 0., 0., 0., 1.])),\n",
              " (b'the number of clinical and severe malaria cases averted per @,@ children vaccinated ranged across sites from @ to @,@ and from -@ to @ , respectively ; corresponding ranges among infants were -@ to @,@ and -@ to @ , respectively ( itt ) .',\n",
              "  array([0., 0., 0., 0., 1.])),\n",
              " (b'meningitis was reported as a serious adverse event in @/@ ,@ and @/@ ,@ children and in @/@ ,@ and @/@ ,@ infants in the rts , s/as@ and control groups , respectively .',\n",
              "  array([0., 0., 0., 0., 1.])),\n",
              " (b'rts , s/as@ prevented many cases of clinical and severe malaria over the @ mo after vaccine dose @ , with the highest impact in areas with the greatest malaria incidence .',\n",
              "  array([0., 1., 0., 0., 0.])),\n",
              " (b've was higher in children than in infants , but even at modest levels of ve , the number of malaria cases averted was substantial .',\n",
              "  array([0., 1., 0., 0., 0.])),\n",
              " (b'rts , s/as@ could be an important addition to current malaria control in africa .',\n",
              "  array([0., 1., 0., 0., 0.])),\n",
              " (b\"www.clinicaltrials.gov nct@ please see later in the article for the editors ' summary .\",\n",
              "  array([1., 0., 0., 0., 0.])),\n",
              " (b'the purpose of this study was to examine the osteotomy gap filling rate with new bone after open wedge high tibial osteotomy ( hto ) without bone graft and the effects of smoking , lateral hinge fracture , and early full weight bearing .',\n",
              "  array([0., 0., 0., 1., 0.])),\n",
              " (b'a prospective series ( n = @ ) of open wedge htos with the tomofix plate ( depuy synthes , umkirch , germany ) was performed .',\n",
              "  array([0., 0., 1., 0., 0.])),\n",
              " (b'radiologic follow-up examinations took place postoperatively , after @ and @ weeks , and after @ , @ , and @ months to measure osteotomy gap filling at each follow-up .',\n",
              "  array([0., 0., 1., 0., 0.])),\n",
              " (b'bone healing was compared in smokers versus nonsmokers who underwent open wedge htos with intact lateral hinges .',\n",
              "  array([0., 0., 1., 0., 0.])),\n",
              " (b'fractured lateral hinges were classified according to the takeuchi classification and separately analyzed regarding bone healing .',\n",
              "  array([0., 0., 1., 0., 0.])),\n",
              " (b'patients were randomly assigned to undergo early ( @ days ) or standard ( @ weeks ) full-weight-bearing rehabilitation .',\n",
              "  array([0., 0., 1., 0., 0.])),\n",
              " (b'a delay in the osteotomy gap filling rate between smokers and nonsmokers could be observed at all follow-up periods , but differences were not significant .',\n",
              "  array([0., 0., 0., 0., 1.])),\n",
              " (b'a fracture of the lateral hinge was found in @ % of the patients .',\n",
              "  array([0., 0., 0., 0., 1.])),\n",
              " (b'a type i fracture was observed in @ % of patients , a type ii fracture was observed in @ % , and a type iii fracture was found in @ % .',\n",
              "  array([0., 0., 0., 0., 1.])),\n",
              " (b'the highest increase in the osteotomy gap filling rate was observed between @ weeks and @ months after surgery in patients with intact lateral hinges .',\n",
              "  array([0., 0., 0., 0., 1.])),\n",
              " (b'for patients with unstable type ii fractures , the highest increase in the gap filling rate was delayed until @ to @ months .',\n",
              "  array([0., 0., 0., 0., 1.])),\n",
              " (b'early full weight bearing had no effect on the gap filling rate in any of the patient groups evaluated .',\n",
              "  array([0., 0., 0., 0., 1.])),\n",
              " (b'this study shows that osteotomy gap filling after open wedge hto is delayed in smokers and in patients in whom opening of the gap resulted in unstable lateral hinge fractures .',\n",
              "  array([0., 1., 0., 0., 0.])),\n",
              " (b'early full weight bearing did not have a significant effect on the gap filling rate .',\n",
              "  array([0., 1., 0., 0., 0.])),\n",
              " (b'level iii , prognostic study .', array([0., 0., 1., 0., 0.])),\n",
              " (b'to compare @-day mortality rates and clinical outcomes in icu patients with ventilator-associated pneumonia according to the diagnostic strategy used .',\n",
              "  array([0., 0., 0., 1., 0.])),\n",
              " (b'this was a prospective randomized clinical trial .',\n",
              "  array([0., 0., 1., 0., 0.])),\n",
              " (b'of the @ patients included in the study , @ and @ were randomized to undergo bal or endotracheal aspiration ( ea ) , respectively .',\n",
              "  array([0., 0., 1., 0., 0.])),\n",
              " (b'antibiotic therapy was based on guidelines and was adjusted according to the results of quantitative cultures .',\n",
              "  array([0., 0., 1., 0., 0.])),\n",
              " (b'the @-day mortality rate was similar in the bal and ea groups ( @ % and @ % , respectively ; p = @ ) .',\n",
              "  array([0., 0., 0., 0., 1.])),\n",
              " (b'there were no differences between the groups regarding the duration of mechanical ventilation , antibiotic therapy , secondary complications , vap recurrence , or length of icu and hospital stay .',\n",
              "  array([0., 0., 0., 0., 1.])),\n",
              " (b'initial antibiotic therapy was deemed appropriate in @ ( @ % ) and @ ( @ % ) of the patients in the bal and ea groups , respectively ( p = @ ) .',\n",
              "  array([0., 0., 0., 0., 1.])),\n",
              " (b'the @-day mortality rate was not associated with the appropriateness of initial therapy in the bal and ea groups ( appropriate therapy : @ % vs. @ % ; p = @ ; and inappropriate therapy : @ % vs. @ % ; p = @ ) .',\n",
              "  array([0., 0., 0., 0., 1.])),\n",
              " (b'previous use of antibiotics did not affect the culture yield in the ea or bal group ( p = @ and p = @ , respectively ) .',\n",
              "  array([0., 0., 0., 0., 1.])),\n",
              " (b'in the context of this study , the management of vap patients , based on the results of quantitative endotracheal aspirate cultures , led to similar clinical outcomes to those obtained with the results of quantitative bal fluid cultures .',\n",
              "  array([0., 1., 0., 0., 0.])),\n",
              " (b'( brazilian registry of clinical trials -- rebec ; identification number rbr-@dcdx -lsb- http://www.ensaiosclinicos.gov.br] ) .',\n",
              "  array([0., 1., 0., 0., 0.])),\n",
              " (b'primary sjgren syndrome is a systemic autoimmune disease characterized by mouth and eye dryness , pain , and fatigue .',\n",
              "  array([0., 0., 0., 1., 0.])),\n",
              " (b'hydroxychloroquine is the most frequently prescribed immunosuppressant for the syndrome .',\n",
              "  array([0., 0., 0., 1., 0.])),\n",
              " (b'however , evidence regarding its efficacy is limited .',\n",
              "  array([0., 0., 0., 1., 0.])),\n",
              " (b'to evaluate the efficacy of hydroxychloroquine for the main symptoms of primary sjgren syndrome : dryness , pain , and fatigue .',\n",
              "  array([0., 0., 0., 1., 0.])),\n",
              " (b'from april @ to may @ , @ patients with primary sjgren syndrome according to american-european consensus group criteria from @ university hospitals in france were randomized in a double-blind , parallel-group , placebo-controlled trial .',\n",
              "  array([0., 0., 1., 0., 0.])),\n",
              " (b'participants were assessed at baseline , week @ , week @ ( primary outcome ) , and week @ .',\n",
              "  array([0., 0., 1., 0., 0.])),\n",
              " (b'the last follow-up date for the last patient was may @ , @ .',\n",
              "  array([0., 0., 1., 0., 0.])),\n",
              " (b'patients were randomized ( @:@ ) to receive hydroxychloroquine ( @ mg/d ) or placebo until week @ .',\n",
              "  array([0., 0., 1., 0., 0.])),\n",
              " (b'all patients were prescribed hydroxychloroquine between weeks @ and @ .',\n",
              "  array([0., 0., 1., 0., 0.])),\n",
              " (b'the primary end point was the proportion of patients with a @ % or greater reduction between weeks @ and @ in scores on @ of @ numeric analog scales ( from @ -lsb- best -rsb- to @ -lsb- worst -rsb- ) evaluating dryness , pain , and fatigue .',\n",
              "  array([0., 0., 1., 0., 0.])),\n",
              " (b'at @ weeks , the proportion of patients meeting the primary end point was @ % ( @/@ ) in the hydroxychloroquine group and @ % ( @/@ ) in the placebo group ( odds ratio , @ ; @ % ci , @-@ @ ; p = @ ) .',\n",
              "  array([0., 0., 0., 0., 1.])),\n",
              " (b'between weeks @ and @ , the mean ( sd ) numeric analog scale score for dryness changed from @ ( @ ) to @ ( @ ) in the placebo group and @ ( @ ) to @ ( @ ) in the hydroxychloroquine group .',\n",
              "  array([0., 0., 0., 0., 1.])),\n",
              " (b'the mean ( sd ) numeric analog scale score for pain changed from @ ( @ ) to @ ( @ ) in the placebo group and @ ( @ ) to @ ( @ ) in the hydroxychloroquine group .',\n",
              "  array([0., 0., 0., 0., 1.])),\n",
              " (b'the mean ( sd ) numeric analog scale for fatigue changed from @ ( @ ) to @ ( @ ) in the placebo group and @ ( @ ) to @ ( @ ) in the hydroxychloroquine group .',\n",
              "  array([0., 0., 0., 0., 1.])),\n",
              " (b'all but @ patient in the hydroxychloroquine group had detectable blood levels of the drug .',\n",
              "  array([0., 0., 0., 0., 1.])),\n",
              " (b'hydroxychloroquine had no efficacy in patients with anti-ssa autoantibodies , high igg levels , or systemic involvement .',\n",
              "  array([0., 0., 0., 0., 1.])),\n",
              " (b'during the first @ weeks , there were @ serious adverse events in the hydroxychloroquine group and @ in the placebo group ; in the last @ weeks , there were @ serious adverse events in the hydroxychloroquine group and @ in the placebo group .',\n",
              "  array([0., 0., 0., 0., 1.])),\n",
              " (b'among patients with primary sjgren syndrome , the use of hydroxychloroquine compared with placebo did not improve symptoms during @ weeks of treatment .',\n",
              "  array([0., 1., 0., 0., 0.])),\n",
              " (b'further studies are needed to evaluate longer-term outcomes .',\n",
              "  array([0., 1., 0., 0., 0.])),\n",
              " (b'clinicaltrials.gov identifier : nct@ .', array([1., 0., 0., 0., 0.])),\n",
              " (b'to determine whether plasma sclerostin levels are affected by applying whole-body vibration treatments .',\n",
              "  array([0., 0., 0., 1., 0.])),\n",
              " (b'following a pilot study , the pretsent prospective , randomized , controlled single-blind study was performed on @ healthy volunteer women ( ages @ to @ years ) .',\n",
              "  array([0., 0., 1., 0., 0.])),\n",
              " (b'subjects were randomly divided into @ groups , and whole-body vibration was applied to the treatment group but not to the controls .',\n",
              "  array([0., 0., 1., 0., 0.])),\n",
              " (b'the plasma sclerostin levels were measured before the treatment and at the @th minute after whole-body vibration on the @st , @nd , and @th days of application .',\n",
              "  array([0., 0., 1., 0., 0.])),\n",
              " (b'the plasma sclerostin level measured at @ min after the whole-body vibration treatment increased @ % ( p = @ ) on the @st day and decreased @ % ( p = @ ) on the @th day in the whole-body vibration group .',\n",
              "  array([0., 0., 0., 0., 1.])),\n",
              " (b'in the control group , there was no change in the plasma sclerostin level at any time .',\n",
              "  array([0., 0., 0., 0., 1.])),\n",
              " (b'a progressive increase in baseline plasma sclerostin levels during the @ days of vibration sessions was also found .',\n",
              "  array([0., 0., 0., 0., 1.])),\n",
              " (b'our study demonstrated that whole-body vibration can change plasma sclerostin levels , and that this change is detectable @ min after whole-body vibration treatments .',\n",
              "  array([0., 1., 0., 0., 0.])),\n",
              " (b'knowing family history is important for understanding cancer risk , yet communication within families is suboptimal .',\n",
              "  array([1., 0., 0., 0., 0.])),\n",
              " (b'providing strategies to enhance communication may be useful .',\n",
              "  array([1., 0., 0., 0., 0.])),\n",
              " (b\"four hundred ninety women were recruited from urban , safety-net , hospital-based primary care women 's health clinics .\",\n",
              "  array([0., 0., 1., 0., 0.])),\n",
              " (b'participants were randomized to receive the kinfact intervention or the control handout on lowering risks for breast/colon cancer and screening recommendations .',\n",
              "  array([0., 0., 1., 0., 0.])),\n",
              " (b'cancer family history was reviewed with all participants .',\n",
              "  array([0., 0., 1., 0., 0.])),\n",
              " (b'the @-minute kinfact intervention , based in communication and behavior theory , included reviewing individualized breast/colon cancer risks and an interactive presentation about cancer and communication .',\n",
              "  array([0., 0., 1., 0., 0.])),\n",
              " (b'study outcomes included whether participants reported collecting family history , shared cancer risk information with relatives , and the frequency of communication with relatives .',\n",
              "  array([0., 0., 1., 0., 0.])),\n",
              " (b'data were collected at baseline , @ , @ , and @ months .',\n",
              "  array([0., 0., 1., 0., 0.])),\n",
              " (b'overall , intervention participants were significantly more likely to gather family cancer information at follow-up ( odds ratio -lsb- or -rsb- : @ ; @ % confidence interval -lsb- ci -rsb- : @ , @ ) and to share familial cancer information with relatives ( or : @ ; @ % ci : @ , @ ) .',\n",
              "  array([0., 0., 0., 0., 1.])),\n",
              " (b'communication frequency ( @ = not at all ; @ = a lot ) was significantly increased at follow-up ( @ vs. @ ) .',\n",
              "  array([0., 0., 0., 0., 1.])),\n",
              " (b'differences were not modified by age , race , education , or family history .',\n",
              "  array([0., 0., 0., 0., 1.])),\n",
              " (b'however , effects were modified by pregnancy status and genetic literacy .',\n",
              "  array([0., 0., 0., 0., 1.])),\n",
              " (b'intervention effects for information gathering and frequency were observed for nonpregnant women but not for pregnant women .',\n",
              "  array([0., 0., 0., 0., 1.])),\n",
              " ...]"
            ]
          },
          "metadata": {},
          "execution_count": 55
        }
      ]
    },
    {
      "cell_type": "code",
      "source": [
        "train_dataset"
      ],
      "metadata": {
        "colab": {
          "base_uri": "https://localhost:8080/"
        },
        "id": "v-1ksc-gOH2K",
        "outputId": "ce84da47-feb3-4f9e-e173-ac41fdef090f"
      },
      "execution_count": 56,
      "outputs": [
        {
          "output_type": "execute_result",
          "data": {
            "text/plain": [
              "<TensorSliceDataset element_spec=(TensorSpec(shape=(), dtype=tf.string, name=None), TensorSpec(shape=(5,), dtype=tf.float64, name=None))>"
            ]
          },
          "metadata": {},
          "execution_count": 56
        }
      ]
    },
    {
      "cell_type": "code",
      "source": [
        "#Turn to Prefetch \n",
        "AUTO_TUNE = tf.data.AUTOTUNE\n",
        "train_dataset = train_dataset.batch(32).prefetch(buffer_size=AUTO_TUNE)\n",
        "val_dataset = val_dataset.batch(32).prefetch(buffer_size=AUTO_TUNE)\n",
        "test_dataset = test_dataset.batch(32).prefetch(buffer_size=AUTO_TUNE)"
      ],
      "metadata": {
        "id": "D9bsl-dcOLf-"
      },
      "execution_count": 57,
      "outputs": []
    },
    {
      "cell_type": "code",
      "source": [
        "### Build Model Conv1D\n",
        "inputs = layers.Input(shape =(1,), dtype =tf.string)\n",
        "x = text_vectorizer(inputs)\n",
        "x = token_embed(x)\n",
        "print(x.shape)\n",
        "x = layers.Conv1D(64, 5, padding ='same' , activation ='relu')(x)\n",
        "x= layers.GlobalAveragePooling1D()(x)\n",
        "outputs = layers.Dense(5, activation ='softmax')(x)\n",
        "\n",
        "model_1 = tf.keras.Model(inputs, outputs)"
      ],
      "metadata": {
        "colab": {
          "base_uri": "https://localhost:8080/"
        },
        "id": "TjvxKsecOadn",
        "outputId": "44b9c177-ad7f-497a-d8a0-7b3b4342929b"
      },
      "execution_count": 58,
      "outputs": [
        {
          "output_type": "stream",
          "name": "stdout",
          "text": [
            "(None, 55, 128)\n"
          ]
        }
      ]
    },
    {
      "cell_type": "code",
      "source": [
        "model_1.summary()"
      ],
      "metadata": {
        "colab": {
          "base_uri": "https://localhost:8080/"
        },
        "id": "axhC6DPARkY5",
        "outputId": "1cc19a47-04fe-48df-a876-e337bd49db50"
      },
      "execution_count": 59,
      "outputs": [
        {
          "output_type": "stream",
          "name": "stdout",
          "text": [
            "Model: \"model\"\n",
            "_________________________________________________________________\n",
            " Layer (type)                Output Shape              Param #   \n",
            "=================================================================\n",
            " input_1 (InputLayer)        [(None, 1)]               0         \n",
            "                                                                 \n",
            " text_vectorization (TextVec  (None, 55)               0         \n",
            " torization)                                                     \n",
            "                                                                 \n",
            " token_embedding (Embedding)  (None, 55, 128)          8704000   \n",
            "                                                                 \n",
            " conv1d (Conv1D)             (None, 55, 64)            41024     \n",
            "                                                                 \n",
            " global_average_pooling1d (G  (None, 64)               0         \n",
            " lobalAveragePooling1D)                                          \n",
            "                                                                 \n",
            " dense (Dense)               (None, 5)                 325       \n",
            "                                                                 \n",
            "=================================================================\n",
            "Total params: 8,745,349\n",
            "Trainable params: 8,745,349\n",
            "Non-trainable params: 0\n",
            "_________________________________________________________________\n"
          ]
        }
      ]
    },
    {
      "cell_type": "code",
      "source": [
        "model_1.compile(loss ='categorical_crossentropy', \n",
        "                optimizer =tf.keras.optimizers.Adam(),\n",
        "                metrics =['accuracy'])"
      ],
      "metadata": {
        "id": "DuTdn8RATL_F"
      },
      "execution_count": 60,
      "outputs": []
    },
    {
      "cell_type": "code",
      "source": [
        ""
      ],
      "metadata": {
        "id": "ZB8_AmwRXuOQ"
      },
      "execution_count": 60,
      "outputs": []
    },
    {
      "cell_type": "code",
      "source": [
        "model_1_history = model_1.fit(train_dataset, epochs = 3,\n",
        "                              validation_data = val_dataset)"
      ],
      "metadata": {
        "colab": {
          "base_uri": "https://localhost:8080/"
        },
        "id": "8sr1BH2qR3sz",
        "outputId": "3aa4d80c-8514-4d59-9a59-561d40f6aedc"
      },
      "execution_count": 61,
      "outputs": [
        {
          "output_type": "stream",
          "name": "stdout",
          "text": [
            "Epoch 1/3\n",
            "942/942 [==============================] - 178s 188ms/step - loss: 0.8259 - accuracy: 0.6780 - val_loss: 0.6415 - val_accuracy: 0.7564\n",
            "Epoch 2/3\n",
            "942/942 [==============================] - 183s 194ms/step - loss: 0.5048 - accuracy: 0.8214 - val_loss: 0.6409 - val_accuracy: 0.7704\n",
            "Epoch 3/3\n",
            "942/942 [==============================] - 186s 198ms/step - loss: 0.3535 - accuracy: 0.8818 - val_loss: 0.7164 - val_accuracy: 0.7620\n"
          ]
        }
      ]
    },
    {
      "cell_type": "code",
      "source": [
        "# Evaluate on whole validation dataset (we only validated on 10% of batches during training)\n",
        "model_1.evaluate(val_dataset)"
      ],
      "metadata": {
        "colab": {
          "base_uri": "https://localhost:8080/"
        },
        "id": "UPffJufjUsvW",
        "outputId": "d2c4f668-89c1-4198-b51d-4e74b8500159"
      },
      "execution_count": 62,
      "outputs": [
        {
          "output_type": "stream",
          "name": "stdout",
          "text": [
            "945/945 [==============================] - 8s 8ms/step - loss: 0.7164 - accuracy: 0.7620\n"
          ]
        },
        {
          "output_type": "execute_result",
          "data": {
            "text/plain": [
              "[0.7163839936256409, 0.7620481848716736]"
            ]
          },
          "metadata": {},
          "execution_count": 62
        }
      ]
    },
    {
      "cell_type": "code",
      "source": [
        "model_1_pred_probs = model_1.predict(val_dataset)\n",
        "model_1_pred_probs"
      ],
      "metadata": {
        "colab": {
          "base_uri": "https://localhost:8080/"
        },
        "id": "71DRONq0dmx4",
        "outputId": "58340ce1-d56e-47e7-949a-79d7c60e20a5"
      },
      "execution_count": 63,
      "outputs": [
        {
          "output_type": "execute_result",
          "data": {
            "text/plain": [
              "array([[8.3902341e-01, 1.9360824e-02, 3.7399069e-03, 1.3766944e-01,\n",
              "        2.0631420e-04],\n",
              "       [6.6860074e-01, 2.2858277e-01, 6.3722222e-03, 9.5502451e-02,\n",
              "        9.4176154e-04],\n",
              "       [2.3421359e-01, 9.7006495e-04, 3.2114721e-04, 7.6449496e-01,\n",
              "        2.7626578e-07],\n",
              "       ...,\n",
              "       [2.0086601e-08, 2.1755563e-05, 2.3648117e-05, 1.3513752e-08,\n",
              "        9.9995458e-01],\n",
              "       [6.2154610e-02, 8.2826734e-01, 5.4592132e-03, 1.0771980e-02,\n",
              "        9.3346849e-02],\n",
              "       [4.7392860e-02, 9.4345695e-01, 5.9873704e-03, 1.2363724e-03,\n",
              "        1.9263339e-03]], dtype=float32)"
            ]
          },
          "metadata": {},
          "execution_count": 63
        }
      ]
    },
    {
      "cell_type": "code",
      "source": [
        "model_1_preds = tf.argmax(model_1_pred_probs, axis =1)"
      ],
      "metadata": {
        "id": "kkkDzoUabpbr"
      },
      "execution_count": 64,
      "outputs": []
    },
    {
      "cell_type": "code",
      "source": [
        "model_1_preds"
      ],
      "metadata": {
        "colab": {
          "base_uri": "https://localhost:8080/"
        },
        "id": "Mx6B4f-Jdu8m",
        "outputId": "e61e56dd-8df5-4507-90eb-38b8c8d7fd61"
      },
      "execution_count": 65,
      "outputs": [
        {
          "output_type": "execute_result",
          "data": {
            "text/plain": [
              "<tf.Tensor: shape=(30212,), dtype=int64, numpy=array([0, 0, 3, ..., 4, 1, 1])>"
            ]
          },
          "metadata": {},
          "execution_count": 65
        }
      ]
    },
    {
      "cell_type": "code",
      "source": [
        "model_1_results = calculate_results(y_true=val_labels_encoded,\n",
        "                                    y_pred=model_1_preds)\n",
        "model_1_results"
      ],
      "metadata": {
        "colab": {
          "base_uri": "https://localhost:8080/"
        },
        "id": "7ksihkfud9Uk",
        "outputId": "3f910c83-3cf9-4bf8-8459-346dabc4f265"
      },
      "execution_count": 66,
      "outputs": [
        {
          "output_type": "execute_result",
          "data": {
            "text/plain": [
              "{'accuracy': 76.20481927710844,\n",
              " 'f1': 0.7588897929965169,\n",
              " 'precision': 0.7631493023120532,\n",
              " 'recall': 0.7620481927710844}"
            ]
          },
          "metadata": {},
          "execution_count": 66
        }
      ]
    },
    {
      "cell_type": "markdown",
      "source": [
        "### Using a USE Model_2"
      ],
      "metadata": {
        "id": "7L3Xl1bKdv_n"
      }
    },
    {
      "cell_type": "code",
      "source": [
        "import tensorflow_hub as hub\n",
        "use_embed = hub.KerasLayer(\"https://tfhub.dev/google/universal-sentence-encoder/4\",\n",
        "                           trainable =False, name ='Use_embed')"
      ],
      "metadata": {
        "id": "N9zG8w1NeM-Z"
      },
      "execution_count": 67,
      "outputs": []
    },
    {
      "cell_type": "code",
      "source": [
        "random_train_sent = random.choice(train_sentences)"
      ],
      "metadata": {
        "id": "Jo_D1j1IIsf4"
      },
      "execution_count": 68,
      "outputs": []
    },
    {
      "cell_type": "code",
      "source": [
        "random_train_sent"
      ],
      "metadata": {
        "colab": {
          "base_uri": "https://localhost:8080/",
          "height": 53
        },
        "id": "ny581Y7TKpEs",
        "outputId": "7b0dfc3c-976d-4a19-e8a7-5cde20dfb172"
      },
      "execution_count": 69,
      "outputs": [
        {
          "output_type": "execute_result",
          "data": {
            "text/plain": [
              "'the yin-yang meridians acupuncture with respiratry reinforcing and re - ducing manipulation effectively improves the lower limbs balance function in the patients of stroke .'"
            ],
            "application/vnd.google.colaboratory.intrinsic+json": {
              "type": "string"
            }
          },
          "metadata": {},
          "execution_count": 69
        }
      ]
    },
    {
      "cell_type": "code",
      "source": [
        "use_embed([random_train_sent])\n"
      ],
      "metadata": {
        "colab": {
          "base_uri": "https://localhost:8080/"
        },
        "id": "QyXBI8CzKFnh",
        "outputId": "0e36a8b9-93f0-47f7-89c6-ea5dcd9f39dd"
      },
      "execution_count": 70,
      "outputs": [
        {
          "output_type": "execute_result",
          "data": {
            "text/plain": [
              "<tf.Tensor: shape=(1, 512), dtype=float32, numpy=\n",
              "array([[-0.04348128, -0.03890184,  0.00439691, -0.04747997, -0.01706989,\n",
              "         0.01232149, -0.0187826 ,  0.00324459, -0.03724534,  0.04492866,\n",
              "         0.08542679, -0.06724378,  0.03978226,  0.04163681,  0.07702196,\n",
              "         0.0260667 , -0.08662151, -0.03650858, -0.02661335,  0.05844988,\n",
              "        -0.03457608,  0.07561877, -0.03197628,  0.00828649,  0.0685629 ,\n",
              "        -0.01738249, -0.07946834,  0.02412452, -0.01366428,  0.04727173,\n",
              "        -0.00297098,  0.08864304,  0.04827178,  0.03435268,  0.0776463 ,\n",
              "         0.02903014, -0.00613191,  0.07867915, -0.06007094, -0.07457617,\n",
              "        -0.00477917,  0.00680803,  0.04674504, -0.04646059, -0.01346927,\n",
              "         0.01829705,  0.03745835,  0.06350207,  0.02305653, -0.01374148,\n",
              "        -0.05256437, -0.01520659, -0.00460277,  0.05267237,  0.06975814,\n",
              "         0.00060239,  0.00517513, -0.02710582,  0.05729758, -0.04393926,\n",
              "        -0.00378087,  0.0558951 ,  0.01450007,  0.06687282, -0.01048769,\n",
              "        -0.00688843,  0.076671  ,  0.04437615, -0.05696207, -0.05294523,\n",
              "         0.03673616, -0.03575432,  0.04008399, -0.08180998,  0.00326754,\n",
              "        -0.01998761, -0.03673434, -0.01659863,  0.00231848,  0.02559235,\n",
              "        -0.03854781,  0.01640525,  0.04343078,  0.0162446 ,  0.01000994,\n",
              "        -0.02315063,  0.01236517,  0.00174525, -0.02238986,  0.02696808,\n",
              "         0.01044676,  0.03429133, -0.00438945, -0.00116368, -0.02573568,\n",
              "         0.01316719, -0.00510091, -0.05899167, -0.03451487, -0.0722227 ,\n",
              "         0.03104282,  0.00991609,  0.0427292 , -0.01281121,  0.05213655,\n",
              "        -0.0575283 , -0.0143993 , -0.03696122,  0.01147613,  0.00188979,\n",
              "         0.05124047,  0.02714881,  0.05681844, -0.06999613, -0.03701258,\n",
              "         0.02167863,  0.01562205, -0.03546812,  0.06883124, -0.05443216,\n",
              "        -0.02340587, -0.0293213 ,  0.00495761, -0.00065923,  0.03576281,\n",
              "        -0.04923338, -0.06308352,  0.00054263,  0.00322098, -0.01986277,\n",
              "        -0.08468515,  0.08828013,  0.05690226, -0.01568029,  0.02087423,\n",
              "         0.01235878,  0.01529442,  0.04340845, -0.02080943, -0.05732523,\n",
              "         0.05207834,  0.03808363,  0.03101336,  0.01810158,  0.00780794,\n",
              "         0.0015791 ,  0.05706256, -0.03710897,  0.00285203,  0.00047448,\n",
              "         0.0609141 ,  0.00213966, -0.02983753, -0.03787176, -0.03988047,\n",
              "         0.06987315,  0.04158133, -0.04522815,  0.04342626, -0.01471088,\n",
              "         0.00395129,  0.05922277, -0.01189175,  0.06409886,  0.01601959,\n",
              "        -0.02607751, -0.04720501, -0.05110215, -0.00981122,  0.06267143,\n",
              "        -0.05960404, -0.08198379, -0.02135248,  0.04540319, -0.0356455 ,\n",
              "        -0.02785832, -0.01019923,  0.07133957,  0.07331259,  0.08091521,\n",
              "        -0.07036329, -0.06728113,  0.01334493,  0.02790934, -0.00028723,\n",
              "        -0.03263117,  0.02430028,  0.01373623, -0.02721176, -0.03227489,\n",
              "        -0.02832679,  0.01962522, -0.01980235,  0.0567973 , -0.02407422,\n",
              "        -0.03137767, -0.04581362, -0.04642659, -0.00624125, -0.06189603,\n",
              "        -0.01108401, -0.07271509, -0.0302612 ,  0.03142864, -0.01627705,\n",
              "        -0.00567199,  0.05447165, -0.01948267, -0.0215576 ,  0.08219823,\n",
              "        -0.05905246, -0.02370456, -0.04970942, -0.03732255, -0.03590005,\n",
              "         0.0213366 ,  0.03050765,  0.00877624,  0.01795322,  0.08879858,\n",
              "         0.05440006,  0.0352981 ,  0.02739063,  0.04249857,  0.00357944,\n",
              "        -0.05821245, -0.03628264, -0.04024859,  0.05543281,  0.0545601 ,\n",
              "        -0.06327532,  0.0339735 , -0.0405251 ,  0.02323851,  0.05369818,\n",
              "        -0.06331931, -0.0124758 , -0.0575334 ,  0.01645415,  0.08626138,\n",
              "         0.01267865, -0.04062209, -0.06637465, -0.05651096,  0.01339395,\n",
              "        -0.07151482, -0.03450998,  0.01989501, -0.0628986 , -0.08686522,\n",
              "        -0.00881313, -0.03493326, -0.00252432, -0.03472669, -0.02273274,\n",
              "        -0.01000227, -0.07092287,  0.05613481,  0.06662992,  0.0211457 ,\n",
              "         0.0091897 , -0.0571903 , -0.0305346 ,  0.00541736, -0.0579454 ,\n",
              "         0.05817882,  0.04248439, -0.01134175,  0.04306251,  0.01645793,\n",
              "        -0.02236428, -0.00185709,  0.02640142, -0.01753963, -0.0444647 ,\n",
              "        -0.04285639,  0.04187061,  0.00205021,  0.00763729, -0.08210101,\n",
              "         0.07312848, -0.05126145,  0.02517255, -0.03750473,  0.04689604,\n",
              "        -0.01161489,  0.06867249, -0.01589663, -0.08097187,  0.0133162 ,\n",
              "        -0.06820419,  0.01502805,  0.01787608, -0.02007008,  0.08324938,\n",
              "         0.02257075,  0.02912711, -0.01543666, -0.04730954,  0.04861277,\n",
              "         0.04048709, -0.06669383,  0.04156413, -0.05142151,  0.03103991,\n",
              "         0.00989722,  0.02915972,  0.03328524,  0.05164643,  0.06602945,\n",
              "        -0.08106361,  0.0090607 ,  0.00117969,  0.04047984, -0.00299315,\n",
              "         0.06522364,  0.03072325,  0.07280435,  0.0384218 , -0.06050293,\n",
              "        -0.07583477,  0.02498526, -0.02070102, -0.00804376,  0.01841795,\n",
              "        -0.02228189, -0.00022794, -0.04430823,  0.02481026,  0.05258849,\n",
              "        -0.04305687, -0.00596922,  0.05661809,  0.04666544, -0.00093074,\n",
              "        -0.0118741 , -0.00038759,  0.03507677,  0.00317536, -0.07110507,\n",
              "        -0.07223279, -0.02146119,  0.07774643, -0.05627815, -0.00951378,\n",
              "         0.06228782,  0.07243712, -0.00667817,  0.00728546,  0.01372564,\n",
              "        -0.03626251, -0.00802462, -0.022163  , -0.03389121,  0.06461965,\n",
              "        -0.01169075, -0.0151578 , -0.05030541,  0.03096007, -0.01919392,\n",
              "        -0.05569557,  0.04730111, -0.0566146 , -0.08153916, -0.02301051,\n",
              "        -0.04586703,  0.00631695, -0.02402437, -0.03526978, -0.01937259,\n",
              "        -0.05146462,  0.02568194, -0.01571243, -0.01057512,  0.06859538,\n",
              "         0.01233095,  0.01343159, -0.05010439,  0.07486412,  0.01496263,\n",
              "         0.07927306, -0.07534607,  0.08177132, -0.00039687, -0.03849855,\n",
              "        -0.0021177 , -0.02679355, -0.038298  ,  0.07648077,  0.02773098,\n",
              "        -0.00395281, -0.04418129, -0.07856479, -0.03853226,  0.00933797,\n",
              "        -0.05138785,  0.08292901, -0.021382  ,  0.05942876,  0.04566233,\n",
              "         0.06537385, -0.07616393,  0.04401492, -0.04336884, -0.04563114,\n",
              "        -0.03802515,  0.02474469,  0.01540689,  0.04683381, -0.0086445 ,\n",
              "        -0.01540018,  0.02156973,  0.08321351,  0.02646437, -0.03996057,\n",
              "        -0.05250517,  0.06957742,  0.05767448,  0.05655303, -0.03100213,\n",
              "         0.03972493,  0.06490352, -0.00573275, -0.07438444, -0.02283728,\n",
              "        -0.06817791,  0.06922239,  0.05280181,  0.05923969, -0.00381266,\n",
              "        -0.05296635, -0.02517056,  0.04259302, -0.05650301, -0.00935847,\n",
              "        -0.05159018,  0.00404056,  0.01918147, -0.03791215,  0.06278435,\n",
              "        -0.03115602, -0.01980427,  0.00929641, -0.02293484,  0.0681962 ,\n",
              "        -0.07320922, -0.0366808 , -0.05323296,  0.02585751, -0.04577249,\n",
              "         0.02203175, -0.07823481,  0.03698426,  0.04328698,  0.030844  ,\n",
              "        -0.0050457 , -0.03260317,  0.01071654,  0.03506726,  0.05596922,\n",
              "         0.05159434,  0.0300661 ,  0.08251656,  0.04897987,  0.04474437,\n",
              "         0.03806638, -0.03886979, -0.06859367, -0.05469535, -0.04011855,\n",
              "         0.02472833,  0.06695408, -0.04073279, -0.02111814,  0.02132172,\n",
              "        -0.02811162, -0.01255206,  0.04456586,  0.08018054, -0.08109207,\n",
              "        -0.03409008,  0.08115079,  0.01589565,  0.02715235,  0.02493489,\n",
              "         0.07172185,  0.03586551, -0.04588018, -0.0688837 , -0.06612689,\n",
              "        -0.01354398,  0.02900716, -0.02872148,  0.02913051,  0.04843972,\n",
              "         0.00214707,  0.0832807 ,  0.00994031,  0.00780719, -0.03322026,\n",
              "         0.02792224, -0.07151094, -0.05550151, -0.08255697, -0.03520573,\n",
              "        -0.08899546,  0.01744465, -0.01531098,  0.04107757, -0.02900443,\n",
              "        -0.05920413,  0.01750442]], dtype=float32)>"
            ]
          },
          "metadata": {},
          "execution_count": 70
        }
      ]
    },
    {
      "cell_type": "code",
      "source": [
        "##Building a Model_2\n",
        "\n",
        "inputs = layers.Input(shape =[], dtype = tf.string)\n",
        "x = use_embed(inputs)\n",
        "x =layers.Dense(128, activation ='relu')(x)\n",
        "#x = layers.Conv1D(64, 5, padding='same')(x)\n",
        "outputs = layers.Dense(5, activation ='softmax')(x)\n",
        "model_2 = tf.keras.Model(inputs, outputs)\n",
        "\n",
        "\n",
        "\n"
      ],
      "metadata": {
        "id": "KkCjsLluKJOZ"
      },
      "execution_count": 71,
      "outputs": []
    },
    {
      "cell_type": "code",
      "source": [
        "model_2.compile(loss ='categorical_crossentropy', \n",
        "                optimizer = tf.keras.optimizers.Adam(),\n",
        "                metrics = ['accuracy'])"
      ],
      "metadata": {
        "id": "T8LkcvMAMrGK"
      },
      "execution_count": 72,
      "outputs": []
    },
    {
      "cell_type": "code",
      "source": [
        "model_2.summary()"
      ],
      "metadata": {
        "colab": {
          "base_uri": "https://localhost:8080/"
        },
        "id": "YsOumjkjLiWW",
        "outputId": "0fb7f7f7-19da-4a28-b948-ee42a1afd9f0"
      },
      "execution_count": 73,
      "outputs": [
        {
          "output_type": "stream",
          "name": "stdout",
          "text": [
            "Model: \"model_1\"\n",
            "_________________________________________________________________\n",
            " Layer (type)                Output Shape              Param #   \n",
            "=================================================================\n",
            " input_2 (InputLayer)        [(None,)]                 0         \n",
            "                                                                 \n",
            " Use_embed (KerasLayer)      (None, 512)               256797824 \n",
            "                                                                 \n",
            " dense_1 (Dense)             (None, 128)               65664     \n",
            "                                                                 \n",
            " dense_2 (Dense)             (None, 5)                 645       \n",
            "                                                                 \n",
            "=================================================================\n",
            "Total params: 256,864,133\n",
            "Trainable params: 66,309\n",
            "Non-trainable params: 256,797,824\n",
            "_________________________________________________________________\n"
          ]
        }
      ]
    },
    {
      "cell_type": "code",
      "source": [
        "history_model_2 = model_2.fit(train_dataset, epochs =3,\n",
        "                              validation_data = val_dataset,\n",
        "                              steps_per_epoch =int(0.1*len(train_dataset)),\n",
        "                              validation_steps =int(0.1*len(val_dataset)))"
      ],
      "metadata": {
        "colab": {
          "base_uri": "https://localhost:8080/"
        },
        "id": "Yq6TvtGyMhVF",
        "outputId": "ba4c717c-69a5-4c12-f828-7f759377a1df"
      },
      "execution_count": 74,
      "outputs": [
        {
          "output_type": "stream",
          "name": "stdout",
          "text": [
            "Epoch 1/3\n",
            "94/94 [==============================] - 10s 43ms/step - loss: 1.2513 - accuracy: 0.5196 - val_loss: 1.0211 - val_accuracy: 0.6031\n",
            "Epoch 2/3\n",
            "94/94 [==============================] - 2s 23ms/step - loss: 0.9244 - accuracy: 0.6353 - val_loss: 0.8672 - val_accuracy: 0.6682\n",
            "Epoch 3/3\n",
            "94/94 [==============================] - 2s 23ms/step - loss: 0.8686 - accuracy: 0.6702 - val_loss: 0.8263 - val_accuracy: 0.6769\n"
          ]
        }
      ]
    },
    {
      "cell_type": "code",
      "source": [
        "model_2.evaluate(val_dataset)"
      ],
      "metadata": {
        "colab": {
          "base_uri": "https://localhost:8080/"
        },
        "id": "Vxm5sP-oNpmC",
        "outputId": "95980688-f74b-496c-e541-4ab86483a2ea"
      },
      "execution_count": 75,
      "outputs": [
        {
          "output_type": "stream",
          "name": "stdout",
          "text": [
            "945/945 [==============================] - 11s 12ms/step - loss: 0.8288 - accuracy: 0.6792\n"
          ]
        },
        {
          "output_type": "execute_result",
          "data": {
            "text/plain": [
              "[0.8287917971611023, 0.6791672110557556]"
            ]
          },
          "metadata": {},
          "execution_count": 75
        }
      ]
    },
    {
      "cell_type": "code",
      "source": [
        "model_2_pred_probs = model_2.predict(val_dataset)\n",
        "model_2_pred_probs"
      ],
      "metadata": {
        "colab": {
          "base_uri": "https://localhost:8080/"
        },
        "id": "xqmUTDXDOBWR",
        "outputId": "3d2f60c9-4c73-4d91-aa5b-987489d85605"
      },
      "execution_count": 76,
      "outputs": [
        {
          "output_type": "execute_result",
          "data": {
            "text/plain": [
              "array([[0.5330349 , 0.30478165, 0.01557862, 0.11649297, 0.03011179],\n",
              "       [0.40139666, 0.47380444, 0.01243163, 0.09623123, 0.0161361 ],\n",
              "       [0.3482466 , 0.26802188, 0.04628678, 0.25320148, 0.08424324],\n",
              "       ...,\n",
              "       [0.00449865, 0.00509781, 0.15461285, 0.00195625, 0.83383447],\n",
              "       [0.01154303, 0.03159938, 0.2557583 , 0.00387633, 0.69722295],\n",
              "       [0.18334097, 0.101136  , 0.5366366 , 0.03512747, 0.14375895]],\n",
              "      dtype=float32)"
            ]
          },
          "metadata": {},
          "execution_count": 76
        }
      ]
    },
    {
      "cell_type": "code",
      "source": [
        "model_2_preds = tf.argmax(model_2_pred_probs, axis =1)\n",
        "model_2_preds"
      ],
      "metadata": {
        "colab": {
          "base_uri": "https://localhost:8080/"
        },
        "id": "BF4PVFdNORim",
        "outputId": "ab3bd35c-b36b-4c16-e0de-5346c3ebcd99"
      },
      "execution_count": 77,
      "outputs": [
        {
          "output_type": "execute_result",
          "data": {
            "text/plain": [
              "<tf.Tensor: shape=(30212,), dtype=int64, numpy=array([0, 1, 0, ..., 4, 4, 2])>"
            ]
          },
          "metadata": {},
          "execution_count": 77
        }
      ]
    },
    {
      "cell_type": "code",
      "source": [
        "model_2_result = calculate_results(val_labels_encoded, model_2_preds)"
      ],
      "metadata": {
        "id": "2q9dJrY0ObIj"
      },
      "execution_count": 78,
      "outputs": []
    },
    {
      "cell_type": "code",
      "source": [
        "model_2_result"
      ],
      "metadata": {
        "colab": {
          "base_uri": "https://localhost:8080/"
        },
        "id": "nZeXwckKOwaj",
        "outputId": "9c98d18c-98bd-4bc1-d7c7-600075309e28"
      },
      "execution_count": 79,
      "outputs": [
        {
          "output_type": "execute_result",
          "data": {
            "text/plain": [
              "{'accuracy': 67.91672183238448,\n",
              " 'f1': 0.6715109536900726,\n",
              " 'precision': 0.6769299487976713,\n",
              " 'recall': 0.6791672183238449}"
            ]
          },
          "metadata": {},
          "execution_count": 79
        }
      ]
    },
    {
      "cell_type": "markdown",
      "source": [
        "###Model 3 with Character level embedding "
      ],
      "metadata": {
        "id": "Tce0yBSPO0C1"
      }
    },
    {
      "cell_type": "code",
      "source": [
        "#Splitting text into characters level\n",
        "\n",
        "def split_chars(text):\n",
        "  return ' '.join(list(text))\n"
      ],
      "metadata": {
        "id": "1p8RtKEKQAIM"
      },
      "execution_count": 80,
      "outputs": []
    },
    {
      "cell_type": "code",
      "source": [
        "#Split Sequence-lebel data splits into character-level data splits\n",
        "train_chars = [split_chars(sentence) for sentence in train_sentences]\n",
        "val_chars = [split_chars(sentence) for sentence in val_sentences]\n",
        "test_chars = [split_chars(sentence) for sentence in test_sentences]"
      ],
      "metadata": {
        "id": "WPE21sDpQ74r"
      },
      "execution_count": 81,
      "outputs": []
    },
    {
      "cell_type": "code",
      "source": [
        "train_chars[:5]"
      ],
      "metadata": {
        "colab": {
          "base_uri": "https://localhost:8080/"
        },
        "id": "XogSEbogSoLL",
        "outputId": "4ccbd149-4217-4938-caac-f255db644058"
      },
      "execution_count": 82,
      "outputs": [
        {
          "output_type": "execute_result",
          "data": {
            "text/plain": [
              "['t h i s   s t u d y   a n a l y z e d   l i v e r   f u n c t i o n   a b n o r m a l i t i e s   i n   h e a r t   f a i l u r e   p a t i e n t s   a d m i t t e d   w i t h   s e v e r e   a c u t e   d e c o m p e n s a t e d   h e a r t   f a i l u r e   (   a d h f   )   .',\n",
              " 'a   p o s t   h o c   a n a l y s i s   w a s   c o n d u c t e d   w i t h   t h e   u s e   o f   d a t a   f r o m   t h e   e v a l u a t i o n   s t u d y   o f   c o n g e s t i v e   h e a r t   f a i l u r e   a n d   p u l m o n a r y   a r t e r y   c a t h e t e r i z a t i o n   e f f e c t i v e n e s s   (   e s c a p e   )   .',\n",
              " 'l i v e r   f u n c t i o n   t e s t s   (   l f t s   )   w e r e   m e a s u r e d   a t   @   t i m e   p o i n t s   f r o m   b a s e l i n e   ,   a t   d i s c h a r g e   ,   a n d   u p   t o   @   m o n t h s   f o l l o w - u p   .',\n",
              " 's u r v i v a l   a n a l y s e s   w e r e   u s e d   t o   a s s e s s   t h e   a s s o c i a t i o n   b e t w e e n   a d m i s s i o n   m o d e l   o f   e n d - s t a g e   l i v e r   d i s e a s e   e x c l u d i n g   i n t e r n a t i o n a l   n o r m a l i z e d   r a t i o   (   m e l d - x i   )   s c o r e s   a n d   p a t i e n t   o u t c o m e . t h e r e   w a s   a   h i g h   p r e v a l e n c e   o f   a b n o r m a l   b a s e l i n e   (   a d m i s s i o n   )   l f t s   (   a l b u m i n   @   %   ,   a s p a r t a t e   t r a n s a m i n a s e   @   %   ,   a l a n i n e   t r a n s a m i n a s e   @   %   ,   a n d   t o t a l   b i l i r u b i n   @   %   )   .',\n",
              " \"t h e   p e r c e n t a g e   o f   p a t i e n t s   w i t h   a b n o r m a l   l f t s   d e c r e a s e d   s i g n i f i c a n t l y   f r o m   b a s e l i n e   t o   @ - m o n t h s   '   f o l l o w - u p   .\"]"
            ]
          },
          "metadata": {},
          "execution_count": 82
        }
      ]
    },
    {
      "cell_type": "code",
      "source": [
        "## Average Character length\n",
        "\n",
        "chars_lens = [len(sentence) for sentence in train_sentences ]\n",
        "mean_char_len = np.mean(chars_lens)"
      ],
      "metadata": {
        "id": "10rirhLfSpk8"
      },
      "execution_count": 83,
      "outputs": []
    },
    {
      "cell_type": "code",
      "source": [
        "mean_char_len"
      ],
      "metadata": {
        "colab": {
          "base_uri": "https://localhost:8080/"
        },
        "id": "plNPLpMFVDL_",
        "outputId": "661c7327-c548-427d-f8d5-c4088eed6995"
      },
      "execution_count": 84,
      "outputs": [
        {
          "output_type": "execute_result",
          "data": {
            "text/plain": [
              "148.45996349759415"
            ]
          },
          "metadata": {},
          "execution_count": 84
        }
      ]
    },
    {
      "cell_type": "code",
      "source": [
        "## \n",
        "plt.hist(chars_lens)"
      ],
      "metadata": {
        "colab": {
          "base_uri": "https://localhost:8080/",
          "height": 352
        },
        "id": "4Unup2UVVEfY",
        "outputId": "143f1dec-a98b-4ac3-cea3-aefc2735fc35"
      },
      "execution_count": 85,
      "outputs": [
        {
          "output_type": "execute_result",
          "data": {
            "text/plain": [
              "(array([6.6630e+03, 1.4759e+04, 6.5500e+03, 1.5780e+03, 4.1500e+02,\n",
              "        1.1300e+02, 3.5000e+01, 1.3000e+01, 6.0000e+00, 3.0000e+00]),\n",
              " array([  2. ,  89.7, 177.4, 265.1, 352.8, 440.5, 528.2, 615.9, 703.6,\n",
              "        791.3, 879. ]),\n",
              " <a list of 10 Patch objects>)"
            ]
          },
          "metadata": {},
          "execution_count": 85
        },
        {
          "output_type": "display_data",
          "data": {
            "text/plain": [
              "<Figure size 432x288 with 1 Axes>"
            ],
            "image/png": "[encoded data removed]"
          },
          "metadata": {
            "needs_background": "light"
          }
        }
      ]
    },
    {
      "cell_type": "code",
      "source": [
        "output_seq_char_len = int(np.percentile(chars_lens, 95))\n",
        "output_seq_char_len"
      ],
      "metadata": {
        "colab": {
          "base_uri": "https://localhost:8080/"
        },
        "id": "fB9bZBFTV0Yj",
        "outputId": "953f35e9-1f18-4578-9724-649c610b45cc"
      },
      "execution_count": 86,
      "outputs": [
        {
          "output_type": "execute_result",
          "data": {
            "text/plain": [
              "288"
            ]
          },
          "metadata": {},
          "execution_count": 86
        }
      ]
    },
    {
      "cell_type": "code",
      "source": [
        "import string\n",
        "alphabet = string.ascii_lowercase + string.digits + string.punctuation\n",
        "NUM_CHAR_TOKEN = len(alphabet) +2\n",
        "char_vectorizer = tf.keras.layers.TextVectorization(max_tokens = NUM_CHAR_TOKEN,\n",
        "                                                    output_sequence_length = output_seq_char_len,\n",
        "                                                    #standardize = None,\n",
        "                                                    name ='char_vectorizer'\n",
        "                                                    )"
      ],
      "metadata": {
        "id": "XERELv3GV_oK"
      },
      "execution_count": 87,
      "outputs": []
    },
    {
      "cell_type": "code",
      "source": [
        "char_vectorizer.adapt(train_chars)"
      ],
      "metadata": {
        "id": "vOqQ1RaiW2qo"
      },
      "execution_count": 88,
      "outputs": []
    },
    {
      "cell_type": "code",
      "source": [
        "char_vocab = char_vectorizer.get_vocabulary()"
      ],
      "metadata": {
        "id": "ZXOMBBLnYclf"
      },
      "execution_count": 89,
      "outputs": []
    },
    {
      "cell_type": "code",
      "source": [
        "len(char_vocab)"
      ],
      "metadata": {
        "colab": {
          "base_uri": "https://localhost:8080/"
        },
        "id": "SYZmcLdLYjRL",
        "outputId": "5b4a2887-e70d-4f25-af1f-13b03cabdc49"
      },
      "execution_count": 90,
      "outputs": [
        {
          "output_type": "execute_result",
          "data": {
            "text/plain": [
              "28"
            ]
          },
          "metadata": {},
          "execution_count": 90
        }
      ]
    },
    {
      "cell_type": "code",
      "source": [
        "char_vocab[:5]"
      ],
      "metadata": {
        "colab": {
          "base_uri": "https://localhost:8080/"
        },
        "id": "VyJVW8AQY28w",
        "outputId": "2cd46f8f-6ef2-4c72-e1de-bcc4cec661a0"
      },
      "execution_count": 91,
      "outputs": [
        {
          "output_type": "execute_result",
          "data": {
            "text/plain": [
              "['', '[UNK]', 'e', 't', 'i']"
            ]
          },
          "metadata": {},
          "execution_count": 91
        }
      ]
    },
    {
      "cell_type": "code",
      "source": [
        "char_vocab[-5:]"
      ],
      "metadata": {
        "colab": {
          "base_uri": "https://localhost:8080/"
        },
        "id": "YrC8PGCgY8IM",
        "outputId": "91eb4158-c95e-4946-cf5a-1f902333b301"
      },
      "execution_count": 92,
      "outputs": [
        {
          "output_type": "execute_result",
          "data": {
            "text/plain": [
              "['k', 'x', 'z', 'q', 'j']"
            ]
          },
          "metadata": {},
          "execution_count": 92
        }
      ]
    },
    {
      "cell_type": "code",
      "source": [
        "random_train_chars = random.choice(train_chars)\n",
        "randoo =char_vectorizer(random_train_chars)\n"
      ],
      "metadata": {
        "id": "ofHE6MmDYmgn"
      },
      "execution_count": 93,
      "outputs": []
    },
    {
      "cell_type": "markdown",
      "source": [
        "### Character level embed"
      ],
      "metadata": {
        "id": "2d6UPyhibg42"
      }
    },
    {
      "cell_type": "code",
      "source": [
        "char_embedding = tf.keras.layers.Embedding(input_dim =len(char_vocab),\n",
        "                                           output_dim =25,\n",
        "                                           mask_zero = True\n",
        "\n",
        "                                           )"
      ],
      "metadata": {
        "id": "f1Ydsruaae15"
      },
      "execution_count": 94,
      "outputs": []
    },
    {
      "cell_type": "code",
      "source": [
        "#Test out\n",
        "char_embedding(randoo)"
      ],
      "metadata": {
        "colab": {
          "base_uri": "https://localhost:8080/"
        },
        "id": "saaSHqysbwTP",
        "outputId": "6ffebcb6-81e4-45a9-e808-73282fb71072"
      },
      "execution_count": 95,
      "outputs": [
        {
          "output_type": "execute_result",
          "data": {
            "text/plain": [
              "<tf.Tensor: shape=(288, 25), dtype=float32, numpy=\n",
              "array([[-0.04041554,  0.04675544,  0.03128755, ...,  0.02658336,\n",
              "         0.02262304,  0.03249471],\n",
              "       [-0.00151247,  0.02606431,  0.02850557, ..., -0.03078065,\n",
              "        -0.03447927, -0.04229099],\n",
              "       [ 0.00187992, -0.01659578, -0.0487553 , ..., -0.02205653,\n",
              "         0.04083346,  0.01642967],\n",
              "       ...,\n",
              "       [-0.00509045, -0.02994628,  0.03912196, ..., -0.00584321,\n",
              "        -0.04814612,  0.02137313],\n",
              "       [-0.00509045, -0.02994628,  0.03912196, ..., -0.00584321,\n",
              "        -0.04814612,  0.02137313],\n",
              "       [-0.00509045, -0.02994628,  0.03912196, ..., -0.00584321,\n",
              "        -0.04814612,  0.02137313]], dtype=float32)>"
            ]
          },
          "metadata": {},
          "execution_count": 95
        }
      ]
    },
    {
      "cell_type": "code",
      "source": [
        "## Building a Model for model_3\n",
        "\n",
        "inputs = layers.Input(shape = (1,), dtype = tf.string)\n",
        "\n",
        "x = char_vectorizer(inputs)\n",
        "x = char_embedding(x)\n",
        "x = layers.Conv1D(64, kernel_size=5, padding ='same', activation = 'relu')(x)\n",
        "x = layers.GlobalMaxPool1D()(x)\n",
        "outputs = layers.Dense(5, activation = 'softmax')(x)\n",
        "model_3= tf.keras.Model(inputs, outputs)"
      ],
      "metadata": {
        "id": "qwR1NtlEb7de"
      },
      "execution_count": 96,
      "outputs": []
    },
    {
      "cell_type": "code",
      "source": [
        "model_3.compile(loss = 'categorical_crossentropy',\n",
        "                optimizer = tf.keras.optimizers.Adam(),\n",
        "                metrics =['accuracy'])"
      ],
      "metadata": {
        "id": "h-3Q2eDRe1_W"
      },
      "execution_count": 97,
      "outputs": []
    },
    {
      "cell_type": "code",
      "source": [
        "model_3.summary()"
      ],
      "metadata": {
        "colab": {
          "base_uri": "https://localhost:8080/"
        },
        "id": "Ehf8MJBleIlQ",
        "outputId": "9d68f842-eaa7-4558-9a61-16cbfcfddc8f"
      },
      "execution_count": 98,
      "outputs": [
        {
          "output_type": "stream",
          "name": "stdout",
          "text": [
            "Model: \"model_2\"\n",
            "_________________________________________________________________\n",
            " Layer (type)                Output Shape              Param #   \n",
            "=================================================================\n",
            " input_3 (InputLayer)        [(None, 1)]               0         \n",
            "                                                                 \n",
            " char_vectorizer (TextVector  (None, 288)              0         \n",
            " ization)                                                        \n",
            "                                                                 \n",
            " embedding (Embedding)       (None, 288, 25)           700       \n",
            "                                                                 \n",
            " conv1d_1 (Conv1D)           (None, 288, 64)           8064      \n",
            "                                                                 \n",
            " global_max_pooling1d (Globa  (None, 64)               0         \n",
            " lMaxPooling1D)                                                  \n",
            "                                                                 \n",
            " dense_3 (Dense)             (None, 5)                 325       \n",
            "                                                                 \n",
            "=================================================================\n",
            "Total params: 9,089\n",
            "Trainable params: 9,089\n",
            "Non-trainable params: 0\n",
            "_________________________________________________________________\n"
          ]
        }
      ]
    },
    {
      "cell_type": "code",
      "source": [
        "train_char_dataset = tf.data.Dataset.from_tensor_slices((train_chars, train_labels_one_hot)).batch(32).prefetch(buffer_size=tf.data.AUTOTUNE)\n",
        "val_char_dataset = tf.data.Dataset.from_tensor_slices((val_chars, val_labels_one_hot)).batch(32).prefetch(buffer_size=tf.data.AUTOTUNE)\n",
        "test_char_dataset = tf.data.Dataset.from_tensor_slices((test_chars, test_labels_encoded)).batch(32).prefetch(buffer_size=tf.data.AUTOTUNE)\n"
      ],
      "metadata": {
        "id": "jpT0O7OTez-1"
      },
      "execution_count": 99,
      "outputs": []
    },
    {
      "cell_type": "code",
      "source": [
        "history_model_3 = model_3.fit(train_char_dataset, epochs = 5,\n",
        "                              steps_per_epoch = int(0.1 * len(train_char_dataset)),\n",
        "                              validation_data = val_char_dataset,\n",
        "                              validation_steps = int(0.1* len(val_char_dataset))\n",
        "                              )"
      ],
      "metadata": {
        "colab": {
          "base_uri": "https://localhost:8080/"
        },
        "id": "AvinrR4vgUjX",
        "outputId": "69f60b5b-e9f2-490b-d5f8-9abda0b5edd2"
      },
      "execution_count": 100,
      "outputs": [
        {
          "output_type": "stream",
          "name": "stdout",
          "text": [
            "Epoch 1/5\n",
            "94/94 [==============================] - 4s 35ms/step - loss: 1.4669 - accuracy: 0.3637 - val_loss: 1.4389 - val_accuracy: 0.3577\n",
            "Epoch 2/5\n",
            "94/94 [==============================] - 3s 33ms/step - loss: 1.4032 - accuracy: 0.4538 - val_loss: 1.3581 - val_accuracy: 0.4801\n",
            "Epoch 3/5\n",
            "94/94 [==============================] - 3s 31ms/step - loss: 1.3136 - accuracy: 0.4807 - val_loss: 1.2226 - val_accuracy: 0.5100\n",
            "Epoch 4/5\n",
            "94/94 [==============================] - 3s 31ms/step - loss: 1.1957 - accuracy: 0.5123 - val_loss: 1.1297 - val_accuracy: 0.5485\n",
            "Epoch 5/5\n",
            "94/94 [==============================] - 3s 31ms/step - loss: 1.1028 - accuracy: 0.5565 - val_loss: 1.0765 - val_accuracy: 0.5635\n"
          ]
        }
      ]
    },
    {
      "cell_type": "code",
      "source": [
        "model_3_pred_probs = model_3.predict(val_char_dataset)\n",
        "model_3_pred = tf.argmax(model_3_pred_probs, axis =1)"
      ],
      "metadata": {
        "id": "ZwKbYoWug-gZ"
      },
      "execution_count": 101,
      "outputs": []
    },
    {
      "cell_type": "code",
      "source": [
        "model_3_results = calculate_results(val_labels_encoded, model_3_pred)"
      ],
      "metadata": {
        "id": "gI-wh9d1hwUU"
      },
      "execution_count": 102,
      "outputs": []
    },
    {
      "cell_type": "code",
      "source": [
        "model_3_results"
      ],
      "metadata": {
        "colab": {
          "base_uri": "https://localhost:8080/"
        },
        "id": "sm9YjmB1h8F_",
        "outputId": "ccdefd0a-de8b-4711-9fb4-c8483663ebc3"
      },
      "execution_count": 103,
      "outputs": [
        {
          "output_type": "execute_result",
          "data": {
            "text/plain": [
              "{'accuracy': 56.99390970475308,\n",
              " 'f1': 0.5385296942383837,\n",
              " 'precision': 0.5754919363397666,\n",
              " 'recall': 0.5699390970475308}"
            ]
          },
          "metadata": {},
          "execution_count": 103
        }
      ]
    },
    {
      "cell_type": "markdown",
      "source": [
        "## Model To take Multi Inputs of Data"
      ],
      "metadata": {
        "id": "zPsydV-Qh9jV"
      }
    },
    {
      "cell_type": "code",
      "source": [
        "token_inputs = layers.Input(shape=[], dtype = tf.string, name =\"token_input\")\n",
        "token_embedding = use_embed(token_inputs)\n",
        "token_ouput = layers.Dense(128, activation ='relu')(token_embedding)\n",
        "\n",
        "token_model = tf.keras.Model(token_inputs,token_ouput )\n"
      ],
      "metadata": {
        "id": "7c-8JepLqDdY"
      },
      "execution_count": 104,
      "outputs": []
    },
    {
      "cell_type": "code",
      "source": [
        "char_inputs = layers.Input(shape =(1,), dtype = tf.string)\n",
        "char_vectors = char_vectorizer(char_inputs)\n",
        "char_emb = char_embedding(char_vectors)\n",
        "char_bi_lstm = layers.Bidirectional(layers.LSTM(24))(char_emb)\n",
        "char_model = tf.keras.Model(inputs = char_inputs, outputs =char_bi_lstm)\n"
      ],
      "metadata": {
        "id": "DtvtOL8fqtwx"
      },
      "execution_count": 105,
      "outputs": []
    },
    {
      "cell_type": "code",
      "source": [
        "# Concatenate\n",
        "\n",
        "token_char_concat = layers.Concatenate(name ='token_char_hybrd')([token_model.output,\n",
        "                                                                 char_model.output])"
      ],
      "metadata": {
        "id": "TPAI7dsCr4WL"
      },
      "execution_count": 106,
      "outputs": []
    },
    {
      "cell_type": "code",
      "source": [
        "# Create output layers\n",
        "\n",
        "combine_dropout = layers.Dropout(0.5)(token_char_concat)\n",
        "combined_dense = layers.Dense(128, activation = 'relu')(combine_dropout)\n",
        "final_dropuout = layers.Dropout(0.5)(combined_dense)\n",
        "output_layer = layers.Dense(5, activation ='softmax')(final_dropuout)\n",
        "model_4 = tf.keras.Model(inputs =[token_model.input, char_model.input], outputs = output_layer)"
      ],
      "metadata": {
        "id": "0gLTtPB6s4WS"
      },
      "execution_count": 107,
      "outputs": []
    },
    {
      "cell_type": "code",
      "source": [
        "model_4.summary()"
      ],
      "metadata": {
        "colab": {
          "base_uri": "https://localhost:8080/"
        },
        "id": "QzbA9j9AtT8l",
        "outputId": "9a1a0c3c-2434-4024-9971-df19515a9b31"
      },
      "execution_count": 108,
      "outputs": [
        {
          "output_type": "stream",
          "name": "stdout",
          "text": [
            "Model: \"model_5\"\n",
            "__________________________________________________________________________________________________\n",
            " Layer (type)                   Output Shape         Param #     Connected to                     \n",
            "==================================================================================================\n",
            " input_4 (InputLayer)           [(None, 1)]          0           []                               \n",
            "                                                                                                  \n",
            " token_input (InputLayer)       [(None,)]            0           []                               \n",
            "                                                                                                  \n",
            " char_vectorizer (TextVectoriza  (None, 288)         0           ['input_4[0][0]']                \n",
            " tion)                                                                                            \n",
            "                                                                                                  \n",
            " Use_embed (KerasLayer)         (None, 512)          256797824   ['token_input[0][0]']            \n",
            "                                                                                                  \n",
            " embedding (Embedding)          (None, 288, 25)      700         ['char_vectorizer[1][0]']        \n",
            "                                                                                                  \n",
            " dense_4 (Dense)                (None, 128)          65664       ['Use_embed[1][0]']              \n",
            "                                                                                                  \n",
            " bidirectional (Bidirectional)  (None, 48)           9600        ['embedding[1][0]']              \n",
            "                                                                                                  \n",
            " token_char_hybrd (Concatenate)  (None, 176)         0           ['dense_4[0][0]',                \n",
            "                                                                  'bidirectional[0][0]']          \n",
            "                                                                                                  \n",
            " dropout (Dropout)              (None, 176)          0           ['token_char_hybrd[0][0]']       \n",
            "                                                                                                  \n",
            " dense_5 (Dense)                (None, 128)          22656       ['dropout[0][0]']                \n",
            "                                                                                                  \n",
            " dropout_1 (Dropout)            (None, 128)          0           ['dense_5[0][0]']                \n",
            "                                                                                                  \n",
            " dense_6 (Dense)                (None, 5)            645         ['dropout_1[0][0]']              \n",
            "                                                                                                  \n",
            "==================================================================================================\n",
            "Total params: 256,897,089\n",
            "Trainable params: 99,265\n",
            "Non-trainable params: 256,797,824\n",
            "__________________________________________________________________________________________________\n"
          ]
        }
      ]
    },
    {
      "cell_type": "code",
      "source": [
        "##Plot Hybrid Model\n",
        "\n",
        "tf.keras.utils.plot_model(model_4, show_shapes=True)\n",
        "\n"
      ],
      "metadata": {
        "colab": {
          "base_uri": "https://localhost:8080/",
          "height": 976
        },
        "id": "nCXrtXf7ufKF",
        "outputId": "e649cff6-c572-4e70-d970-0e2b7d51e478"
      },
      "execution_count": 109,
      "outputs": [
        {
          "output_type": "execute_result",
          "data": {
            "text/plain": [
              "<IPython.core.display.Image object>"
            ],
            "image/png": "[encoded data removed]"
          },
          "metadata": {},
          "execution_count": 109
        }
      ]
    },
    {
      "cell_type": "code",
      "source": [
        "model_4.compile(loss = 'categorical_crossentropy',\n",
        "                optimizer = tf.keras.optimizers.Adam(),\n",
        "                metrics = ['accuracy']\n",
        "                )"
      ],
      "metadata": {
        "id": "KmDxmep3vTAu"
      },
      "execution_count": 110,
      "outputs": []
    },
    {
      "cell_type": "code",
      "source": [
        "### Combining \n",
        "train_char_token_data = tf.data.Dataset.from_tensor_slices((train_sentences, train_chars))\n",
        "train_char_token_label = tf.data.Dataset.from_tensor_slices(train_labels_one_hot)\n",
        "\n",
        "train_char_token_dataset  =  tf.data.Dataset.zip((train_char_token_data, train_char_token_label))\n",
        "train_char_token_dataset =train_char_token_dataset.batch(32).prefetch(buffer_size =tf.data.AUTOTUNE)"
      ],
      "metadata": {
        "id": "mWcOvYWmyrE6"
      },
      "execution_count": 111,
      "outputs": []
    },
    {
      "cell_type": "code",
      "source": [
        "val_char_token_data = tf.data.Dataset.from_tensor_slices((val_sentences, val_chars))\n",
        "val_char_token_label = tf.data.Dataset.from_tensor_slices(val_labels_one_hot)\n",
        "val_char_token_dataset = tf.data.Dataset.zip((val_char_token_data, val_char_token_label))\n",
        "\n",
        "val_char_token_dataset =val_char_token_dataset.batch(32).prefetch(buffer_size =tf.data.AUTOTUNE)"
      ],
      "metadata": {
        "id": "XvVljFOQ0vty"
      },
      "execution_count": 112,
      "outputs": []
    },
    {
      "cell_type": "code",
      "source": [
        "train_char_token_dataset, val_char_token_dataset"
      ],
      "metadata": {
        "colab": {
          "base_uri": "https://localhost:8080/"
        },
        "id": "lMJgPxc32OC_",
        "outputId": "504150b6-ed90-41d5-9d92-bf9fdb51709e"
      },
      "execution_count": 113,
      "outputs": [
        {
          "output_type": "execute_result",
          "data": {
            "text/plain": [
              "(<PrefetchDataset element_spec=((TensorSpec(shape=(None,), dtype=tf.string, name=None), TensorSpec(shape=(None,), dtype=tf.string, name=None)), TensorSpec(shape=(None, 5), dtype=tf.float64, name=None))>,\n",
              " <PrefetchDataset element_spec=((TensorSpec(shape=(None,), dtype=tf.string, name=None), TensorSpec(shape=(None,), dtype=tf.string, name=None)), TensorSpec(shape=(None, 5), dtype=tf.float64, name=None))>)"
            ]
          },
          "metadata": {},
          "execution_count": 113
        }
      ]
    },
    {
      "cell_type": "code",
      "source": [
        "history_model_4 = model_4.fit(train_char_token_dataset, \n",
        "                              epochs = 5,\n",
        "                              validation_data = val_char_token_dataset,\n",
        "                              steps_per_epoch = int(0.1 * len(train_char_token_dataset)),\n",
        "                              validation_steps = int( 0.1 * len(val_char_token_dataset))\n",
        "                              )"
      ],
      "metadata": {
        "colab": {
          "base_uri": "https://localhost:8080/"
        },
        "id": "oYym2YE003B2",
        "outputId": "ef03860d-5d13-469b-89b7-8780845a0bd5"
      },
      "execution_count": 114,
      "outputs": [
        {
          "output_type": "stream",
          "name": "stdout",
          "text": [
            "Epoch 1/5\n",
            "94/94 [==============================] - 52s 437ms/step - loss: 1.3249 - accuracy: 0.4451 - val_loss: 1.0552 - val_accuracy: 0.5595\n",
            "Epoch 2/5\n",
            "94/94 [==============================] - 36s 388ms/step - loss: 1.0153 - accuracy: 0.5884 - val_loss: 0.9020 - val_accuracy: 0.6456\n",
            "Epoch 3/5\n",
            "94/94 [==============================] - 37s 390ms/step - loss: 0.9480 - accuracy: 0.6223 - val_loss: 0.8493 - val_accuracy: 0.6652\n",
            "Epoch 4/5\n",
            "94/94 [==============================] - 37s 399ms/step - loss: 0.8980 - accuracy: 0.6516 - val_loss: 0.8191 - val_accuracy: 0.6749\n",
            "Epoch 5/5\n",
            "94/94 [==============================] - 36s 386ms/step - loss: 0.8871 - accuracy: 0.6599 - val_loss: 0.7936 - val_accuracy: 0.7008\n"
          ]
        }
      ]
    },
    {
      "cell_type": "code",
      "source": [
        "model_4.evaluate(val_char_token_dataset)"
      ],
      "metadata": {
        "colab": {
          "base_uri": "https://localhost:8080/"
        },
        "id": "vYAfu7gj2gBT",
        "outputId": "d629a728-934f-4fce-cd69-1442bc47a07f"
      },
      "execution_count": 115,
      "outputs": [
        {
          "output_type": "stream",
          "name": "stdout",
          "text": [
            "945/945 [==============================] - 63s 67ms/step - loss: 0.7949 - accuracy: 0.6975\n"
          ]
        },
        {
          "output_type": "execute_result",
          "data": {
            "text/plain": [
              "[0.7949314713478088, 0.6975042819976807]"
            ]
          },
          "metadata": {},
          "execution_count": 115
        }
      ]
    },
    {
      "cell_type": "code",
      "source": [
        "model_4_pred_probs = model_4.predict(val_char_token_dataset)\n",
        "model_4_preds = tf.argmax(model_4_pred_probs, axis = 1)"
      ],
      "metadata": {
        "id": "Aayq3buW2KBP"
      },
      "execution_count": 116,
      "outputs": []
    },
    {
      "cell_type": "code",
      "source": [
        "model_4_results = calculate_results(val_labels_encoded, model_4_preds )\n",
        "model_4_results"
      ],
      "metadata": {
        "colab": {
          "base_uri": "https://localhost:8080/"
        },
        "id": "OYPlmUnM4a-s",
        "outputId": "61902dd3-e8ac-4da1-efa7-f09fb4e9dd73"
      },
      "execution_count": 119,
      "outputs": [
        {
          "output_type": "execute_result",
          "data": {
            "text/plain": [
              "{'accuracy': 69.75043029259896,\n",
              " 'f1': 0.6907116317447155,\n",
              " 'precision': 0.6896193250608255,\n",
              " 'recall': 0.6975043029259896}"
            ]
          },
          "metadata": {},
          "execution_count": 119
        }
      ]
    },
    {
      "cell_type": "markdown",
      "source": [
        "## Transfer Learning with Fearure Engineering / Positional Embedding\n",
        "\n",
        "\n",
        "\n"
      ],
      "metadata": {
        "id": "Bav5Ohgz4ioA"
      }
    },
    {
      "cell_type": "code",
      "source": [
        "### How many Different number\n",
        "\n",
        "train_df.head()"
      ],
      "metadata": {
        "colab": {
          "base_uri": "https://localhost:8080/",
          "height": 206
        },
        "id": "X2Jy0nUg67Lg",
        "outputId": "885d2b9b-4204-4315-9cd1-27658edb67de"
      },
      "execution_count": 120,
      "outputs": [
        {
          "output_type": "execute_result",
          "data": {
            "text/plain": [
              "       target                                               text  line_number  \\\n",
              "0  BACKGROUND  this study analyzed liver function abnormaliti...            0   \n",
              "1     RESULTS  a post hoc analysis was conducted with the use...            1   \n",
              "2     RESULTS  liver function tests ( lfts ) were measured at...            2   \n",
              "3     RESULTS  survival analyses were used to assess the asso...            3   \n",
              "4     RESULTS  the percentage of patients with abnormal lfts ...            4   \n",
              "\n",
              "   total_lines  \n",
              "0            8  \n",
              "1            8  \n",
              "2            8  \n",
              "3            8  \n",
              "4            8  "
            ],
            "text/html": [
              "\n",
              "  <div id=\"df-fa4ac3dc-505d-4b2d-aeb5-548ed53b0eb8\">\n",
              "    <div class=\"colab-df-container\">\n",
              "      <div>\n",
              "<style scoped>\n",
              "    .dataframe tbody tr th:only-of-type {\n",
              "        vertical-align: middle;\n",
              "    }\n",
              "\n",
              "    .dataframe tbody tr th {\n",
              "        vertical-align: top;\n",
              "    }\n",
              "\n",
              "    .dataframe thead th {\n",
              "        text-align: right;\n",
              "    }\n",
              "</style>\n",
              "<table border=\"1\" class=\"dataframe\">\n",
              "  <thead>\n",
              "    <tr style=\"text-align: right;\">\n",
              "      <th></th>\n",
              "      <th>target</th>\n",
              "      <th>text</th>\n",
              "      <th>line_number</th>\n",
              "      <th>total_lines</th>\n",
              "    </tr>\n",
              "  </thead>\n",
              "  <tbody>\n",
              "    <tr>\n",
              "      <th>0</th>\n",
              "      <td>BACKGROUND</td>\n",
              "      <td>this study analyzed liver function abnormaliti...</td>\n",
              "      <td>0</td>\n",
              "      <td>8</td>\n",
              "    </tr>\n",
              "    <tr>\n",
              "      <th>1</th>\n",
              "      <td>RESULTS</td>\n",
              "      <td>a post hoc analysis was conducted with the use...</td>\n",
              "      <td>1</td>\n",
              "      <td>8</td>\n",
              "    </tr>\n",
              "    <tr>\n",
              "      <th>2</th>\n",
              "      <td>RESULTS</td>\n",
              "      <td>liver function tests ( lfts ) were measured at...</td>\n",
              "      <td>2</td>\n",
              "      <td>8</td>\n",
              "    </tr>\n",
              "    <tr>\n",
              "      <th>3</th>\n",
              "      <td>RESULTS</td>\n",
              "      <td>survival analyses were used to assess the asso...</td>\n",
              "      <td>3</td>\n",
              "      <td>8</td>\n",
              "    </tr>\n",
              "    <tr>\n",
              "      <th>4</th>\n",
              "      <td>RESULTS</td>\n",
              "      <td>the percentage of patients with abnormal lfts ...</td>\n",
              "      <td>4</td>\n",
              "      <td>8</td>\n",
              "    </tr>\n",
              "  </tbody>\n",
              "</table>\n",
              "</div>\n",
              "      <button class=\"colab-df-convert\" onclick=\"convertToInteractive('df-fa4ac3dc-505d-4b2d-aeb5-548ed53b0eb8')\"\n",
              "              title=\"Convert this dataframe to an interactive table.\"\n",
              "              style=\"display:none;\">\n",
              "        \n",
              "  <svg xmlns=\"http://www.w3.org/2000/svg\" height=\"24px\"viewBox=\"0 0 24 24\"\n",
              "       width=\"24px\">\n",
              "    <path d=\"M0 0h24v24H0V0z\" fill=\"none\"/>\n",
              "    <path d=\"M18.56 5.44l.94 2.06.94-2.06 2.06-.94-2.06-.94-.94-2.06-.94 2.06-2.06.94zm-11 1L8.5 8.5l.94-2.06 2.06-.94-2.06-.94L8.5 2.5l-.94 2.06-2.06.94zm10 10l.94 2.06.94-2.06 2.06-.94-2.06-.94-.94-2.06-.94 2.06-2.06.94z\"/><path d=\"M17.41 7.96l-1.37-1.37c-.4-.4-.92-.59-1.43-.59-.52 0-1.04.2-1.43.59L10.3 9.45l-7.72 7.72c-.78.78-.78 2.05 0 2.83L4 21.41c.39.39.9.59 1.41.59.51 0 1.02-.2 1.41-.59l7.78-7.78 2.81-2.81c.8-.78.8-2.07 0-2.86zM5.41 20L4 18.59l7.72-7.72 1.47 1.35L5.41 20z\"/>\n",
              "  </svg>\n",
              "      </button>\n",
              "      \n",
              "  <style>\n",
              "    .colab-df-container {\n",
              "      display:flex;\n",
              "      flex-wrap:wrap;\n",
              "      gap: 12px;\n",
              "    }\n",
              "\n",
              "    .colab-df-convert {\n",
              "      background-color: #E8F0FE;\n",
              "      border: none;\n",
              "      border-radius: 50%;\n",
              "      cursor: pointer;\n",
              "      display: none;\n",
              "      fill: #1967D2;\n",
              "      height: 32px;\n",
              "      padding: 0 0 0 0;\n",
              "      width: 32px;\n",
              "    }\n",
              "\n",
              "    .colab-df-convert:hover {\n",
              "      background-color: #E2EBFA;\n",
              "      box-shadow: 0px 1px 2px rgba(60, 64, 67, 0.3), 0px 1px 3px 1px rgba(60, 64, 67, 0.15);\n",
              "      fill: #174EA6;\n",
              "    }\n",
              "\n",
              "    [theme=dark] .colab-df-convert {\n",
              "      background-color: #3B4455;\n",
              "      fill: #D2E3FC;\n",
              "    }\n",
              "\n",
              "    [theme=dark] .colab-df-convert:hover {\n",
              "      background-color: #434B5C;\n",
              "      box-shadow: 0px 1px 3px 1px rgba(0, 0, 0, 0.15);\n",
              "      filter: drop-shadow(0px 1px 2px rgba(0, 0, 0, 0.3));\n",
              "      fill: #FFFFFF;\n",
              "    }\n",
              "  </style>\n",
              "\n",
              "      <script>\n",
              "        const buttonEl =\n",
              "          document.querySelector('#df-fa4ac3dc-505d-4b2d-aeb5-548ed53b0eb8 button.colab-df-convert');\n",
              "        buttonEl.style.display =\n",
              "          google.colab.kernel.accessAllowed ? 'block' : 'none';\n",
              "\n",
              "        async function convertToInteractive(key) {\n",
              "          const element = document.querySelector('#df-fa4ac3dc-505d-4b2d-aeb5-548ed53b0eb8');\n",
              "          const dataTable =\n",
              "            await google.colab.kernel.invokeFunction('convertToInteractive',\n",
              "                                                     [key], {});\n",
              "          if (!dataTable) return;\n",
              "\n",
              "          const docLinkHtml = 'Like what you see? Visit the ' +\n",
              "            '<a target=\"_blank\" href=https://colab.research.google.com/notebooks/data_table.ipynb>data table notebook</a>'\n",
              "            + ' to learn more about interactive tables.';\n",
              "          element.innerHTML = '';\n",
              "          dataTable['output_type'] = 'display_data';\n",
              "          await google.colab.output.renderOutput(dataTable, element);\n",
              "          const docLink = document.createElement('div');\n",
              "          docLink.innerHTML = docLinkHtml;\n",
              "          element.appendChild(docLink);\n",
              "        }\n",
              "      </script>\n",
              "    </div>\n",
              "  </div>\n",
              "  "
            ]
          },
          "metadata": {},
          "execution_count": 120
        }
      ]
    },
    {
      "cell_type": "code",
      "source": [
        "#Use Tensorflow to Create One_hot\n",
        "train_line_numbers_one_hot = tf.one_hot(train_df['line_number'].to_numpy(), depth = 15)\n",
        "val_line_numbers_one_hot = tf.one_hot(val_df['line_number'].to_numpy(), depth = 15)\n",
        "test_line_numbers_one_hot = tf.one_hot(test_df['line_number'].to_numpy(), depth = 15)\n",
        "train_line_numbers_one_hot"
      ],
      "metadata": {
        "colab": {
          "base_uri": "https://localhost:8080/"
        },
        "id": "uAhszfQ97Ki7",
        "outputId": "3591fc30-21c8-44d0-bff6-4a97937839a7"
      },
      "execution_count": 127,
      "outputs": [
        {
          "output_type": "execute_result",
          "data": {
            "text/plain": [
              "<tf.Tensor: shape=(30135, 15), dtype=float32, numpy=\n",
              "array([[1., 0., 0., ..., 0., 0., 0.],\n",
              "       [0., 1., 0., ..., 0., 0., 0.],\n",
              "       [0., 0., 1., ..., 0., 0., 0.],\n",
              "       ...,\n",
              "       [0., 0., 0., ..., 0., 0., 0.],\n",
              "       [0., 0., 0., ..., 0., 0., 0.],\n",
              "       [0., 0., 0., ..., 0., 0., 0.]], dtype=float32)>"
            ]
          },
          "metadata": {},
          "execution_count": 127
        }
      ]
    },
    {
      "cell_type": "code",
      "source": [
        "train_df.total_lines.plot.hist()"
      ],
      "metadata": {
        "colab": {
          "base_uri": "https://localhost:8080/",
          "height": 282
        },
        "id": "scsdP_ah8ruT",
        "outputId": "c05abdc0-7b8c-4a1b-ea84-f7a4a6cee8cc"
      },
      "execution_count": 129,
      "outputs": [
        {
          "output_type": "execute_result",
          "data": {
            "text/plain": [
              "<matplotlib.axes._subplots.AxesSubplot at 0x7f7ee078ae50>"
            ]
          },
          "metadata": {},
          "execution_count": 129
        },
        {
          "output_type": "display_data",
          "data": {
            "text/plain": [
              "<Figure size 432x288 with 1 Axes>"
            ],
            "image/png": "[encoded data removed]"
          },
          "metadata": {
            "needs_background": "light"
          }
        }
      ]
    },
    {
      "cell_type": "code",
      "source": [
        "#Use Tensorflow to Create One_hot\n",
        "train_total_lines_one_hot = tf.one_hot(train_df['total_lines'].to_numpy(), depth = 20)\n",
        "val_total_lines_one_hot = tf.one_hot(val_df['total_lines'].to_numpy(), depth = 20)\n",
        "test_total_lines_one_hot = tf.one_hot(test_df['total_lines'].to_numpy(), depth = 20)\n"
      ],
      "metadata": {
        "colab": {
          "base_uri": "https://localhost:8080/"
        },
        "id": "L4v0qEGG9MJX",
        "outputId": "cc7002c0-45d5-4f29-87ba-6c59eee052fa"
      },
      "execution_count": 133,
      "outputs": [
        {
          "output_type": "execute_result",
          "data": {
            "text/plain": [
              "TensorShape([30135, 20])"
            ]
          },
          "metadata": {},
          "execution_count": 133
        }
      ]
    },
    {
      "cell_type": "code",
      "source": [
        "train_df"
      ],
      "metadata": {
        "colab": {
          "base_uri": "https://localhost:8080/",
          "height": 424
        },
        "id": "HUde2Qp2-pQm",
        "outputId": "8d6d8edc-414c-4a73-d459-de852cf62d3a"
      },
      "execution_count": 136,
      "outputs": [
        {
          "output_type": "execute_result",
          "data": {
            "text/plain": [
              "            target                                               text  \\\n",
              "0       BACKGROUND  this study analyzed liver function abnormaliti...   \n",
              "1          RESULTS  a post hoc analysis was conducted with the use...   \n",
              "2          RESULTS  liver function tests ( lfts ) were measured at...   \n",
              "3          RESULTS  survival analyses were used to assess the asso...   \n",
              "4          RESULTS  the percentage of patients with abnormal lfts ...   \n",
              "...            ...                                                ...   \n",
              "30130      RESULTS  there was a statistically significant between-...   \n",
              "30131      RESULTS  there were no statistically significant betwee...   \n",
              "30132      RESULTS  there was no significant association between s...   \n",
              "30133      RESULTS                 no adverse effects were reported .   \n",
              "30134  CONCLUSIONS  performing a @-week do-as-tolerated program of...   \n",
              "\n",
              "       line_number  total_lines  \n",
              "0                0            8  \n",
              "1                1            8  \n",
              "2                2            8  \n",
              "3                3            8  \n",
              "4                4            8  \n",
              "...            ...          ...  \n",
              "30130           13           17  \n",
              "30131           14           17  \n",
              "30132           15           17  \n",
              "30133           16           17  \n",
              "30134           17           17  \n",
              "\n",
              "[30135 rows x 4 columns]"
            ],
            "text/html": [
              "\n",
              "  <div id=\"df-bc46f076-af95-49c8-ab06-2c5fa4d0867c\">\n",
              "    <div class=\"colab-df-container\">\n",
              "      <div>\n",
              "<style scoped>\n",
              "    .dataframe tbody tr th:only-of-type {\n",
              "        vertical-align: middle;\n",
              "    }\n",
              "\n",
              "    .dataframe tbody tr th {\n",
              "        vertical-align: top;\n",
              "    }\n",
              "\n",
              "    .dataframe thead th {\n",
              "        text-align: right;\n",
              "    }\n",
              "</style>\n",
              "<table border=\"1\" class=\"dataframe\">\n",
              "  <thead>\n",
              "    <tr style=\"text-align: right;\">\n",
              "      <th></th>\n",
              "      <th>target</th>\n",
              "      <th>text</th>\n",
              "      <th>line_number</th>\n",
              "      <th>total_lines</th>\n",
              "    </tr>\n",
              "  </thead>\n",
              "  <tbody>\n",
              "    <tr>\n",
              "      <th>0</th>\n",
              "      <td>BACKGROUND</td>\n",
              "      <td>this study analyzed liver function abnormaliti...</td>\n",
              "      <td>0</td>\n",
              "      <td>8</td>\n",
              "    </tr>\n",
              "    <tr>\n",
              "      <th>1</th>\n",
              "      <td>RESULTS</td>\n",
              "      <td>a post hoc analysis was conducted with the use...</td>\n",
              "      <td>1</td>\n",
              "      <td>8</td>\n",
              "    </tr>\n",
              "    <tr>\n",
              "      <th>2</th>\n",
              "      <td>RESULTS</td>\n",
              "      <td>liver function tests ( lfts ) were measured at...</td>\n",
              "      <td>2</td>\n",
              "      <td>8</td>\n",
              "    </tr>\n",
              "    <tr>\n",
              "      <th>3</th>\n",
              "      <td>RESULTS</td>\n",
              "      <td>survival analyses were used to assess the asso...</td>\n",
              "      <td>3</td>\n",
              "      <td>8</td>\n",
              "    </tr>\n",
              "    <tr>\n",
              "      <th>4</th>\n",
              "      <td>RESULTS</td>\n",
              "      <td>the percentage of patients with abnormal lfts ...</td>\n",
              "      <td>4</td>\n",
              "      <td>8</td>\n",
              "    </tr>\n",
              "    <tr>\n",
              "      <th>...</th>\n",
              "      <td>...</td>\n",
              "      <td>...</td>\n",
              "      <td>...</td>\n",
              "      <td>...</td>\n",
              "    </tr>\n",
              "    <tr>\n",
              "      <th>30130</th>\n",
              "      <td>RESULTS</td>\n",
              "      <td>there was a statistically significant between-...</td>\n",
              "      <td>13</td>\n",
              "      <td>17</td>\n",
              "    </tr>\n",
              "    <tr>\n",
              "      <th>30131</th>\n",
              "      <td>RESULTS</td>\n",
              "      <td>there were no statistically significant betwee...</td>\n",
              "      <td>14</td>\n",
              "      <td>17</td>\n",
              "    </tr>\n",
              "    <tr>\n",
              "      <th>30132</th>\n",
              "      <td>RESULTS</td>\n",
              "      <td>there was no significant association between s...</td>\n",
              "      <td>15</td>\n",
              "      <td>17</td>\n",
              "    </tr>\n",
              "    <tr>\n",
              "      <th>30133</th>\n",
              "      <td>RESULTS</td>\n",
              "      <td>no adverse effects were reported .</td>\n",
              "      <td>16</td>\n",
              "      <td>17</td>\n",
              "    </tr>\n",
              "    <tr>\n",
              "      <th>30134</th>\n",
              "      <td>CONCLUSIONS</td>\n",
              "      <td>performing a @-week do-as-tolerated program of...</td>\n",
              "      <td>17</td>\n",
              "      <td>17</td>\n",
              "    </tr>\n",
              "  </tbody>\n",
              "</table>\n",
              "<p>30135 rows × 4 columns</p>\n",
              "</div>\n",
              "      <button class=\"colab-df-convert\" onclick=\"convertToInteractive('df-bc46f076-af95-49c8-ab06-2c5fa4d0867c')\"\n",
              "              title=\"Convert this dataframe to an interactive table.\"\n",
              "              style=\"display:none;\">\n",
              "        \n",
              "  <svg xmlns=\"http://www.w3.org/2000/svg\" height=\"24px\"viewBox=\"0 0 24 24\"\n",
              "       width=\"24px\">\n",
              "    <path d=\"M0 0h24v24H0V0z\" fill=\"none\"/>\n",
              "    <path d=\"M18.56 5.44l.94 2.06.94-2.06 2.06-.94-2.06-.94-.94-2.06-.94 2.06-2.06.94zm-11 1L8.5 8.5l.94-2.06 2.06-.94-2.06-.94L8.5 2.5l-.94 2.06-2.06.94zm10 10l.94 2.06.94-2.06 2.06-.94-2.06-.94-.94-2.06-.94 2.06-2.06.94z\"/><path d=\"M17.41 7.96l-1.37-1.37c-.4-.4-.92-.59-1.43-.59-.52 0-1.04.2-1.43.59L10.3 9.45l-7.72 7.72c-.78.78-.78 2.05 0 2.83L4 21.41c.39.39.9.59 1.41.59.51 0 1.02-.2 1.41-.59l7.78-7.78 2.81-2.81c.8-.78.8-2.07 0-2.86zM5.41 20L4 18.59l7.72-7.72 1.47 1.35L5.41 20z\"/>\n",
              "  </svg>\n",
              "      </button>\n",
              "      \n",
              "  <style>\n",
              "    .colab-df-container {\n",
              "      display:flex;\n",
              "      flex-wrap:wrap;\n",
              "      gap: 12px;\n",
              "    }\n",
              "\n",
              "    .colab-df-convert {\n",
              "      background-color: #E8F0FE;\n",
              "      border: none;\n",
              "      border-radius: 50%;\n",
              "      cursor: pointer;\n",
              "      display: none;\n",
              "      fill: #1967D2;\n",
              "      height: 32px;\n",
              "      padding: 0 0 0 0;\n",
              "      width: 32px;\n",
              "    }\n",
              "\n",
              "    .colab-df-convert:hover {\n",
              "      background-color: #E2EBFA;\n",
              "      box-shadow: 0px 1px 2px rgba(60, 64, 67, 0.3), 0px 1px 3px 1px rgba(60, 64, 67, 0.15);\n",
              "      fill: #174EA6;\n",
              "    }\n",
              "\n",
              "    [theme=dark] .colab-df-convert {\n",
              "      background-color: #3B4455;\n",
              "      fill: #D2E3FC;\n",
              "    }\n",
              "\n",
              "    [theme=dark] .colab-df-convert:hover {\n",
              "      background-color: #434B5C;\n",
              "      box-shadow: 0px 1px 3px 1px rgba(0, 0, 0, 0.15);\n",
              "      filter: drop-shadow(0px 1px 2px rgba(0, 0, 0, 0.3));\n",
              "      fill: #FFFFFF;\n",
              "    }\n",
              "  </style>\n",
              "\n",
              "      <script>\n",
              "        const buttonEl =\n",
              "          document.querySelector('#df-bc46f076-af95-49c8-ab06-2c5fa4d0867c button.colab-df-convert');\n",
              "        buttonEl.style.display =\n",
              "          google.colab.kernel.accessAllowed ? 'block' : 'none';\n",
              "\n",
              "        async function convertToInteractive(key) {\n",
              "          const element = document.querySelector('#df-bc46f076-af95-49c8-ab06-2c5fa4d0867c');\n",
              "          const dataTable =\n",
              "            await google.colab.kernel.invokeFunction('convertToInteractive',\n",
              "                                                     [key], {});\n",
              "          if (!dataTable) return;\n",
              "\n",
              "          const docLinkHtml = 'Like what you see? Visit the ' +\n",
              "            '<a target=\"_blank\" href=https://colab.research.google.com/notebooks/data_table.ipynb>data table notebook</a>'\n",
              "            + ' to learn more about interactive tables.';\n",
              "          element.innerHTML = '';\n",
              "          dataTable['output_type'] = 'display_data';\n",
              "          await google.colab.output.renderOutput(dataTable, element);\n",
              "          const docLink = document.createElement('div');\n",
              "          docLink.innerHTML = docLinkHtml;\n",
              "          element.appendChild(docLink);\n",
              "        }\n",
              "      </script>\n",
              "    </div>\n",
              "  </div>\n",
              "  "
            ]
          },
          "metadata": {},
          "execution_count": 136
        }
      ]
    },
    {
      "cell_type": "markdown",
      "source": [
        "### Building A Tripid "
      ],
      "metadata": {
        "id": "mqaMq0zW-M0F"
      }
    },
    {
      "cell_type": "code",
      "source": [
        "token_inputs = layers.Input(shape =[], dtype = tf.string, name ='token_inputs')\n",
        "token_embedding = use_embed(token_inputs)\n",
        "token_outputs = layers.Dense(128, activation ='relu')(token_embedding)\n",
        "token_model = tf.keras.Model(inputs =token_inputs, outputs =token_outputs)"
      ],
      "metadata": {
        "id": "pWaUt3eg_UZA"
      },
      "execution_count": 140,
      "outputs": []
    },
    {
      "cell_type": "code",
      "source": [
        "char_inputs = layers.Input(shape =(1,), dtype = tf.string, name ='char_inputs')\n",
        "char_vectors = char_vectorizer(char_inputs)\n",
        "char_embed = char_embedding(char_vectors)\n",
        "char_bi_lstm = layers.Bidirectional(layers.LSTM(24))(char_embed)\n",
        "char_model = tf.keras.Model(inputs = char_inputs, outputs =char_bi_lstm)"
      ],
      "metadata": {
        "id": "qOvpteeJA32t"
      },
      "execution_count": 142,
      "outputs": []
    },
    {
      "cell_type": "code",
      "source": [
        "line_number_inputs = layers.Input(shape=(15,), dtype = tf.float32,name ='line_number_inputs')\n",
        "line_number_dense = layers.Dense(32, activation ='relu')(line_number_inputs)\n",
        "line_number_model = tf.keras.Model(inputs=line_number_inputs,\n",
        "                                   outputs = line_number_dense )"
      ],
      "metadata": {
        "id": "QwDRDfU2A44H"
      },
      "execution_count": 149,
      "outputs": []
    },
    {
      "cell_type": "code",
      "source": [
        "total_line_inputs = layers.Input(shape =(20, ), dtype = tf.float32, name = 'total_line_inp')\n",
        "total_line_dense = layers.Dense(32, activation ='relu')(total_line_inputs)\n",
        "total_line_model = tf.keras.Model(inputs= total_line_inputs, outputs =total_line_dense )"
      ],
      "metadata": {
        "id": "AjQz1ENkCfOY"
      },
      "execution_count": 151,
      "outputs": []
    },
    {
      "cell_type": "code",
      "source": [
        "#Combine \n",
        "\n",
        "combined_embedding = layers.Concatenate(name='char_token_combined')([token_model.output, char_model.output])\n",
        "z = layers.Dense(256, activation='relu')(combined_embedding)\n",
        "z = layers.Dropout(0.5)(z)"
      ],
      "metadata": {
        "id": "ueFMUg9cGLS6"
      },
      "execution_count": 156,
      "outputs": []
    },
    {
      "cell_type": "code",
      "source": [
        "#Combined with Positional\n",
        "tripid_embeddings = layers.Concatenate(name ='tripid_embed')([line_number_model.output,\n",
        "                                                              total_line_model.output,\n",
        "                                                              z\n",
        "\n",
        "                                                              ])"
      ],
      "metadata": {
        "id": "xvKg_9zsGNMI"
      },
      "execution_count": 157,
      "outputs": []
    },
    {
      "cell_type": "code",
      "source": [
        "# Create Output layer\n",
        "\n",
        "output_layer = layers.Dense(5, activation ='softmax', name ='output_layer')(tripid_embeddings)"
      ],
      "metadata": {
        "id": "cuECows_IQid"
      },
      "execution_count": 158,
      "outputs": []
    },
    {
      "cell_type": "code",
      "source": [
        "#Put together\n",
        "\n",
        "model_5 = tf.keras.Model(inputs =[line_number_model.input, \n",
        "                                  total_line_model.input, \n",
        "                                  token_model.input,\n",
        "                                  char_model.input], outputs =output_layer,\n",
        "                         name ='tripid_model'\n",
        "                          )"
      ],
      "metadata": {
        "id": "BneY1HuZJc7p"
      },
      "execution_count": 159,
      "outputs": []
    },
    {
      "cell_type": "code",
      "source": [
        "tf.keras.utils.plot_model(\n",
        "    model_5,show_shapes=True)"
      ],
      "metadata": {
        "colab": {
          "base_uri": "https://localhost:8080/",
          "height": 996
        },
        "id": "JDQ4rn1wKd32",
        "outputId": "cc8e7c5e-5425-4f20-8b42-640a4e13c903"
      },
      "execution_count": 163,
      "outputs": [
        {
          "output_type": "execute_result",
          "data": {
            "text/plain": [
              "<IPython.core.display.Image object>"
            ],
            "image/png": "[encoded data removed]"
          },
          "metadata": {},
          "execution_count": 163
        }
      ]
    },
    {
      "cell_type": "code",
      "source": [
        "model_5.summary()"
      ],
      "metadata": {
        "colab": {
          "base_uri": "https://localhost:8080/"
        },
        "id": "MtiU4GPVMiqd",
        "outputId": "cd80dee9-4b27-43f6-e194-d38ca8288673"
      },
      "execution_count": 164,
      "outputs": [
        {
          "output_type": "stream",
          "name": "stdout",
          "text": [
            "Model: \"tripid_model\"\n",
            "__________________________________________________________________________________________________\n",
            " Layer (type)                   Output Shape         Param #     Connected to                     \n",
            "==================================================================================================\n",
            " char_inputs (InputLayer)       [(None, 1)]          0           []                               \n",
            "                                                                                                  \n",
            " token_inputs (InputLayer)      [(None,)]            0           []                               \n",
            "                                                                                                  \n",
            " char_vectorizer (TextVectoriza  (None, 288)         0           ['char_inputs[0][0]']            \n",
            " tion)                                                                                            \n",
            "                                                                                                  \n",
            " Use_embed (KerasLayer)         (None, 512)          256797824   ['token_inputs[0][0]']           \n",
            "                                                                                                  \n",
            " embedding (Embedding)          (None, 288, 25)      700         ['char_vectorizer[2][0]']        \n",
            "                                                                                                  \n",
            " dense_7 (Dense)                (None, 128)          65664       ['Use_embed[2][0]']              \n",
            "                                                                                                  \n",
            " bidirectional_1 (Bidirectional  (None, 48)          9600        ['embedding[2][0]']              \n",
            " )                                                                                                \n",
            "                                                                                                  \n",
            " char_token_combined (Concatena  (None, 176)         0           ['dense_7[0][0]',                \n",
            " te)                                                              'bidirectional_1[0][0]']        \n",
            "                                                                                                  \n",
            " line inputs (InputLayer)       [(None, 15)]         0           []                               \n",
            "                                                                                                  \n",
            " total_line_inp (InputLayer)    [(None, 20)]         0           []                               \n",
            "                                                                                                  \n",
            " dense_12 (Dense)               (None, 256)          45312       ['char_token_combined[0][0]']    \n",
            "                                                                                                  \n",
            " dense_10 (Dense)               (None, 32)           512         ['line inputs[0][0]']            \n",
            "                                                                                                  \n",
            " dense_11 (Dense)               (None, 32)           672         ['total_line_inp[0][0]']         \n",
            "                                                                                                  \n",
            " dropout_2 (Dropout)            (None, 256)          0           ['dense_12[0][0]']               \n",
            "                                                                                                  \n",
            " tripid_embed (Concatenate)     (None, 320)          0           ['dense_10[0][0]',               \n",
            "                                                                  'dense_11[0][0]',               \n",
            "                                                                  'dropout_2[0][0]']              \n",
            "                                                                                                  \n",
            " output_layer (Dense)           (None, 5)            1605        ['tripid_embed[0][0]']           \n",
            "                                                                                                  \n",
            "==================================================================================================\n",
            "Total params: 256,921,889\n",
            "Trainable params: 124,065\n",
            "Non-trainable params: 256,797,824\n",
            "__________________________________________________________________________________________________\n"
          ]
        }
      ]
    },
    {
      "cell_type": "code",
      "source": [
        "model_5.compile(loss = tf.keras.losses.CategoricalCrossentropy(label_smoothing=0.2),\n",
        "                optimizer = tf.keras.optimizers.Adam(),\n",
        "                metrics = ['accuracy'])"
      ],
      "metadata": {
        "id": "-U9vhaedKj2w"
      },
      "execution_count": 170,
      "outputs": []
    },
    {
      "cell_type": "code",
      "source": [
        "#Create A Tribrid Pipeline wth 4 \n",
        "\n"
      ],
      "metadata": {
        "id": "auVS-LefTXaq"
      },
      "execution_count": 165,
      "outputs": []
    },
    {
      "cell_type": "code",
      "source": [
        "#Create A Tribrid Pipeline wth 4 \n",
        "\n",
        "train_char_token_pos_data = tf.data.Dataset.from_tensor_slices((train_line_numbers_one_hot,\n",
        "                                                                train_total_lines_one_hot,\n",
        "                                                                train_sentences,\n",
        "                                                                train_chars))\n",
        "train_char_token_pos_labels = tf.data.Dataset.from_tensor_slices(train_labels_one_hot)\n",
        "train_char_token_pos_dataset = tf.data.Dataset.zip((train_char_token_pos_data,\n",
        "                                                    train_char_token_pos_labels))\n",
        "train_char_token_pos_dataset = train_char_token_pos_dataset.batch(32).prefetch(tf.data.AUTOTUNE)\n",
        "\n",
        "\n",
        "\n",
        "val_char_token_pos_data = tf.data.Dataset.from_tensor_slices((val_line_numbers_one_hot,\n",
        "                                                                val_total_lines_one_hot,\n",
        "                                                                val_sentences,\n",
        "                                                                val_chars))\n",
        "val_char_token_pos_labels = tf.data.Dataset.from_tensor_slices(val_labels_one_hot)\n",
        "val_char_token_pos_dataset = tf.data.Dataset.zip((val_char_token_pos_data,\n",
        "                                                    val_char_token_pos_labels))\n",
        "val_char_token_pos_dataset = val_char_token_pos_dataset.batch(32).prefetch(tf.data.AUTOTUNE)"
      ],
      "metadata": {
        "id": "EmCNqu6PUFHv"
      },
      "execution_count": 166,
      "outputs": []
    },
    {
      "cell_type": "code",
      "source": [
        "#Check input_shapes\n",
        "\n",
        "train_char_token_pos_dataset, val_char_token_pos_dataset"
      ],
      "metadata": {
        "colab": {
          "base_uri": "https://localhost:8080/"
        },
        "id": "ARD3QJm_UxPX",
        "outputId": "75723567-8722-46d7-e0e1-cbdab48810a6"
      },
      "execution_count": 167,
      "outputs": [
        {
          "output_type": "execute_result",
          "data": {
            "text/plain": [
              "(<PrefetchDataset element_spec=((TensorSpec(shape=(None, 15), dtype=tf.float32, name=None), TensorSpec(shape=(None, 20), dtype=tf.float32, name=None), TensorSpec(shape=(None,), dtype=tf.string, name=None), TensorSpec(shape=(None,), dtype=tf.string, name=None)), TensorSpec(shape=(None, 5), dtype=tf.float64, name=None))>,\n",
              " <PrefetchDataset element_spec=((TensorSpec(shape=(None, 15), dtype=tf.float32, name=None), TensorSpec(shape=(None, 20), dtype=tf.float32, name=None), TensorSpec(shape=(None,), dtype=tf.string, name=None), TensorSpec(shape=(None,), dtype=tf.string, name=None)), TensorSpec(shape=(None, 5), dtype=tf.float64, name=None))>)"
            ]
          },
          "metadata": {},
          "execution_count": 167
        }
      ]
    },
    {
      "cell_type": "code",
      "source": [
        "history_model_5 = model_5.fit(train_char_token_pos_dataset, epochs = 3,\n",
        "            validation_data = val_char_token_pos_dataset,\n",
        "            steps_per_epoch = int(0.1*len(train_char_token_pos_dataset)),\n",
        "            validation_steps =int(0.1 * len(val_char_token_pos_dataset)))"
      ],
      "metadata": {
        "colab": {
          "base_uri": "https://localhost:8080/"
        },
        "id": "vQ_C29uMVzri",
        "outputId": "e3afdf8c-927c-4bc2-a2e9-213db6c18814"
      },
      "execution_count": 171,
      "outputs": [
        {
          "output_type": "stream",
          "name": "stdout",
          "text": [
            "Epoch 1/3\n",
            "94/94 [==============================] - 86s 732ms/step - loss: 1.3371 - accuracy: 0.5352 - val_loss: 1.1867 - val_accuracy: 0.6273\n",
            "Epoch 2/3\n",
            "94/94 [==============================] - 63s 675ms/step - loss: 1.1448 - accuracy: 0.6932 - val_loss: 1.0915 - val_accuracy: 0.7394\n",
            "Epoch 3/3\n",
            "94/94 [==============================] - 63s 675ms/step - loss: 1.0835 - accuracy: 0.7380 - val_loss: 1.0312 - val_accuracy: 0.7749\n"
          ]
        }
      ]
    },
    {
      "cell_type": "code",
      "source": [
        "model_5_pred_probs = model_5.predict(val_char_token_pos_dataset)\n",
        "model_5_preds = tf.argmax(model_5_pred_probs, axis =1)"
      ],
      "metadata": {
        "id": "lnfKNBRoXAGv"
      },
      "execution_count": 172,
      "outputs": []
    },
    {
      "cell_type": "code",
      "source": [
        "model_5_results = calculate_results(val_labels_encoded, model_5_preds)\n",
        "model_5_results"
      ],
      "metadata": {
        "colab": {
          "base_uri": "https://localhost:8080/"
        },
        "id": "SXimiPPFWnqj",
        "outputId": "1f2cea29-c51a-4fc6-853c-c160455a5d59"
      },
      "execution_count": 175,
      "outputs": [
        {
          "output_type": "execute_result",
          "data": {
            "text/plain": [
              "{'accuracy': 77.23752151462995,\n",
              " 'f1': 0.7662041775233887,\n",
              " 'precision': 0.7807312628871227,\n",
              " 'recall': 0.7723752151462995}"
            ]
          },
          "metadata": {},
          "execution_count": 175
        }
      ]
    },
    {
      "cell_type": "code",
      "source": [
        ""
      ],
      "metadata": {
        "id": "UtI7S523YCDN"
      },
      "execution_count": null,
      "outputs": []
    }
  ]
}