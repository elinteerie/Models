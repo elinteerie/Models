{
  "nbformat": 4,
  "nbformat_minor": 0,
  "metadata": {
    "colab": {
      "name": "Transfer Learning and  Feature Extraction",
      "provenance": [],
      "authorship_tag": "ABX9TyOG0kB0zU22bnQUlfAMPssp",
      "include_colab_link": true
    },
    "kernelspec": {
      "name": "python3",
      "display_name": "Python 3"
    },
    "language_info": {
      "name": "python"
    },
    "accelerator": "GPU",
    "gpuClass": "standard"
  },
  "cells": [
    {
      "cell_type": "markdown",
      "metadata": {
        "id": "view-in-github",
        "colab_type": "text"
      },
      "source": [
        "<a href=\"https://colab.research.google.com/github/elinteerie/Models/blob/main/Transfer_Learning_and_Feature_Extraction.ipynb\" target=\"_parent\"><img src=\"https://colab.research.google.com/assets/colab-badge.svg\" alt=\"Open In Colab\"/></a>"
      ]
    },
    {
      "cell_type": "markdown",
      "source": [
        "###Transfer Learning: Feature Extraction"
      ],
      "metadata": {
        "id": "Dq9kePj7H2Sz"
      }
    },
    {
      "cell_type": "code",
      "execution_count": 1,
      "metadata": {
        "id": "z8ogIZl088Ab"
      },
      "outputs": [],
      "source": [
        "import tensorflow as tf\n"
      ]
    },
    {
      "cell_type": "code",
      "source": [
        "import zipfile"
      ],
      "metadata": {
        "id": "foZhsshV9Ask"
      },
      "execution_count": 2,
      "outputs": []
    },
    {
      "cell_type": "code",
      "source": [
        "!wget https://storage.googleapis.com/ztm_tf_course/food_vision/10_food_classes_10_percent.zip\n",
        "\n",
        "\n",
        "#Unzip File\n",
        "zip_ref = zipfile.ZipFile('10_food_classes_10_percent.zip')\n",
        "zip_ref.extractall()\n",
        "zip_ref.close()"
      ],
      "metadata": {
        "colab": {
          "base_uri": "https://localhost:8080/"
        },
        "id": "Td9aJhrcIo0d",
        "outputId": "c7bcc73f-a67b-4099-9eaf-6f9dce943fd2"
      },
      "execution_count": 3,
      "outputs": [
        {
          "output_type": "stream",
          "name": "stdout",
          "text": [
            "--2022-06-19 17:40:31--  https://storage.googleapis.com/ztm_tf_course/food_vision/10_food_classes_10_percent.zip\n",
            "Resolving storage.googleapis.com (storage.googleapis.com)... 172.217.194.128, 142.250.4.128, 74.125.200.128, ...\n",
            "Connecting to storage.googleapis.com (storage.googleapis.com)|172.217.194.128|:443... connected.\n",
            "HTTP request sent, awaiting response... 200 OK\n",
            "Length: 168546183 (161M) [application/zip]\n",
            "Saving to: ‘10_food_classes_10_percent.zip’\n",
            "\n",
            "10_food_classes_10_ 100%[===================>] 160.74M  60.7MB/s    in 2.6s    \n",
            "\n",
            "2022-06-19 17:40:34 (60.7 MB/s) - ‘10_food_classes_10_percent.zip’ saved [168546183/168546183]\n",
            "\n"
          ]
        }
      ]
    },
    {
      "cell_type": "code",
      "source": [
        "import os"
      ],
      "metadata": {
        "id": "7i4DVAFgJD3q"
      },
      "execution_count": 4,
      "outputs": []
    },
    {
      "cell_type": "code",
      "source": [
        "for dirpath, dirnames, filenames in os.walk('10_food_classes_10_percent'):\n",
        "  print(f'There are {len(dirnames)} directories and {len(filenames)} images in {dirpath}. ')"
      ],
      "metadata": {
        "colab": {
          "base_uri": "https://localhost:8080/"
        },
        "id": "M-hx6WxTJbGA",
        "outputId": "5036a56a-9626-42c2-d821-4673e83c7f98"
      },
      "execution_count": 5,
      "outputs": [
        {
          "output_type": "stream",
          "name": "stdout",
          "text": [
            "There are 2 directories and 0 images in 10_food_classes_10_percent. \n",
            "There are 10 directories and 0 images in 10_food_classes_10_percent/train. \n",
            "There are 0 directories and 75 images in 10_food_classes_10_percent/train/fried_rice. \n",
            "There are 0 directories and 75 images in 10_food_classes_10_percent/train/ramen. \n",
            "There are 0 directories and 75 images in 10_food_classes_10_percent/train/chicken_curry. \n",
            "There are 0 directories and 75 images in 10_food_classes_10_percent/train/grilled_salmon. \n",
            "There are 0 directories and 75 images in 10_food_classes_10_percent/train/chicken_wings. \n",
            "There are 0 directories and 75 images in 10_food_classes_10_percent/train/sushi. \n",
            "There are 0 directories and 75 images in 10_food_classes_10_percent/train/pizza. \n",
            "There are 0 directories and 75 images in 10_food_classes_10_percent/train/ice_cream. \n",
            "There are 0 directories and 75 images in 10_food_classes_10_percent/train/hamburger. \n",
            "There are 0 directories and 75 images in 10_food_classes_10_percent/train/steak. \n",
            "There are 10 directories and 0 images in 10_food_classes_10_percent/test. \n",
            "There are 0 directories and 250 images in 10_food_classes_10_percent/test/fried_rice. \n",
            "There are 0 directories and 250 images in 10_food_classes_10_percent/test/ramen. \n",
            "There are 0 directories and 250 images in 10_food_classes_10_percent/test/chicken_curry. \n",
            "There are 0 directories and 250 images in 10_food_classes_10_percent/test/grilled_salmon. \n",
            "There are 0 directories and 250 images in 10_food_classes_10_percent/test/chicken_wings. \n",
            "There are 0 directories and 250 images in 10_food_classes_10_percent/test/sushi. \n",
            "There are 0 directories and 250 images in 10_food_classes_10_percent/test/pizza. \n",
            "There are 0 directories and 250 images in 10_food_classes_10_percent/test/ice_cream. \n",
            "There are 0 directories and 250 images in 10_food_classes_10_percent/test/hamburger. \n",
            "There are 0 directories and 250 images in 10_food_classes_10_percent/test/steak. \n"
          ]
        }
      ]
    },
    {
      "cell_type": "code",
      "source": [
        "from tensorflow.keras.preprocessing.image import ImageDataGenerator"
      ],
      "metadata": {
        "id": "bG9Ryl9hKL6g"
      },
      "execution_count": 6,
      "outputs": []
    },
    {
      "cell_type": "code",
      "source": [
        "IMAGE_SHAPE = (224, 224)\n",
        "BATCH_SIZE = 32\n",
        "\n"
      ],
      "metadata": {
        "id": "VL-EZAISK50s"
      },
      "execution_count": 7,
      "outputs": []
    },
    {
      "cell_type": "code",
      "source": [
        "train_dir ='/content/10_food_classes_10_percent/train'\n",
        "test_dir = '/content/10_food_classes_10_percent/test'\n",
        "\n",
        "train_datagen = ImageDataGenerator(rescale =1/225.)\n",
        "\n",
        "test_datagen= ImageDataGenerator(rescale =1/225.)"
      ],
      "metadata": {
        "id": "wxn64Mu9LL25"
      },
      "execution_count": 8,
      "outputs": []
    },
    {
      "cell_type": "code",
      "source": [
        "print('Training Images:')\n",
        "train_data_10_percent = train_datagen.flow_from_directory(train_dir,\n",
        "                                                          target_size =IMAGE_SHAPE,\n",
        "                                                          batch_size =BATCH_SIZE,\n",
        "                                                          class_mode ='categorical',\n",
        "                                                          )\n",
        "print('Testing Images:')\n",
        "test_data = test_datagen.flow_from_directory(test_dir,\n",
        "                                                          target_size =IMAGE_SHAPE,\n",
        "                                                          batch_size =BATCH_SIZE,\n",
        "                                                          class_mode ='categorical',\n",
        "                                                          )"
      ],
      "metadata": {
        "colab": {
          "base_uri": "https://localhost:8080/"
        },
        "id": "UrY03dlfL6xF",
        "outputId": "479347a4-6db3-45a0-8f81-67d5ff98a37c"
      },
      "execution_count": 9,
      "outputs": [
        {
          "output_type": "stream",
          "name": "stdout",
          "text": [
            "Training Images:\n",
            "Found 750 images belonging to 10 classes.\n",
            "Testing Images:\n",
            "Found 2500 images belonging to 10 classes.\n"
          ]
        }
      ]
    },
    {
      "cell_type": "markdown",
      "source": [
        "####Setting  up Callbacks "
      ],
      "metadata": {
        "id": "wWmu3NptM1OJ"
      }
    },
    {
      "cell_type": "code",
      "source": [
        "#Create TensorBoard Callback\n",
        "\n",
        "import datetime\n",
        "\n",
        "def create_tensorboard_callback(dir_name, experiment_name):\n",
        "  log_dir = dir_name + '/' + experiment_name + '/' + datetime.datetime.now().strftime('%Y%m%d-%H%M%S')\n",
        "  tensorboard_callback= tf.keras.callbacks.TensorBoard(log_dir=log_dir)\n",
        "  print(f'Saving TensorBoard log files to: {log_dir} ')\n",
        "  return tensorboard_callback\n"
      ],
      "metadata": {
        "id": "dxoIT2RTNm_K"
      },
      "execution_count": 10,
      "outputs": []
    },
    {
      "cell_type": "markdown",
      "source": [
        "###Creating Models using Tensorflow Hub"
      ],
      "metadata": {
        "id": "AznY0nIvRBWk"
      }
    },
    {
      "cell_type": "code",
      "source": [
        "efficientnet_url = 'https://tfhub.dev/tensorflow/efficientnet/b0/feature-vector/1'\n",
        "resnet_url = 'https://tfhub.dev/google/imagenet/resnet_v2_50/feature_vector/5'"
      ],
      "metadata": {
        "id": "6SG7yl0wRlrJ"
      },
      "execution_count": 11,
      "outputs": []
    },
    {
      "cell_type": "code",
      "source": [
        "#Import dependencies\n",
        "\n",
        "import tensorflow as tf\n",
        "import tensorflow_hub as hub\n",
        "from tensorflow.keras  import layers"
      ],
      "metadata": {
        "id": "4bH3M3fxVJy5"
      },
      "execution_count": 12,
      "outputs": []
    },
    {
      "cell_type": "code",
      "source": [
        "#Create Model Function to create a model from url\n",
        "def create_model(model_url, num_classes = 10):\n",
        "  '''\n",
        "  Takes a TensorFlow Hub Url and creates a Keras Sequential Model wwith it\n",
        "  \n",
        "  Args: \n",
        "    model_url(str): A TensorFlow hub feature extraction url.\n",
        "    num_classes(int): Number of out neurons, number of target classes default 10\n",
        "  \n",
        "  Returns: uncompiled model as extractor \n",
        "\n",
        "  '''\n",
        "  feature_extractor_layer = hub.KerasLayer(model_url, \n",
        "                                           trainable = False,\n",
        "                                           name ='feature_extraction_layer',\n",
        "                                           input_shape = IMAGE_SHAPE +(3,))\n",
        "  model = tf.keras.Sequential([feature_extractor_layer,layers.Dense(num_classes, activation ='softmax', name ='output_layer')])\n",
        "\n",
        "  return model"
      ],
      "metadata": {
        "id": "1ZpWWfEtYjRB"
      },
      "execution_count": 13,
      "outputs": []
    },
    {
      "cell_type": "code",
      "source": [
        "##Create Resnet Tensorflow model\n",
        "resnet_model = create_model(resnet_url, num_classes= train_data_10_percent.num_classes)\n"
      ],
      "metadata": {
        "id": "ZzdbTNCMYtox"
      },
      "execution_count": 14,
      "outputs": []
    },
    {
      "cell_type": "code",
      "source": [
        "resnet_model.summary()"
      ],
      "metadata": {
        "colab": {
          "base_uri": "https://localhost:8080/"
        },
        "id": "0jUyPjuwb4bt",
        "outputId": "ebad6177-a087-4808-dc1d-d2a3a38bf155"
      },
      "execution_count": 15,
      "outputs": [
        {
          "output_type": "stream",
          "name": "stdout",
          "text": [
            "Model: \"sequential\"\n",
            "_________________________________________________________________\n",
            " Layer (type)                Output Shape              Param #   \n",
            "=================================================================\n",
            " feature_extraction_layer (K  (None, 2048)             23564800  \n",
            " erasLayer)                                                      \n",
            "                                                                 \n",
            " output_layer (Dense)        (None, 10)                20490     \n",
            "                                                                 \n",
            "=================================================================\n",
            "Total params: 23,585,290\n",
            "Trainable params: 20,490\n",
            "Non-trainable params: 23,564,800\n",
            "_________________________________________________________________\n"
          ]
        }
      ]
    },
    {
      "cell_type": "code",
      "source": [
        "resnet_model.compile(loss='categorical_crossentropy', \n",
        "                     optimizer = tf.keras.optimizers.Adam(),\n",
        "                     metrics = ['accuracy']\n",
        "                     )"
      ],
      "metadata": {
        "id": "d7A6072Ddvir"
      },
      "execution_count": 16,
      "outputs": []
    },
    {
      "cell_type": "code",
      "source": [
        "resnet_history = resnet_model.fit(train_data_10_percent, epochs = 5, \n",
        "                                steps_per_epoch =len(train_data_10_percent), validation_data= test_data,\n",
        "                                callbacks =[create_tensorboard_callback(dir_name='tensorflow_hub', experiment_name='resnetv250')]\n",
        "                                )"
      ],
      "metadata": {
        "colab": {
          "base_uri": "https://localhost:8080/"
        },
        "id": "wN83tejEeQEf",
        "outputId": "82fa5311-d938-44ea-949b-21fc1e208016"
      },
      "execution_count": 17,
      "outputs": [
        {
          "output_type": "stream",
          "name": "stdout",
          "text": [
            "Saving TensorBoard log files to: tensorflow_hub/resnetv250/20220619-174049 \n",
            "Epoch 1/5\n",
            "24/24 [==============================] - 31s 732ms/step - loss: 1.8674 - accuracy: 0.3880 - val_loss: 1.1723 - val_accuracy: 0.6428\n",
            "Epoch 2/5\n",
            "24/24 [==============================] - 16s 687ms/step - loss: 0.8871 - accuracy: 0.7427 - val_loss: 0.8383 - val_accuracy: 0.7372\n",
            "Epoch 3/5\n",
            "24/24 [==============================] - 19s 813ms/step - loss: 0.6059 - accuracy: 0.8320 - val_loss: 0.7496 - val_accuracy: 0.7548\n",
            "Epoch 4/5\n",
            "24/24 [==============================] - 16s 672ms/step - loss: 0.4654 - accuracy: 0.8813 - val_loss: 0.7112 - val_accuracy: 0.7624\n",
            "Epoch 5/5\n",
            "24/24 [==============================] - 16s 667ms/step - loss: 0.3702 - accuracy: 0.9173 - val_loss: 0.6927 - val_accuracy: 0.7704\n"
          ]
        }
      ]
    },
    {
      "cell_type": "code",
      "source": [
        ""
      ],
      "metadata": {
        "id": "p75R2dJ8iwys"
      },
      "execution_count": 17,
      "outputs": []
    },
    {
      "cell_type": "markdown",
      "source": [
        "####Plot Loss Curve For Transfer Learning"
      ],
      "metadata": {
        "id": "oBEwQ3GSe_mC"
      }
    },
    {
      "cell_type": "code",
      "source": [
        "import matplotlib.pyplot as plt\n",
        "\n",
        "\n",
        "#Plot validation training Curve\n",
        "def plot_loss_curve(history):\n",
        "  '''\n",
        "  Return separate loss curves\n",
        "  '''\n",
        "\n",
        "  loss = history.history['loss']\n",
        "  val_loss = history.history['val_loss']\n",
        "\n",
        "  accuracy= history.history['accuracy']\n",
        "  val_accuracy = history.history['val_accuracy']\n",
        "\n",
        "  epochs = range(len(history.history['loss']))\n",
        "\n",
        "  ##Plot loss\n",
        "  plt.plot(epochs, loss, label='Training Loss')\n",
        "  plt.plot(epochs, val_loss, label = 'val_loss' )\n",
        "  plt.title('Loss')\n",
        "  plt.xlabel('epochs')\n",
        "  plt.legend()\n",
        "\n",
        "  #Plot Accuracy\n",
        "  plt.figure()\n",
        "  plt.plot(epochs, accuracy, label='Accuracy')\n",
        "  plt.plot(epochs, val_accuracy, label = 'val_loss' )\n",
        "  plt.title('Accuracy')\n",
        "  plt.xlabel('epochs')\n",
        "  plt.legend()"
      ],
      "metadata": {
        "id": "6X8LM4PViWEa"
      },
      "execution_count": 27,
      "outputs": []
    },
    {
      "cell_type": "code",
      "source": [
        "plot_loss_curve(resnet_history)"
      ],
      "metadata": {
        "colab": {
          "base_uri": "https://localhost:8080/",
          "height": 573
        },
        "id": "Mz8-jRivDy2l",
        "outputId": "0a821d9f-5b82-48b3-d202-b0550154ae8f"
      },
      "execution_count": 28,
      "outputs": [
        {
          "output_type": "display_data",
          "data": {
            "text/plain": [
              "<Figure size 432x288 with 1 Axes>"
            ],
            "image/png": "[encoded data removed]"
          },
          "metadata": {
            "needs_background": "light"
          }
        },
        {
          "output_type": "display_data",
          "data": {
            "text/plain": [
              "<Figure size 432x288 with 1 Axes>"
            ],
            "image/png": "[encoded data removed]"
          },
          "metadata": {
            "needs_background": "light"
          }
        }
      ]
    },
    {
      "cell_type": "markdown",
      "source": [
        "###Create EfficientNEt"
      ],
      "metadata": {
        "id": "VknPobdPD4eT"
      }
    },
    {
      "cell_type": "code",
      "source": [
        "netefficient_model = create_model(efficientnet_url, num_classes= train_data_10_percent.num_classes)\n"
      ],
      "metadata": {
        "id": "mq276pUzFMVb"
      },
      "execution_count": 29,
      "outputs": []
    },
    {
      "cell_type": "code",
      "source": [
        "netefficient_model.summary()"
      ],
      "metadata": {
        "colab": {
          "base_uri": "https://localhost:8080/"
        },
        "id": "AHQ3qJq3FilL",
        "outputId": "1a6511d7-4a92-4083-f8cc-13c39ce89c8d"
      },
      "execution_count": 30,
      "outputs": [
        {
          "output_type": "stream",
          "name": "stdout",
          "text": [
            "Model: \"sequential_1\"\n",
            "_________________________________________________________________\n",
            " Layer (type)                Output Shape              Param #   \n",
            "=================================================================\n",
            " feature_extraction_layer (K  (None, 1280)             4049564   \n",
            " erasLayer)                                                      \n",
            "                                                                 \n",
            " output_layer (Dense)        (None, 10)                12810     \n",
            "                                                                 \n",
            "=================================================================\n",
            "Total params: 4,062,374\n",
            "Trainable params: 12,810\n",
            "Non-trainable params: 4,049,564\n",
            "_________________________________________________________________\n"
          ]
        }
      ]
    },
    {
      "cell_type": "code",
      "source": [
        "netefficient_model.compile(loss='categorical_crossentropy', \n",
        "                     optimizer = tf.keras.optimizers.Adam(),\n",
        "                     metrics = ['accuracy']\n",
        "                     )"
      ],
      "metadata": {
        "id": "k1w9PVGFFtE8"
      },
      "execution_count": 31,
      "outputs": []
    },
    {
      "cell_type": "code",
      "source": [
        "netefficient_history = netefficient_model.fit(train_data_10_percent, epochs = 5, \n",
        "                                steps_per_epoch =len(train_data_10_percent), validation_data= test_data,\n",
        "                                callbacks =[create_tensorboard_callback(dir_name='tensorflow_hub', experiment_name='efficient50')]\n",
        "                                )"
      ],
      "metadata": {
        "colab": {
          "base_uri": "https://localhost:8080/"
        },
        "id": "WOeXzTAJF8FY",
        "outputId": "a357a94a-34cd-42f2-8832-d9e3a2d25f95"
      },
      "execution_count": 33,
      "outputs": [
        {
          "output_type": "stream",
          "name": "stdout",
          "text": [
            "Saving TensorBoard log files to: tensorflow_hub/efficient50/20220619-175520 \n",
            "Epoch 1/5\n",
            "24/24 [==============================] - 17s 669ms/step - loss: 0.4705 - accuracy: 0.9040 - val_loss: 0.5597 - val_accuracy: 0.8524\n",
            "Epoch 2/5\n",
            "24/24 [==============================] - 15s 653ms/step - loss: 0.4134 - accuracy: 0.9160 - val_loss: 0.5272 - val_accuracy: 0.8604\n",
            "Epoch 3/5\n",
            "24/24 [==============================] - 15s 649ms/step - loss: 0.3688 - accuracy: 0.9280 - val_loss: 0.5081 - val_accuracy: 0.8636\n",
            "Epoch 4/5\n",
            "24/24 [==============================] - 15s 642ms/step - loss: 0.3309 - accuracy: 0.9453 - val_loss: 0.4905 - val_accuracy: 0.8588\n",
            "Epoch 5/5\n",
            "24/24 [==============================] - 15s 647ms/step - loss: 0.2982 - accuracy: 0.9520 - val_loss: 0.4759 - val_accuracy: 0.8652\n"
          ]
        }
      ]
    },
    {
      "cell_type": "code",
      "source": [
        "plot_loss_curve(netefficient_history)"
      ],
      "metadata": {
        "colab": {
          "base_uri": "https://localhost:8080/",
          "height": 573
        },
        "id": "1mwCc9RbGFCL",
        "outputId": "728d1457-7670-47f6-92dc-47d6b8a4d28f"
      },
      "execution_count": 34,
      "outputs": [
        {
          "output_type": "display_data",
          "data": {
            "text/plain": [
              "<Figure size 432x288 with 1 Axes>"
            ],
            "image/png": "[encoded data removed]"
          },
          "metadata": {
            "needs_background": "light"
          }
        },
        {
          "output_type": "display_data",
          "data": {
            "text/plain": [
              "<Figure size 432x288 with 1 Axes>"
            ],
            "image/png": "[encoded data removed]"
          },
          "metadata": {
            "needs_background": "light"
          }
        }
      ]
    },
    {
      "cell_type": "markdown",
      "source": [
        "###Using TensorBoard"
      ],
      "metadata": {
        "id": "sl07nsUwHmxd"
      }
    },
    {
      "cell_type": "code",
      "source": [
        "#Upload tensorboard records\n",
        "\n",
        "!tensorboard dev upload --logdir ./tensorflow_hub/ \\\n",
        "  --name 'EfficientNetB0 vs. resnet_v2_50' \\\n",
        "  --description 'Conparing two different model' \\\n",
        "  --one_shot "
      ],
      "metadata": {
        "colab": {
          "base_uri": "https://localhost:8080/"
        },
        "id": "1JgN_PYUKYkb",
        "outputId": "e8a0cc00-ab13-41b1-e018-4597c2554105"
      },
      "execution_count": 37,
      "outputs": [
        {
          "output_type": "stream",
          "name": "stdout",
          "text": [
            "\n",
            "***** TensorBoard Uploader *****\n",
            "\n",
            "This will upload your TensorBoard logs to https://tensorboard.dev/ from\n",
            "the following directory:\n",
            "\n",
            "./tensorflow_hub/\n",
            "\n",
            "This TensorBoard will be visible to everyone. Do not upload sensitive\n",
            "data.\n",
            "\n",
            "Your use of this service is subject to Google's Terms of Service\n",
            "<https://policies.google.com/terms> and Privacy Policy\n",
            "<https://policies.google.com/privacy>, and TensorBoard.dev's Terms of Service\n",
            "<https://tensorboard.dev/policy/terms/>.\n",
            "\n",
            "This notice will not be shown again while you are logged into the uploader.\n",
            "To log out, run `tensorboard dev auth revoke`.\n",
            "\n",
            "Continue? (yes/NO) yes\n",
            "\n",
            "Please visit this URL to authorize this application: https://accounts.google.com/o/oauth2/auth?response_type=code&client_id=373649185512-8v619h5kft38l4456nm2dj4ubeqsrvh6.apps.googleusercontent.com&redirect_uri=urn%3Aietf%3Awg%3Aoauth%3A2.0%3Aoob&scope=openid+https%3A%2F%2Fwww.googleapis.com%2Fauth%2Fuserinfo.email&state=GvKc44WOUzRMmjLvff2MaZffpGISl5&prompt=consent&access_type=offline\n",
            "Enter the authorization code: 4/1AX4XfWiNeyZRnlS9GEV9v840GP5cIOPJ8cen1Ih7B3POutfkjPeHdL7oUcA\n",
            "\n",
            "\n",
            "New experiment created. View your TensorBoard at: https://tensorboard.dev/experiment/Z5pCGiVpTPmgrIqzhapSdA/\n",
            "\n",
            "\u001b[1m[2022-06-19T18:21:24]\u001b[0m Started scanning logdir.\n",
            "\u001b[1m[2022-06-19T18:21:29]\u001b[0m Total uploaded: 60 scalars, 0 tensors, 2 binary objects (7.8 MB)\n",
            "\u001b[1m[2022-06-19T18:21:29]\u001b[0m Done scanning logdir.\n",
            "\n",
            "\n",
            "Done. View your TensorBoard at https://tensorboard.dev/experiment/Z5pCGiVpTPmgrIqzhapSdA/\n"
          ]
        }
      ]
    },
    {
      "cell_type": "code",
      "source": [
        "!tensorboard dev list"
      ],
      "metadata": {
        "colab": {
          "base_uri": "https://localhost:8080/"
        },
        "id": "VxIV_QlJMDDR",
        "outputId": "15823410-c74c-45d9-a90e-7f754ebaf831"
      },
      "execution_count": 38,
      "outputs": [
        {
          "output_type": "stream",
          "name": "stdout",
          "text": [
            "https://tensorboard.dev/experiment/Z5pCGiVpTPmgrIqzhapSdA/\n",
            "\tName                 EfficientNetB0 vs. resnet_v2_50\n",
            "\tDescription          Conparing two different model\n",
            "\tId                   Z5pCGiVpTPmgrIqzhapSdA\n",
            "\tCreated              2022-06-19 18:21:24 (6 minutes ago)\n",
            "\tUpdated              2022-06-19 18:21:29 (6 minutes ago)\n",
            "\tRuns                 4\n",
            "\tTags                 5\n",
            "\tScalars              60\n",
            "\tTensor bytes         0\n",
            "\tBinary object bytes  8149928\n",
            "Total: 1 experiment(s)\n"
          ]
        }
      ]
    },
    {
      "cell_type": "code",
      "source": [
        ""
      ],
      "metadata": {
        "id": "PpkjV3lRON2c"
      },
      "execution_count": null,
      "outputs": []
    }
  ]
}