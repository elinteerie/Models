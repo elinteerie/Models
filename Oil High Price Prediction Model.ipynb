{
 "cells": [
  {
   "cell_type": "code",
   "execution_count": null,
   "id": "899ff820",
   "metadata": {},
   "outputs": [],
   "source": [
    "#Daily historical Brent Oil Prices available on the U.S. Energy Information Admin\n"
   ]
  },
  {
   "cell_type": "code",
   "execution_count": 18,
   "id": "d68f89ec",
   "metadata": {},
   "outputs": [],
   "source": [
    "import pandas as pd\n",
    "import matplotlib.pyplot as plt\n",
    "import numpy as np\n",
    "\n"
   ]
  },
  {
   "cell_type": "code",
   "execution_count": 13,
   "id": "5bd4af87",
   "metadata": {},
   "outputs": [],
   "source": [
    "brent = pd.read_csv('csv files/brent_oil.csv', parse_dates=['Date'])"
   ]
  },
  {
   "cell_type": "code",
   "execution_count": 41,
   "id": "10777df1",
   "metadata": {},
   "outputs": [
    {
     "data": {
      "text/plain": [
       "Date      0\n",
       "Open      0\n",
       "High      0\n",
       "Low       0\n",
       "Close     0\n",
       "Volume    0\n",
       "dtype: int64"
      ]
     },
     "execution_count": 41,
     "metadata": {},
     "output_type": "execute_result"
    }
   ],
   "source": [
    "brent.isna().sum()"
   ]
  },
  {
   "cell_type": "code",
   "execution_count": 10,
   "id": "0e6d6389",
   "metadata": {
    "scrolled": true
   },
   "outputs": [
    {
     "data": {
      "text/html": [
       "<div>\n",
       "<style scoped>\n",
       "    .dataframe tbody tr th:only-of-type {\n",
       "        vertical-align: middle;\n",
       "    }\n",
       "\n",
       "    .dataframe tbody tr th {\n",
       "        vertical-align: top;\n",
       "    }\n",
       "\n",
       "    .dataframe thead th {\n",
       "        text-align: right;\n",
       "    }\n",
       "</style>\n",
       "<table border=\"1\" class=\"dataframe\">\n",
       "  <thead>\n",
       "    <tr style=\"text-align: right;\">\n",
       "      <th></th>\n",
       "      <th>Date</th>\n",
       "      <th>Open</th>\n",
       "      <th>High</th>\n",
       "      <th>Low</th>\n",
       "      <th>Close</th>\n",
       "      <th>Volume</th>\n",
       "    </tr>\n",
       "  </thead>\n",
       "  <tbody>\n",
       "    <tr>\n",
       "      <th>0</th>\n",
       "      <td>2000-01-04</td>\n",
       "      <td>23.90</td>\n",
       "      <td>24.70</td>\n",
       "      <td>23.89</td>\n",
       "      <td>24.39</td>\n",
       "      <td>32509</td>\n",
       "    </tr>\n",
       "    <tr>\n",
       "      <th>1</th>\n",
       "      <td>2000-01-05</td>\n",
       "      <td>24.25</td>\n",
       "      <td>24.37</td>\n",
       "      <td>23.70</td>\n",
       "      <td>23.73</td>\n",
       "      <td>30310</td>\n",
       "    </tr>\n",
       "    <tr>\n",
       "      <th>2</th>\n",
       "      <td>2000-01-06</td>\n",
       "      <td>23.55</td>\n",
       "      <td>24.22</td>\n",
       "      <td>23.35</td>\n",
       "      <td>23.62</td>\n",
       "      <td>44662</td>\n",
       "    </tr>\n",
       "    <tr>\n",
       "      <th>3</th>\n",
       "      <td>2000-01-07</td>\n",
       "      <td>23.57</td>\n",
       "      <td>23.98</td>\n",
       "      <td>23.05</td>\n",
       "      <td>23.09</td>\n",
       "      <td>34826</td>\n",
       "    </tr>\n",
       "    <tr>\n",
       "      <th>4</th>\n",
       "      <td>2000-01-10</td>\n",
       "      <td>23.04</td>\n",
       "      <td>23.78</td>\n",
       "      <td>23.04</td>\n",
       "      <td>23.73</td>\n",
       "      <td>26388</td>\n",
       "    </tr>\n",
       "    <tr>\n",
       "      <th>...</th>\n",
       "      <td>...</td>\n",
       "      <td>...</td>\n",
       "      <td>...</td>\n",
       "      <td>...</td>\n",
       "      <td>...</td>\n",
       "      <td>...</td>\n",
       "    </tr>\n",
       "    <tr>\n",
       "      <th>5713</th>\n",
       "      <td>2022-04-04</td>\n",
       "      <td>104.08</td>\n",
       "      <td>108.68</td>\n",
       "      <td>102.89</td>\n",
       "      <td>107.53</td>\n",
       "      <td>218681</td>\n",
       "    </tr>\n",
       "    <tr>\n",
       "      <th>5714</th>\n",
       "      <td>2022-04-05</td>\n",
       "      <td>108.51</td>\n",
       "      <td>109.90</td>\n",
       "      <td>104.53</td>\n",
       "      <td>106.64</td>\n",
       "      <td>203055</td>\n",
       "    </tr>\n",
       "    <tr>\n",
       "      <th>5715</th>\n",
       "      <td>2022-04-06</td>\n",
       "      <td>105.70</td>\n",
       "      <td>108.67</td>\n",
       "      <td>100.54</td>\n",
       "      <td>101.07</td>\n",
       "      <td>286516</td>\n",
       "    </tr>\n",
       "    <tr>\n",
       "      <th>5716</th>\n",
       "      <td>2022-04-07</td>\n",
       "      <td>101.78</td>\n",
       "      <td>103.59</td>\n",
       "      <td>98.41</td>\n",
       "      <td>100.58</td>\n",
       "      <td>296034</td>\n",
       "    </tr>\n",
       "    <tr>\n",
       "      <th>5717</th>\n",
       "      <td>2022-04-08</td>\n",
       "      <td>101.42</td>\n",
       "      <td>103.30</td>\n",
       "      <td>99.65</td>\n",
       "      <td>102.78</td>\n",
       "      <td>217643</td>\n",
       "    </tr>\n",
       "  </tbody>\n",
       "</table>\n",
       "<p>5718 rows × 6 columns</p>\n",
       "</div>"
      ],
      "text/plain": [
       "            Date    Open    High     Low   Close  Volume\n",
       "0     2000-01-04   23.90   24.70   23.89   24.39   32509\n",
       "1     2000-01-05   24.25   24.37   23.70   23.73   30310\n",
       "2     2000-01-06   23.55   24.22   23.35   23.62   44662\n",
       "3     2000-01-07   23.57   23.98   23.05   23.09   34826\n",
       "4     2000-01-10   23.04   23.78   23.04   23.73   26388\n",
       "...          ...     ...     ...     ...     ...     ...\n",
       "5713  2022-04-04  104.08  108.68  102.89  107.53  218681\n",
       "5714  2022-04-05  108.51  109.90  104.53  106.64  203055\n",
       "5715  2022-04-06  105.70  108.67  100.54  101.07  286516\n",
       "5716  2022-04-07  101.78  103.59   98.41  100.58  296034\n",
       "5717  2022-04-08  101.42  103.30   99.65  102.78  217643\n",
       "\n",
       "[5718 rows x 6 columns]"
      ]
     },
     "execution_count": 10,
     "metadata": {},
     "output_type": "execute_result"
    }
   ],
   "source": [
    "brent"
   ]
  },
  {
   "cell_type": "code",
   "execution_count": 46,
   "id": "0035498a",
   "metadata": {},
   "outputs": [],
   "source": [
    "brent['Year']=brent.Date.dt.year"
   ]
  },
  {
   "cell_type": "code",
   "execution_count": 47,
   "id": "00350ba1",
   "metadata": {},
   "outputs": [],
   "source": [
    "brent['Day']=brent.Date.dt.day"
   ]
  },
  {
   "cell_type": "code",
   "execution_count": 49,
   "id": "65154275",
   "metadata": {},
   "outputs": [],
   "source": [
    "brent['Month']=brent.Date.dt.month"
   ]
  },
  {
   "cell_type": "code",
   "execution_count": 51,
   "id": "a77d73c5",
   "metadata": {},
   "outputs": [],
   "source": [
    "brent.drop('Date', axis =1, inplace = True)"
   ]
  },
  {
   "cell_type": "code",
   "execution_count": 52,
   "id": "f4902d87",
   "metadata": {
    "scrolled": true
   },
   "outputs": [
    {
     "name": "stdout",
     "output_type": "stream",
     "text": [
      "<class 'pandas.core.frame.DataFrame'>\n",
      "RangeIndex: 5718 entries, 0 to 5717\n",
      "Data columns (total 8 columns):\n",
      " #   Column  Non-Null Count  Dtype  \n",
      "---  ------  --------------  -----  \n",
      " 0   Open    5718 non-null   float64\n",
      " 1   High    5718 non-null   float64\n",
      " 2   Low     5718 non-null   float64\n",
      " 3   Close   5718 non-null   float64\n",
      " 4   Volume  5718 non-null   int64  \n",
      " 5   Year    5718 non-null   int64  \n",
      " 6   Day     5718 non-null   int64  \n",
      " 7   Month   5718 non-null   int64  \n",
      "dtypes: float64(4), int64(4)\n",
      "memory usage: 357.5 KB\n"
     ]
    }
   ],
   "source": [
    "brent.info()"
   ]
  },
  {
   "cell_type": "markdown",
   "id": "a1c19e1d",
   "metadata": {},
   "source": [
    "# Lets Visualise"
   ]
  },
  {
   "cell_type": "code",
   "execution_count": 53,
   "id": "98402ac7",
   "metadata": {},
   "outputs": [],
   "source": [
    "de = brent['Year']"
   ]
  },
  {
   "cell_type": "code",
   "execution_count": 54,
   "id": "fff53a40",
   "metadata": {},
   "outputs": [
    {
     "data": {
      "text/plain": [
       "0       2000\n",
       "1       2000\n",
       "2       2000\n",
       "3       2000\n",
       "4       2000\n",
       "        ... \n",
       "5713    2022\n",
       "5714    2022\n",
       "5715    2022\n",
       "5716    2022\n",
       "5717    2022\n",
       "Name: Year, Length: 5718, dtype: int64"
      ]
     },
     "execution_count": 54,
     "metadata": {},
     "output_type": "execute_result"
    }
   ],
   "source": [
    "de"
   ]
  },
  {
   "cell_type": "code",
   "execution_count": 55,
   "id": "71a21245",
   "metadata": {},
   "outputs": [],
   "source": [
    "de1 = brent['Volume']"
   ]
  },
  {
   "cell_type": "code",
   "execution_count": 56,
   "id": "db581437",
   "metadata": {},
   "outputs": [
    {
     "data": {
      "text/plain": [
       "<BarContainer object of 5718 artists>"
      ]
     },
     "execution_count": 56,
     "metadata": {},
     "output_type": "execute_result"
    },
    {
     "data": {
      "image/png": "[encoded data removed]",
      "text/plain": [
       "<Figure size 432x288 with 1 Axes>"
      ]
     },
     "metadata": {
      "needs_background": "light"
     },
     "output_type": "display_data"
    }
   ],
   "source": [
    "plt.bar(de,de1)"
   ]
  },
  {
   "cell_type": "code",
   "execution_count": null,
   "id": "684ef5fb",
   "metadata": {},
   "outputs": [],
   "source": [
    "# Our Target will be to Predict the High for the Oil Price"
   ]
  },
  {
   "cell_type": "code",
   "execution_count": null,
   "id": "25c225f2",
   "metadata": {},
   "outputs": [],
   "source": [
    "#Split Data set"
   ]
  },
  {
   "cell_type": "code",
   "execution_count": 57,
   "id": "60f12261",
   "metadata": {},
   "outputs": [],
   "source": [
    "X = brent.drop('High', axis =1)\n",
    "y = brent['High']"
   ]
  },
  {
   "cell_type": "code",
   "execution_count": 58,
   "id": "8acdf192",
   "metadata": {},
   "outputs": [
    {
     "data": {
      "text/html": [
       "<div>\n",
       "<style scoped>\n",
       "    .dataframe tbody tr th:only-of-type {\n",
       "        vertical-align: middle;\n",
       "    }\n",
       "\n",
       "    .dataframe tbody tr th {\n",
       "        vertical-align: top;\n",
       "    }\n",
       "\n",
       "    .dataframe thead th {\n",
       "        text-align: right;\n",
       "    }\n",
       "</style>\n",
       "<table border=\"1\" class=\"dataframe\">\n",
       "  <thead>\n",
       "    <tr style=\"text-align: right;\">\n",
       "      <th></th>\n",
       "      <th>Open</th>\n",
       "      <th>Low</th>\n",
       "      <th>Close</th>\n",
       "      <th>Volume</th>\n",
       "      <th>Year</th>\n",
       "      <th>Day</th>\n",
       "      <th>Month</th>\n",
       "    </tr>\n",
       "  </thead>\n",
       "  <tbody>\n",
       "    <tr>\n",
       "      <th>0</th>\n",
       "      <td>23.90</td>\n",
       "      <td>23.89</td>\n",
       "      <td>24.39</td>\n",
       "      <td>32509</td>\n",
       "      <td>2000</td>\n",
       "      <td>4</td>\n",
       "      <td>1</td>\n",
       "    </tr>\n",
       "    <tr>\n",
       "      <th>1</th>\n",
       "      <td>24.25</td>\n",
       "      <td>23.70</td>\n",
       "      <td>23.73</td>\n",
       "      <td>30310</td>\n",
       "      <td>2000</td>\n",
       "      <td>5</td>\n",
       "      <td>1</td>\n",
       "    </tr>\n",
       "    <tr>\n",
       "      <th>2</th>\n",
       "      <td>23.55</td>\n",
       "      <td>23.35</td>\n",
       "      <td>23.62</td>\n",
       "      <td>44662</td>\n",
       "      <td>2000</td>\n",
       "      <td>6</td>\n",
       "      <td>1</td>\n",
       "    </tr>\n",
       "    <tr>\n",
       "      <th>3</th>\n",
       "      <td>23.57</td>\n",
       "      <td>23.05</td>\n",
       "      <td>23.09</td>\n",
       "      <td>34826</td>\n",
       "      <td>2000</td>\n",
       "      <td>7</td>\n",
       "      <td>1</td>\n",
       "    </tr>\n",
       "    <tr>\n",
       "      <th>4</th>\n",
       "      <td>23.04</td>\n",
       "      <td>23.04</td>\n",
       "      <td>23.73</td>\n",
       "      <td>26388</td>\n",
       "      <td>2000</td>\n",
       "      <td>10</td>\n",
       "      <td>1</td>\n",
       "    </tr>\n",
       "    <tr>\n",
       "      <th>...</th>\n",
       "      <td>...</td>\n",
       "      <td>...</td>\n",
       "      <td>...</td>\n",
       "      <td>...</td>\n",
       "      <td>...</td>\n",
       "      <td>...</td>\n",
       "      <td>...</td>\n",
       "    </tr>\n",
       "    <tr>\n",
       "      <th>5713</th>\n",
       "      <td>104.08</td>\n",
       "      <td>102.89</td>\n",
       "      <td>107.53</td>\n",
       "      <td>218681</td>\n",
       "      <td>2022</td>\n",
       "      <td>4</td>\n",
       "      <td>4</td>\n",
       "    </tr>\n",
       "    <tr>\n",
       "      <th>5714</th>\n",
       "      <td>108.51</td>\n",
       "      <td>104.53</td>\n",
       "      <td>106.64</td>\n",
       "      <td>203055</td>\n",
       "      <td>2022</td>\n",
       "      <td>5</td>\n",
       "      <td>4</td>\n",
       "    </tr>\n",
       "    <tr>\n",
       "      <th>5715</th>\n",
       "      <td>105.70</td>\n",
       "      <td>100.54</td>\n",
       "      <td>101.07</td>\n",
       "      <td>286516</td>\n",
       "      <td>2022</td>\n",
       "      <td>6</td>\n",
       "      <td>4</td>\n",
       "    </tr>\n",
       "    <tr>\n",
       "      <th>5716</th>\n",
       "      <td>101.78</td>\n",
       "      <td>98.41</td>\n",
       "      <td>100.58</td>\n",
       "      <td>296034</td>\n",
       "      <td>2022</td>\n",
       "      <td>7</td>\n",
       "      <td>4</td>\n",
       "    </tr>\n",
       "    <tr>\n",
       "      <th>5717</th>\n",
       "      <td>101.42</td>\n",
       "      <td>99.65</td>\n",
       "      <td>102.78</td>\n",
       "      <td>217643</td>\n",
       "      <td>2022</td>\n",
       "      <td>8</td>\n",
       "      <td>4</td>\n",
       "    </tr>\n",
       "  </tbody>\n",
       "</table>\n",
       "<p>5718 rows × 7 columns</p>\n",
       "</div>"
      ],
      "text/plain": [
       "        Open     Low   Close  Volume  Year  Day  Month\n",
       "0      23.90   23.89   24.39   32509  2000    4      1\n",
       "1      24.25   23.70   23.73   30310  2000    5      1\n",
       "2      23.55   23.35   23.62   44662  2000    6      1\n",
       "3      23.57   23.05   23.09   34826  2000    7      1\n",
       "4      23.04   23.04   23.73   26388  2000   10      1\n",
       "...      ...     ...     ...     ...   ...  ...    ...\n",
       "5713  104.08  102.89  107.53  218681  2022    4      4\n",
       "5714  108.51  104.53  106.64  203055  2022    5      4\n",
       "5715  105.70  100.54  101.07  286516  2022    6      4\n",
       "5716  101.78   98.41  100.58  296034  2022    7      4\n",
       "5717  101.42   99.65  102.78  217643  2022    8      4\n",
       "\n",
       "[5718 rows x 7 columns]"
      ]
     },
     "execution_count": 58,
     "metadata": {},
     "output_type": "execute_result"
    }
   ],
   "source": [
    "X"
   ]
  },
  {
   "cell_type": "code",
   "execution_count": 59,
   "id": "3f8c0cd0",
   "metadata": {},
   "outputs": [
    {
     "data": {
      "text/plain": [
       "0        24.70\n",
       "1        24.37\n",
       "2        24.22\n",
       "3        23.98\n",
       "4        23.78\n",
       "         ...  \n",
       "5713    108.68\n",
       "5714    109.90\n",
       "5715    108.67\n",
       "5716    103.59\n",
       "5717    103.30\n",
       "Name: High, Length: 5718, dtype: float64"
      ]
     },
     "execution_count": 59,
     "metadata": {},
     "output_type": "execute_result"
    }
   ],
   "source": [
    "y"
   ]
  },
  {
   "cell_type": "code",
   "execution_count": null,
   "id": "192a2684",
   "metadata": {},
   "outputs": [],
   "source": [
    "#Split Data Set to Train and test"
   ]
  },
  {
   "cell_type": "code",
   "execution_count": 60,
   "id": "a901b204",
   "metadata": {},
   "outputs": [],
   "source": [
    "from sklearn.model_selection import train_test_split"
   ]
  },
  {
   "cell_type": "code",
   "execution_count": 61,
   "id": "df08a70c",
   "metadata": {},
   "outputs": [],
   "source": [
    "X_train, X_test, y_train, y_test =  train_test_split(X, y, test_size =0.2, random_state = 42)"
   ]
  },
  {
   "cell_type": "code",
   "execution_count": 62,
   "id": "ab2cfade",
   "metadata": {},
   "outputs": [
    {
     "data": {
      "text/plain": [
       "(4574, 7)"
      ]
     },
     "execution_count": 62,
     "metadata": {},
     "output_type": "execute_result"
    }
   ],
   "source": [
    "X_train.shape"
   ]
  },
  {
   "cell_type": "code",
   "execution_count": 63,
   "id": "35f70714",
   "metadata": {},
   "outputs": [
    {
     "data": {
      "text/plain": [
       "(4574,)"
      ]
     },
     "execution_count": 63,
     "metadata": {},
     "output_type": "execute_result"
    }
   ],
   "source": [
    "y_train.shape"
   ]
  },
  {
   "cell_type": "code",
   "execution_count": 64,
   "id": "a4169029",
   "metadata": {},
   "outputs": [
    {
     "data": {
      "text/plain": [
       "(1144, 7)"
      ]
     },
     "execution_count": 64,
     "metadata": {},
     "output_type": "execute_result"
    }
   ],
   "source": [
    "X_test.shape"
   ]
  },
  {
   "cell_type": "code",
   "execution_count": 65,
   "id": "be048810",
   "metadata": {},
   "outputs": [],
   "source": [
    "#Lets Bring in the model\n",
    "\n",
    "from sklearn.ensemble import RandomForestRegressor\n",
    "\n",
    "model = RandomForestRegressor()"
   ]
  },
  {
   "cell_type": "code",
   "execution_count": 66,
   "id": "18fb9155",
   "metadata": {},
   "outputs": [
    {
     "data": {
      "text/plain": [
       "RandomForestRegressor()"
      ]
     },
     "execution_count": 66,
     "metadata": {},
     "output_type": "execute_result"
    }
   ],
   "source": [
    "model.fit(X_train, y_train)"
   ]
  },
  {
   "cell_type": "code",
   "execution_count": 67,
   "id": "5401d372",
   "metadata": {},
   "outputs": [
    {
     "data": {
      "text/plain": [
       "0.9999452854620725"
      ]
     },
     "execution_count": 67,
     "metadata": {},
     "output_type": "execute_result"
    }
   ],
   "source": [
    "model.score(X_train, y_train)"
   ]
  },
  {
   "cell_type": "code",
   "execution_count": 68,
   "id": "f93a24ba",
   "metadata": {},
   "outputs": [
    {
     "data": {
      "text/plain": [
       "array([ 79.7364, 114.4816,  47.2547, ...,  57.8365, 110.8857,  63.3511])"
      ]
     },
     "execution_count": 68,
     "metadata": {},
     "output_type": "execute_result"
    }
   ],
   "source": [
    "model.predict(X_test)"
   ]
  },
  {
   "cell_type": "code",
   "execution_count": 71,
   "id": "d361816a",
   "metadata": {},
   "outputs": [
    {
     "data": {
      "text/plain": [
       "1966     79.54\n",
       "2857    114.18\n",
       "4326     46.99\n",
       "3558    111.55\n",
       "3213    106.99\n",
       "         ...  \n",
       "5270     43.45\n",
       "527      20.03\n",
       "3903     57.69\n",
       "3616    110.82\n",
       "1765     63.27\n",
       "Name: High, Length: 1144, dtype: float64"
      ]
     },
     "execution_count": 71,
     "metadata": {},
     "output_type": "execute_result"
    }
   ],
   "source": [
    "y_true"
   ]
  },
  {
   "cell_type": "code",
   "execution_count": 74,
   "id": "0fa97c24",
   "metadata": {},
   "outputs": [],
   "source": [
    "y_pred = model.predict(X_test)"
   ]
  },
  {
   "cell_type": "code",
   "execution_count": 70,
   "id": "0ee3e33b",
   "metadata": {},
   "outputs": [],
   "source": [
    "y_true = y_test"
   ]
  },
  {
   "cell_type": "code",
   "execution_count": null,
   "id": "a9d3ea23",
   "metadata": {},
   "outputs": [],
   "source": [
    "model.evaluate()"
   ]
  },
  {
   "cell_type": "code",
   "execution_count": 75,
   "id": "eed6276b",
   "metadata": {},
   "outputs": [
    {
     "data": {
      "text/plain": [
       "0.27972110256993116"
      ]
     },
     "execution_count": 75,
     "metadata": {},
     "output_type": "execute_result"
    }
   ],
   "source": [
    "#Evaluate Model\n",
    "\n",
    "from sklearn.metrics import mean_squared_error\n",
    "\n",
    "mean_squared_error(y_true, y_pred)"
   ]
  },
  {
   "cell_type": "code",
   "execution_count": 153,
   "id": "d4f5a1e1",
   "metadata": {},
   "outputs": [
    {
     "data": {
      "text/plain": [
       "0.9996865836068664"
      ]
     },
     "execution_count": 153,
     "metadata": {},
     "output_type": "execute_result"
    }
   ],
   "source": [
    "r2_score(y_true, y_pred)"
   ]
  },
  {
   "cell_type": "code",
   "execution_count": 109,
   "id": "4c7549f0",
   "metadata": {},
   "outputs": [],
   "source": [
    "from sklearn.metrics import r2_score\n",
    "r2_s= r2_score(y_true, y_pred)"
   ]
  },
  {
   "cell_type": "code",
   "execution_count": 152,
   "id": "21ff2e4f",
   "metadata": {},
   "outputs": [
    {
     "name": "stdout",
     "output_type": "stream",
     "text": [
      "The Model is 99.97%\n"
     ]
    }
   ],
   "source": [
    "print(f'The Model is {r2_s:.2%}')"
   ]
  },
  {
   "cell_type": "code",
   "execution_count": null,
   "id": "9d4ac3e0",
   "metadata": {},
   "outputs": [],
   "source": [
    "#Test on a New Data"
   ]
  },
  {
   "cell_type": "code",
   "execution_count": 159,
   "id": "754d38e7",
   "metadata": {},
   "outputs": [
    {
     "data": {
      "text/plain": [
       "(1144, 7)"
      ]
     },
     "execution_count": 159,
     "metadata": {},
     "output_type": "execute_result"
    }
   ],
   "source": [
    "X_test.shape"
   ]
  },
  {
   "cell_type": "code",
   "execution_count": 155,
   "id": "13d03bdc",
   "metadata": {},
   "outputs": [],
   "source": [
    "new_data = np.array([78.93, 76.22, 77.67, 100098, 2022, 14, 4])"
   ]
  },
  {
   "cell_type": "code",
   "execution_count": 160,
   "id": "0a80886b",
   "metadata": {},
   "outputs": [
    {
     "data": {
      "text/plain": [
       "(7,)"
      ]
     },
     "execution_count": 160,
     "metadata": {},
     "output_type": "execute_result"
    }
   ],
   "source": [
    "new_data.shape"
   ]
  },
  {
   "cell_type": "code",
   "execution_count": 175,
   "id": "d341442c",
   "metadata": {},
   "outputs": [
    {
     "data": {
      "text/html": [
       "<div>\n",
       "<style scoped>\n",
       "    .dataframe tbody tr th:only-of-type {\n",
       "        vertical-align: middle;\n",
       "    }\n",
       "\n",
       "    .dataframe tbody tr th {\n",
       "        vertical-align: top;\n",
       "    }\n",
       "\n",
       "    .dataframe thead th {\n",
       "        text-align: right;\n",
       "    }\n",
       "</style>\n",
       "<table border=\"1\" class=\"dataframe\">\n",
       "  <thead>\n",
       "    <tr style=\"text-align: right;\">\n",
       "      <th></th>\n",
       "      <th>0</th>\n",
       "    </tr>\n",
       "  </thead>\n",
       "  <tbody>\n",
       "    <tr>\n",
       "      <th>0</th>\n",
       "      <td>78.93</td>\n",
       "    </tr>\n",
       "    <tr>\n",
       "      <th>1</th>\n",
       "      <td>76.22</td>\n",
       "    </tr>\n",
       "    <tr>\n",
       "      <th>2</th>\n",
       "      <td>77.67</td>\n",
       "    </tr>\n",
       "    <tr>\n",
       "      <th>3</th>\n",
       "      <td>100098.00</td>\n",
       "    </tr>\n",
       "    <tr>\n",
       "      <th>4</th>\n",
       "      <td>2022.00</td>\n",
       "    </tr>\n",
       "    <tr>\n",
       "      <th>5</th>\n",
       "      <td>14.00</td>\n",
       "    </tr>\n",
       "    <tr>\n",
       "      <th>6</th>\n",
       "      <td>4.00</td>\n",
       "    </tr>\n",
       "  </tbody>\n",
       "</table>\n",
       "</div>"
      ],
      "text/plain": [
       "           0\n",
       "0      78.93\n",
       "1      76.22\n",
       "2      77.67\n",
       "3  100098.00\n",
       "4    2022.00\n",
       "5      14.00\n",
       "6       4.00"
      ]
     },
     "execution_count": 175,
     "metadata": {},
     "output_type": "execute_result"
    }
   ],
   "source": [
    "new_d = pd.DataFrame(new_data)\n",
    "new_d"
   ]
  },
  {
   "cell_type": "code",
   "execution_count": 173,
   "id": "1c70d6e6",
   "metadata": {},
   "outputs": [
    {
     "data": {
      "text/plain": [
       "2"
      ]
     },
     "execution_count": 173,
     "metadata": {},
     "output_type": "execute_result"
    }
   ],
   "source": [
    "new_d.ndim"
   ]
  },
  {
   "cell_type": "code",
   "execution_count": 179,
   "id": "9ed253a7",
   "metadata": {},
   "outputs": [
    {
     "data": {
      "text/plain": [
       "array([79.1783])"
      ]
     },
     "execution_count": 179,
     "metadata": {},
     "output_type": "execute_result"
    }
   ],
   "source": [
    "model.predict(new_d.T)"
   ]
  },
  {
   "cell_type": "code",
   "execution_count": null,
   "id": "971eb6bd",
   "metadata": {},
   "outputs": [],
   "source": []
  }
 ],
 "metadata": {
  "kernelspec": {
   "display_name": "Python 3 (ipykernel)",
   "language": "python",
   "name": "python3"
  },
  "language_info": {
   "codemirror_mode": {
    "name": "ipython",
    "version": 3
   },
   "file_extension": ".py",
   "mimetype": "text/x-python",
   "name": "python",
   "nbconvert_exporter": "python",
   "pygments_lexer": "ipython3",
   "version": "3.9.7"
  }
 },
 "nbformat": 4,
 "nbformat_minor": 5
}
