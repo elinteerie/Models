{
  "nbformat": 4,
  "nbformat_minor": 0,
  "metadata": {
    "colab": {
      "name": "Pytorch Linear model",
      "provenance": []
    },
    "kernelspec": {
      "name": "python3",
      "display_name": "Python 3"
    },
    "language_info": {
      "name": "python"
    }
  },
  "cells": [
    {
      "cell_type": "code",
      "execution_count": 1,
      "metadata": {
        "id": "ABGv2dy9d764"
      },
      "outputs": [],
      "source": [
        "import torch\n",
        "import numpy\n",
        "import matplotlib.pyplot as plt\n"
      ]
    },
    {
      "cell_type": "code",
      "source": [
        "weight = 0.7\n",
        "bias = 0.3 "
      ],
      "metadata": {
        "id": "s3Bxvke_eTo1"
      },
      "execution_count": 5,
      "outputs": []
    },
    {
      "cell_type": "code",
      "source": [
        "# Create\n",
        "start = 0\n",
        "end = 1\n",
        "step = 0.02\n",
        "\n",
        "X = torch.arange(start, end, step).unsqueeze(dim=1)"
      ],
      "metadata": {
        "id": "PPON7nNfedQx"
      },
      "execution_count": 6,
      "outputs": []
    },
    {
      "cell_type": "code",
      "source": [
        "y = weight * X + bias"
      ],
      "metadata": {
        "id": "jbHD6Wb8elN4"
      },
      "execution_count": 7,
      "outputs": []
    },
    {
      "cell_type": "code",
      "source": [
        "X[:4], y[:4]"
      ],
      "metadata": {
        "colab": {
          "base_uri": "https://localhost:8080/"
        },
        "id": "CiHEnvZee5xi",
        "outputId": "c9550288-d17f-4472-a0fc-0e98b33c5e56"
      },
      "execution_count": 9,
      "outputs": [
        {
          "output_type": "execute_result",
          "data": {
            "text/plain": [
              "(tensor([[0.0000],\n",
              "         [0.0200],\n",
              "         [0.0400],\n",
              "         [0.0600]]), tensor([[0.3000],\n",
              "         [0.3140],\n",
              "         [0.3280],\n",
              "         [0.3420]]))"
            ]
          },
          "metadata": {},
          "execution_count": 9
        }
      ]
    },
    {
      "cell_type": "code",
      "source": [
        "split = 40\n",
        "X_train, y_train = X[:split], y[:split]\n",
        "X_test, y_test = X[split:], y[split:]"
      ],
      "metadata": {
        "id": "WCZ7zxDHzZOy"
      },
      "execution_count": 8,
      "outputs": []
    },
    {
      "cell_type": "code",
      "source": [
        "len(X_train), len(y_train)"
      ],
      "metadata": {
        "colab": {
          "base_uri": "https://localhost:8080/"
        },
        "id": "J8sIeblc0BxJ",
        "outputId": "03bcba35-3690-498c-e27f-8da0f1c7a00e"
      },
      "execution_count": 11,
      "outputs": [
        {
          "output_type": "execute_result",
          "data": {
            "text/plain": [
              "(40, 40)"
            ]
          },
          "metadata": {},
          "execution_count": 11
        }
      ]
    },
    {
      "cell_type": "code",
      "source": [
        "fig, ax = plt.subplots(figsize=(10, 7))\n",
        "ax.scatter(X_train, y_train,  c=\"b\", s=4, label=\"Training data\")\n",
        "ax.scatter(X_test, y_test, c=\"g\", s=4, label=\"Testing data\")"
      ],
      "metadata": {
        "colab": {
          "base_uri": "https://localhost:8080/",
          "height": 445
        },
        "id": "jd-yf-mJe_BW",
        "outputId": "d1543bba-ef54-4aae-8aec-b3893da901e3"
      },
      "execution_count": 12,
      "outputs": [
        {
          "output_type": "execute_result",
          "data": {
            "text/plain": [
              "<matplotlib.collections.PathCollection at 0x7faaa0ed6710>"
            ]
          },
          "metadata": {},
          "execution_count": 12
        },
        {
          "output_type": "display_data",
          "data": {
            "text/plain": [
              "<Figure size 720x504 with 1 Axes>"
            ],
            "image/png": "[encoded data removed]"
          },
          "metadata": {
            "needs_background": "light"
          }
        }
      ]
    },
    {
      "cell_type": "code",
      "source": [
        "#from torch import nn\n",
        "\n",
        "\n",
        "class LinearReg(torch.nn.Module):\n",
        "\n",
        "  def __init__(self):\n",
        "    super().__init__()\n",
        "    self.weights = torch.nn.Parameter(torch.randn(1, requires_grad=True, dtype = torch.float))\n",
        "    self.bias = torch.nn.Parameter(torch.randn(1, requires_grad=True, dtype = torch.float))\n",
        "  def forward(self, x: torch.Tensor):\n",
        "    return self.weights * x + self.bias"
      ],
      "metadata": {
        "id": "wImTzc8TfZpu"
      },
      "execution_count": 9,
      "outputs": []
    },
    {
      "cell_type": "code",
      "source": [
        "torch.manual_seed(42)\n",
        "model_0 = LinearReg()"
      ],
      "metadata": {
        "id": "2GRha6uE2Quk"
      },
      "execution_count": 10,
      "outputs": []
    },
    {
      "cell_type": "code",
      "source": [
        "model_0.state_dict()"
      ],
      "metadata": {
        "colab": {
          "base_uri": "https://localhost:8080/"
        },
        "id": "OyJajvM05rZd",
        "outputId": "2c1807f2-f8ff-4f4e-8473-838d8ba6f196"
      },
      "execution_count": 11,
      "outputs": [
        {
          "output_type": "execute_result",
          "data": {
            "text/plain": [
              "OrderedDict([('weights', tensor([0.3367])), ('bias', tensor([0.1288]))])"
            ]
          },
          "metadata": {},
          "execution_count": 11
        }
      ]
    },
    {
      "cell_type": "code",
      "source": [
        "X_test[2]"
      ],
      "metadata": {
        "colab": {
          "base_uri": "https://localhost:8080/"
        },
        "id": "tx3_hsot4e0o",
        "outputId": "c85c39b6-9961-4388-f2bd-f5db8d0a70b7"
      },
      "execution_count": 16,
      "outputs": [
        {
          "output_type": "execute_result",
          "data": {
            "text/plain": [
              "tensor([0.8400])"
            ]
          },
          "metadata": {},
          "execution_count": 16
        }
      ]
    },
    {
      "cell_type": "code",
      "source": [
        "y_preds = model_0(X_test)\n",
        "y_preds"
      ],
      "metadata": {
        "colab": {
          "base_uri": "https://localhost:8080/"
        },
        "id": "NJpsxR7Z27LF",
        "outputId": "e5c4909f-0643-41cc-e6dd-ec25b203c3e3"
      },
      "execution_count": 17,
      "outputs": [
        {
          "output_type": "execute_result",
          "data": {
            "text/plain": [
              "tensor([[0.3982],\n",
              "        [0.4049],\n",
              "        [0.4116],\n",
              "        [0.4184],\n",
              "        [0.4251],\n",
              "        [0.4318],\n",
              "        [0.4386],\n",
              "        [0.4453],\n",
              "        [0.4520],\n",
              "        [0.4588]], grad_fn=<AddBackward0>)"
            ]
          },
          "metadata": {},
          "execution_count": 17
        }
      ]
    },
    {
      "cell_type": "code",
      "source": [
        "y_test"
      ],
      "metadata": {
        "colab": {
          "base_uri": "https://localhost:8080/"
        },
        "id": "TC7B6kXA3Ifu",
        "outputId": "77a310d1-ffde-4ad5-b049-efd92e518a94"
      },
      "execution_count": 18,
      "outputs": [
        {
          "output_type": "execute_result",
          "data": {
            "text/plain": [
              "tensor([[0.8600],\n",
              "        [0.8740],\n",
              "        [0.8880],\n",
              "        [0.9020],\n",
              "        [0.9160],\n",
              "        [0.9300],\n",
              "        [0.9440],\n",
              "        [0.9580],\n",
              "        [0.9720],\n",
              "        [0.9860]])"
            ]
          },
          "metadata": {},
          "execution_count": 18
        }
      ]
    },
    {
      "cell_type": "code",
      "source": [
        "# Make predictions with model\n",
        "with torch.inference_mode():\n",
        "  y_preds = model_0(X_test)"
      ],
      "metadata": {
        "id": "msUjnD0f3v2h"
      },
      "execution_count": 19,
      "outputs": []
    },
    {
      "cell_type": "code",
      "source": [
        "y_preds"
      ],
      "metadata": {
        "colab": {
          "base_uri": "https://localhost:8080/"
        },
        "id": "Us4_By6v5DS7",
        "outputId": "c9c0360f-9973-49bc-80f6-ae27a685c769"
      },
      "execution_count": 20,
      "outputs": [
        {
          "output_type": "execute_result",
          "data": {
            "text/plain": [
              "tensor([[0.3982],\n",
              "        [0.4049],\n",
              "        [0.4116],\n",
              "        [0.4184],\n",
              "        [0.4251],\n",
              "        [0.4318],\n",
              "        [0.4386],\n",
              "        [0.4453],\n",
              "        [0.4520],\n",
              "        [0.4588]])"
            ]
          },
          "metadata": {},
          "execution_count": 20
        }
      ]
    },
    {
      "cell_type": "code",
      "source": [
        "with torch.inference_mode():\n",
        "  ypred = model_0(X_test)\n",
        "\n",
        "ypred"
      ],
      "metadata": {
        "colab": {
          "base_uri": "https://localhost:8080/"
        },
        "id": "j7C2nVnY5FRo",
        "outputId": "9cf09a3f-2202-4fca-9be6-98bf289a477c"
      },
      "execution_count": 21,
      "outputs": [
        {
          "output_type": "execute_result",
          "data": {
            "text/plain": [
              "tensor([[0.3982],\n",
              "        [0.4049],\n",
              "        [0.4116],\n",
              "        [0.4184],\n",
              "        [0.4251],\n",
              "        [0.4318],\n",
              "        [0.4386],\n",
              "        [0.4453],\n",
              "        [0.4520],\n",
              "        [0.4588]])"
            ]
          },
          "metadata": {},
          "execution_count": 21
        }
      ]
    },
    {
      "cell_type": "code",
      "source": [
        "y_test"
      ],
      "metadata": {
        "colab": {
          "base_uri": "https://localhost:8080/"
        },
        "id": "VEuwf-466-ye",
        "outputId": "17005ffa-810a-4390-a24c-e3a2243eb5fe"
      },
      "execution_count": 22,
      "outputs": [
        {
          "output_type": "execute_result",
          "data": {
            "text/plain": [
              "tensor([[0.8600],\n",
              "        [0.8740],\n",
              "        [0.8880],\n",
              "        [0.9020],\n",
              "        [0.9160],\n",
              "        [0.9300],\n",
              "        [0.9440],\n",
              "        [0.9580],\n",
              "        [0.9720],\n",
              "        [0.9860]])"
            ]
          },
          "metadata": {},
          "execution_count": 22
        }
      ]
    },
    {
      "cell_type": "markdown",
      "source": [
        "###Train model"
      ],
      "metadata": {
        "id": "Yf-Ea2zK7j8h"
      }
    },
    {
      "cell_type": "code",
      "source": [
        "loss_fn = torch.nn.L1Loss()\n",
        "params =model_0.parameters()\n",
        "optimizer = torch.optim.SGD(params=params,  lr=0.01)"
      ],
      "metadata": {
        "id": "oe3XMGac-Ikz"
      },
      "execution_count": 12,
      "outputs": []
    },
    {
      "cell_type": "code",
      "source": [
        ""
      ],
      "metadata": {
        "id": "U58vAiN6CYf4"
      },
      "execution_count": 23,
      "outputs": []
    },
    {
      "cell_type": "code",
      "source": [
        "optimizer"
      ],
      "metadata": {
        "colab": {
          "base_uri": "https://localhost:8080/"
        },
        "id": "xaQU1FxEC5tw",
        "outputId": "520e8002-d317-4e7d-8715-184c3f231e14"
      },
      "execution_count": 24,
      "outputs": [
        {
          "output_type": "execute_result",
          "data": {
            "text/plain": [
              "SGD (\n",
              "Parameter Group 0\n",
              "    dampening: 0\n",
              "    foreach: None\n",
              "    lr: 0.01\n",
              "    maximize: False\n",
              "    momentum: 0\n",
              "    nesterov: False\n",
              "    weight_decay: 0\n",
              ")"
            ]
          },
          "metadata": {},
          "execution_count": 24
        }
      ]
    },
    {
      "cell_type": "markdown",
      "source": [
        "###Building a training loop and Testing in Pytorch"
      ],
      "metadata": {
        "id": "0V0zCg64C6xh"
      }
    },
    {
      "cell_type": "code",
      "source": [
        "epochs = 9\n",
        "\n",
        "#Training\n",
        "\n",
        "for epoch in range(epochs):\n",
        "  model_0.train()\n",
        "\n",
        "\n",
        "  y_pred = model_0(X_train)\n",
        "\n",
        "  #Calculate the loss\n",
        "  loss = loss_fn(y_pred, y_train)\n",
        "\n",
        "  optimizer.zero_grad()\n",
        "\n",
        "  #Perfrom backpro\n",
        "  loss.backward()\n",
        "\n",
        "  optimizer.step()\n"
      ],
      "metadata": {
        "id": "Io5HBNTGGy0d"
      },
      "execution_count": 25,
      "outputs": []
    },
    {
      "cell_type": "code",
      "source": [
        "model_0(X_test)"
      ],
      "metadata": {
        "colab": {
          "base_uri": "https://localhost:8080/"
        },
        "id": "IsZLFH8WIvb-",
        "outputId": "579e05db-31c2-40f4-ae6b-da2ff785bfce"
      },
      "execution_count": 26,
      "outputs": [
        {
          "output_type": "execute_result",
          "data": {
            "text/plain": [
              "tensor([[0.5162],\n",
              "        [0.5237],\n",
              "        [0.5311],\n",
              "        [0.5385],\n",
              "        [0.5460],\n",
              "        [0.5534],\n",
              "        [0.5609],\n",
              "        [0.5683],\n",
              "        [0.5757],\n",
              "        [0.5832]], grad_fn=<AddBackward0>)"
            ]
          },
          "metadata": {},
          "execution_count": 26
        }
      ]
    },
    {
      "cell_type": "code",
      "source": [
        "y_test"
      ],
      "metadata": {
        "colab": {
          "base_uri": "https://localhost:8080/"
        },
        "id": "HhwuhQPeLU13",
        "outputId": "8aaa8690-74b2-40bb-f99e-847e02f0af35"
      },
      "execution_count": 27,
      "outputs": [
        {
          "output_type": "execute_result",
          "data": {
            "text/plain": [
              "tensor([[0.8600],\n",
              "        [0.8740],\n",
              "        [0.8880],\n",
              "        [0.9020],\n",
              "        [0.9160],\n",
              "        [0.9300],\n",
              "        [0.9440],\n",
              "        [0.9580],\n",
              "        [0.9720],\n",
              "        [0.9860]])"
            ]
          },
          "metadata": {},
          "execution_count": 27
        }
      ]
    },
    {
      "cell_type": "code",
      "source": [
        "epochs = 40\n",
        "\n",
        "for epoch in range(epochs):\n",
        "  #Forward pass\n",
        "  y_preds = model_0(X_train)\n",
        "\n",
        "  loss = loss_fn(y_preds, y_train)\n",
        "\n",
        "  optimizer.zero_grad()\n",
        "\n",
        "  loss.backward()\n",
        "\n",
        "  optimizer.step()"
      ],
      "metadata": {
        "id": "Cltl23Z0L_Uu"
      },
      "execution_count": 28,
      "outputs": []
    },
    {
      "cell_type": "code",
      "source": [
        "model_0(X_test)"
      ],
      "metadata": {
        "colab": {
          "base_uri": "https://localhost:8080/"
        },
        "id": "fx0E9cTCMzvo",
        "outputId": "0ad407b1-99c7-4c36-e838-0f7bc5343abe"
      },
      "execution_count": 29,
      "outputs": [
        {
          "output_type": "execute_result",
          "data": {
            "text/plain": [
              "tensor([[0.7775],\n",
              "        [0.7873],\n",
              "        [0.7971],\n",
              "        [0.8069],\n",
              "        [0.8167],\n",
              "        [0.8265],\n",
              "        [0.8363],\n",
              "        [0.8461],\n",
              "        [0.8559],\n",
              "        [0.8657]], grad_fn=<AddBackward0>)"
            ]
          },
          "metadata": {},
          "execution_count": 29
        }
      ]
    },
    {
      "cell_type": "code",
      "source": [
        "y_test"
      ],
      "metadata": {
        "colab": {
          "base_uri": "https://localhost:8080/"
        },
        "id": "yjDEFXbuM4j8",
        "outputId": "f1eed677-36b2-4b15-d7ba-7741e1fe960c"
      },
      "execution_count": 30,
      "outputs": [
        {
          "output_type": "execute_result",
          "data": {
            "text/plain": [
              "tensor([[0.8600],\n",
              "        [0.8740],\n",
              "        [0.8880],\n",
              "        [0.9020],\n",
              "        [0.9160],\n",
              "        [0.9300],\n",
              "        [0.9440],\n",
              "        [0.9580],\n",
              "        [0.9720],\n",
              "        [0.9860]])"
            ]
          },
          "metadata": {},
          "execution_count": 30
        }
      ]
    },
    {
      "cell_type": "code",
      "source": [
        "list(model_0.parameters())"
      ],
      "metadata": {
        "colab": {
          "base_uri": "https://localhost:8080/"
        },
        "id": "JEiBNkDQNCHz",
        "outputId": "ae972b43-87a1-4d7d-9755-4c2be5b60d85"
      },
      "execution_count": 31,
      "outputs": [
        {
          "output_type": "execute_result",
          "data": {
            "text/plain": [
              "[Parameter containing:\n",
              " tensor([0.4902], requires_grad=True), Parameter containing:\n",
              " tensor([0.3853], requires_grad=True)]"
            ]
          },
          "metadata": {},
          "execution_count": 31
        }
      ]
    },
    {
      "cell_type": "code",
      "source": [
        "epochs = 250\n",
        "epoch_count = []\n",
        "losses = []\n",
        "test_losses =[]\n",
        "\n",
        "\n",
        "for epoch in range(epochs):\n",
        "\n",
        "  ##Forward Pass\n",
        "  y_preds =   model_0(X_train)\n",
        "\n",
        "  #Calculate the loss\n",
        "  loss = loss_fn(y_preds, y_train)\n",
        "\n",
        "  ##Optimizer\n",
        "  optimizer.zero_grad()\n",
        "\n",
        "  loss.backward()\n",
        "\n",
        "  optimizer.step()\n",
        "\n",
        "  ##Testing Loop\n",
        "  model_0.eval()\n",
        "  with torch.inference_mode():\n",
        "    test_pred = model_0(X_test)\n",
        "\n",
        "    test_loss = loss_fn(test_pred, y_test)\n",
        "  if epoch % 20== 0:\n",
        "    epoch_count.append(epoch)\n",
        "    losses.append(loss)\n",
        "    test_losses.append(test_loss)\n",
        "    print(f' epoch: {epoch} - loss: {loss:.4f} - testloss {test_loss:.4f} ')\n",
        "\n",
        "\n",
        "\n"
      ],
      "metadata": {
        "colab": {
          "base_uri": "https://localhost:8080/"
        },
        "id": "c2jN8XkXM9sM",
        "outputId": "62b45512-f0cd-4947-8c7c-c34e8c6538a4"
      },
      "execution_count": 13,
      "outputs": [
        {
          "output_type": "stream",
          "name": "stdout",
          "text": [
            " epoch: 0 - loss: 0.3129 - testloss 0.4811 \n",
            " epoch: 20 - loss: 0.0891 - testloss 0.2173 \n",
            " epoch: 40 - loss: 0.0454 - testloss 0.1136 \n",
            " epoch: 60 - loss: 0.0382 - testloss 0.0889 \n",
            " epoch: 80 - loss: 0.0313 - testloss 0.0723 \n",
            " epoch: 100 - loss: 0.0245 - testloss 0.0565 \n",
            " epoch: 120 - loss: 0.0176 - testloss 0.0406 \n",
            " epoch: 140 - loss: 0.0107 - testloss 0.0241 \n",
            " epoch: 160 - loss: 0.0039 - testloss 0.0082 \n",
            " epoch: 180 - loss: 0.0089 - testloss 0.0050 \n",
            " epoch: 200 - loss: 0.0089 - testloss 0.0050 \n",
            " epoch: 220 - loss: 0.0089 - testloss 0.0050 \n",
            " epoch: 240 - loss: 0.0089 - testloss 0.0050 \n"
          ]
        }
      ]
    },
    {
      "cell_type": "code",
      "source": [
        "epoch_count, losses, test_losses"
      ],
      "metadata": {
        "colab": {
          "base_uri": "https://localhost:8080/"
        },
        "id": "oag7OmdY6bij",
        "outputId": "bca3a88c-2fb8-4b71-bcef-d5127daceedf"
      },
      "execution_count": 14,
      "outputs": [
        {
          "output_type": "execute_result",
          "data": {
            "text/plain": [
              "([0, 20, 40, 60, 80, 100, 120, 140, 160, 180, 200, 220, 240],\n",
              " [tensor(0.3129, grad_fn=<L1LossBackward0>),\n",
              "  tensor(0.0891, grad_fn=<L1LossBackward0>),\n",
              "  tensor(0.0454, grad_fn=<L1LossBackward0>),\n",
              "  tensor(0.0382, grad_fn=<L1LossBackward0>),\n",
              "  tensor(0.0313, grad_fn=<L1LossBackward0>),\n",
              "  tensor(0.0245, grad_fn=<L1LossBackward0>),\n",
              "  tensor(0.0176, grad_fn=<L1LossBackward0>),\n",
              "  tensor(0.0107, grad_fn=<L1LossBackward0>),\n",
              "  tensor(0.0039, grad_fn=<L1LossBackward0>),\n",
              "  tensor(0.0089, grad_fn=<L1LossBackward0>),\n",
              "  tensor(0.0089, grad_fn=<L1LossBackward0>),\n",
              "  tensor(0.0089, grad_fn=<L1LossBackward0>),\n",
              "  tensor(0.0089, grad_fn=<L1LossBackward0>)],\n",
              " [tensor(0.4811),\n",
              "  tensor(0.2173),\n",
              "  tensor(0.1136),\n",
              "  tensor(0.0889),\n",
              "  tensor(0.0723),\n",
              "  tensor(0.0565),\n",
              "  tensor(0.0406),\n",
              "  tensor(0.0241),\n",
              "  tensor(0.0082),\n",
              "  tensor(0.0050),\n",
              "  tensor(0.0050),\n",
              "  tensor(0.0050),\n",
              "  tensor(0.0050)])"
            ]
          },
          "metadata": {},
          "execution_count": 14
        }
      ]
    },
    {
      "cell_type": "code",
      "source": [
        "plt.plot(epoch_count, torch.tensor(losses), label ='Training Loss')\n",
        "plt.plot(epoch_count, test_losses, label ='Test Loss')\n",
        "plt.title('01_Model_metrics')\n",
        "plt.legend();"
      ],
      "metadata": {
        "colab": {
          "base_uri": "https://localhost:8080/",
          "height": 281
        },
        "id": "9kI2EQXxNR7O",
        "outputId": "a9508036-aeec-41f0-b333-daad02a63347"
      },
      "execution_count": 18,
      "outputs": [
        {
          "output_type": "display_data",
          "data": {
            "text/plain": [
              "<Figure size 432x288 with 1 Axes>"
            ],
            "image/png": "[encoded data removed]"
          },
          "metadata": {
            "needs_background": "light"
          }
        }
      ]
    },
    {
      "cell_type": "code",
      "source": [
        "y_test"
      ],
      "metadata": {
        "colab": {
          "base_uri": "https://localhost:8080/"
        },
        "id": "WwuRR18hN6Dh",
        "outputId": "55abb689-507c-4996-f84f-ee33cd3ecab9"
      },
      "execution_count": 19,
      "outputs": [
        {
          "output_type": "execute_result",
          "data": {
            "text/plain": [
              "tensor([[0.8600],\n",
              "        [0.8740],\n",
              "        [0.8880],\n",
              "        [0.9020],\n",
              "        [0.9160],\n",
              "        [0.9300],\n",
              "        [0.9440],\n",
              "        [0.9580],\n",
              "        [0.9720],\n",
              "        [0.9860]])"
            ]
          },
          "metadata": {},
          "execution_count": 19
        }
      ]
    },
    {
      "cell_type": "code",
      "source": [
        "from pathlib import Path"
      ],
      "metadata": {
        "id": "GR8kgRZeq_z0"
      },
      "execution_count": 21,
      "outputs": []
    },
    {
      "cell_type": "code",
      "source": [
        "MODEL_PATH = Path('model')\n",
        "MODEL_PATH.mkdir(parents = True, exist_ok=True)"
      ],
      "metadata": {
        "id": "gmzxiY7urnQW"
      },
      "execution_count": 22,
      "outputs": []
    },
    {
      "cell_type": "code",
      "source": [
        "MODEL_NAME = '01_python_model.pth'\n",
        "MODEL_SAVE_PATH = MODEL_PATH / MODEL_NAME"
      ],
      "metadata": {
        "id": "CjmtGnjzxyti"
      },
      "execution_count": 28,
      "outputs": []
    },
    {
      "cell_type": "code",
      "source": [
        "MODEL_SAVE_PATH"
      ],
      "metadata": {
        "colab": {
          "base_uri": "https://localhost:8080/"
        },
        "id": "LT0WSmZjyB8c",
        "outputId": "90ebc120-d23e-4934-dab0-12de55207b8e"
      },
      "execution_count": 29,
      "outputs": [
        {
          "output_type": "execute_result",
          "data": {
            "text/plain": [
              "PosixPath('model/01_python_model.pth')"
            ]
          },
          "metadata": {},
          "execution_count": 29
        }
      ]
    },
    {
      "cell_type": "code",
      "source": [
        "print(f'saving model to: {MODEL_SAVE_PATH}')\n",
        "torch.save(model_0, MODEL_SAVE_PATH)\n",
        "print(f'model saved to: {MODEL_SAVE_PATH}')"
      ],
      "metadata": {
        "colab": {
          "base_uri": "https://localhost:8080/"
        },
        "id": "MRAzh4NvyDyu",
        "outputId": "44c69bde-54bf-4f21-a87c-0a7474d71de3"
      },
      "execution_count": 30,
      "outputs": [
        {
          "output_type": "stream",
          "name": "stdout",
          "text": [
            "saving model to: model/01_python_model.pth\n",
            "model saved to: model/01_python_model.pth\n"
          ]
        }
      ]
    },
    {
      "cell_type": "code",
      "source": [
        "!ls -l model"
      ],
      "metadata": {
        "colab": {
          "base_uri": "https://localhost:8080/"
        },
        "id": "3_Q8ASHrydZc",
        "outputId": "ee577122-bde1-42b7-9c86-f119890e2519"
      },
      "execution_count": 80,
      "outputs": [
        {
          "output_type": "stream",
          "name": "stdout",
          "text": [
            "total 8\n",
            "-rw-r--r-- 1 root root 1063 Aug 18 16:30 01_python_model\n",
            "-rw-r--r-- 1 root root 1063 Aug 18 16:30 01_python_model.h5\n"
          ]
        }
      ]
    },
    {
      "cell_type": "code",
      "source": [
        "model_0.state_dict()"
      ],
      "metadata": {
        "colab": {
          "base_uri": "https://localhost:8080/"
        },
        "id": "7VSiXO7Z0Ekf",
        "outputId": "be180e27-52ce-4a09-94d3-793237a396ea"
      },
      "execution_count": 81,
      "outputs": [
        {
          "output_type": "execute_result",
          "data": {
            "text/plain": [
              "OrderedDict([('weights', tensor([0.6951])), ('bias', tensor([0.2993]))])"
            ]
          },
          "metadata": {},
          "execution_count": 81
        }
      ]
    },
    {
      "cell_type": "code",
      "source": [
        "model_load = torch.load(MODEL_SAVE_PATH)"
      ],
      "metadata": {
        "id": "g7x3CGCW0V7Z"
      },
      "execution_count": 31,
      "outputs": []
    },
    {
      "cell_type": "code",
      "source": [
        "with torch.inference_mode():\n",
        "  new_pred =model_load(X_test)"
      ],
      "metadata": {
        "id": "2h056TtUJzs0"
      },
      "execution_count": 36,
      "outputs": []
    },
    {
      "cell_type": "code",
      "source": [
        "new_pred"
      ],
      "metadata": {
        "colab": {
          "base_uri": "https://localhost:8080/"
        },
        "id": "HEtTIGiJJ1EH",
        "outputId": "61560a90-90aa-4021-aeea-53311a853614"
      },
      "execution_count": 37,
      "outputs": [
        {
          "output_type": "execute_result",
          "data": {
            "text/plain": [
              "tensor([[0.8685],\n",
              "        [0.8825],\n",
              "        [0.8965],\n",
              "        [0.9105],\n",
              "        [0.9245],\n",
              "        [0.9384],\n",
              "        [0.9524],\n",
              "        [0.9664],\n",
              "        [0.9804],\n",
              "        [0.9944]])"
            ]
          },
          "metadata": {},
          "execution_count": 37
        }
      ]
    },
    {
      "cell_type": "code",
      "source": [
        "torch.__version__"
      ],
      "metadata": {
        "colab": {
          "base_uri": "https://localhost:8080/",
          "height": 35
        },
        "id": "_JBjBhS0J8ve",
        "outputId": "8f536549-0be7-4f8e-f6dc-9c2c52d024c2"
      },
      "execution_count": 197,
      "outputs": [
        {
          "output_type": "execute_result",
          "data": {
            "text/plain": [
              "'1.12.1+cu113'"
            ],
            "application/vnd.google.colaboratory.intrinsic+json": {
              "type": "string"
            }
          },
          "metadata": {},
          "execution_count": 197
        }
      ]
    },
    {
      "cell_type": "code",
      "source": [
        "device = 'cuda' if torch.cuda.is_available() else 'cpu'"
      ],
      "metadata": {
        "id": "RhQ8pD85Ne5p"
      },
      "execution_count": 198,
      "outputs": []
    },
    {
      "cell_type": "code",
      "source": [
        "print(device)"
      ],
      "metadata": {
        "colab": {
          "base_uri": "https://localhost:8080/"
        },
        "id": "3ZleHh-hNqNP",
        "outputId": "84934b23-d796-43ff-ed0f-4e6e1109536e"
      },
      "execution_count": 199,
      "outputs": [
        {
          "output_type": "stream",
          "name": "stdout",
          "text": [
            "cpu\n"
          ]
        }
      ]
    },
    {
      "cell_type": "code",
      "source": [
        "## Create some data\n",
        "\n",
        "weight = 0.4\n",
        "bias = 0.6\n",
        "\n",
        "start = 0\n",
        "end = 100\n",
        "\n",
        "step = 0.005"
      ],
      "metadata": {
        "id": "01zlh7vtN0dN"
      },
      "execution_count": 200,
      "outputs": []
    },
    {
      "cell_type": "code",
      "source": [
        "X = torch.arange(start, end, step).unsqueeze(dim=1)"
      ],
      "metadata": {
        "id": "Y3Xf1wRrPa3R"
      },
      "execution_count": 201,
      "outputs": []
    },
    {
      "cell_type": "code",
      "source": [
        "X.shape"
      ],
      "metadata": {
        "colab": {
          "base_uri": "https://localhost:8080/"
        },
        "id": "kIE3t5g6QmFo",
        "outputId": "852e27b2-08b2-450d-cb60-2f07c2ee2c2e"
      },
      "execution_count": 202,
      "outputs": [
        {
          "output_type": "execute_result",
          "data": {
            "text/plain": [
              "torch.Size([20000, 1])"
            ]
          },
          "metadata": {},
          "execution_count": 202
        }
      ]
    },
    {
      "cell_type": "code",
      "source": [
        " y = weight * X + bias"
      ],
      "metadata": {
        "id": "zmterA-IP8vh"
      },
      "execution_count": 203,
      "outputs": []
    },
    {
      "cell_type": "code",
      "source": [
        "len(y)"
      ],
      "metadata": {
        "colab": {
          "base_uri": "https://localhost:8080/"
        },
        "id": "xf6T79znP-DN",
        "outputId": "566a8e1a-b8f7-4734-f513-803f01476ecd"
      },
      "execution_count": 204,
      "outputs": [
        {
          "output_type": "execute_result",
          "data": {
            "text/plain": [
              "20000"
            ]
          },
          "metadata": {},
          "execution_count": 204
        }
      ]
    },
    {
      "cell_type": "code",
      "source": [
        "split = int(0.8 *len(X))\n",
        "split"
      ],
      "metadata": {
        "colab": {
          "base_uri": "https://localhost:8080/"
        },
        "id": "sEFK_ioeQQx6",
        "outputId": "85d818c2-d986-42ef-9d48-c3f980ce611b"
      },
      "execution_count": 205,
      "outputs": [
        {
          "output_type": "execute_result",
          "data": {
            "text/plain": [
              "16000"
            ]
          },
          "metadata": {},
          "execution_count": 205
        }
      ]
    },
    {
      "cell_type": "code",
      "source": [
        "X[:10], y[:10]"
      ],
      "metadata": {
        "colab": {
          "base_uri": "https://localhost:8080/"
        },
        "id": "v3kCMAf-Qal1",
        "outputId": "38b38e32-90e2-44d0-a346-1a0faa1ea51f"
      },
      "execution_count": 206,
      "outputs": [
        {
          "output_type": "execute_result",
          "data": {
            "text/plain": [
              "(tensor([[0.0000],\n",
              "         [0.0050],\n",
              "         [0.0100],\n",
              "         [0.0150],\n",
              "         [0.0200],\n",
              "         [0.0250],\n",
              "         [0.0300],\n",
              "         [0.0350],\n",
              "         [0.0400],\n",
              "         [0.0450]]), tensor([[0.6000],\n",
              "         [0.6020],\n",
              "         [0.6040],\n",
              "         [0.6060],\n",
              "         [0.6080],\n",
              "         [0.6100],\n",
              "         [0.6120],\n",
              "         [0.6140],\n",
              "         [0.6160],\n",
              "         [0.6180]]))"
            ]
          },
          "metadata": {},
          "execution_count": 206
        }
      ]
    },
    {
      "cell_type": "code",
      "source": [
        "X_train, y_train = X[:split], y[:split]\n",
        "X_test, y_test = X[split:], y[split:]"
      ],
      "metadata": {
        "id": "21iMQcdra7ZY"
      },
      "execution_count": 207,
      "outputs": []
    },
    {
      "cell_type": "code",
      "source": [
        "len(X_train), len(y_train)"
      ],
      "metadata": {
        "colab": {
          "base_uri": "https://localhost:8080/"
        },
        "id": "Xz9PBYt7bbYB",
        "outputId": "231ac0aa-8457-4927-fc57-f7b677250e0a"
      },
      "execution_count": 208,
      "outputs": [
        {
          "output_type": "execute_result",
          "data": {
            "text/plain": [
              "(16000, 16000)"
            ]
          },
          "metadata": {},
          "execution_count": 208
        }
      ]
    },
    {
      "cell_type": "markdown",
      "source": [
        "### Build a Model"
      ],
      "metadata": {
        "id": "RHfCXhuwbfWt"
      }
    },
    {
      "cell_type": "code",
      "source": [
        "from torch import nn\n",
        "class NewModel(nn.Module):\n",
        "  def __init__(self):\n",
        "    super().__init__()\n",
        "    self.linear_layer = nn.Linear(in_features=1, out_features=1)\n",
        "    \n",
        "\n",
        "\n",
        "  def forward(self, x: torch.Tensor)-> torch.Tensor:\n",
        "    return self.linear_layer(x)"
      ],
      "metadata": {
        "id": "CbpfHjCzcc9q"
      },
      "execution_count": 209,
      "outputs": []
    },
    {
      "cell_type": "code",
      "source": [
        "torch.manual_seed(42)\n",
        "model_1 = NewModel()"
      ],
      "metadata": {
        "id": "lxsvnkvCcirr"
      },
      "execution_count": 210,
      "outputs": []
    },
    {
      "cell_type": "code",
      "source": [
        "model_1.state_dict()"
      ],
      "metadata": {
        "colab": {
          "base_uri": "https://localhost:8080/"
        },
        "id": "uVIBIRnCdeQB",
        "outputId": "78bc8d22-ae37-4462-b2b1-2201eae1e15b"
      },
      "execution_count": 211,
      "outputs": [
        {
          "output_type": "execute_result",
          "data": {
            "text/plain": [
              "OrderedDict([('linear_layer.weight', tensor([[0.7645]])),\n",
              "             ('linear_layer.bias', tensor([0.8300]))])"
            ]
          },
          "metadata": {},
          "execution_count": 211
        }
      ]
    },
    {
      "cell_type": "code",
      "source": [
        "list(model_1.parameters())"
      ],
      "metadata": {
        "colab": {
          "base_uri": "https://localhost:8080/"
        },
        "id": "na8a0d9ddfQw",
        "outputId": "72e9e20a-e652-4c71-b30f-7996e467fa00"
      },
      "execution_count": 212,
      "outputs": [
        {
          "output_type": "execute_result",
          "data": {
            "text/plain": [
              "[Parameter containing:\n",
              " tensor([[0.7645]], requires_grad=True), Parameter containing:\n",
              " tensor([0.8300], requires_grad=True)]"
            ]
          },
          "metadata": {},
          "execution_count": 212
        }
      ]
    },
    {
      "cell_type": "code",
      "source": [
        "device"
      ],
      "metadata": {
        "colab": {
          "base_uri": "https://localhost:8080/",
          "height": 35
        },
        "id": "tVwtCzfPiOxt",
        "outputId": "0693761d-7c47-4fd6-8a7f-b53b7afa6efa"
      },
      "execution_count": 213,
      "outputs": [
        {
          "output_type": "execute_result",
          "data": {
            "text/plain": [
              "'cpu'"
            ],
            "application/vnd.google.colaboratory.intrinsic+json": {
              "type": "string"
            }
          },
          "metadata": {},
          "execution_count": 213
        }
      ]
    },
    {
      "cell_type": "code",
      "source": [
        "device ='cuda' if torch.cuda.is_available else 'cpu'"
      ],
      "metadata": {
        "id": "cMKI8guAnkO3"
      },
      "execution_count": 214,
      "outputs": []
    },
    {
      "cell_type": "code",
      "source": [
        "loss_fn = torch.nn.L1Loss()\n",
        "optimizer = torch.optim.SGD(params=model_1.parameters(), lr= 0.0001)\n",
        "\n",
        "\n"
      ],
      "metadata": {
        "id": "2rlRU0Fmfr-x"
      },
      "execution_count": 221,
      "outputs": []
    },
    {
      "cell_type": "code",
      "source": [
        "optimizer"
      ],
      "metadata": {
        "colab": {
          "base_uri": "https://localhost:8080/"
        },
        "id": "Ua2-s-W_hmvx",
        "outputId": "f06e2e4c-4ebe-4cc5-ce6d-8c13a4125090"
      },
      "execution_count": 175,
      "outputs": [
        {
          "output_type": "execute_result",
          "data": {
            "text/plain": [
              "SGD (\n",
              "Parameter Group 0\n",
              "    dampening: 0\n",
              "    foreach: None\n",
              "    lr: 0.0001\n",
              "    maximize: False\n",
              "    momentum: 0\n",
              "    nesterov: False\n",
              "    weight_decay: 0\n",
              ")"
            ]
          },
          "metadata": {},
          "execution_count": 175
        }
      ]
    },
    {
      "cell_type": "code",
      "source": [
        "###Training and testing\n",
        "torch.manual_seed(42)\n",
        "\n",
        "epochs = 300\n",
        "epoch_count =[]\n",
        "train_loss = []\n",
        "test_loss = []\n",
        "\n",
        "for epoch in range(epochs):\n",
        "  ##Forward pass\n",
        "  y_pred = model_1(X_train)\n",
        "  loss = loss_fn(y_pred, y_train)\n",
        "  optimizer.zero_grad()\n",
        "  loss.backward()\n",
        "  optimizer.step()\n",
        "\n",
        "  ##Testing\n",
        "  model_1.eval()\n",
        "  with torch.inference_mode():\n",
        "    test_pred = model_1(X_test)\n",
        "    loss_test = loss_fn(test_pred, y_test)\n",
        "    if epoch % 10 == 0:\n",
        "      epoch_count.append(epoch)\n",
        "      train_loss.append(loss)\n",
        "      test_loss.append(loss_test)\n",
        "      print(f'Epoch: {epoch} - Loss: {loss} - TestLoss: {loss_test}')\n",
        " "
      ],
      "metadata": {
        "colab": {
          "base_uri": "https://localhost:8080/"
        },
        "id": "Ib2xM8bhiGrb",
        "outputId": "086b8e06-147d-48fd-bdc9-eef743487020"
      },
      "execution_count": 176,
      "outputs": [
        {
          "output_type": "stream",
          "name": "stdout",
          "text": [
            "Epoch: 0 - Loss: 3.576622247695923 - TestLoss: 7.744086265563965\n",
            "Epoch: 10 - Loss: 1.9763081073760986 - TestLoss: 4.143988609313965\n",
            "Epoch: 20 - Loss: 0.37935811281204224 - TestLoss: 0.5493008494377136\n",
            "Epoch: 30 - Loss: 0.1137680783867836 - TestLoss: 0.043858643621206284\n",
            "Epoch: 40 - Loss: 0.08713136613368988 - TestLoss: 0.09906941652297974\n",
            "Epoch: 50 - Loss: 0.12860357761383057 - TestLoss: 0.012302663177251816\n",
            "Epoch: 60 - Loss: 0.10052897036075592 - TestLoss: 0.07222256064414978\n",
            "Epoch: 70 - Loss: 0.13602343201637268 - TestLoss: 0.003908755257725716\n",
            "Epoch: 80 - Loss: 0.1006038635969162 - TestLoss: 0.07244421541690826\n",
            "Epoch: 90 - Loss: 0.13578909635543823 - TestLoss: 0.0033905773889273405\n",
            "Epoch: 100 - Loss: 0.10275482386350632 - TestLoss: 0.06832575798034668\n",
            "Epoch: 110 - Loss: 0.1368609219789505 - TestLoss: 0.004752804525196552\n",
            "Epoch: 120 - Loss: 0.09771451354026794 - TestLoss: 0.07916711270809174\n",
            "Epoch: 130 - Loss: 0.13345880806446075 - TestLoss: 0.003403732320293784\n",
            "Epoch: 140 - Loss: 0.13060565292835236 - TestLoss: 0.009470773860812187\n",
            "Epoch: 150 - Loss: 0.0925782099366188 - TestLoss: 0.09021478146314621\n",
            "Epoch: 160 - Loss: 0.13001948595046997 - TestLoss: 0.011082488112151623\n",
            "Epoch: 170 - Loss: 0.09931425750255585 - TestLoss: 0.07672988623380661\n",
            "Epoch: 180 - Loss: 0.13377036154270172 - TestLoss: 0.003465597052127123\n",
            "Epoch: 190 - Loss: 0.1325961947441101 - TestLoss: 0.005945723503828049\n",
            "Epoch: 200 - Loss: 0.09576068818569183 - TestLoss: 0.08459341526031494\n",
            "Epoch: 210 - Loss: 0.13121554255485535 - TestLoss: 0.009285438805818558\n",
            "Epoch: 220 - Loss: 0.09350508451461792 - TestLoss: 0.08957615494728088\n",
            "Epoch: 230 - Loss: 0.12959502637386322 - TestLoss: 0.013132516294717789\n",
            "Epoch: 240 - Loss: 0.11347358673810959 - TestLoss: 0.04806903377175331\n",
            "Epoch: 250 - Loss: 0.1422085464000702 - TestLoss: 0.01413597259670496\n",
            "Epoch: 260 - Loss: 0.10793330520391464 - TestLoss: 0.06019698455929756\n",
            "Epoch: 270 - Loss: 0.13817979395389557 - TestLoss: 0.004996053874492645\n",
            "Epoch: 280 - Loss: 0.09530192613601685 - TestLoss: 0.08697894215583801\n",
            "Epoch: 290 - Loss: 0.12983916699886322 - TestLoss: 0.013594101183116436\n"
          ]
        }
      ]
    },
    {
      "cell_type": "code",
      "source": [
        "model_1.state_dict()"
      ],
      "metadata": {
        "colab": {
          "base_uri": "https://localhost:8080/"
        },
        "id": "mBbz6nHzpAOt",
        "outputId": "b1ae25a4-6716-4027-c472-f90582d1c743"
      },
      "execution_count": 177,
      "outputs": [
        {
          "output_type": "execute_result",
          "data": {
            "text/plain": [
              "OrderedDict([('linear_layer.weight', tensor([[0.3960]])),\n",
              "             ('linear_layer.bias', tensor([0.6438]))])"
            ]
          },
          "metadata": {},
          "execution_count": 177
        }
      ]
    },
    {
      "cell_type": "code",
      "source": [
        "weight, bias"
      ],
      "metadata": {
        "colab": {
          "base_uri": "https://localhost:8080/"
        },
        "id": "daPYRpXrpGL3",
        "outputId": "426d84ef-654a-438b-c0d6-92f686083d1f"
      },
      "execution_count": 178,
      "outputs": [
        {
          "output_type": "execute_result",
          "data": {
            "text/plain": [
              "(0.4, 0.6)"
            ]
          },
          "metadata": {},
          "execution_count": 178
        }
      ]
    },
    {
      "cell_type": "code",
      "source": [
        "model_1(X_test)"
      ],
      "metadata": {
        "colab": {
          "base_uri": "https://localhost:8080/"
        },
        "id": "bSVthKKNjPPH",
        "outputId": "2a4f010c-0a1d-4e8b-c2b3-596bafc02cba"
      },
      "execution_count": 179,
      "outputs": [
        {
          "output_type": "execute_result",
          "data": {
            "text/plain": [
              "tensor([[32.3273],\n",
              "        [32.3293],\n",
              "        [32.3313],\n",
              "        ...,\n",
              "        [40.2423],\n",
              "        [40.2442],\n",
              "        [40.2462]], grad_fn=<AddmmBackward0>)"
            ]
          },
          "metadata": {},
          "execution_count": 179
        }
      ]
    },
    {
      "cell_type": "code",
      "source": [
        "y_test"
      ],
      "metadata": {
        "colab": {
          "base_uri": "https://localhost:8080/"
        },
        "id": "eUDGY3HXk8Gj",
        "outputId": "e165610e-46bd-4593-c04a-a1999ee8af72"
      },
      "execution_count": 180,
      "outputs": [
        {
          "output_type": "execute_result",
          "data": {
            "text/plain": [
              "tensor([[32.6000],\n",
              "        [32.6020],\n",
              "        [32.6040],\n",
              "        ...,\n",
              "        [40.5940],\n",
              "        [40.5960],\n",
              "        [40.5980]])"
            ]
          },
          "metadata": {},
          "execution_count": 180
        }
      ]
    },
    {
      "cell_type": "code",
      "source": [
        "from pathlib import Path"
      ],
      "metadata": {
        "id": "eR5LCgy5ofav"
      },
      "execution_count": null,
      "outputs": []
    },
    {
      "cell_type": "code",
      "source": [
        "MODEL_PATH = Path('modelsave')\n",
        "MODEL_PATH.mkdir()"
      ],
      "metadata": {
        "id": "JlMc2dffqe-A"
      },
      "execution_count": 182,
      "outputs": []
    },
    {
      "cell_type": "code",
      "source": [
        "MODEL_NAME = 'model_1.pth'\n",
        "MODEL_SAVE_PATH = MODEL_PATH/MODEL_NAME"
      ],
      "metadata": {
        "id": "dEXKMTOaq0yt"
      },
      "execution_count": 183,
      "outputs": []
    },
    {
      "cell_type": "code",
      "source": [
        "\n",
        "torch.save(obj=model_1.state_dict(), f = MODEL_SAVE_PATH)"
      ],
      "metadata": {
        "id": "9Q0Fr2NWrDCL"
      },
      "execution_count": 184,
      "outputs": []
    },
    {
      "cell_type": "code",
      "source": [
        "model_1new=NewModel()"
      ],
      "metadata": {
        "id": "m7G6ANhbrNBh"
      },
      "execution_count": 193,
      "outputs": []
    },
    {
      "cell_type": "code",
      "source": [
        "model_1new.load_state_dict(torch.load(MODEL_SAVE_PATH))"
      ],
      "metadata": {
        "colab": {
          "base_uri": "https://localhost:8080/"
        },
        "id": "Oic545SNrU4N",
        "outputId": "4ca1fb30-eb15-4e53-82a7-1cf712c074a9"
      },
      "execution_count": 194,
      "outputs": [
        {
          "output_type": "execute_result",
          "data": {
            "text/plain": [
              "<All keys matched successfully>"
            ]
          },
          "metadata": {},
          "execution_count": 194
        }
      ]
    },
    {
      "cell_type": "code",
      "source": [
        "model_1new(X_test)"
      ],
      "metadata": {
        "colab": {
          "base_uri": "https://localhost:8080/"
        },
        "id": "7qrK_xFcrWmN",
        "outputId": "5707ee36-2e10-4514-bbad-e31547b5b2c9"
      },
      "execution_count": 195,
      "outputs": [
        {
          "output_type": "execute_result",
          "data": {
            "text/plain": [
              "tensor([[32.3273],\n",
              "        [32.3293],\n",
              "        [32.3313],\n",
              "        ...,\n",
              "        [40.2423],\n",
              "        [40.2442],\n",
              "        [40.2462]], grad_fn=<AddmmBackward0>)"
            ]
          },
          "metadata": {},
          "execution_count": 195
        }
      ]
    },
    {
      "cell_type": "code",
      "source": [
        ""
      ],
      "metadata": {
        "id": "Q8Q_zHfrsQy7"
      },
      "execution_count": null,
      "outputs": []
    }
  ]
}